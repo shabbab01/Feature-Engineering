{
  "nbformat": 4,
  "nbformat_minor": 0,
  "metadata": {
    "colab": {
      "name": "FeatureEngineeringAssignment1.ipynb",
      "provenance": [],
      "collapsed_sections": [],
      "toc_visible": true
    },
    "kernelspec": {
      "name": "python3",
      "display_name": "Python 3"
    },
    "language_info": {
      "name": "python"
    }
  },
  "cells": [
    {
      "cell_type": "markdown",
      "metadata": {
        "id": "iB5jNUC8kD4c"
      },
      "source": [
        "# Team Members: Syed Araib Karim, Amanullah Shareef, Shabbab Algamdi, Soumya Bhandari, Divya Geethanjali Birudharaju"
      ]
    },
    {
      "cell_type": "markdown",
      "metadata": {
        "id": "BLvBvXzhh_DL"
      },
      "source": [
        "# Creating Dataset"
      ]
    },
    {
      "cell_type": "code",
      "metadata": {
        "id": "jrQNLlFcf-yA"
      },
      "source": [
        "\n",
        "import urllib.request,sys,time\n",
        "from bs4 import BeautifulSoup\n",
        "import requests\n",
        "import pandas as pd"
      ],
      "execution_count": null,
      "outputs": []
    },
    {
      "cell_type": "code",
      "metadata": {
        "id": "TNxURBlxvHis"
      },
      "source": [
        "# This the code for scrapping the data by using the beautifulsoup \n",
        "import bs4\n",
        "import requests\n",
        "\n",
        "#Creating the function to scrap the web page.\n",
        "def scrapWebPage(url):                  \n",
        "  response = requests.get(url)\n",
        "\n",
        "  if response is not None:\n",
        "    html = bs4.BeautifulSoup(response.text, 'html.parser')\n",
        "\n",
        "    #title = html.select(\"#firstHeading\")[0].text\n",
        "    paragraphs = html.select(\"p\")\n",
        "    articleText = \"\"\n",
        "    for para in paragraphs:\n",
        "        articleText +=  para.text.strip('\\n')\n",
        "        #print (para.text)\n",
        "\n",
        "    # just grab the text up to contents as stated in question\n",
        "    #intro = '\\n'.join([ para.text for para in paragraphs[0:5]])\n",
        "    #print (intro)\n",
        "    return articleText\n",
        "\n"
      ],
      "execution_count": null,
      "outputs": []
    },
    {
      "cell_type": "code",
      "metadata": {
        "id": "G7c3xREPv6VD"
      },
      "source": [
        "#Links to extract the data from the articles and websites\n",
        "alllinks = []\n",
        "alllinks.append(scrapWebPage(\"https://en.wikipedia.org/wiki/Self-driving_car\"))\n",
        "alllinks.append(scrapWebPage(\"https://www.pnas.org/content/116/16/7684\"))\n",
        "alllinks.append(scrapWebPage(\"https://searchenterpriseai.techtarget.com/definition/driverless-car\"))\n",
        "\n",
        "alllinks.append(scrapWebPage(\"https://searchenterpriseai.techtarget.com/definition/driverless-car\"))\n",
        "alllinks.append(scrapWebPage(\"https://www.synopsys.com/automotive/what-is-autonomous-car.html\"))\n",
        "alllinks.append(scrapWebPage(\"https://www.which.co.uk/reviews/new-and-used-cars/article/driverless-cars-what-are-autonomous-vehicles-atNd01y1VaMn\"))\n"
      ],
      "execution_count": null,
      "outputs": []
    },
    {
      "cell_type": "code",
      "metadata": {
        "colab": {
          "base_uri": "https://localhost:8080/"
        },
        "id": "GJ4WBom03hvv",
        "outputId": "9f536087-ef9b-49dc-a14f-e941c9c865d1"
      },
      "source": [
        "#converting the text data into csv file\n",
        "import csv  \n",
        "def savingToDataframe(alllinks):\n",
        "  rows = []\n",
        "  fields = [\"File_Name\",\"Content\",\"Category\",\"Complete_Filename\"]\n",
        "  for i in range(0, len(alllinks)):\n",
        "    Content = alllinks[i]\n",
        "    filename = \"FileName_\"+ str(i)\n",
        "    category = \"tech\"\n",
        "    Complete_Filename = filename\n",
        "    rows.append([filename, Content,category, Complete_Filename])\n",
        "  df = pd.DataFrame(rows, columns=fields)\n",
        "  print(df)\n",
        "  return df\n",
        "\n",
        "df = savingToDataframe(alllinks)  "
      ],
      "execution_count": null,
      "outputs": [
        {
          "output_type": "stream",
          "name": "stdout",
          "text": [
            "    File_Name  ... Complete_Filename\n",
            "0  FileName_0  ...        FileName_0\n",
            "1  FileName_1  ...        FileName_1\n",
            "2  FileName_2  ...        FileName_2\n",
            "3  FileName_3  ...        FileName_3\n",
            "4  FileName_4  ...        FileName_4\n",
            "5  FileName_5  ...        FileName_5\n",
            "\n",
            "[6 rows x 4 columns]\n"
          ]
        }
      ]
    },
    {
      "cell_type": "code",
      "metadata": {
        "colab": {
          "base_uri": "https://localhost:8080/",
          "height": 204
        },
        "id": "wL8Dr_WP59QD",
        "outputId": "f1bb4724-2f43-4927-f7b8-ca2cf7bde3d1"
      },
      "source": [
        "df.head()"
      ],
      "execution_count": null,
      "outputs": [
        {
          "output_type": "execute_result",
          "data": {
            "text/html": [
              "<div>\n",
              "<style scoped>\n",
              "    .dataframe tbody tr th:only-of-type {\n",
              "        vertical-align: middle;\n",
              "    }\n",
              "\n",
              "    .dataframe tbody tr th {\n",
              "        vertical-align: top;\n",
              "    }\n",
              "\n",
              "    .dataframe thead th {\n",
              "        text-align: right;\n",
              "    }\n",
              "</style>\n",
              "<table border=\"1\" class=\"dataframe\">\n",
              "  <thead>\n",
              "    <tr style=\"text-align: right;\">\n",
              "      <th></th>\n",
              "      <th>File_Name</th>\n",
              "      <th>Content</th>\n",
              "      <th>Category</th>\n",
              "      <th>Complete_Filename</th>\n",
              "    </tr>\n",
              "  </thead>\n",
              "  <tbody>\n",
              "    <tr>\n",
              "      <th>0</th>\n",
              "      <td>FileName_0</td>\n",
              "      <td>A self-driving car, also known as an autonomou...</td>\n",
              "      <td>tech</td>\n",
              "      <td>FileName_0</td>\n",
              "    </tr>\n",
              "    <tr>\n",
              "      <th>1</th>\n",
              "      <td>FileName_1</td>\n",
              "      <td>Advanced Search See allHide authors and affili...</td>\n",
              "      <td>tech</td>\n",
              "      <td>FileName_1</td>\n",
              "    </tr>\n",
              "    <tr>\n",
              "      <th>2</th>\n",
              "      <td>FileName_2</td>\n",
              "      <td>A self-driving car (sometimes called an autono...</td>\n",
              "      <td>tech</td>\n",
              "      <td>FileName_2</td>\n",
              "    </tr>\n",
              "    <tr>\n",
              "      <th>3</th>\n",
              "      <td>FileName_3</td>\n",
              "      <td>A self-driving car (sometimes called an autono...</td>\n",
              "      <td>tech</td>\n",
              "      <td>FileName_3</td>\n",
              "    </tr>\n",
              "    <tr>\n",
              "      <th>4</th>\n",
              "      <td>FileName_4</td>\n",
              "      <td>An autonomous car is a vehicle capable of sens...</td>\n",
              "      <td>tech</td>\n",
              "      <td>FileName_4</td>\n",
              "    </tr>\n",
              "  </tbody>\n",
              "</table>\n",
              "</div>"
            ],
            "text/plain": [
              "    File_Name  ... Complete_Filename\n",
              "0  FileName_0  ...        FileName_0\n",
              "1  FileName_1  ...        FileName_1\n",
              "2  FileName_2  ...        FileName_2\n",
              "3  FileName_3  ...        FileName_3\n",
              "4  FileName_4  ...        FileName_4\n",
              "\n",
              "[5 rows x 4 columns]"
            ]
          },
          "metadata": {},
          "execution_count": 116
        }
      ]
    },
    {
      "cell_type": "code",
      "metadata": {
        "id": "DSu3Inuk6NT9"
      },
      "source": [
        "df.to_csv('dataset_file.csv', index=False)"
      ],
      "execution_count": null,
      "outputs": []
    },
    {
      "cell_type": "code",
      "metadata": {
        "id": "32F9wa8VK5NB"
      },
      "source": [
        "#!unzip bbc_text.zip"
      ],
      "execution_count": null,
      "outputs": []
    },
    {
      "cell_type": "code",
      "metadata": {
        "colab": {
          "base_uri": "https://localhost:8080/"
        },
        "id": "BS8--Au1MQXj",
        "outputId": "56b8de57-530c-4f27-b98a-92c157e0ed26"
      },
      "source": [
        "#Assigning the column name to the dataset\n",
        "import pandas as pd\n",
        "fields = [\"File_Name\",\"Content\",\"Category\",\"Complete_Filename\"]\n",
        "\n",
        "df = pd.read_csv('dataset_file.csv', names=fields,header=0)\n",
        "print(df)"
      ],
      "execution_count": null,
      "outputs": [
        {
          "output_type": "stream",
          "name": "stdout",
          "text": [
            "    File_Name  ... Complete_Filename\n",
            "0  FileName_0  ...        FileName_0\n",
            "1  FileName_1  ...        FileName_1\n",
            "2  FileName_2  ...        FileName_2\n",
            "3  FileName_3  ...        FileName_3\n",
            "4  FileName_4  ...        FileName_4\n",
            "5  FileName_5  ...        FileName_5\n",
            "\n",
            "[6 rows x 4 columns]\n"
          ]
        }
      ]
    },
    {
      "cell_type": "code",
      "metadata": {
        "colab": {
          "base_uri": "https://localhost:8080/",
          "height": 235
        },
        "id": "vifZPlzkN-xZ",
        "outputId": "7e8c2434-2d9a-4c9c-dce0-082538f378ac"
      },
      "source": [
        "df.head(6)"
      ],
      "execution_count": null,
      "outputs": [
        {
          "output_type": "execute_result",
          "data": {
            "text/html": [
              "<div>\n",
              "<style scoped>\n",
              "    .dataframe tbody tr th:only-of-type {\n",
              "        vertical-align: middle;\n",
              "    }\n",
              "\n",
              "    .dataframe tbody tr th {\n",
              "        vertical-align: top;\n",
              "    }\n",
              "\n",
              "    .dataframe thead th {\n",
              "        text-align: right;\n",
              "    }\n",
              "</style>\n",
              "<table border=\"1\" class=\"dataframe\">\n",
              "  <thead>\n",
              "    <tr style=\"text-align: right;\">\n",
              "      <th></th>\n",
              "      <th>File_Name</th>\n",
              "      <th>Content</th>\n",
              "      <th>Category</th>\n",
              "      <th>Complete_Filename</th>\n",
              "    </tr>\n",
              "  </thead>\n",
              "  <tbody>\n",
              "    <tr>\n",
              "      <th>0</th>\n",
              "      <td>FileName_0</td>\n",
              "      <td>A self-driving car, also known as an autonomou...</td>\n",
              "      <td>tech</td>\n",
              "      <td>FileName_0</td>\n",
              "    </tr>\n",
              "    <tr>\n",
              "      <th>1</th>\n",
              "      <td>FileName_1</td>\n",
              "      <td>Advanced Search See allHide authors and affili...</td>\n",
              "      <td>tech</td>\n",
              "      <td>FileName_1</td>\n",
              "    </tr>\n",
              "    <tr>\n",
              "      <th>2</th>\n",
              "      <td>FileName_2</td>\n",
              "      <td>A self-driving car (sometimes called an autono...</td>\n",
              "      <td>tech</td>\n",
              "      <td>FileName_2</td>\n",
              "    </tr>\n",
              "    <tr>\n",
              "      <th>3</th>\n",
              "      <td>FileName_3</td>\n",
              "      <td>A self-driving car (sometimes called an autono...</td>\n",
              "      <td>tech</td>\n",
              "      <td>FileName_3</td>\n",
              "    </tr>\n",
              "    <tr>\n",
              "      <th>4</th>\n",
              "      <td>FileName_4</td>\n",
              "      <td>An autonomous car is a vehicle capable of sens...</td>\n",
              "      <td>tech</td>\n",
              "      <td>FileName_4</td>\n",
              "    </tr>\n",
              "    <tr>\n",
              "      <th>5</th>\n",
              "      <td>FileName_5</td>\n",
              "      <td>We use cookies to allow us and selected partne...</td>\n",
              "      <td>tech</td>\n",
              "      <td>FileName_5</td>\n",
              "    </tr>\n",
              "  </tbody>\n",
              "</table>\n",
              "</div>"
            ],
            "text/plain": [
              "    File_Name  ... Complete_Filename\n",
              "0  FileName_0  ...        FileName_0\n",
              "1  FileName_1  ...        FileName_1\n",
              "2  FileName_2  ...        FileName_2\n",
              "3  FileName_3  ...        FileName_3\n",
              "4  FileName_4  ...        FileName_4\n",
              "5  FileName_5  ...        FileName_5\n",
              "\n",
              "[6 rows x 4 columns]"
            ]
          },
          "metadata": {},
          "execution_count": 120
        }
      ]
    },
    {
      "cell_type": "code",
      "metadata": {
        "colab": {
          "base_uri": "https://localhost:8080/",
          "height": 235
        },
        "id": "pi3yU9KyOrLH",
        "outputId": "35a78dfa-88b9-46e6-f445-6e969c583e41"
      },
      "source": [
        "df.tail(10)"
      ],
      "execution_count": null,
      "outputs": [
        {
          "output_type": "execute_result",
          "data": {
            "text/html": [
              "<div>\n",
              "<style scoped>\n",
              "    .dataframe tbody tr th:only-of-type {\n",
              "        vertical-align: middle;\n",
              "    }\n",
              "\n",
              "    .dataframe tbody tr th {\n",
              "        vertical-align: top;\n",
              "    }\n",
              "\n",
              "    .dataframe thead th {\n",
              "        text-align: right;\n",
              "    }\n",
              "</style>\n",
              "<table border=\"1\" class=\"dataframe\">\n",
              "  <thead>\n",
              "    <tr style=\"text-align: right;\">\n",
              "      <th></th>\n",
              "      <th>File_Name</th>\n",
              "      <th>Content</th>\n",
              "      <th>Category</th>\n",
              "      <th>Complete_Filename</th>\n",
              "    </tr>\n",
              "  </thead>\n",
              "  <tbody>\n",
              "    <tr>\n",
              "      <th>0</th>\n",
              "      <td>FileName_0</td>\n",
              "      <td>A self-driving car, also known as an autonomou...</td>\n",
              "      <td>tech</td>\n",
              "      <td>FileName_0</td>\n",
              "    </tr>\n",
              "    <tr>\n",
              "      <th>1</th>\n",
              "      <td>FileName_1</td>\n",
              "      <td>Advanced Search See allHide authors and affili...</td>\n",
              "      <td>tech</td>\n",
              "      <td>FileName_1</td>\n",
              "    </tr>\n",
              "    <tr>\n",
              "      <th>2</th>\n",
              "      <td>FileName_2</td>\n",
              "      <td>A self-driving car (sometimes called an autono...</td>\n",
              "      <td>tech</td>\n",
              "      <td>FileName_2</td>\n",
              "    </tr>\n",
              "    <tr>\n",
              "      <th>3</th>\n",
              "      <td>FileName_3</td>\n",
              "      <td>A self-driving car (sometimes called an autono...</td>\n",
              "      <td>tech</td>\n",
              "      <td>FileName_3</td>\n",
              "    </tr>\n",
              "    <tr>\n",
              "      <th>4</th>\n",
              "      <td>FileName_4</td>\n",
              "      <td>An autonomous car is a vehicle capable of sens...</td>\n",
              "      <td>tech</td>\n",
              "      <td>FileName_4</td>\n",
              "    </tr>\n",
              "    <tr>\n",
              "      <th>5</th>\n",
              "      <td>FileName_5</td>\n",
              "      <td>We use cookies to allow us and selected partne...</td>\n",
              "      <td>tech</td>\n",
              "      <td>FileName_5</td>\n",
              "    </tr>\n",
              "  </tbody>\n",
              "</table>\n",
              "</div>"
            ],
            "text/plain": [
              "    File_Name  ... Complete_Filename\n",
              "0  FileName_0  ...        FileName_0\n",
              "1  FileName_1  ...        FileName_1\n",
              "2  FileName_2  ...        FileName_2\n",
              "3  FileName_3  ...        FileName_3\n",
              "4  FileName_4  ...        FileName_4\n",
              "5  FileName_5  ...        FileName_5\n",
              "\n",
              "[6 rows x 4 columns]"
            ]
          },
          "metadata": {},
          "execution_count": 121
        }
      ]
    },
    {
      "cell_type": "code",
      "metadata": {
        "colab": {
          "base_uri": "https://localhost:8080/"
        },
        "id": "C5E8_qBFTHUQ",
        "outputId": "d6a3745c-8667-4d9a-ea74-df5095d33625"
      },
      "source": [
        "pip install vega==1.3"
      ],
      "execution_count": null,
      "outputs": [
        {
          "output_type": "stream",
          "name": "stdout",
          "text": [
            "Requirement already satisfied: vega==1.3 in /usr/local/lib/python3.7/dist-packages (1.3.0)\n"
          ]
        }
      ]
    },
    {
      "cell_type": "code",
      "metadata": {
        "id": "AONsMOoNSdEk"
      },
      "source": [
        "#Importing libraries for EDA Analysis\n",
        "import pandas as pd\n",
        "import matplotlib.pyplot as plt\n",
        "import pickle\n",
        "import seaborn as sns\n",
        "sns.set_style(\"whitegrid\")\n",
        "import altair as alt\n",
        "\n",
        "# Code for hiding seaborn warnings\n",
        "import warnings\n",
        "warnings.filterwarnings(\"ignore\")"
      ],
      "execution_count": null,
      "outputs": []
    },
    {
      "cell_type": "markdown",
      "metadata": {
        "id": "LuYeMURYNJYl"
      },
      "source": [
        "### Number of articles in each category\n",
        "\n",
        "\n"
      ]
    },
    {
      "cell_type": "code",
      "metadata": {
        "colab": {
          "base_uri": "https://localhost:8080/",
          "height": 400
        },
        "id": "MtrXpIItS_mB",
        "outputId": "3c611a71-88fc-4572-89be-1b22f1049f87"
      },
      "source": [
        "#Creating bar chart from our dataset\n",
        "bars = alt.Chart(df).mark_bar(size=50).encode(\n",
        "    x=alt.X(\"Category\"),\n",
        "    y=alt.Y(\"count():Q\", axis=alt.Axis(title='Number of articles')),\n",
        "    tooltip=[alt.Tooltip('count()', title='Number of articles'), 'Category'],\n",
        "    color='Category'\n",
        "\n",
        ")\n",
        "\n",
        "text = bars.mark_text(\n",
        "    align='center',\n",
        "    baseline='bottom',\n",
        ").encode(\n",
        "    text='count()'\n",
        ")\n",
        "\n",
        "(bars + text).interactive().properties(\n",
        "    height=300, \n",
        "    width=700,\n",
        "    title = \"Number of articles in each category\",\n",
        ")"
      ],
      "execution_count": null,
      "outputs": [
        {
          "output_type": "execute_result",
          "data": {
            "text/plain": [
              "alt.LayerChart(...)"
            ],
            "text/html": [
              "\n",
              "<div id=\"altair-viz-1b86c49e89124fa39cb5894f4bfeab28\"></div>\n",
              "<script type=\"text/javascript\">\n",
              "  (function(spec, embedOpt){\n",
              "    let outputDiv = document.currentScript.previousElementSibling;\n",
              "    if (outputDiv.id !== \"altair-viz-1b86c49e89124fa39cb5894f4bfeab28\") {\n",
              "      outputDiv = document.getElementById(\"altair-viz-1b86c49e89124fa39cb5894f4bfeab28\");\n",
              "    }\n",
              "    const paths = {\n",
              "      \"vega\": \"https://cdn.jsdelivr.net/npm//vega@5?noext\",\n",
              "      \"vega-lib\": \"https://cdn.jsdelivr.net/npm//vega-lib?noext\",\n",
              "      \"vega-lite\": \"https://cdn.jsdelivr.net/npm//vega-lite@4.8.1?noext\",\n",
              "      \"vega-embed\": \"https://cdn.jsdelivr.net/npm//vega-embed@6?noext\",\n",
              "    };\n",
              "\n",
              "    function loadScript(lib) {\n",
              "      return new Promise(function(resolve, reject) {\n",
              "        var s = document.createElement('script');\n",
              "        s.src = paths[lib];\n",
              "        s.async = true;\n",
              "        s.onload = () => resolve(paths[lib]);\n",
              "        s.onerror = () => reject(`Error loading script: ${paths[lib]}`);\n",
              "        document.getElementsByTagName(\"head\")[0].appendChild(s);\n",
              "      });\n",
              "    }\n",
              "\n",
              "    function showError(err) {\n",
              "      outputDiv.innerHTML = `<div class=\"error\" style=\"color:red;\">${err}</div>`;\n",
              "      throw err;\n",
              "    }\n",
              "\n",
              "    function displayChart(vegaEmbed) {\n",
              "      vegaEmbed(outputDiv, spec, embedOpt)\n",
              "        .catch(err => showError(`Javascript Error: ${err.message}<br>This usually means there's a typo in your chart specification. See the javascript console for the full traceback.`));\n",
              "    }\n",
              "\n",
              "    if(typeof define === \"function\" && define.amd) {\n",
              "      requirejs.config({paths});\n",
              "      require([\"vega-embed\"], displayChart, err => showError(`Error loading script: ${err.message}`));\n",
              "    } else if (typeof vegaEmbed === \"function\") {\n",
              "      displayChart(vegaEmbed);\n",
              "    } else {\n",
              "      loadScript(\"vega\")\n",
              "        .then(() => loadScript(\"vega-lite\"))\n",
              "        .then(() => loadScript(\"vega-embed\"))\n",
              "        .catch(showError)\n",
              "        .then(() => displayChart(vegaEmbed));\n",
              "    }\n",
              "  })({\"config\": {\"view\": {\"continuousWidth\": 400, \"continuousHeight\": 300}}, \"layer\": [{\"mark\": {\"type\": \"bar\", \"size\": 50}, \"encoding\": {\"color\": {\"type\": \"nominal\", \"field\": \"Category\"}, \"tooltip\": [{\"type\": \"quantitative\", \"aggregate\": \"count\", \"title\": \"Number of articles\"}, {\"type\": \"nominal\", \"field\": \"Category\"}], \"x\": {\"type\": \"nominal\", \"field\": \"Category\"}, \"y\": {\"type\": \"quantitative\", \"aggregate\": \"count\", \"axis\": {\"title\": \"Number of articles\"}}}, \"selection\": {\"selector003\": {\"type\": \"interval\", \"bind\": \"scales\", \"encodings\": [\"x\", \"y\"]}}}, {\"mark\": {\"type\": \"text\", \"align\": \"center\", \"baseline\": \"bottom\"}, \"encoding\": {\"color\": {\"type\": \"nominal\", \"field\": \"Category\"}, \"text\": {\"type\": \"quantitative\", \"aggregate\": \"count\"}, \"tooltip\": [{\"type\": \"quantitative\", \"aggregate\": \"count\", \"title\": \"Number of articles\"}, {\"type\": \"nominal\", \"field\": \"Category\"}], \"x\": {\"type\": \"nominal\", \"field\": \"Category\"}, \"y\": {\"type\": \"quantitative\", \"aggregate\": \"count\", \"axis\": {\"title\": \"Number of articles\"}}}}], \"data\": {\"name\": \"data-a78fc6628c79adda754d819ae5fc17ae\"}, \"height\": 300, \"title\": \"Number of articles in each category\", \"width\": 700, \"$schema\": \"https://vega.github.io/schema/vega-lite/v4.8.1.json\", \"datasets\": {\"data-a78fc6628c79adda754d819ae5fc17ae\": [{\"File_Name\": \"FileName_0\", \"Content\": \"A self-driving car, also known as an autonomous vehicle (AV or auto), driverless car, or robo-car (robotic car),[1][2][3] is a vehicle that is capable of sensing its environment and moving safely with little or no human input.[4][5]Self-driving cars combine a variety of sensors to perceive their surroundings, such as radar, lidar, sonar, GPS, odometry and inertial measurement units.[1][4] Advanced control systems interpret sensory information to identify appropriate navigation paths, as well as obstacles and relevant signage.[4][6][7][8]Possible implementations of the technology include personal self-driving vehicles, shared robotaxis, connected vehicle platoons and long-distance trucking.[4] Several projects to develop a fully self-driving commercial car are in various stages of development. Waymo became the first service provider to offer robotaxi rides to the general public in a part of Phoenix, Arizona in 2020, while Tesla has said it will offer subscription-based \\\"full self-driving\\\" to private vehicle owners in 2021,[9][10] and Nuro has been allowed to start autonomous commercial delivery operations in California in 2021.[11]  In China two publicly accessible trials of robo-taxis have been launched, in 2020 in Shenzhen's Pingshan District by Chinese firm AutoX[12] and in 2021 at Shougang Park in Beijing by Baidu, a venue for the 2022 Winter Olympics.[13]Experiments have been conducted on automated driving systems (ADS) since at least the 1920s;[14] trials began in the 1950s. The first semi-automated car was developed in 1977, by Japan's Tsukuba Mechanical Engineering Laboratory, which required specially marked streets that were interpreted by two cameras on the vehicle and an analog computer. The vehicle reached speeds up to 30 kilometres per hour (19\\u00a0mph) with the support of an elevated rail.[15][16]A landmark autonomous car appeared in the 1980s, with Carnegie Mellon University's Navlab[17] and ALV[18][19] projects funded by the United States' Defense Advanced Research Projects Agency (DARPA) starting in 1984 and Mercedes-Benz and Bundeswehr University Munich's EUREKA Prometheus Project in 1987.[20] By 1985, the ALV had demonstrated self-driving speeds on two-lane roads of 31 kilometres per hour (19\\u00a0mph), with obstacle avoidance added in 1986, and off-road driving in day and nighttime conditions by 1987.[21] A major milestone was achieved in 1995, with CMU's NavLab 5 completing the first autonomous coast-to-coast drive of the United States. Of the 2,849\\u00a0mi (4,585\\u00a0km) between Pittsburgh, Pennsylvania and San Diego, California, 2,797\\u00a0mi (4,501\\u00a0km) were autonomous (98.2%), completed with an average speed of 63.8\\u00a0mph (102.7\\u00a0km/h).[22][23][24][25] From the 1960s through the second DARPA Grand Challenge in 2005, automated vehicle research in the United States was primarily funded by DARPA, the US Army, and the US Navy, yielding incremental advances in speeds, driving competence in more complex conditions, controls, and sensor systems.[26] Companies and research organizations have developed prototypes.[20][27][28][29][30][31][32][33][34]The US allocated US$650 million in 1991 for research on the National Automated Highway System, which demonstrated automated driving through a combination of automation embedded in the highway with automated technology in vehicles, and cooperative networking between the vehicles and with the highway infrastructure. The program concluded with a successful demonstration in 1997 but without clear direction or funding to implement the system on a larger scale.[35] Partly funded by the National Automated Highway System and DARPA, the Carnegie Mellon University Navlab drove 4,584 kilometres (2,848\\u00a0mi) across America in 1995, 4,501 kilometres (2,797\\u00a0mi) or 98% of it autonomously.[36] Navlab's record achievement stood unmatched for two decades until 2015, when Delphi improved it by piloting an Audi, augmented with Delphi technology, over 5,472 kilometres (3,400\\u00a0mi) through 15 states while remaining in self-driving mode 99% of the time.[37] In 2015, the US states of Nevada, Florida, California, Virginia, and Michigan, together with Washington, DC, allowed the testing of automated cars on public roads.[38]From 2016 to 2018, the European Commission funded an innovation strategy development for connected and automated driving through the Coordination Actions CARTRE and SCOUT.[39] Moreover, the Strategic Transport Research and Innovation Agenda (STRIA) Roadmap for Connected and Automated Transport was published in 2019.[40]In November 2017, Waymo announced that it had begun testing driverless cars without a safety driver in the driver position;[41] however, there was still an employee in the car.[42]  An October 2017 report by the Brookings Institute found that the $80 billion had been reported as invested in all facets of self driving technology up to that point, but that it was \\\"reasonable to presume that total global investment in autonomous vehicle technology is significantly more than this.\\\"[43]In October 2018, Waymo announced that its test vehicles had traveled in automated mode for over 10,000,000 miles (16,000,000\\u00a0km), increasing by about 1,000,000 miles (1,600,000 kilometres) per month.[44] In December 2018, Waymo was the first to commercialize a fully autonomous taxi service in the US, in Phoenix, Arizona.[45] In October 2020, Waymo launched a geo-fenced driverless ride hailing service in Phoenix.[46][47] The cars are being monitored in real-time by a team of remote engineers, and there are cases where the remote engineers need to intervene.[48][47]In March 2019, ahead of the autonomous racing series Roborace, Robocar set the Guinness World Record for being the fastest autonomous car in the world. In pushing the limits of self-driving vehicles, Robocar reached 282.42\\u00a0km/h (175.49\\u00a0mph) \\u2013 an average confirmed by the UK Timing Association at Elvington in Yorkshire, UK.[49]In 2020, a National Transportation Safety Board chairman stated that no self-driving cars (SAE level 3+) were available for consumers to purchase in the US in 2020:There is not a vehicle currently available to US consumers that is self-driving. Period. Every vehicle sold to US consumers still requires the driver to be actively engaged in the driving task, even when advanced driver assistance systems are activated. If you are selling a car with an advanced driver assistance system, you\\u2019re not selling a self-driving car. If you are driving a car with an advanced driver assistance system, you don\\u2019t own a self-driving car.[50]On 5 March 2021, Honda began leasing in Japan a limited edition of 100 Legend Hybrid EX sedans equipped with the newly approved Level 3 automated driving equipment which had been granted the safety certification by Japanese government to their autonomous \\\"Traffic Jam Pilot\\\" driving technology, and legally allow drivers to take their eyes off the road.[51][52][53][54]There is some inconsistency in the terminology used in the self-driving car industry. Various organizations have proposed to define an accurate and consistent vocabulary.In 2014, such confusion has been documented in SAE J3016 which states that \\\"some vernacular usages associate autonomous specifically with full driving automation (Level 5), while other usages apply it to all levels of driving automation, and some state legislation has defined it to correspond approximately to any ADS [automated driving system] at or above Level 3 (or to any vehicle equipped with such an ADS).\\\"Modern vehicles provide features such as keeping the car within its lane, speed controls, or emergency braking. Those features alone are just considered as driver assistance technologies because they still require a human driver control while fully automated vehicles drive themselves without human driver input.According to Fortune, some newer vehicles' technology names\\u2014such as AutonoDrive, PilotAssist, Full-Self Driving or DrivePilot\\u2014might confuse the driver, who may believe no driver input is expected when in fact the driver needs to remain involved in the driving task.[55] According to the BBC, confusion between those concepts leads to deaths.[56]For this reason, some organizations such as the AAA try to provide standardized naming conventions for features such as ALKS which aim to have capacity to manage the driving task, but which are not yet approved to be an automated vehicles in any countries. The Association of British Insurers considers the usage of the word autonomous in marketing for modern cars to be dangerous because car ads make motorists think 'autonomous' and 'autopilot' mean a vehicle can drive itself when they still rely on the driver to ensure safety. Technology alone still is not able to drive the car.Some car makers suggest or claim vehicles are self-driving when they are not able to manage some driving situations. Despite being called Full Self-Driving, Tesla stated that its offering should not be considered as a fully autonomous driving system.[57] This makes drivers risk becoming excessively confident, taking distracted driving behavior, leading to crashes. While in Great-Britain, a fully self-driving car is only a car registered in a specific list.[58] There have also been proposals to adopt the aviation automation safety knowledge into the discussions of safe implementation of autonomous vehicles, due to the experience that has been gained over the decades by the aviation sector on safety topics. [59]Autonomous means self-governing.[60] Many historical projects related to vehicle automation have been automated (made automatic) subject to a heavy reliance on artificial aids in their environment, such as magnetic strips. Autonomous control implies satisfactory performance under significant uncertainties in the environment, and the ability to compensate for system failures without external intervention.[60]One approach is to implement communication networks both in the immediate vicinity (for collision avoidance) and farther away (for congestion management). Such outside influences in the decision process reduce an individual vehicle's autonomy, while still not requiring human intervention.Wood et al. (2012) wrote, \\\"This Article generally uses the term 'autonomous,' instead of the term 'automated.' \\\" The term \\\"autonomous\\\" was chosen \\\"because it is the term that is currently in more widespread use (and thus is more familiar to the general public). However, the latter term is arguably more accurate. 'Automated' connotes control or operation by a machine, while 'autonomous' connotes acting alone or independently. Most of the vehicle concepts (that we are currently aware of) have a person in the driver's seat, utilize a communication connection to the Cloud or other vehicles, and do not independently select either destinations or routes for reaching them. Thus, the term 'automated' would more accurately describe these vehicle concepts.\\\"[61]As of 2017, most commercial projects focused on automated vehicles that did not communicate with other vehicles or with an enveloping management regime.\\nEuroNCAP defines autonomous in \\\"Autonomous Emergency Braking\\\" as: \\\"the system acts independently of the driver to avoid or mitigate the accident.\\\" which implies the autonomous system is not the driver.[62]In Europe, the words automated and autonomous might also be used together. For instance, Regulation (EU) 2019/2144 of the European Parliament and of the Council of 27 November 2019 on type-approval requirements for motor vehicles (...) defines \\\"automated vehicle\\\" and \\\"fully automated vehicle\\\" based on their autonomous capacity:[63]In British English, the word automated alone might have several meaning, such in the sentence: \\\"Thatcham also found that the automated lane keeping systems could only meet two out of the twelve principles required to guarantee safety, going on to say they cannot, therefore, be classed as \\u2018automated driving\\u2019, instead it claims the tech should be classed as \\u2018assisted driving\\u2019.\\\":[64] The first occurrence of the \\\"automated\\\" word refers to an Unece automated system, while the second occurrence refers to the British legal definition of an automated vehicle. The British law interprets the meaning of \\\"automated vehicle\\\" based on the interpretation section related to a vehicle \\\"driving itself\\\" and an insured vehicle.[65]To enable a car to travel without any driver embedded within the vehicle, some companies use a remote driver.[66]According to SAE J3016, Some driving automation systems may indeed be autonomous if they perform all of their functions independently and self-sufficiently, but if they depend on communication and/or cooperation with outside entities, they should be considered cooperative rather than autonomous.PC Magazine defines a self-driving car as \\\"a computer-controlled car that drives itself.\\\"[67] The Union of Concerned Scientists states that self-driving cars are \\\"cars or trucks in which human drivers are never required to take control to safely operate the vehicle. Also known as autonomous or 'driverless' cars, they combine sensors and software to control, navigate, and drive the vehicle.\\\"[68]The British Automated and Electric Vehicles Act 2018 law defines considers a vehicle as \\\"driving itself\\\" if the vehicle \\\"is operating in a mode in which it is not being controlled, and does not need to be monitored, by an individual\\\".[69]A classification system with six levels \\u2013 ranging from fully manual to fully automated systems \\u2013 was published in 2014 by automotive standardization body SAE International (formerly the Society of Automotive Engineers) as J3016, Taxonomy and Definitions for Terms Related to On-Road Motor Vehicle Automated Driving Systems.[72][73] This classification is based on the amount of driver intervention and attentiveness required, rather than the vehicle's capabilities, although these are loosely related. In the United States in 2013, the National Highway Traffic Safety Administration (NHTSA) released a formal classification system,[74] but abandoned it in favor of the SAE standard in 2016. Also in 2016, SAE updated its classification, called J3016_201609.[75]In SAE's automation level definitions, \\\"driving mode\\\" means \\\"a type of driving scenario with characteristic dynamic driving task requirements (e.g., expressway merging, high speed cruising, low speed traffic jam, closed-campus operations, etc.)\\\"[1][76]In the formal SAE definition below, an important transition is from SAE Level 2 to SAE Level 3 in which the human driver is no longer expected to monitor the environment continuously. At SAE 3, the human driver still has responsibility to intervene when asked to do so by the automated system. At SAE 4 the human driver is always relieved of that responsibility and at SAE 5 the automated system will never need to ask for an intervention.The SAE Automation Levels have been criticized for their technological focus. It has been argued that the structure of the levels suggests that automation increases linearly and that more automation is better, which may not always be the case.[81] The SAE Levels also do not account for changes that may be required to infrastructure[82] and road user behavior.[83][84]The characteristics of autonomous vehicles, as digital technology, are distinguishable from other types of technologies and vehicles. These characteristics mean autonomous vehicles are able to be more transformative and agile to possible changes. The characteristics include hybrid navigation, homogenization and decoupling, vehicle communication systems, reprogrammable and smart, digital traces and modularity.There are different systems that help the self-driving car control the car, including the car navigation system, the location system, the electronic map, the map matching, the global path planning, the environment perception, the laser perception, the radar perception, the visual perception, the vehicle control, the perception of vehicle speed and direction, and the vehicle control method.[85]Driverless car designers are challenged with producing control systems capable of analyzing sensory data in order to provide accurate detection of other vehicles and the road ahead.[86] Modern self-driving cars generally use Bayesian simultaneous localization and mapping (SLAM) algorithms,[87] which fuse data from multiple sensors and an off-line map into current location estimates and map updates. Waymo has developed a variant of SLAM with detection and tracking of other moving objects (DATMO), which also handles obstacles such as cars and pedestrians. Simpler systems may use roadside real-time locating system (RTLS) technologies to aid localization. Typical sensors include lidar (Light Detection and Ranging), stereo vision, GPS and IMU.[88][89] Control systems on automated cars may use Sensor Fusion, which is an approach that integrates information from a variety of sensors on the car to produce a more consistent, accurate, and useful view of the environment.[90] Heavy rainfall, hail, or snow could impede the car sensors.[citation needed]Driverless vehicles require some form of machine vision for the purpose of visual object recognition. Automated cars are being developed with deep neural networks,[88] a type of deep learning architecture with many computational stages, or levels, in which neurons are simulated from the environment that activate the network.[91] The neural network depends on an extensive amount of data extracted from real-life driving scenarios,[88] enabling the neural network to \\\"learn\\\" how to execute the best course of action.[91]In May 2018, researchers from the Massachusetts Institute of Technology announced that they had built an automated car that can navigate unmapped roads.[92] Researchers at their Computer Science and Artificial Intelligence Laboratory (CSAIL) have developed a new system, called MapLite, which allows self-driving cars to drive on roads that they have never been on before, without using 3D maps. The system combines the GPS position of the vehicle, a \\\"sparse topological map\\\" such as OpenStreetMap, (i.e. having 2D features of the roads only), and a series of sensors that observe the road conditions.[93]Homogenization indicates the fact that all digital information assumes the same form. During the ongoing evolution of the digital era, certain industry standards have been developed on how to store digital information and in what type of format. This concept of homogenization also applies to autonomous vehicles. In order for autonomous vehicles to perceive their surroundings, they have to use different techniques each with their own accompanying digital information (e.g. radar, GPS, motion sensors and computer vision). Homogenization requires that the digital information from these different sources is transmitted and stored in the same form. This means their differences are decoupled, and digital information can be transmitted, stored, and computed in a way that the vehicles and their operating system can better understand and act upon it. Homogenization also helps to take advantage of the exponential increase of the computing power of hardware and software (Moore's law) which also supports the autonomous vehicles to understand and act upon the digital information in a more cost-effective way, therefore lowering the marginal costs.[citation needed]Individual vehicles can benefit from information obtained from other vehicles in the vicinity, especially information relating to traffic congestion and safety hazards. Vehicular communication systems use vehicles and roadside units as the communicating nodes in a peer-to-peer network, providing each other with information. As a cooperative approach, vehicular communication systems can allow all cooperating vehicles to be more effective. According to a 2010 study by the US National Highway Traffic Safety Administration, vehicular communication systems could help avoid up to 79% of all traffic accidents.[94]There have so far been no complete implementation of peer-to-peer networking on the scale required for traffic.[citation needed]In 2012, computer scientists at the University of Texas in Austin began developing smart intersections designed for automated cars. The intersections will have no traffic lights and no stop signs, instead using computer programs that will communicate directly with each car on the road.[95] In the case of autonomous vehicles, it is essential for them to connect with other 'devices' in order to function most effectively. Autonomous vehicles are equipped with communication systems which allow them to communicate with other autonomous vehicles and roadside units to provide them, amongst other things, with information about road work or traffic congestion. In addition, scientists believe that the future will have computer programs that connect and manage each individual autonomous vehicle as it navigates through an intersection. This type of connectivity must replace traffic lights and stop signs.[95] These types of characteristics drive and further develop the ability of autonomous vehicles to understand and cooperate with other products and services (such as intersection computer systems) in the autonomous vehicles market. This could lead to a network of autonomous vehicles all using the same network and information available on that network. Eventually, this can lead to more autonomous vehicles using the network because the information has been validated through the usage of other autonomous vehicles. Such movements will strengthen the value of the network and is called network externalities.Among connected cars, an unconnected one is the weakest and will be increasingly banned from busy high-speed roads, as predicted by the Helsinki think tank, Nordic Communications Corporation, in January 2016.[96]In 2017, Researchers from Arizona State University developed a 1/10 scale intersection and proposed an intersection management technique called Crossroads. It was shown that Crossroads is very resilient to network delay of both V2I communication and Worst-case Execution time of the intersection manager.[97] In 2018, a robust approach was introduced which is resilient to both model mismatch and external disturbances such as wind and bumps.[98]Vehicle networking may be desirable due to difficulty with computer vision being able to recognize brake lights, turn signals, buses, and similar things. However, the usefulness of such systems would be diminished by the fact current cars are not equipped with them; they may also pose privacy concerns.[99]Another characteristic of autonomous vehicles is that the core product will have a greater emphasis on the software and its possibilities, instead of the chassis and its engine. This is because autonomous vehicles have software systems that drive the vehicle, meaning that updates through reprogramming or editing the software can enhance the benefits of the owner (e.g. update in better distinguishing blind person vs. non-blind person so that the vehicle will take extra caution when approaching a blind person). A characteristic of this reprogrammable part of autonomous vehicles is that the updates need not only to come from the supplier, because through machine learning, smart autonomous vehicles can generate certain updates and install them accordingly (e.g. new navigation maps or new intersection computer systems). These reprogrammable characteristics of the digital technology and the possibility of smart machine learning give manufacturers of autonomous vehicles the opportunity to differentiate themselves on software. This also implies that autonomous vehicles are never finished because the product can continuously be improved.[citation needed]Autonomous vehicles are equipped with different sorts of sensors and radars. As said, this allows them to connect and interoperate with computers from other autonomous vehicles and/or roadside units. This implies that autonomous vehicles leave digital traces when they connect or interoperate. The data that comes from these digital traces can be used to develop new (to be determined) products or updates to enhance autonomous vehicles' driving ability or safety.[citation needed]Traditional vehicles and their accompanying technologies are manufactured as a product that will be complete, and unlike autonomous vehicles, they can only be improved if they are redesigned or reproduced. As said, autonomous vehicles are produced but due to their digital characteristics never finished. This is because autonomous vehicles are more modular since they are made up out of several modules which will be explained hereafter through a Layered Modular Architecture. The Layered Modular Architecture extends the architecture of purely physical vehicles by incorporating four loosely coupled layers of devices, networks, services and contents into Autonomous Vehicles. These loosely coupled layers can interact through certain standardized interfaces.The consequence of layered modular architecture of autonomous vehicles (and other digital technologies) is that it enables the emergence and development of platforms and ecosystems around a product and/or certain modules of that product. Traditionally, automotive vehicles were developed, manufactured and maintained by traditional manufacturers. Nowadays app developers and content creators can help to develop more comprehensive product experience for the consumers which creates a platform around the product of autonomous vehicles.The potential benefits from increased vehicle automation described may be limited by foreseeable challenges such as disputes over liability,[100][101] the time needed to turn over the existing stock of vehicles from non-automated to automated,[102] and thus a long period of humans and autonomous vehicles sharing the roads, resistance by individuals to forfeiting control of their cars,[103] concerns about safety,[104] and the implementation of a legal framework and consistent global government regulations for self-driving cars.[105]Other obstacles could include de-skilling and lower levels of driver experience for dealing with potentially dangerous situations and anomalies,[106] ethical problems where an automated vehicle's software is forced during an unavoidable crash to choose between multiple harmful courses of action ('the trolley problem'),[107][108] concerns about making large numbers of people currently employed as drivers unemployed, the potential for more intrusive mass surveillance of location, association and travel as a result of police and intelligence agency access to large data sets generated by sensors and pattern-recognition AI, and possibly insufficient understanding of verbal sounds, gestures and non-verbal cues by police, other drivers or pedestrians.[109]Possible technological obstacles for automated cars are:Social challenges include:Self-driving cars are already exploring the difficulties of determining the intentions of pedestrians, bicyclists, and animals, and models of behavior must be programmed into driving algorithms.[8] Human road users also have the challenge of determining the intentions of autonomous vehicles, where there is no driver with which to make eye contact or exchange hand signals. Drive.ai is testing a solution to this problem that involves LED signs mounted on the outside of the vehicle, announcing status such as \\\"going now, don't cross\\\" vs. \\\"waiting for you to cross\\\".[127]Two human-factor challenges are important for safety. One is the handoff from automated driving to manual driving, which may become necessary due to unfavorable or unusual road conditions, or if the vehicle has limited capabilities. A sudden handoff could leave a human driver dangerously unprepared in the moment. In the long term, humans who have less practice at driving might have a lower skill level and thus be more dangerous in manual mode. The second challenge is known as risk compensation: as a system is perceived to be safer, instead of benefiting entirely from all of the increased safety, people engage in riskier behavior and enjoy other benefits. Semi-automated cars have been shown to suffer from this problem, for example with users of Tesla Autopilot ignoring the road and using electronic devices or other activities against the advice of the company that the car is not capable of being completely autonomous. In the near future, pedestrians and bicyclists may travel in the street in a riskier fashion if they believe self-driving cars are capable of avoiding them.In order for people to buy self-driving cars and vote for the government to allow them on roads, the technology must be trusted as safe.[128][129] Self-driving elevators were invented in 1900, but the high number of people refusing to use them slowed adoption for several decades until operator strikes increased demand and trust was built with advertising and features like the emergency stop button.[130][131] There are three types of trust between human and automation.[132] There is dispositional trust, the trust between the driver and the company's product.[132] Situational trust, or the trust from different scenarios.[132] Finally there is learned trust where the trust is built between similar events.[132]With the emergence of automated automobiles, various ethical issues arise. While the introduction of automated vehicles to the mass market is said to be inevitable due to a presumed but untestable potential for reduction of crashes by \\\"up to\\\" 90%[133] and their potential greater accessibility to disabled, elderly, and young passengers, a range of ethical issues have been posed. Those include, but are not limited to:There are different opinions on who should be held liable in case of a crash, especially with people being hurt. Many experts see the car manufacturers themselves being responsible for those crashes that occur due to a technical malfunction or misconstruction.[134] Besides the fact that the car manufacturer would be the source of the problem in a situation where a car crashes due to a technical issue, there is another important reason why car manufacturers could be held responsible: it would encourage them to innovate and heavily invest into fixing those issues, not only due to protection of the brand image, but also due to financial and criminal consequences. However, there are also voices[who?] that argue those using or owning the vehicle should be held responsible since they know the risks involved in using such a vehicle. One study suggests requesting the owners of self-driving cars to sign end-user license agreements (EULAs), assigning to them accountability for any accidents.[135] Other studies suggest introducing a tax or insurances that would protect owners and users of automated vehicles of claims made by victims of an accident.[134] Other possible parties that can be held responsible in case of a technical failure include software engineers that programmed the code for the automated operation of the vehicles, and suppliers of components of the AV.[136]Taking aside the question of legal liability and moral responsibility, the question arises how automated vehicles should be programmed to behave in an emergency situation where either passengers or other traffic participants like pedestrians, bicyclists and other drivers are endangered. A moral dilemma that a software engineer or car manufacturer might face in programming the operating software is described in an ethical thought experiment, the trolley problem: a conductor of a trolley has the choice of staying on the planned track and running over five people, or turn the trolley onto a track where it would kill only one person, assuming there is no traffic on it.[137] When a self-driving car is in following scenario: it's driving with passengers and suddenly a person appears in its way. The car has to decide between the two options, either to run the person over or to avoid hitting the person by swerving into a wall, killing the passengers.[138] There are two main considerations that need to be addressed. First, what moral basis would be used by an automated vehicle to make decisions? Second, how could those be translated into software code? Researchers have suggested, in particular, two ethical theories to be applicable to the behavior of automated vehicles in cases of emergency: deontology and utilitarianism.[8][139] Asimov's Three Laws of Robotics are a typical example of deontological ethics. The theory suggests that an automated car needs to follow strict written-out rules that it needs to follow in any situation. Utilitarianism suggests the idea that any decision must be made based on the goal to maximize utility. This needs a definition of utility which could be maximizing the number of people surviving in a crash. Critics suggest that automated vehicles should adapt a mix of multiple theories to be able to respond morally right in the instance of a crash.[8][139] Recently, some specific ethical frameworks i.e., utilitarianism, deontology, relativism, absolutism (monism), and pluralism, are investigated empirically with respect to the acceptance of self-driving cars in unavoidable accidents.[140]Many 'trolley' discussions skip over the practical problems of how a probabilistic machine learning vehicle AI could be sophisticated enough to understand that a deep problem of moral philosophy is presenting itself from instant to instant while using a dynamic projection into the near future, what sort of moral problem it actually would be if any, what the relevant weightings in human value terms should be given to all the other humans involved who will be probably unreliably identified, and how reliably it can assess the probable outcomes. These practical difficulties, and those around testing and assessment of solutions to them, may present as much of a challenge as the theoretical abstractions.[141]While most trolley conundrums involve hyperbolic and unlikely fact patterns, it is inevitable mundane ethical decisions and risk calculations such as the precise millisecond a car should yield to a yellow light or how closely to drive to a bike lane will need to be programmed into the software of autonomous vehicles.[8][142] Mundane ethical situations may even be more relevant than rare fatal circumstances because of the specificity implicated and their large scope.[142] Mundane situations involving drivers and pedestrians are so prevalent that, in the aggregate, produce large amounts of injuries and deaths.[142] Hence, even incremental permutations of moral algorithms can have a notable effect when considered in their entirety.[142]Privacy-related issues arise mainly from the interconnectivity of automated cars, making it just another mobile device that can gather any information about an individual (see data mining). This information gathering ranges from tracking of the routes taken, voice recording, video recording, preferences in media that is consumed in the car, behavioral patterns, to many more streams of information.[99][143][144] The data and communications infrastructure needed to support these vehicles may also be capable of surveillance, especially if coupled to other data sets and advanced analytics.[99]The implementation of automated vehicles to the mass market might cost up to 5 million jobs in the US alone, making up almost 3% of the workforce.[145] Those jobs include drivers of taxis, buses, vans, trucks, and e-hailing vehicles. Many industries, such as the auto insurance industry are indirectly affected. This industry alone generates an annual revenue of about US$220 billion, supporting 277,000 jobs.[146] To put this into perspective\\u2013this is about the number of mechanical engineering jobs.[147] The potential loss of a majority of those jobs will have a tremendous impact on those individuals involved.[148]The Massachusetts Institute of Technology (MIT) has animated the trolley problem in the context of autonomous cars in a website called The Moral Machine.[149] The Moral Machine generates random scenarios in which autonomous cars malfunction and forces the user to choose between two harmful courses of action.[149] MIT's Moral Machine experiment has collected data involving over 40 million decisions from people in 233 countries to ascertain peoples' moral preferences.  The MIT study illuminates that ethical preferences vary among cultures and demographics and likely correlate with modern institutions and geographic traits.[149]Global trends of the MIT study highlight that, overall, people prefer to save the lives of humans over other animals, prioritize the lives of many rather than few, and spare the lives of young rather than old.[149] Men are slightly more likely to spare the lives of women, and religious affiliates are slightly more likely to prioritize human life.  The lives of criminals were prioritized more than cats, but the lives of dogs were prioritized more than the lives of criminals.[150] The lives of homeless were spared more than the elderly, but the lives of homeless were spared less often than the obese.[150]People overwhelmingly express a preference for autonomous vehicles to be programmed with utilitarian ideas, that is, in a manner that generates the least harm and minimizes driving casualties.[151] While people want others to purchase utilitarian promoting vehicles, they themselves prefer to ride in vehicles that prioritize the lives of people inside the vehicle at all costs.[151] This presents a paradox in which people prefer that others drive utilitarian vehicles designed to maximize the lives preserved in a fatal situation but want to ride in cars that prioritize the safety of passengers at all costs.[151] People disapprove of regulations that promote utilitarian views and would be less willing to purchase a self-driving car that may opt to promote the greatest good at the expense of its passengers.[151]Bonnefon et al. conclude that the regulation of autonomous vehicle ethical prescriptions may be counterproductive to societal safety.[151] This is because, if the government mandates utilitarian ethics and people prefer to ride in self-protective cars, it could prevent the large scale implementation of self-driving cars.[151] Delaying the adoption of autonomous cars vitiates the safety of society as a whole because this technology is projected to save so many lives.[151] This is a paradigmatic example of the tragedy of the commons, in which rational actors cater to their self-interested preferences at the expense of societal utility.[152]To make a car 95% as safe as an experienced driver, 275 million failure-free autonomous miles (400 M km) are needed while several billions miles (or kilometers) are needed to make them 10% or 20% safer than humans.[153]The testing of vehicles with varying degrees of automation can be carried out either physically, in a closed environment[154] or, where permitted, on public roads (typically requiring a license or permit,[155] or adhering to a specific set of operating principles),[156] or in a virtual environment, i.e. using computer simulations.[157][158]\\nWhen driven on public roads, automated vehicles require a person to monitor their proper operation and \\\"take over\\\" when needed. For example, New York state has strict requirements for the test driver, such that the vehicle can be corrected at all times by a licensed operator; highlighted by Cardian Cube Company's application and discussions with New York State officials and the NYS DMV.[159]Apple is testing self-driving cars, and has increased its fleet of test vehicles from three in April 2017, to 27 in January 2018, and 45 by March 2018.[160][161]Russian internet-company Yandex started to develop self-driving cars in early 2017. The first driverless prototype was launched in May 2017. In November 2017, Yandex released a video of its AV winter tests.[162] The car drove successfully along snowy roads of Moscow. In June 2018, Yandex self-driving vehicle completed a 485-mile (780\\u00a0km) trip on a federal highway from Moscow to Kazan in autonomous mode.[163][164] In August 2018, Yandex launched a Europe's first robotaxi service with no human driver behind the wheel in the Russian town of Innopolis.[165] At the beginning of 2020 it was reported that over 5,000 autonomous passenger rides were made in the city.[166] At the end of 2018, Yandex obtained a license\\u00a0to operate autonomous vehicles on public roads in the U.S. state of Nevada. In 2019 and 2020, Yandex cars carried out demo rides for Consumer Electronic Show visitors in Las Vegas. Yandex cars were circulating the streets of the city without any human control.[167][168] In 2019 Yandex started testing its self-driving cars on the public roads of Israel.[169] In October 2019, Yandex became one of the companies selected by Michigan Department of Transportation (MDOT) to provide autonomous passenger rides to the visitors of Detroit Autoshow 2020.[170] At the end of 2019, Yandex made an announcement its self-driving cars passed 1 million miles in fully autonomous mode in Russia, Israel, and the United States.[171] In February 2020, Yandex doubled its mileage with 2 million miles passed.[172] In 2020, Yandex started to test its self-driving cars in Michigan.[173]The progress of automated vehicles can be assessed by computing the average distance driven between \\\"disengagements\\\", when the automated system is switched off, typically by the intervention of a human driver. In 2017, Waymo reported 63 disengagements over 352,545\\u00a0mi (567,366\\u00a0km) of testing, an average distance of 5,596\\u00a0mi (9,006\\u00a0km) between disengagements, the highest among companies reporting such figures. Waymo also traveled a greater total distance than any of the other companies. Their 2017 rate of 0.18 disengagements per 1,000\\u00a0mi (1,600\\u00a0km) was an improvement over the 0.2 disengagements per 1,000\\u00a0mi (1,600\\u00a0km) in 2016, and 0.8 in 2015. In March 2017, Uber reported an average of just 0.67\\u00a0mi (1.08\\u00a0km) per disengagement. In the final three months of 2017, Cruise (now owned by GM) averaged 5,224\\u00a0mi (8,407\\u00a0km) per disengagement over a total distance of 62,689\\u00a0mi (100,888\\u00a0km).[174] In July 2018, the first electric driverless racing car, \\\"Robocar\\\", completed a 1.8-kilometer track, using its navigation system and artificial intelligence.[175]Companies such as Otto and Starsky Robotics have focused on autonomous trucks. Automation of trucks is important, not only due to the improved safety aspects of these very heavy vehicles, but also due to the ability of fuel savings through platooning. Autonomous vans are being used by online grocers such as Ocado.[citation needed]Research has also indicated that goods distribution on the macro (urban distribution) and micro level (last mile delivery) could be made more efficient with the use of autonomous vehicles [178] thanks to the possibility of smaller vehicle sizes.China trialed the first automated public bus in Henan province in 2015, on a highway linking Zhengzhou and Kaifeng.[179][180] Baidu and King Long produce automated minibus, a vehicle with 14 seats, but without driving seat. With 100 vehicles produced, 2018 will be the first year with commercial automated service in China.[181][182]In Europe, cities in Belgium, France, Italy and the UK are planning to operate transport systems for automated cars,[183][184][185] and Germany, the Netherlands, and Spain have allowed public testing in traffic. In 2015, the UK launched public trials of the LUTZ Pathfinder automated pod in Milton Keynes.[186] Beginning in summer 2015, the French government allowed PSA Peugeot-Citroen to make trials in real conditions in the Paris area. The experiments were planned to be extended to other cities such as Bordeaux and Strasbourg by 2016.[187] The alliance between French companies THALES and Valeo (provider of the first self-parking car system that equips Audi and Mercedes premi) is testing its own system.[188] New Zealand is planning to use automated vehicles for public transport in Tauranga and Christchurch.[189][190][191][192]The traditional automobile industry is subject to changes driven by technology and market demands. These changes include breakthrough technological advances and when the market demands and adopts new technology quickly. In the rapid advance of both factors, the end of the era of incremental change was recognized. When the transition is made to new technology, new entrants to the automotive industry present themselves, which can be distinguished as mobility providers such as Uber and Lyft, as well as tech giants such as Google and Nvidia.[193]  As new entrants to the industry arise, market uncertainty naturally occurs due to the changing dynamics. For example, the entrance of tech giants, as well as the alliances between them and traditional car manufacturers causes a variation in the innovation and production process of autonomous vehicles. Additionally, the entrance of mobility providers has caused ambiguous user preferences. As a result of the rise of mobility providers, the number of vehicles per capita has flatlined. In addition, the rise of the sharing economy also contributes to market uncertainty and causes forecasters to question whether personal ownership of vehicles is still relevant as new transportation technology and mobility providers are becoming preferred among consumers.To help reduce the possibility of safety issues, some companies have begun to open-source parts of their driverless systems. Udacity for instance is developing an open-source software stack,[194] and some companies are having similar approaches.[195][196]According to a 2020 Annual Review of Public Health review of the literature, self-driving cars \\\"could increase some health risks (such as air pollution, noise, and sedentarism); however, if properly regulated, AVs will likely reduce morbidity and mortality from motor vehicle crashes and may help reshape cities to promote healthy urban environments.\\\"[197] Driving safety experts predict that once driverless technology has been fully developed, traffic collisions (and resulting deaths and injuries and costs) caused by human error, such as delayed reaction time, tailgating, rubbernecking, and other forms of distracted or aggressive driving should be substantially reduced.[1][198][199][200][201] With the increasing reliance of autonomous vehicles on interconnectivity and the availability of big data which is made usable in the form of real-time maps, driving decisions can be made much faster in order to prevent collisions.[8]Numbers made available by the US government state that 94% of vehicle accidents are due to human failures.[202] As a result, major implications for the healthcare industry become apparent. Numbers from the National Safety Council on killed and injured people on US roads multiplied by the average costs of a single incident reveal that an estimated US$500 billion loss may be imminent for the US healthcare industry when autonomous vehicles are dominating the roads. It is likely the anticipated decrease in traffic accidents will positively contribute to the widespread acceptance of autonomous vehicles, as well as the possibility to better allocate healthcare resources. If 90% of cars in the US became self-driving, for example, an estimated 25,000 lives would be saved annually. Lives saved by averting automobile crashes in the US has been valued at more than $200 billion annually.[197]Self-driving car would have the potential to save 10 million lives worldwide, per decade.[203][197]According to motorist website \\\"TheDrive.com\\\" operated by Time magazine, none of the driving safety experts they were able to contact was able to rank driving under an autopilot system at the time (2017) as having achieved a greater level of safety than traditional fully hands-on driving, so the degree to which these benefits asserted by proponents will manifest in practice cannot be assessed.[204] Confounding factors that could reduce the net effect on safety may include unexpected interactions between humans and partly or fully automated vehicles, or between different types of a vehicle system; complications at the boundaries of functionality at each automation level (such as handover when the vehicle reaches the limit of its capacity); the effect of the bugs and flaws that inevitably occur in complex interdependent software systems; sensor or data shortcomings; and successful compromise by malicious interveners. Security problems include what an autonomous car might do if summoned to pick up the owner but another person attempts entry, what happens if someone tries to break into the car, and what happens if someone attacks the occupants, for example by exchanging gunfire.[205]Some[who?] believe that once automation in vehicles reaches higher levels and becomes reliable, drivers will pay less attention to the road.[206] Research shows that drivers in automated cars react later when they have to intervene in a critical situation, compared to if they were driving manually.[207] Depending on the capabilities of automated vehicles and the frequency with which human intervention is needed, this may counteract any increase in safety, as compared to all-human driving, that may be delivered by other factors.An unexpected disadvantage of the widespread acceptance of autonomous vehicles would be a reduction in the supply of organs for donation.[208]  In the US, for example, 13% of the organ donation supply comes from car crash victims.[197]According to a 2020 study, self-driving cars will increase productivity, and housing affordability, as well as reclaim land used for parking.[209] However, self-driving cars will cause greater energy use, traffic congestion and sprawl.[209] Automated cars could reduce labor costs;[210][211] relieve travelers from driving and navigation chores, thereby replacing behind-the-wheel commuting hours with more time for leisure or work;[198][201] and also would lift constraints on occupant ability to drive, distracted and texting while driving, intoxicated, prone to seizures, or otherwise impaired.[212][213][214]For the young, the elderly, people with disabilities, and low-income citizens, automated cars could provide enhanced mobility.[215][216] The removal of the steering wheel\\u2014along with the remaining driver interface and the requirement for any occupant to assume a forward-facing position\\u2014would give the interior of the cabin greater ergonomic flexibility. Large vehicles, such as motorhomes, would attain appreciably enhanced ease of use.[217]The elderly and persons with disabilities (such as persons who are hearing-impaired, vision-impaired, mobility-impaired, or cognitively-impaired) are potential beneficiaries of adoption of autonomous vehicles; however, the extent to which such populations gain greater mobility from the adoption of AV technology depends on the specific designs and regulations adopted.[218][219]Children and teens, who are not able to drive a vehicle themselves in case of student transport, would also benefit of the introduction of autonomous cars.[220] Daycares and schools are able to come up with automated pick-up and drop-off systems by car in addition to walking, cycling and busing, causing a decrease of reliance on parents and childcare workers.The extent to which human actions are necessary for driving will vanish. Since current vehicles require human actions to some extent, the driving school industry will not be disrupted until the majority of autonomous transportation is switched to the emerged dominant design. It is plausible that in the distant future driving a vehicle will be considered as a luxury, which implies that the structure of the industry is based on new entrants and a new market.[221] Self-driving cars would also exasperate existing mobility inequalities driven by the interests of car companies and technology companies while taking investment away from more equitable and sustainable mobility initiatives such as public transportation.[222]According to a Wonkblog reporter, if fully automated cars become commercially available, they have the potential to be a disruptive innovation with major implications for society. The likelihood of widespread adoption is still unclear, but if they are used on a wide scale, policymakers face a number of unresolved questions about their effects.[118]One fundamental question is about their effect on travel behavior. Some people believe that they will increase car ownership and car use because it will become easier to use them and they will ultimately be more useful.[118] This may, in turn, encourage urban sprawl and ultimately total private vehicle use. Others argue that it will be easier to share cars and that this will thus discourage outright ownership and decrease total usage, and make cars more efficient forms of transportation in relation to the present situation.[99][223]Policy-makers will have to take a new look at how infrastructure is to be built and how money will be allotted to build for automated vehicles. The need for traffic signals could potentially be reduced with the adoption of smart highways.[224] Due to smart highways and with the assistance of smart technological advances implemented by policy change, the dependence on oil imports may be reduced because of less time being spent on the road by individual cars which could have an effect on policy regarding energy.[225] On the other hand, automated vehicles could increase the overall number of cars on the road which could lead to a greater dependence on oil imports if smart systems are not enough to curtail the impact of more vehicles.[226] However, due to the uncertainty of the future of automated vehicles, policymakers may want to plan effectively by implementing infrastructure improvements that can be beneficial to both human drivers and automated vehicles.[227] Caution needs to be taken in acknowledgment to public transportation and that the use may be greatly reduced if automated vehicles are catered to through policy reform of infrastructure with this resulting in job loss and increased unemployment.[228]Other disruptive effects will come from the use of automated vehicles to carry goods. Self-driving vans have the potential to make home deliveries significantly cheaper, transforming retail commerce and possibly making hypermarkets and supermarkets redundant. As of 2019[update] the US Department of Transportation defines automation into six levels, starting at level zero which means the human driver does everything and ending with level five, the automated system performs all the driving tasks. Also under the current law, manufacturers bear all the responsibility to self-certify vehicles for use on public roads. This means that currently as long as the vehicle is compliant within the regulatory framework, there are no specific federal legal barriers in the US to a highly automated vehicle being offered for sale. Iyad Rahwan, an associate professor in the MIT Media Lab said, \\\"Most people want to live in a world where cars will minimize casualties, but everyone wants their own car to protect them at all costs.\\\" Furthermore, industry standards and best practice are still needed in systems before they can be considered reasonably safe under real-world conditions.[229]Additional advantages could include higher speed limits;[230] smoother rides;[231] and increased roadway capacity; and minimized traffic congestion, due to decreased need for safety gaps and higher speeds.[232][233] Currently, maximum controlled-access highway throughput or capacity according to the US Highway Capacity Manual is about 2,200 passenger vehicles per hour per lane, with about 5% of the available road space is taken up by cars. One study estimated that automated cars could increase capacity by 273% (\\u22488,200 cars per hour per lane). The study also estimated that with 100% connected vehicles using vehicle-to-vehicle communication, capacity could reach 12,000 passenger vehicles per hour (up 545% from 2,200\\u00a0pc/h per lane) traveling safely at 120\\u00a0km/h (75\\u00a0mph) with a following gap of about 6\\u00a0m (20\\u00a0ft) of each other. Human drivers at highway speeds keep between 40 to 50\\u00a0m (130 to 160\\u00a0ft) away from the vehicle in front. These increases in highway capacity could have a significant impact in traffic congestion, particularly in urban areas, and even effectively end highway congestion in some places.[234] The ability for authorities to manage traffic flow would increase, given the extra data and driving behavior predictability[235] combined with less need for traffic police and even road signage.Safer driving is expected to reduce the costs of vehicle insurance.[210][236][failed verification] The automobile insurance industry might suffer as the technology makes certain aspects of these occupations obsolete.[216] As fewer collisions implicate less money spent on repair costs, the role of the insurance industry is likely to be altered as well. It can be expected that the increased safety of transport due to autonomous vehicles will lead to a decrease in payouts for the insurers, which is positive for the industry, but fewer payouts may imply a demand drop for insurances in general. In order to accommodate such changes, the Automated and Electric Vehicles Act 2018 was introduced. While Part 2 deals with Electric Vehicles, Part 1 covers insurance provisions for automated vehicles.A direct impact of widespread adoption of automated vehicles is the loss of driving-related jobs in the road transport industry.[1][210][211][237] There could be resistance from professional drivers and unions who are threatened by job losses.[238] In addition, there could be job losses in public transit services and crash repair shops. A frequently cited paper by Michael Osborne and Carl Benedikt Frey found that automated cars would make many jobs redundant.[239] The industry has, however created thousands of jobs in low-income countries for workers who train autonomous systems.[240]A review found that private autonomous vehicles may increase total travel, whereas autonomous buses may lead to reduced car use.[241]Vehicle automation can improve fuel economy of the car by optimizing the drive cycle, as well as increasing congested traffic speeds by an estimated 8%-13%.[242][243] Reduced traffic congestion and the improvements in traffic flow due to widespread use of automated cars will translate into higher fuel efficiency, ranging from a 23%-39% increase, with the potential to further increase.[242][244]  Additionally, self-driving cars will be able to accelerate and brake more efficiently, meaning higher fuel economy from reducing wasted energy typically associated with inefficient changes to speed. However, the improvement in vehicle energy efficiency does not necessarily translate to net reduction in energy consumption and positive environmental outcomes. Alongside the induced demand, there may also be a reduction in the use of more sustainable modes, such as public or active transport. It is expected that convenience of the automated vehicles encourages the consumers to travel more, and this induced demand may partially or fully offset the fuel efficiency improvement brought by automation.[243] Alongside the induced demand, there may also be a reduction in the use of more sustainable modes, such as public or active transport.[245] Overall, the consequences of vehicle automation on global energy demand and emissions are highly uncertain, and heavily depends on the combined effect of changes in consumer behavior, policy intervention, technological progress and vehicle technology.[243]By reducing the labor and other costs of mobility as a service, automated cars could reduce the number of cars that are individually owned, replaced by taxi/pooling and other car-sharing services.[246][247] This would also dramatically reduce the size of the automotive production industry, with corresponding environmental and economic effects.The lack of stressful driving, more productive time during the trip, and the potential savings in travel time and cost could become an incentive to live far away from cities, where housing is cheaper, and work in the city's core, thus increasing travel distances and inducing more urban sprawl, raising energy consumption and enlarging the carbon footprint of urban travel.[243][248][249] There is also the risk that traffic congestion might increase, rather than decrease.[243][216] Appropriate public policies and regulations, such as zoning, pricing, and urban design are required to avoid the negative impacts of increased suburbanization and longer distance travel.[216][249]Since many autonomous vehicles are going to rely on electricity to operate, the demand for lithium batteries increases. Similarly, radar, sensors, lidar, and high-speed internet connectivity require higher auxiliary power from vehicles, which manifests as greater power draw from batteries.[243] The larger battery requirement causes a necessary increase in the supply of these type of batteries for the chemical industry. On the other hand, with the expected increase of battery-powered (autonomous) vehicles, the petroleum industry is expected to undergo a decline in demand. As this implication depends on the adoption rate of autonomous vehicles, it is unsure to what extent this implication will disrupt this particular industry. This transition phase of oil to electricity allows companies to explore whether there are business opportunities for them in the new energy ecosystem. In 2020, Mohan, Sripad, Vaishnav & Viswanathan at Carnegie Mellon University[250] found that the electricity consumption of all the automation technology, including sensors, computation, internet access as well as the increased drag from sensors causes up to a 15% impact on the range of an automated electric vehicle, therefore, implying that the larger battery requirement might not be as large as previously assumed.A study conducted by AAA Foundation for Traffic Safety found that drivers did not trust self-parking technology, even though the systems outperformed drivers with a backup camera. The study tested self-parking systems in a variety of vehicles (Lincoln MKC, Mercedes-Benz ML400 4Matic, Cadillac CTS-V Sport, BMW i3 and Jeep Cherokee Limited) and found that self-parking cars hit the curb 81% fewer times, used 47% fewer manoeuvres and parked 10% faster than drivers. Yet, only 25% of those surveyed said they would trust this technology.[251]Manually driven vehicles are reported to be used only 4\\u20135% of the time, and being parked and unused for the remaining 95\\u201396% of the time.[252][253] Autonomous taxis could, on the other hand, be used continuously after they have reached their destination. This could dramatically reduce the need for parking space. For example, in Los Angeles a 2015 study found 14% of the land is used for parking alone, equivalent to some 1,702 hectares (4,210 acres).[254][255] This combined with the potential reduced need for road space due to improved traffic flow, could free up large amounts of land in urban areas, which could then be used for parks, recreational areas, buildings, among other uses; making cities more livable. Besides this, privately owned self-driving cars, also capable of self-parking would provide another advantage: the ability to drop off and pick up passengers even in places where parking is prohibited. This would benefit park and ride facilities.[256]The vehicles' increased awareness could aid the police by reporting on illegal passenger behaviour, while possibly enabling other crimes, such as deliberately crashing into another vehicle or a pedestrian.[257] However, this may also lead to much-expanded mass surveillance if there is wide access granted to third parties to the large data sets generated.Privacy could be an issue when having the vehicle's location and position integrated into an interface that other people have access to.[1][258]  Moreover, they require a sensor-based infrastructure that would constitute an all-encompassing surveillance apparatus.[259] This gives the car manufacturers and other companies the data needed to understand the user's lifestyle and personal preferences.[260]There is the risk of terrorist attacks by automotive hacking through the sharing of information through V2V (Vehicle to Vehicle) and V2I (Vehicle to Infrastructure) protocols.[261][262][263] Self-driving cars could potentially be loaded with explosives and used as bombs.[264] According to legislation of US lawmakers, autonomous and self-driving vehicles should be equipped with defences against hacking.[265]With the aforementioned ambiguous user preference regarding the personal ownership of autonomous vehicles, it is possible that the current mobility provider trend will continue as it rises in popularity. Established providers such as Uber and Lyft are already significantly present within the industry, and it is likely that new entrants will enter when business opportunities arise.[266]As collisions are less likely to occur, and the risk for human errors is reduced significantly, the repair industry will face an enormous reduction of work that has to be done on the reparation of car frames. Meanwhile, as the generated data of the autonomous vehicle is likely to predict when certain replaceable parts are in need of maintenance, car owners and the repair industry will be able to proactively replace a part that will fail soon. This \\\"Asset Efficiency Service\\\" would implicate a productivity gain for the automotive repair industry.The technique used in autonomous driving also ensures life savings in other industries. The implementation of autonomous vehicles with rescue, emergency response, and military applications has already led to a decrease in deaths.[citation needed] Military personnel use autonomous vehicles to reach dangerous and remote places on earth to deliver fuel, food and general supplies and even rescue people. In addition, a future implication of adopting autonomous vehicles could lead to a reduction in deployed personnel, which will lead to a decrease in injuries, since the technological development allows autonomous vehicles to become more and more autonomous. Another future implication is the reduction of emergency drivers when autonomous vehicles are deployed as fire trucks or ambulances. An advantage could be the use of real-time traffic information and other generated data to determine and execute routes more efficiently than human drivers. The time savings can be invaluable in these situations.[267]With the driver decreasingly focused on operating a vehicle, the interior design and media-entertainment industry will have to reconsider what passengers of autonomous vehicles are doing when they are on the road. Vehicles need to be redesigned, and possibly even be prepared for multipurpose usage. In practice, it will show that travellers have more time for business and/or leisure. In both cases, this gives increasing opportunities for the media-entertainment industry to demand attention. Moreover, the advertisement business is able to provide location-based ads without risking driver safety.[268]All cars can benefit from information and connections, but autonomous cars \\\"Will be fully capable of operating without C-V2X.\\\"[269] In addition, the earlier mentioned entertainment industry is also highly dependent on this network to be active in this market segment. This implies higher revenues for the telecommunication industry.Driver interactions with the vehicle will be less common within the near future, and in the more distant future, the responsibility will lie entirely with the vehicle. As indicated above, this will have implications for the entertainment- and interior design industry. For roadside restaurants, the implication will be that the need for customers to stop driving and enter the restaurant will vanish, and the autonomous vehicle will have a double function. Moreover, accompanied by the rise of disruptive platforms such as Airbnb that have shaken up the hotel industry, the fast increase of developments within the autonomous vehicle industry might cause another implication for their customer bases. In the more distant future, the implication for motels might be that a decrease in guests will occur, since autonomous vehicles could be redesigned as fully equipped bedrooms. The improvements regarding the interior of the vehicles might additionally have implications for the airline industry. In the case of relatively short-haul flights, waiting times at customs or the gate imply lost time and hassle for customers. With the improved convenience in future car travel, it is possible that customers might go for this option, causing a loss in customer bases for the airline industry.[270]In mid\\u2011October 2015, Tesla Motors rolled out version 7 of their software in the US that included Tesla Autopilot capability.[271] On 9 January 2016, Tesla rolled out version 7.1 as an over-the-air update, adding a new \\\"summon\\\" feature that allows cars to retrieve or self-park at parking locations without the driver in the car.[272] As of November\\u00a02020[update], Tesla's automated driving features is currently classified as a Level 2 driver assistance system according to the Society of Automotive Engineers' (SAE) five levels of vehicle automation.[55] At this level the car can be automated but requires the full attention of the driver, who must be prepared to take control at a moment's notice;[273][274][275][276] Autopilot will sometimes fail to detect lane markings and disengage itself while alerting the driver.[277]On 20 January 2016, the first of five known fatal crashes of a Tesla with Autopilot occurred in China's Hubei province.[278] According to China's 163.com news channel, this marked \\\"China's first accidental death due to Tesla's automatic driving (system)\\\". Initially, Tesla pointed out that the vehicle was so badly damaged from the impact that their recorder was not able to conclusively prove that the car had been on Autopilot at the time; however, 163.com pointed out that other factors, such as the car's absolute failure to take any evasive actions prior to the high speed crash, and the driver's otherwise good driving record, seemed to indicate a strong likelihood that the car was on Autopilot at the time. A similar fatal crash occurred four months later in Florida.[279][280] In 2018, in a subsequent civil suit between the father of the driver killed and Tesla, Tesla did not deny that the car had been on Autopilot at the time of the accident, and sent evidence to the victim's father documenting that fact.[281]The second known fatal accident involving a vehicle being driven by itself took place in Williston, Florida on 7 May 2016 while a Tesla Model S electric car was engaged in Autopilot mode. The occupant was killed in a crash with an 18-wheel tractor-trailer. On 28 June 2016 the US National Highway Traffic Safety Administration (NHTSA) opened a formal investigation into the accident working with the Florida Highway Patrol. According to NHTSA, preliminary reports indicate the crash occurred when the tractor-trailer made a left turn in front of the Tesla at an intersection on a non-controlled access highway, and the car failed to apply the brakes. The car continued to travel after passing under the truck's trailer.[282][283] NHTSA's preliminary evaluation was opened to examine the design and performance of any automated driving systems in use at the time of the crash, which involved a population of an estimated 25,000 Model S cars.[284] On 8 July 2016, NHTSA requested Tesla Motors provide the agency detailed information about the design, operation and testing of its Autopilot technology. The agency also requested details of all design changes and updates to Autopilot since its introduction, and Tesla's planned updates schedule for the next four months.[285]According to Tesla, \\\"neither autopilot nor the driver noticed the white side of the tractor-trailer against a brightly lit sky, so the brake was not applied.\\\" The car attempted to drive full speed under the trailer, \\\"with the bottom of the trailer impacting the windshield of the Model S\\\". Tesla also claimed that this was Tesla's first known autopilot death in over 130\\u00a0million miles (210\\u00a0million kilometers) driven by its customers with Autopilot engaged, however by this statement, Tesla was apparently refusing to acknowledge claims that the January 2016 fatality in Hubei China had also been the result of an autopilot system error. According to Tesla there is a fatality every 94\\u00a0million miles (151\\u00a0million kilometers) among all type of vehicles in the US[282][283][286] However, this number also includes fatalities of the crashes, for instance, of motorcycle drivers with pedestrians.[287][288]In July 2016, the US National Transportation Safety Board (NTSB) opened a formal investigation into the fatal accident while the Autopilot was engaged. The NTSB is an investigative body that has the power to make only policy recommendations. An agency spokesman said \\\"It's worth taking a look and seeing what we can learn from that event, so that as that automation is more widely introduced we can do it in the safest way possible.\\\"[289] In January 2017, the NTSB released the report that concluded Tesla was not at fault; the investigation revealed that for Tesla cars, the crash rate dropped by 40 percent after Autopilot was installed.[290]Waymo originated as a self-driving car project within Google. In August 2012, Google announced that their vehicles had completed over 300,000 automated-driving miles (500,000\\u00a0km) accident-free, typically involving about a dozen cars on the road at any given time, and that they were starting to test with single drivers instead of in pairs.[291] In late-May 2014, Google revealed a new prototype that had no steering wheel, gas pedal, or brake pedal, and was fully automated .[292] As of March\\u00a02016[update], Google had test-driven their fleet in automated mode a total of 1,500,000\\u00a0mi (2,400,000\\u00a0km).[293] In December 2016, Google Corporation announced that its technology would be spun off to a new company called Waymo, with both Google and Waymo becoming subsidiaries of a new parent company called Alphabet.[294][295]According to Google's accident reports as of early 2016, their test cars had been involved in 14 collisions, of which other drivers were at fault 13 times, although in 2016 the car's software caused a crash.[296]In June 2015, Brin confirmed that 12 vehicles had suffered collisions as of that date. Eight involved rear-end collisions at a stop sign or traffic light, two in which the vehicle was side-swiped by another driver, one in which another driver rolled through a stop sign, and one where a Google employee was controlling the car manually.[297] In July 2015, three Google employees suffered minor injuries when their vehicle was rear-ended by a car whose driver failed to brake at a traffic light. This was the first time that a collision resulted in injuries.[298] On 14 February 2016 a Google vehicle attempted to avoid sandbags blocking its path. During the maneuver it struck a bus. Google stated, \\\"In this case, we clearly bear some responsibility, because if our car hadn't moved, there wouldn't have been a collision.\\\"[299][300] Google characterized the crash as a misunderstanding and a learning experience. No injuries were reported in the crash.[296]In March 2017, an Uber test vehicle was involved in a crash in Tempe, Arizona when another car failed to yield, flipping the Uber vehicle. There were no injuries in the accident.[301]By 22 December 2017, Uber had completed 2\\u00a0million miles (3.2\\u00a0million kilometers) in automated mode.[302]On 18 March 2018, Elaine Herzberg became the first pedestrian to be killed by a self-driving car in the United States after being hit by an Uber vehicle, also in Tempe. Herzberg was crossing outside of a crosswalk, approximately 400 feet from an intersection.[303] This marks the first time an individual is known to have been killed by an autonomous vehicle.The first death of an essentially uninvolved third party is likely to raise new questions and concerns about the safety of automated cars in general.[304] Some experts say a human driver could have avoided the fatal crash.[305] Arizona Governor Doug Ducey later suspended the company's ability to test and operate its automated cars on public roadways citing an \\\"unquestionable failure\\\" of the expectation that Uber make public safety its top priority.[306] Uber has pulled out of all self-driving-car testing in California as a result of the accident.[307] On 24 May 2018 the US National Transport Safety Board issued a preliminary report.[308]On 16 September 2020, according to the BBC, the backup driver has been charged of negligent homicide, because she did not look to the road for several seconds while her television was streaming The Voice broadcast by Hulu.\\nUber does not face any criminal charge because in the USA there is no basis for criminal liability for the corporation.\\nThe driver is assumed to be responsible of the accident, because she was in the driver seat in capacity to avoid an accident (like in a Level 3). Trial is planned for February 2021.[309]On 9 November 2017, a Navya automated self-driving bus with passengers was involved in a crash with a truck. The truck was found to be at fault of the crash, reversing into the stationary automated bus. The automated bus did not take evasive actions or apply defensive driving techniques such as flashing its headlights, or sounding the horn. As one passenger commented, \\\"The shuttle didn't have the ability to move back. The shuttle just stayed still.\\\"[310]In a 2011 online survey of 2,006 US and UK consumers by Accenture, 49% said they would be comfortable using a \\\"driverless car\\\".[311]A 2012 survey of 17,400 vehicle owners by J.D. Power and Associates found 37% initially said they would be interested in purchasing a \\\"fully autonomous car\\\". However, that figure dropped to 20% if told the technology would cost US$3,000 more.[312]In a 2012 survey of about 1,000 German drivers by automotive researcher Puls, 22% of the respondents had a positive attitude towards these cars, 10% were undecided, 44% were skeptical and 24% were hostile.[313]A 2013 survey of 1,500 consumers across 10 countries by Cisco Systems found 57% \\\"stated they would be likely to ride in a car controlled entirely by technology that does not require a human driver\\\", with Brazil, India and China the most willing to trust automated technology.[314]In a 2014 US telephone survey by Insurance.com, over three-quarters of licensed drivers said they would at least consider buying a self-driving car, rising to 86% if car insurance were cheaper. 31.7% said they would not continue to drive once an automated car was available instead.[315]In a February 2015 survey of top auto journalists, 46% predict that either Tesla or Daimler will be the first to the market with a fully autonomous vehicle, while (at 38%) Daimler is predicted to be the most functional, safe, and in-demand autonomous vehicle.[316]In 2015 a questionnaire survey by Delft University of Technology explored the opinion of 5,000 people from 109 countries on automated driving. Results showed that respondents, on average, found manual driving the most enjoyable mode of driving. 22% of the respondents did not want to spend any money for a fully automated driving system. Respondents were found to be most concerned about software hacking/misuse, and were also concerned about legal issues and safety. Finally, respondents from more developed countries (in terms of lower accident statistics, higher education, and higher income) were less comfortable with their vehicle transmitting data.[317] The survey also gave results on potential consumer opinion on interest of purchasing an automated car, stating that 37% of surveyed current owners were either \\\"definitely\\\" or \\\"probably\\\" interested in purchasing an automated car.[317]In 2016, a survey in Germany examined the opinion of 1,603 people, who were representative in terms of age, gender, and education for the German population, towards partially, highly, and fully automated cars. Results showed that men and women differ in their willingness to use them. Men felt less anxiety and more joy towards automated cars, whereas women showed the exact opposite. The gender difference towards anxiety was especially pronounced between young men and women but decreased with participants' age.[318]In 2016, a PwC survey, in the United States, showing the opinion of 1,584 people, highlights that \\\"66 percent of respondents said they think autonomous cars are probably smarter than the average human driver\\\". People are still worried about safety and mostly the fact of having the car hacked. Nevertheless, only 13% of the interviewees see no advantages in this new kind of cars.[319]In 2017, Pew Research Center surveyed 4,135 US adults from 1\\u201315 May and found that many Americans anticipate significant impacts from various automation technologies in the course of their lifetimes\\u2014from the widespread adoption of automated vehicles to the replacement of entire job categories with robot workers.[320]In 2019, results from two opinion surveys of 54 and 187 US adults respectively were published. A new standardised questionnaire, the autonomous vehicle acceptance model (AVAM) was developed, including additional description to help respondents better understand the implications of different automation levels. Results showed that users were less accepting of high autonomy levels and displayed significantly lower intention to use highly autonomous vehicles. Additionally, partial autonomy (regardless of level) was perceived as requiring uniformly higher driver engagement (usage of hands, feet and eyes) than full autonomy.[321]The Geneva Convention on Road Traffic subscribed to by over 101 countries worldwide, requires the driver to be 18 years old.The 1968 Vienna Convention on Road Traffic, subscribed to by over 70 countries worldwide, establishes principles to govern traffic laws. One of the fundamental principles of the convention has been the concept that a driver is always fully in control and responsible for the behavior of a vehicle in traffic.[322] In 2016, a reform of the convention has open possibilities for automated features. The progress of technology that assists and takes over the functions of the driver is undermining this principle, implying that much of the groundwork must be rewritten.[citation needed]This means that in those countries cars might be automated or autonomous or self-driving but not driver-less.In 2019, Japan amended two laws, \\\"Road Traffic Act\\\" and \\\"Road Transport Vehicle Act\\\",[323] and they came into effect in April 2020. In the former act, Level 3 self driving cars became allowed on public roads.[324]\\nIn the latter act, process to designate types for safety certification on Level 3 self driving function of \\nAutonomous Driving System (ADS) and the certification process for the asserted type were legally defined.[325]\\nThrough the amendment process, the achievements from the national project \\\"SIP-adus\\\" led by Cabinet Office since 2014 were fully considered and accepted.[326]In 2020, the next stage national level roadmap plan was officially issued which had considered social deployment and acceptability of Level 4.[327][328]In 2021, National Police Agency published its committee report of FY 2020 on summary of issues in research to realize Level 4 mobility services, including required legal amendment issues.[329][330]In the United States, a non-signatory country to the Vienna Convention, state vehicle codes generally do not envisage\\u2014but do not necessarily prohibit\\u2014highly automated vehicles as of 2012[update].[331][332] To clarify the legal status of and otherwise regulate such vehicles, several states have enacted or are considering specific laws.[333] By 2016, seven states (Nevada, California, Florida, Michigan, Hawaii, Washington, and Tennessee), along with the District of Columbia, have enacted laws for automated vehicles. Incidents such as the first fatal accident by Tesla's Autopilot system have led to discussion about revising laws and standards for automated cars.In September 2016, the US National Economic Council and US Department of Transportation (USDOT) released the Federal Automated Vehicles Policy,[334] which are standards that describe how automated vehicles should react if their technology fails, how to protect passenger privacy, and how riders should be protected in the event of an accident. The new federal guidelines are meant to avoid a patchwork of state laws, while avoiding being so overbearing as to stifle innovation.[335] Since then, USDOT has released multiple updates:The National Highway Traffic Safety Administration released for public comment the Occupant Protection for Automated Driving System on 30 March 2020,[339] followed by the Framework for Automated Driving System Safety on 3 December 2020.[340] Occupant Protection is intended to modernize the Federal Motor Vehicle Safety Standards considering the removal of manual controls with automated driving systems,[341] while the Framework document is intended to provide an objective way to define and assess automated driving system competence to ensure motor vehicle safety while also remaining flexible to accommodate the development of features to improve safety.[342]In June 2011, the Nevada Legislature passed a law to authorize the use of automated cars. Nevada thus became the first jurisdiction in the world where automated vehicles might be legally operated on public roads. According to the law, the Nevada Department of Motor Vehicles is responsible for setting safety and performance standards and the agency is responsible for designating areas where automated cars may be tested.[343][344][345] This legislation was supported by Google in an effort to legally conduct further testing of its Google driverless car.[346] The Nevada law defines an automated vehicle to be \\\"a motor vehicle that uses artificial intelligence, sensors and global positioning system coordinates to drive itself without the active intervention of a human operator\\\". The law also acknowledges that the operator will not need to pay attention while the car is operating itself. Google had further lobbied for an exemption from a ban on distracted driving to permit occupants to send text messages while sitting behind the wheel, but this did not become law.[346][347][348] Furthermore, Nevada's regulations require a person behind the wheel and one in the passenger's seat during tests.[349]In April 2012, Florida became the second state to allow the testing of automated cars on public roads.[350]California became the third state to allow automated car testing when Governor Jerry Brown signed SB 1298 into law in September 2012 at Google Headquarters in Mountain View.[351]On 19 February 2016, California Assembly Bill 2866 was introduced in California that would allow automated vehicles to operate on public roads, including those without a driver, steering wheel, accelerator pedal, or brake pedal. The bill states that the California Department of Motor Vehicles would need to comply with these regulations by 1 July 2018 for these rules to take effect. As of November\\u00a02016[update], this bill has yet to pass the house of origin.[352] California published discussions on the proposed federal automated vehicles policy in October 2016.[353]In December 2016, the California Department of Motor Vehicles ordered Uber to remove its self-driving vehicles from the road in response to two red-light violations. Uber immediately blamed the violations on human-error, and has suspended the drivers.[354]In Washington, DC's district code: \\\"Autonomous vehicle\\\" means a vehicle capable of navigating District roadways and interpreting traffic-control devices without a driver actively operating any of the vehicle's control systems. The term \\\"autonomous vehicle\\\" excludes a motor vehicle enabled with active safety systems or driver- assistance systems, including systems to provide electronic blind-spot assistance, crash avoidance, emergency braking, parking assistance, adaptive cruise control, lane-keep assistance, lane-departure warning, or traffic-jam and queuing assistance, unless the system alone or in combination with other systems enables the vehicle on which the technology is installed to drive without active control or monitoring by a human operator.In the same district code, it is considered that:An autonomous vehicle may operate on a public roadway; provided, that the vehicle:In December 2013, Michigan became the fourth state to allow testing of driverless cars on public roads.[355] In July 2014, the city of Coeur d'Alene, Idaho adopted a robotics ordinance that includes provisions to allow for self-driving cars.[356]In 2013, the government of the United Kingdom permitted the testing of automated cars on public roads.[357] Before this, all testing of robotic vehicles in the UK had been conducted on private property.[357]In 2014, the Government of France announced that testing of automated cars on public roads would be allowed in 2015. 2000\\u00a0km of road would be opened through the national territory, especially in Bordeaux, in Is\\u00e8re, \\u00cele-de-France and Strasbourg. At the 2015 ITS World Congress, a conference dedicated to intelligent transport systems, the very first demonstration of automated vehicles on open road in France was carried out in Bordeaux in early October 2015.[358]In 2015, a preemptive lawsuit against various automobile companies such as GM, Ford, and Toyota accused them of \\\"Hawking vehicles that are vulnerable to hackers who could hypothetically wrest control of essential functions such as brakes and steering.\\\"[359]In spring of 2015, the Federal Department of Environment, Transport, Energy and Communications in Switzerland (UVEK) allowed Swisscom to test a driverless Volkswagen Passat on the streets of Zurich.[360]As of April 2017, it is possible to conduct public road tests for development vehicles in Hungary, furthermore the construction of a closed test track, the ZalaZone test track,[361] suitable for testing highly automated functions is also under way near the city of Zalaegerszeg.[362]Since 2017 German law requires \\\"data processing in the case of vehicles with a highly or fully automated driving function\\\",[363] in order to clarify responsibilities. \\nIt stores position and time provided by satellite navigation system when control of the vehicle changes from the driver to the highly or fully automated system, or when the driver is prompted by the system to retake control of the vehicle or when the system experiences a technical default.Regulation (EU) 2019/2144 of the European Parliament and of the Council of 27 November 2019 on type-approval requirements for motor vehicles defines specific requirements relating to automated vehicles and fully automated vehicles. This law is applicable from 2022 and is based on uniform procedures and technical specifications for the systems and other items.[364]In 2021, the UK is working on a new law proposal to allow self-driving automated lane keeping systems (ALKS) up to 37mph (or 60 km/h[365]) after a mixed reaction of experts during the consultation launched in summer 2020.[366] This system would be allowed to give back control to the driver when \\\"unplanned events\\\" such as road construction or inclement weather occurs.[367]In 2016, the Singapore Land Transit Authority in partnership with UK automotive supplier Delphi Automotive, began launch preparations for a test run of a fleet of automated taxis for an on-demand automated cab service to take effect in 2017.[368]In 2017, the South Korean government stated that the lack of universal standards is preventing its own legislation from pushing new domestic rules. However, once the international standards are settled, South Korea's legislation will resemble the international standards.[369]In 2018, China introduced regulations to regulate autonomous cars, for conditional automation, high-level automation and full automation (L3, L4 and L5 SAE levels).[370]The rules lay out requirements that vehicles must first be tested in non-public zones, that road tests can only be on designated streets and that a qualified person must always sit in the driver\\u2019s position, ready to take over control.Chinese regulation gives Ministry of Industry and Information Technology (MIIT), the Ministry of Public Security (MPS) and Ministry of Transport (MOT) regulatory competence.[370]Chinese regulation mandates remote monitoring capability and capacity to record, analyze and remake the incident of the test vehicles.[370]the National Rules further require that the testing applicant should have the financial capability for personal injury and property damage during the testing.Requirements for a test driver are at least a 3-years unblemished driving experience.[370]Automated vehicles are required capacity to automatically record and store information during the 90 seconds before accident or malfunction. Those data should be stored at least 3 years.[370]In 2021, China plans to add highways to the list of roads were provincial and city-level authorities can authorize automated cars.[372]In 2021, NIO manufactures cars with autonomous driving system with level similar to Tesla:[373]\\nNIO is working on a Level 2 and a Level 4 vehicle.[374]NIO has built up the NAD full stack autonomous driving capability including perception algorithms, localization, control strategy and platform software. NIO Aquila Super Sensing features 33 high-performance sensing units, including 11 8MP high-resolution cameras, 1 ultralong-range high-resolution LiDAR, 5 millimeter wave radars, 12 ultrasonic sensors, 2 high-precision positioning units, V2X and ADMS. Aquila can generate 8GB data per second. NIO Adam features 4 Nvidia Orin SoCs with a total computing power of 1,016 TOPS.[375]NIO is taking a Tesla-like approach when it comes to the autonomous driving capabilities.It will deliver safety features enabled by their autonomous driving technology as standard features, but it will charge for autonomous driving features, which are going to be offered as a subscription.Deliveries are expected to start in Q1 2022.Australia also has some ongoing trials.[377]Vehicles with higher levels of automation are not yet commercially available in Australia, although trials of these vehicles are currently underway both here and overseas.Noting this uncertainty, Australia\\u2019s transport ministers have agreed to a phased reform program to enable Level 3 \\u2018conditionally automated\\u2019 vehicles to operate safely and legally on our roads by 2020.Self-driving car liability is a developing area of law and policy that will determine who is liable when an automated car causes physical damage to persons, or breaks road rules.[1][379] When automated cars shift the control of driving from humans to automated car technology the driver will need to consent to share operational responsibility[380] which will require a legal framework. There may be a need for existing liability laws to evolve in order to fairly identify the parties responsible for damage and injury, and to address the potential for conflicts of interest between human occupants, system operator, insurers, and the public purse.[216] Increases in the use of automated car technologies (e.g. advanced driver-assistance systems) may prompt incremental shifts in this responsibility for driving. It is claimed by proponents to have potential to affect the frequency of road accidents, although it is difficult to assess this claim in the absence of data from substantial actual use.[381] If there was a dramatic improvement in safety, the operators may seek to project their liability for the remaining accidents onto others as part of their reward for the improvement.  However, there is no obvious reason why they should escape liability if any such effects were found to be modest or nonexistent, since part of the purpose of such liability is to give an incentive to the party controlling something to do whatever is necessary to avoid it causing harm. Potential users may be reluctant to trust an operator if it seeks to pass its normal liability on to others.In any case, a well-advised person who is not controlling a car at all (Level 5) would be understandably reluctant to accept liability for something out of their control. And when there is some degree of sharing control possible (Level 3 or 4), a well-advised person would be concerned that the vehicle might try to pass back control at the last seconds before an accident, to pass responsibility and liability back too, but in circumstances where the potential driver has no better prospects of avoiding the crash than the vehicle, since they have not necessarily been paying close attention, and if it is too hard for the very smart car it might be too hard for a human. Since operators, especially those familiar with trying to ignore existing legal obligations (under a motto like 'seek forgiveness, not permission'), such as Waymo or Uber, could be normally expected to try to avoid responsibility to the maximum degree possible, there is potential for attempt to let the operators evade being held liable for accidents while they are in control.As higher levels of automation are commercially introduced (Level 3 and 4), the insurance industry may see a greater proportion of commercial and product liability lines while personal automobile insurance shrinks.[382]When it comes to the direction of fully autonomous car liability, torts cannot be ignored. In any car accident the issue of negligence usually arises. In the situation of autonomous cars, negligence would most likely fall on the manufacturer because it would be hard to pin a breach of duty of care on the user who isn't in control of the vehicle. The only time negligence was brought up in an autonomous car lawsuit, there was a settlement between the person struck by the autonomous vehicle and the manufacturer (General Motors). Next, product liability would most likely cause liability to fall on the manufacturer. For an accident to fall under product liability, there needs to be either a defect, failure to provide adequate warnings, or foreseeability by the manufacturer.[383] Third, is strict liability which in this case is similar to product liability based on the design defect. Based on a Nevada Supreme Court ruling (Ford vs. Trejo) the plaintiff needs to prove failure of the manufacturer to pass the consumer expectation test.[384] That is potentially how the three major torts could function when it comes to autonomous car liability. Between manually driven vehicles (SAE Level 0) and fully autonomous vehicles (SAE Level 5), there are a variety of vehicle types that can be described to have some degree of automation. These are collectively known as semi-automated vehicles. As it could be a while before the technology and infrastructure are developed for full automation, it is likely that vehicles will have increasing levels of automation. These semi-automated vehicles could potentially harness many of the advantages of fully automated vehicles, while still keeping the driver in charge of the vehicle.[385]Drive.ai is doing a trial run in Frisco, Texas and Arlington, Texas.[citation needed]In 2020, Daimler launched the Mercedes-Benz S-Class (W223) with software ready to be downloaded over the air as soon as law permits Level 3 ALKS in 2021.[citation needed]\\nIn March 2021, Daimler's Mercedes-Benz have said they are ready to deploy Level 3 systems for highway driving.[386]In December 2020, BMW was expected to trial 7 Series as an automated car in public urban motorways of the United States, Germany and Israel before commercializing them later.[387]Although Audi had unveiled an A8 sedan with Level 3 technology in 2017, regulatory hurdles have prevented it from being widely introduced.[388][386]Japanese manufacturers were hoping to complete vehicles with Level 4 capabilities by the 2020 Summer Olympics. German manufacturers also expected to have a Level 4 vehicle ready by 2020 (both delayed due to COVID-19 pandemic).[78]Tesla claims all its new cars are equiped with hardware that will allow full self driving in the future. In October 2020 Tesla released a \\\"beta\\\" version of its \\\"Full Self-Driving\\\" software to a small group of testers in the United States;[389] however, this \\\"Full Self-Driving\\\" corresponds to level 2 autonomy.[390]The automated and occasionally sentient self-driving car story has earned its place in both literary science fiction and pop sci-fi.[391]Intelligent or self-driving cars are a common theme in science fiction literature. Examples include:\", \"Category\": \"tech\", \"Complete_Filename\": \"FileName_0\"}, {\"File_Name\": \"FileName_1\", \"Content\": \"Advanced Search See allHide authors and affiliationsEdited by Baruch Fischhoff, Carnegie Mellon University, Pittsburgh, PA, and approved November 1, 2018 (received for review April 3, 2018)Automated vehicles (AVs) already navigate US highways and those of many other nations around the world. Current questions about AVs do not now revolve around whether such technologies should or should not be implemented; they are already with us. Rather, such questions are more and more focused on how such technologies will impact evolving transportation systems, our social world, and the individuals who live within it and whether such systems ought to be fully automated or remain under some form of direct human control. More importantly, how will mobility itself change as these independent operational vehicles first share and then dominate our roadways? How will the public be kept apprised of their evolving capacities, and what will be the impact of science and the communication of scientific advances across the varying forms of social media on these developments? We look here to address these issues and to provide some suggestions for the problems that are currently emerging.Automated vehicles (AVs) are coming to our roadways. They are beginning to pose problems and issues that many of the public have not yet encountered or even witnessed. The present work addresses how the capacities and impacts of growing degrees of ground automation can be communicated to and understood by the general public. To accomplish this, we have sought to integrate our individual perspectives on the issue of AVs which feature, first, a science communication viewpoint that focuses specifically on how the traveling public can anticipate, understand, and appreciate the effects of such innovation. Our second narrative strand features a human-centered approach to the on-coming penetration of AVs, looking to understand precisely how these diverse forms of full and semiautomation will be experienced by human drivers. Finally, we conclude with an analysis of the technical challenges guiding the possible features of this wave of automation and prospective autonomy in future transportation. All three levels\\u2014public communication, human\\u2013machine interaction, and technical feasibility\\u2014coact to sculpt the coming forms of transportation. The resulting system promises to be strikingly different from its traditional and contemporary form, which has come to be accepted as the status quo for almost a century. Shared discourse, including public communications pertaining to this disruptive evolution, is critical to our collective understanding of the future we may be able to create.As of March 2018, 52 companies possessed permits to test autonomous vehicles on the roads of the State of California alone (1, 2). Self-driving vehicles represent a fast-paced field of modern technology, as companies compete for dominance in this important field of emerging transportation capacity. Nevertheless, relatively few members of the traveling public have yet experienced trips in an autonomous vehicle. This personal inexperience can make it difficult for the general populace to judge the potential utility, for good or bad, of such vehicles. The advent of the driverless car is usually portrayed as both labor saving and accident reducing. However, the societal impact of these mobile robots will certainly be more extensive than a simple change in the journey between the immediate origin and the destination. For example, in coming years it may not be necessary for individuals to own a car, especially when they can summon one from a circulating fleet using a simple portal such as a smartphone application and being fully confident that it will arrive within minutes or even seconds. This sea change in vehicle usage will have many knock-on effects. Some studies have suggested that up to 30% or more of traffic circling downtown streets is actually searching for parking (3). The search could become unnecessary when the vehicle is driving itself to pick up its next user, as some projections concerning Uber usage seem to suggest. Such functionality could free up curb space, which is becoming increasingly more important for safe pick-ups and drop-offs in already congested locations (4). These technological changes may then foreshadow a repurposing of parking structures or parking spaces within buildings to accommodate new housing, offices, or retail uses. Of course, parking concerns are not by any means the only dimension of change.The radical changes promised by AVs will have profound and extended effects on the general public. Some of these are changes we can readily anticipate; others are much less predictable. On what basis will individual members of the public judge the value of such technical innovations (5)? One prominent issue in such a discussion is what people understand an AV to be. It may well be that the general public views such vehicles as not requiring any driver input whatsoever. However, this perception fails to capture many of the major differences between proposed AVs and the present, semiautomated on-road vehicles. The latter provide various forms of driver assistance to help the driver who remains in ultimate control. Fully autonomous vehicles are designed to drive themselves. These differing forms of advancing vehicles have been categorized in a hierarchy which compares driver control versus vehicle control. The hierarchy is described in the Society of Automotive Engineers (SAE) levels of control (6, 7). Although we do not specifically discuss each of these levels here, it is vital to note that many public assumptions about advanced vehicle capabilities may be misplaced. Thus, individuals may well assume that such AVs possess much more intelligence and operational capacity than is actually the case. Such assumptions may prove critical, if not fatal.Some of the most evident proximal impacts will be on jobs and associated commuting patterns. The driverless car has the potential to make its human controller as redundant as the horse became for the horseless carriage. Truck and taxi drivers may well have to find new forms of employment, some perhaps supervising these individual vehicles from remote control call centers. However, jobs in the new transportation sector may well diminish, as they have in other sectors radically changed by automation and now emerging machine autonomy (8). It is true that some jobs will be created, e.g., in maintaining such fleets of autonomous vehicles, and access to employment for those in economically depressed regions could be improved with AV transport services. Studies (9\\u21d3\\u201311) show that, in general, societal changes resulting from the introduction of these innovations are likely to be extensive. Of course, it is likely that many human-driven vehicles will remain on the roadways for some decades to come. For those who still choose to own their own vehicle, that vehicle need not be parked and taking up space for 22 hours a day. It could be out earning money by giving rides to others. City transit agencies need to consider the arrival of the driverless car now, when plans for future transit projects are in the pipeline. Does a costly subway extension still make sense in light of these emerging transport options? Driverless cars can provide mobility to those who cannot physically drive, such as children, the disabled, or the frail elderly. However, for such populations the problems of ingress into and egress from the vehicle remain, emphasizing that mobility is more than just the car journey alone. Fuller, augmented mobility is a social amenity that can prevent the loneliness, depression, and failing quality of life that attend isolation and immobility. Perhaps such AVs will lure passengers off buses, deleteriously impacting the economics of bus operations in urban areas. These represent only a limited set of the foreseeable changes; more widespread and radical change is promised.Such enormous changes, when coupled with a still relatively limited public awareness resulting from the somewhat constrained distribution of the details of the precise nature of the technology\\u2019s development, means that it is important for all involved professionals to disseminate their work and clearly articulate the limits of their own research. Of course, with such complex issues considerable uncertainty remains about the manner in which such innovations will make both short- and long-term impacts (12). There are also further limits on science, and technology communication is itself changing rapidly, especially with the rise of the various forms of social media. Efforts to provide greater opportunities for public scrutiny of science now include avenues for scientists to publish in more popular and accessible outlets (13, 14). It may be that the days of the formal scientific journal are in relative decline. As the progressive forces of speed and utilitarianism affect the processes of research, the need to frame results in terms that the public can comprehend grows accordingly. For example, Google search terms for autonomous vehicles spike when bad news is published, such as following Uber\\u2019s fatal collision between a test vehicle and a pedestrian in March 2018 (15). The public hears details regarding accidents, but these details are not balanced by more in-depth communications regarding the underlying technical causes or the systems-level advantages of self-driving technology in particular cases and overall. These advantageous aspects include such dimensions as energy savings, overall traffic flow efficiency, mobility for the disabled, and improvements in social cohesion, to name only a few. Indeed, a recent report has observed that the general reaction to autonomous vehicle crashes is likely to be over-emphasized compared with the reaction to collisions in human-operated vehicles and that recent survey data indicate that confidence in AVs is actually slipping (16).The recent fatal Uber crash came at a critical time for the nascent self-driving vehicle sector. Less-than-perfect cars are being sent onto the roads by companies that have spent billions on research and development and are betting on their success. Uber, Waymo, and others are conducting tests in Arizona, where regulators have taken a hands-off approach to autonomous vehicles; the public there and in other states is being subjected to mass testing without possessing sufficient background contextual knowledge to understand the risks and benefits of such a public experiment. The consent of the public is largely indirect and implicit, since legislative deliberations on these technologies rarely access a public referendum. One of the few ways in which the general public presently encounters such vehicles is through the lens of legal proceedings associated with point failures (17). However, this emphasis may create inappropriate public perceptions regarding the safety dimension of these vehicles (13).An informed society is important if the public is going to make rational choices regarding cars with no human oversight. Such choices must be informed by scientific understanding of the concerns at issue and must be clearly communicated to a concerned public (18). For example, exactly how safe will such technologies have to be? In 2016 37,461 people died in motor vehicle crashes on the roads of the United States (19). Should AVs be twice as safe, which would mean they kill only 18,000 people per year, or should they be 10 times as safe? Does it matter who specifically is killed, or is this simply a matter of absolute numbers? Who should be regarded as responsible in conditions between AVs and human-controlled vehicles?The engineers developing driverless cars must consider weighty moral questions. Typically, these are considered as variations on the ethical thought experiment known as the \\u201ctrolley problem.\\u201d Should a driverless car swerve and injure one pedestrian if the alternative is to continue straight ahead and injure greater numbers? Should a driverless car protect the occupant above all else or sacrifice the human on board for the greater good in such circumstances? Most specifically, exactly how do we codify these respective ethical and moral principles into a software assembly often created by multiple designers and code developers? We believe that such problems are much more complex than the simple dichotomy expressed in the trolley problem. It is virtually certain that the resolution of such issues must go well beyond the structure of the programming itself to achieve full public acceptance (20). A study that posed such questions to several hundred workers via Amazon\\u2019s Mechanical Turk service showed that the public remains conflicted about such issues (21). People are in favor of cars that sacrifice the passenger to save other people but would not want to be passengers in a car programmed in that way. These choices are the types of scenario that engineers consider when designing their artificially intelligent machines, but a determinative public discourse and communication surrounding these issues remains lacking. Of course, at this moment most people still lack direct experience of AVs. Risk research suggests that experience and information will lead to people starting to accept AVs, but this propensity does not always hold in all contexts (20, 22). Such acceptance is contingent upon the swirl of public opinion, and such views are founded on how people experience their own interactions with essentially all forms of current technology.As perhaps the primary conduit of the physical expression of human freedom and certainly freedom of movement, transportation in its various forms plays a critical role in virtually all human societies. Mobility is arguably a human right, and when access to such a facility is diminished or denied, the associated quality of life can suffer significantly (23). Especially in the larger and later-developing nations of the world, the availability of ready transport has shaped the fabric, infrastructure, and, to some degree, even the culture of whole countries. Now the very nature of such transportation is changing (24). Since the time of the camel, the donkey, and the horse, humans have occupied the seat of control (25). Humans both have decided on the strategic mission (i.e., the desired destination) and have exercised tactical command (i.e., the momentary control of the animal or vehicle). Of course, this has not been ubiquitously the case. We have always had systems of transport in which a single driver, pilot, or captain exercises control while many others, sometimes numbering in the thousands, are passengers who simply have a passive role rather than any form of active control. There have been rudimentary forms of automation in many transport realms almost from the very beginnings of each technology. Such degrees of automation have increased in sophistication across the decades. Many segments of the transportation system have evolved in this manner with automation becoming an appreciable portion of their technical delivery. Now, however, we are creating and implementing forms of technology that intend to relieve humans of all momentary tactical control and even threaten to supersede all strategic control as well (26). As such, the present expansion is more a disruptive system change than a gradual and controlled evolution. Because disruptions effect broad change, a myriad of issues concerning the future of transport are embedded in many more broadly based questions about the role and impact of automated and autonomous systems in human life more generally (6, 27).Today\\u2019s vehicles are already technology-heavy semiautonomous systems built, in turn, by other high-tech systems engineering and production processes. In some circumstances, the coming AVs might well appear to be robots built by robots, although this is not proving ubiquitously to be the case, since many manufacturers now appear to be rediscovering the advantages of human workers. As capital costs of fabrication replace labor costs in the long arc of technical productivity enhancement, we are witnessing not simply a transfer of momentary vehicle control but also a logistical tail effect in which the production and design of those vehicles also shows shifts in decision-making authority. This latter shift of power nominally pits increasingly capable computer-mediated technologies (28, 29) against humans who are largely restricted by the limitations of their inherent capacities to assimilate ever greater tranches of information as technological, robotic progress continues apparently unabated (30). However, the form of progress that constantly features facets of growing machine superiority is not without its own subtleties and caveats. For example, some vehicle manufacturers have found that the vision of fully automated production proves less efficient and sustainable than one in which humans and machines work alongside each other. Like the operations of the innovative vehicles themselves, this could well imply that the human role is not purely vestigial but rather is one that coevolves along with the nature of the technological innovations involved. Such a proposition argues that the development of automation, rather than being a separation of human and technology, might actually represent an on-going symbiosis between humans and the technology they create (Fig. 1).A contrast between the rates of progress in capability of humans and machines over the recent industrialized epoch. Arguments that technical systems augment human abilities notwithstanding, the generalized curves are revealing. Those arguing for augmentation treat the human\\u2013machine system as the unit of analysis. However, it is clear that human and machine still remain fairly differentiated entities, despite efforts to combine them symbiotically. The equivalent start capacities and the exact nature and timing of the crossing point remain highly controversial issues, as does the future path in the combinatorial vector of progress shown in the shaded area of the figure (56, 78). AVs may represent one technology that sees a continuing physical and functional separation between humans and machines.Previous contrasts of human performance and machine performance have largely been set within the competitive rather than the cooperative perspective. Perhaps the seminal example of such a contrasting comparison derives from the now classic Fitts list (31, 32). In the Fitts report, the authors juxtaposed a series of capabilities in which either the machine or the human excelled and which by implication was performed better by one or the other. This list and those that have subsequently followed it (33) have been characterized as \\u201cMABA\\u2013MABA\\u201d (Machines Are Better At\\u2013Men Are Better At) types of analyses (Fig. 2) (34). As indicated, the essence of such comparison is one of contrast, not cooperation. Some have suggested that the very way in which these comparisons are framed is incorrect (35). Technologies can and often do augment inherent human abilities (36); thus rather than an explicit replacement of human knowledge and ability by more efficient machine functions, a partnership between them is sought. Notwithstanding these arguments, two simple curves exhibit the contrasting rates of change in human and machine capability over time (Fig. 1). From this perspective, the relative rates of change mean that machines threaten to supersede increasingly greater swathes of human capacity on an ever-accelerating curve. This eventuality is argued notably by technology optimists who reference increasing computer and robot capability and an associated decrease in the price of their operations (37). However, it must be acknowledged that precisely where we currently stand on these generalized curves has always been a matter of debate (38).The comparative lists generated by Fitts and his colleagues (31) in a 1951 report on the future of aviation. Although considered peripheral to the central focus of that report, the lists themselves and the associated graphic have been the subject of much discussion in the more than 60 y of their existence. Most especially, much attention has been paid to whether using direct comparisons provides the most useful strategy for the development of future human\\u2013machine collaboration. Such an approach exerts an important impact even today in proposals such as the SAE multiple levels of AV capacity and associated driver interaction. Reprinted from ref. 31, with permission of the Ohio State University Research Foundation.Despite the apparently contrasting trends illustrated in Fig. 1, all is not dissonance between humans and technology, of which AVs are one of the more prominent recent incarnations. For instance, it is clear that only with technology can our limited planetary resources support a world population that soon promises to exceed eight billion persons (39). Generally, the growth of automation does not result in any simple one-for-one replacement of each individual human worker, even within the purview of any particular domain of specific production. Rather the relationship is more complex, with a variegated interplay of augmentation and replacement contingent upon the innovative technology and the fiscal and socio-technical drivers that found such developments (40). In general, automation changes the fundamental nature of the remaining human work. Automation may do this in time increments that cause both benefit and hardship. These effects will be felt for decades and then across generations as economies adapt to the new added capacities (41). Today, these dynamics and influences are reaching most evidently into the multi-trillion dollar social domain of transportation.One of the proximal problems we now face concerns a quickly approaching and ever greater mix of multiple forms of vehicle control on mutually shared road systems (12, 42). For the foreseeable future many vehicles will be solely and exclusively controlled by human drivers. Indeed, with the enthusiasts\\u2019 concern for vintage vehicles, such manually controlled machines may continue to be present even in highly automated contexts. However, ever more frequently interspersed with these manually driven vehicles will be systems with some degree of shared human\\u2013machine control. Indeed, we are witnessing these systems enter into full-production vehicles at the present. In these vehicles, humans may temporarily drive while the vehicle assumes control on putatively more predictable multilane freeways or on major road arteries, e.g., where traffic contraflow is separated by barriers. The latter driving situation, which overwhelmingly demands precise control over lateral and longitudinal positioning, is especially well suited to current automation capacities (43). However, among this mix of manual and semiautomated control, fully autonomous vehicles will also emerge. This gradual turn to semiautomated and fully automated entities brings particular issues into focus (44). Fully automated systems will be under permanent computer control, never seeking human input and thus never formally possessing what we now view as an immediate driver. However, all these vehicular technologies will operate together as a community on common roadways, at least for a number of decades. This has been referred to as the \\u201cmixed equipage\\u201d or \\u201cmixed inventory\\u201d transportation state. Such mixtures of entities create their own specific problems and conflicts (45). One particularly relevant concern is the psychological concept of attribution error (46).Attribution is the individual\\u2019s ability to realize and recognize the motivations of others (47). Human attributions usually work rather successfully. However, when the attributed motivations are incorrect, they lead to cases of attribution error (48). Traditionally, this error occurs when an individual attributes to human causation what is actually the result of the situation or the environment. For example, a person may have thought that someone else\\u2019s behavior was influenced by a particular motive when, in fact, environmental factors, rather than human factors were the proximate cause of the behavior. We have considerable research concerning when and where people make attribution errors in relation to the motives of others and other motive forces (49). The open question we still face is the precise form and frequency of attribution error when humans act in conjunction with AVs on all segments of the roadway system (50). The roadway is a mutual social resource, so all actors bear shared responsibility for common citizenship (51). In present transportation conditions, such social harmony is preserved and legally mandated by the rules of the road. These rules include formal traffic-control devices and traffic laws and further involve the designed regularities of the roadway by the civil engineers responsible for their construction. Most critically, these rules are also augmented by common assumptions about how other drivers will behave in various driving contexts. While the design features of AVs will obviously evolve during the coming years, the degree to which such features conform to intrinsic human attributions concerning social behavior on the road is unlikely to be uniform (52). For AVs, such concerns fall in the interstices between design innovation and regulation, as indeed they do for virtually all forms of emerging technology. How to reconcile the speed of legislation and the speed of technological innovation has yet to be resolved.As a general proposition, human beings are effective in distilling the attributions of others. Indeed, the cohesion of society depends upon rational attribution and common ground assumptions (53). Humans driving on the roads together engage in an implicitly choreographed \\u201cdance\\u201d in which, even though some prove less than completely sensitive, the general collective functions remarkably well. However, the foundational, implicit rules are not always evident. For example, people in different countries and people who come from different cultures drive by different implicit and sometimes explicit rules; one evident example is the side of the road on which they drive. Such cultural, contextual attributions can be highly problematic for strangers to that region (54). Driverless vehicles are the ultimate strangers in our midst. They currently lack the required etiquette to operate as human beings do (55). Unlike the tourist, who at least can depend upon certain common human assumptions, AVs have highly limited access to the implicit rules of the road and access only the explicit rules with which they have been programed. They have even less access to social conventions at the human\\u2013human interaction level. Although these latter behaviors might conceivably be programed into AVs, there seem to be few efforts to do so in current production models. At the same time, driverless vehicles may be overly constrained by the formal rules of required behavior that are encoded within their logic. Thus, they may be \\u201cbullied\\u201d by some aggressive human drivers. In formal human\\u2013automation interaction terms, the affordance structures (56\\u21d3\\u201358) of humans and autonomous vehicles are presently incommensurate with one another. The term \\u201caffordance,\\u201d i.e., the relationship between an individual and the action that individual can take in the world, comes from the realm of ecological psychology. Here, we use affordance to mean what actions the driver may take given the immediate driving environment he or she is faced with (59). For example, two-lane roadways afford overtaking in certain conditions but not when an on-coming truck occupies the other lane.The dissonance between what the human knows of the driving world and what the machine is programed to do will mean that during the approaching transition period conflicts between human drivers and AVs are virtually inevitable (11, 60). While human drivers (and pedestrians) base their affordances overwhelmingly on vision, this is not necessarily true for AVs, which are informed by light detection and ranging (LIDAR), radio detection and ranging (RADAR), and vision as well as other forms of sensors. These various sensors detect other forms and frequencies of emission and so create a perceptual \\u201cworld\\u201d that can be rather different from that which humans perceive. Of course these AV sensor systems must be fused and integrated with each other such that the automated car \\u201cperceives\\u201d (i.e., assembles its sources of information in pattern-recognition assemblages) the road in a very different way than humans do. This difference is probably not advisable. This divergence of these respective human and machine affordances, and the associated dissonance of attribution, means that human drivers and automated cars are far from achieving the full degree of integration that is currently advertised on many media outlets. Of course, this issue pertains to all developing systems in which humans and automated systems process highly divergent sources of perceptual input information (61).This issue of attribution failure/error is almost certainly context specific. For example, when passing on multilane highways, there is evidence that human drivers are unable to distinguish other vehicles as being under either human or automated control. Initially, this might seem to indicate successful AV integration: Since people are unable to distinguish between the two, the AV essentially passes at least the surface level of the Turing test in this particular context. However, in such cases indistinguishability can lead to dangerous attribution errors; e.g., humans could wrongly assume that an overtaken car has machine-level perception when, in fact, it is driven by a human who has blind spots (62). These dissonant attributions and their associated errors are liable to be a problematic source of conflict as we proceed down the road to autopia. Thus, such attributions will be highly contingent on the general public\\u2019s perceptions of AVs, and such perceptions are highly susceptible to the inconsistent coverage provided by contemporary media outlets (63). Of course, attribution errors are not the only issue that beset full human\\u2013automation integration.As is always important regarding a culture-changing technical innovation, historical context can help temper both cynical and overly optimistic reactions to our near future. Research on self-driving cars is not as new as it may seem. Autonomous driving research was well underway in the early 1980s, and by 1996 multiple platforms were demonstrating significant autonomous capabilities, as evidenced by Carnegie Mellon University\\u2019s \\u201cNo Hands Across America\\u201d project, which demonstrated 96% autonomous driving from Pennsylvania to California along the nation\\u2019s highways and interstates. The reason these early successes fully two decades ago did not lead to a sea change in driving was not simply technical. As is the case today, the financial model for exactly how autonomous driving would function was uncertain. From sales and lease models to liability and tort, it was unclear how autonomous decision making in machines could be integrated into a legal and jurisprudence system designed entirely for human action and human consequence (64).A further, more nuanced concern has affected the optimism of technology adopters in this area for the past two decades. The autonomous car can demonstrate statistical success, traveling thousands of miles with reasonable accident rates in the real world. Ironically, the Achilles heel of autonomous machines is the same as their relative advantage: the lack of tactical human decision making. When facing a highly unlikely situation that is nonetheless critical, the machine can face a choice point it has never before addressed: what if a stroller runs into the street after the mother trips and falls; what if two nefarious individuals hijack the car; what if a hacker destroys the braking system; what if glare from a solar reflection blinds the sensors just as a truck passes? Furthermore, we, as human designers and users, may have absolutely no idea how that machine might respond to such novel scenarios. Humans have an empathetic understanding of how other humans behave when facing boundary circumstances. We can imagine ourselves in each scenario, and we can imagine bounds on just how we ourselves might react, but autonomous cars currently express no significant forethought. At present, such vehicles cannot provide hand gestures, they have no bodies with which to jump out of the car and coax the kitten across the street, and there are few prospects for such \\u201cindividuation\\u201d in current and envisaged production vehicles (65). AVs are, at present, sufficiently foreign that the human exercise of empathy toward them fails us: We cannot predict how they will respond to the unpredictable, and therein lies a social science challenge. How do we consider the social ramifications of objects that will pervade society when we cannot even imagine how these interactive, autonomous objects will respond to the boundary conditions that will unquestionably emerge time after time? Rare events are by definition rare, but a one-in-a-million likelihood event will happen millions of times per year if our streets are filled with self-driving machines. This rarity by frequency principle is true in many domains of engineering as well as in human behavior in general; if there are enough propositions, eventually there must be a disposition (66); if we succeed, the unlikely will happen frequently. Engineers have not yet found and may not be able to specify ways to characterize how our autonomous machines respond to the unlikely and the pathological.A second fundamental concern stems not from any form of direct public antipathy but from another fundamental aspect of statistics and robotics. Robotic devices integrated into the real world depend critically on their sensors and actuators; these are the devices that give them a tangible embeddedness in our world. However, robot sensors and actuators are not human in their resilience to contextual change. Rather tritely, face-recognition software succeeds well, except when it fails. If there are issues of glare, backlighting, sunglasses, blur, or even busy backgrounds, then face recognition often proves unreliable. Fundamental to autonomy is the need to preserve operational success even as context changes and the assimilated information degrades in quality and utility; however, the range of environmental changes that a self-driving car can encounter are extreme. Such real-world challenges are often set in juxtaposition to the laboratory settings in today\\u2019s research parks and university laboratories where so many autonomy sensors, computational algorithms, and actuators are born. Autonomous cars have indeed driven millions of miles on California and Nevada highways. What, however, does this really tell us about the suitability of driverless algorithms and hardware for national deployment? Road systems vary dramatically across the United States, as well as in other counties around the world. Furthermore, weather conditions in the rest of the United States are significantly worse for the sensors that depend especially on visual understanding of the environment. Heavy rain or snow and poor road markings cause major damage to the vision algorithms in numerous cars today.Even worse we humans, as designers, engineers, and consumers, can fall short in \\u201cengineering empathy\\u201d or \\u201ctechnological attribution\\u201d in understanding just how and when weather, lighting, topology, and urban clutter threaten autonomy. As long as autonomy is imperfect, the challenge to the human\\u2013systems integration remains. Human occupants in driverless cars under this imperative will retain a role similar to that of the ultimate pilot-in-command because their intervention will eventually be required at some juncture as automation fails. It may be that human intervention need not necessarily be from inside the vehicle; instead, as in emerging drone technology, the physical location of the human controller can be remote from the actual vehicle itself (67). Regardless of the specific spatial relations between controller and vehicle, the human operator will require levels of effective situation awareness calibrated to ambient environmental demands at all times because the point at which any such human intervention will be required remains unpredictable as yet. Again, this raises the specter of prolonged vigilance and its well-known decrement and response failure (68, 69). This human-as-backup architecture, which removes the person from momentary control and instead places him or her in a supervisory context, in many ways defeats the very idea of automation in the first place. While this might be seen as a necessary transition phase (6), it will be important to move to full automation quickly, so that the public\\u2019s expectation of hands-free and responsibility-free personal transportation is fulfilled. Retaining the human in a state of momentary readiness to extract the failing automation from its shortfalls is liable to be not merely unpopular but a major reason for rejecting some forms of shared control in the evolution of AVs.Of course, it may be possible to engage differing forms of \\u201csmart\\u201d infrastructure to share these control burdens, but this raises the difficult issue of what parts of the transport system are publicly owned and supported versus the private vehicles that benefit from such social investments. Such discussions are themselves framed within the wider context of an emerging, integrated origin-to-destination\\u2013oriented transport system (70). Suffice it to note that many sources of brittleness in the technical system require attention as momentary control passes beyond human hands, if indeed that is the final design goal of these advancing systems.Autopilot control systems in both private and commercial aircraft provide an informative comparison with ground AVs, but there are some significant differences between the contexts. First, in general, airplanes in the sky face circumstances that present somewhat fewer moment-to-moment dynamic changes and a less diverse range of such challenges than those faced by cars on terra firma. Second, commercial aircraft still have not one but two humans ready to respond with what is anticipated to be high levels of situation awareness. It is clearly now feasible to make a fully autonomous commercial aircraft, an airliner drone. However, the cost of doing so and demonstrating its absolute safety may well be prohibitive in our current risk-averse climate. As systems become increasingly more complex, our ability to test their responses to all possible states diminishes accordingly, and we quickly reach a point at which it becomes literally impossible to exhaustively test the system as a whole. We then are left with an alternative: to conduct a restricted set of sample-based testing, trying to derive general conclusions from partial evaluation coverage and create resilience by keeping at least one or more humans in the loop (71). The current belief that a human or a team of humans would be capable of innovative, on-the-job problem solving remains persuasive. Humans are not so obviously constrained by the rules written into formal software or by the purely mechanistic limitations of the sensors and effectors of contemporary hardware. Thus it is more than probable that during any extended transition period our semiautomated ground vehicles can and will behave very much like contemporary airborne systems. Whether we will need graded licenses to operate these varying forms of automated has yet to be determined. Precedent argues against such a course.Of course, this shared control and shared responsibility type of activity is only one of many forms of operation that will be present at any one time. Presently, Uber states that it will field a team of remote human drivers, while Waymo claims to have no need of such support services. Whether shared responsibility is an obligatory phase of development or whether a significant portion of ground transportation can jump to full automation is contingent upon many forces beyond the technical alone (e.g., financial/marketing constraints). The degree to which technological evolution will proceed via gradual change or jump to a new stable state (punctate equilibrium) (72) is still uncertain. Of course, one form of technology may exhibit gradualism while another allied technology vaults forward. That being so, perhaps we should expect a chequered pattern of development of AVs and their on-road operations. It is unlikely that the failure of one sort of AV would prejudice public opinion against all other forms of AV. In comparable terms, the failure of one company\\u2019s personal digital assistant does not spread immediately to all versions of smart phones or similar, allied technologies.Examples of boundary conditions can often remind us of the unique value of human innovativeness. Ironically, it is human ingenuity that can give us the examples that require a human common-sense response. A relevant and recent example comes from the computer vision research team that demonstrated the \\u201c45 mph stop sign.\\u201d They created small graffiti modifications of a standard octagonal red stop sign and showed that a remarkably small number of black stickers placed in precise positions on a stop sign accomplish two outcomes simultaneously: to humans, the stickers look like simple graffiti and in no way diminish the ability to discern the stop sign, but to the computer\\u2019s vision system (as determined by researchers\\u2019 tests derived from self-driving car software) the very same modified stop sign appears reliably to be a 45-mile-per-hour speed-limit sign. This example is crucial because we are surprised by the computer\\u2019s mistake and because, as humans, we expect errors to be small deviations from our own norm, not large reversals of interpretation. Collectively we may be surprised if we assume that machine errors follow human patterns of error. They definitively do not. Rather, we must see autonomous machines as true social aliens. They are responsive agents in our universe, but they are nonhuman. They will succeed in ways that are not human, and they also will fail in ways that have nothing to do with how we fail. This prevents us, as nonexperts, from intuitively placing boundaries on the ways in which we expect autonomy to fail gracefully.Therein lies the grand social challenge of our time vis-a-vis autonomy. AVs may statistically perform more safely than humanity, but are we as humans prepared to live in a world in which failure and degradation appear, from our human perspective, to be random and extreme compared with our comparative expectations of human fallibilities? That is a challenge for systems engineering, for engineering design, and especially for the science of human\\u2013machine integration. Progress, especially in this last-mentioned area of inquiry, is not keeping pace with that in the field of computer science or with computational capacity in general. The fundamental problem here is the complexity of understanding human cognition itself. Hence, our desire to innovate responsibly will demand a renewed focus on understanding the societal ramifications of innovation\\u2014innovation that is fast but whose integration into society requires us to resolve issues that are not solely engineering challenges but are transdisciplinary social concerns that can be nuanced, complex, and comparatively slow in developing.In the prior sections, we discussed some of the current and forthcoming challenges that face the integration of driverless vehicles into modern transportation. Having identified such problems, it is incumbent upon us to offer some avenues for research and public engagement that can help us identify and implement more robust deployments. Two vital elements here concern calibrated operator trust and communicated transparency. For the former, design processes should seek to design explicitly for appropriate levels of trust by human occupants in light of the known reliability of the automation (73, 74). This goal is difficult, but achieving it is critical. It is difficult because we are still finding our way in understanding the contextual reliability of differing forms of automation and semiautomation offered by various manufacturers. It is critical, because if there is insufficient human trust in autonomous and semiautonomous systems, there will be both little usage and chronic misuse (75). The company that establishes the most effective calibration of trust, as a result of the highest perceived and actual reliability of their product, will be best placed in this emerging market, that is, assuming the market does not collapse if there is a catastrophic loss of public trust. Transparency is a property of the machine by which it clearly signals both its near- and long-term intent (76). To a degree, vehicles already possess such capacities in various rudimentary forms. For example, displays inside the vehicle already show the driver various states of engine function, gas tank status, and the like. Externally, there are existing but limited techniques for informing other agents of vehicle intent via displays such as turn signals (77). All of these express intent, albeit currently on a rather low level. Such communications, via increasingly information-rich interactions, will greatly enhance vehicle-to-vehicle and vehicle-to-infrastructure conversation capacities.Trust is already a central theme in the public debate about driverless transportation. Acceptance of any technology requires trust. Quite often new technologies fail to deliver on their promises, either because of the hyperbolic nature of those promises or because their software systems were insufficiently tested and debugged for rich, real-world interaction (78). However, the vehicle is an order of magnitude different from most electronic orthotics. The failure of a telephone or a computer can be annoying and frustrating, and sometimes such failures do even put lives at risk, but on our roadways human lives are always at risk. So, as the risks associated with a momentary failure of interaction increase in proportion to the incipient threat in the environment, the importance of trust grows in lock step. Given that even present-day production vehicles are partial robots, how people come to employ, evaluate, and appropriately trust their robot vehicles will remain a major factor in their greater public acceptance (79). This is centrally a challenge of design, test, and evaluation in conjunction with increasingly widespread public usage.The trial of trust is further magnified by the fact that these vehicular robots will become more complex as they attempt to function safely in more challenging future contexts, such as dense urban driving. This complexity, in turn, easily outpaces the knowledge level of many of the stakeholders throughout the transportation community. The speed with which new technological innovations increase the gap between stakeholders\\u2019 intuition regarding vehicles and the reality of what is fielded in our laboratory cities exacerbates an already critical problem. We cannot expect the appropriate form of regulation and policy-setting leadership that is sorely needed until those in a decision-making role possess the appropriate technological fluency and the time to apply it (80). By \\u201cfluency\\u201d we mean a combination of common semantic grounds for discourse, an awareness of the state of the art, and the critical inquiry skills required to make sense of this new technology. Even then, autonomous systems are still liable to manifest unforeseen positive and negative societal consequences, especially as these transportation advances are linked with other interactive complex systems in society (e.g., the service industry). Fluency itself is a two-way street in which designers, fabricators, manufacturers, and vendors of these emerging systems need to explicate their products in a way that can be understood by legislators and the public alike. Although vital, trust is by no means the only factor involved in such complex decision-making processes; there have been numerous important studies of these constellations of differing influences on decision making (18, 20). We need a new way in which to integrate expertise with decision-making discourse and to nurture trust (16, 81\\u21d3\\u201383). Expertise must itself be trustworthy\\u2014not a technical advisor serving at the pleasure of a corporation but rather outreach providing the technology fluency that enables elected officials, civil servants, and the public to engage in meaningful discourse regarding our shared human\\u2013technology future (82). In light of the foregoing arguments, we advocate that such an independent scientific body, allied to current transportation regulatory bodies, be created to address the specific concerns of emerging ground-transportation technologies and most especially the issues associated with AVs. Such a group would still face issues in determining how to communicate technical information for general public scrutiny and why such effective information brokerage is so difficult to fully achieve (84).The advent of AVs on the busy roadways of the world\\u2019s nations represents a sea change in the way human transportation is conceived and enacted. We are now witnessing an epoch of significant transition in which active control of the vehicle is being taken from the human driver and placed within the charge of the on-board computer systems themselves (85). This transition is reflected in the disparate strategies of current vehicle production companies. Some of the newer manufacturers view the car as a computer that just happens to have wheels, and they have gotten into the business because they are computer companies. Other, more traditional manufacturers persist with driver-centered conceptions. For these traditional names in the motor industry the human, although augmented by numerous assistive systems, remains at the center of the design architecture. Powerful social forces will determine the outcome of these conflicting visions. Of course, there is no reason that the differing forms of vehicle control cannot exist side-by-side on the road and still function effectively. Such a mixture of vestigial artifacts alongside innovative creations often epitomizes much of technology\\u2019s progress. As greater concern is focused on end-to-end (i.e., starting point to end destination) functionality, the precise incarnation of each part of the journey is liable to be sublimated to the overall purpose. So the car-to-airport, elevator-to-gate, and flight-to-destination routes each requires purposefully directed movement, but now the journey itself is the thing, not the car, elevator, or aircraft per se. In such an integrated world, the AV will take its place alongside these many other modes of transport (e.g., elevators, escalators, bicycles, and ships, among others) that contribute to the ultimate purpose of movement. In this way, we are witnessing the emergence of an integrated transportation infrastructure, and the questions regarding the automation of any one part of the journey represent only a single facet of this much greater concern.Much ink and much ire has been expended in championing automation as a flawless answer to the continuing carnage of road traffic injuries and deaths. Although it is a laudable goal within itself, it is doubtful whether such a grandiose claim is actually testable or realizable (11, 86). Similar objections can be raised for the claims of greater efficiency, since the pertinent question here is at what level should this efficiency be measured\\u2014at the systemic level, or is the claim advanced for each vehicle and person on the roadway? It may well be that all AVs will adhere to the speed limit, but then how does the anxious husband get his pregnant wife to the emergency room? Questions regarding exceptional social conditions go well beyond algorithmic oversight of lateral and longitudinal control. They illustrate one very stark fact: When we change the face of transportation in the manner that is being proposed, we will change the nature of society itself (7). Whether we are prepared for such a radical evolutionary step remains to be seen.We thank the three anonymous reviewers whose detailed and extensive comments have served to improve significantly the revised work and Dr. Jessica Cruit, Dr. Kristy Snyder, Dr. Frances Martinez, and Dr. Gabriella Hancock for helpful observations on various early versions of this paper.Author contributions: P.A.H., I.N., and J.S. wrote the paper.The authors declare no conflict of interest.This paper results from the Arthur M. Sackler Colloquium of the National Academy of Sciences, \\u201cThe Science of Science Communication III\\u201d held November 16\\u201317, 2017, at the National Academy of Sciences in Washington, DC. The complete program and audio files of most presentations are available on the NAS Web site at www.nasonline.org/Science_Communication_III.This article is a PNAS Direct Submission.Published under the PNAS license.Thank you for your interest in spreading the word on PNAS.NOTE: We only request your email address so that the person you are recommending the page to knows that you wanted them to see it, and that it is not junk mail. We do not capture any email address.SubmitFeedback\\u00a0\\u00a0\\u00a0\\u00a0Privacy/LegalCopyright \\u00a9 2021 National Academy of Sciences. Online ISSN 1091-6490. PNAS is a partner of CHORUS, COPE, CrossRef, ORCID, and Research4Life.\", \"Category\": \"tech\", \"Complete_Filename\": \"FileName_1\"}, {\"File_Name\": \"FileName_2\", \"Content\": \"A self-driving car (sometimes called an autonomous car or driverless car) is a vehicle that uses a combination of sensors, cameras, radar and artificial intelligence (AI) to travel between destinations without a human operator. To qualify as fully autonomous, a vehicle must be able to navigate without human intervention to a predetermined destination over roads that have not been adapted for its use.Companies developing and/or testing autonomous cars include Audi, BMW, Ford, Google, General Motors, Tesla, Volkswagen and Volvo. Google's test involved a fleet of self-driving cars -- including Toyota Prii and an Audi TT -- navigating over 140,000 miles of California streets and highways.AI technologies power self-driving car systems. Developers of self-driving cars use vast amounts of data from\\u00a0image recognition\\u00a0systems, along with\\u00a0machine learning\\u00a0and\\u00a0neural networks, to build systems that can drive autonomously.The neural networks identify patterns in the data, which is fed to the machine learning algorithms. That data includes images from cameras on self-driving cars from which the neural network learns to identify traffic lights, trees, curbs, pedestrians, street signs and other parts of any given driving environment.For example, Google's self-driving car project, called Waymo, uses a mix of sensors,\\u00a0Lidar\\u00a0(light detection and ranging -- a technology similar to\\u00a0RADAR) and cameras and combines all of the data those systems generate to identify everything around the vehicle and predict what those objects might do next. This happens in fractions of a second. Maturity is important for these systems. The more the system drives, the more data it can incorporate into its deep learning algorithms, enabling it to make more nuanced driving choices.The following outlines how Google Waymo vehicles work:Google's Waymo project is an example of a self-driving car that is almost entirely autonomous. It still requires a human driver to be present but only to override the system when necessary. It is not self-driving in the purest sense, but it can drive itself in ideal conditions. It has a high level of autonomy. Many of the cars available to consumers today have a lower level of autonomy but still have some self-driving features. The self-driving features that are available in many production cars as of 2019 include the following:The U.S. National Highway Traffic Safety Administration (NHTSA) lays out six levels of automation, beginning with Level 0, where humans do the driving, through\\u00a0driver assistance\\u00a0technologies up to fully autonomous cars. Here are the five levels that follow Level 0 automation:As of 2019, carmakers have reached Level 4. Manufacturers must clear a variety of technological milestones, and several important issues must be addressed before fully autonomous vehicles can be purchased and used on public roads in the United States. Even though cars with Level 4 autonomy aren't available for public consumption, they are in used in other ways.For example, Google's Waymo partnered with Lyft to offer a fully autonomous commercial ride-sharing service called Waymo One. Riders can hail a self-driving car to bring them to their destination and provide feedback to Waymo. The cars still include a safety driver in case the ADS needs to be overridden. The service is only available in the Metro Phoenix area as of late 2019 but is looking to expand to cities in Florida and California.Autonomous street-sweeping vehicles are also being produced in China's Hunan province, meeting the Level 4 requirements for independently navigating a familiar environment with limited novel situations.Projections from manufacturers vary on when Level 4 and 5 vehicles will be widely available. Ford and Volvo both project a 2021 release of a Level 4 vehicle for public consumption. Tesla CEO Elon Musk, being a pioneer of both self-driving and electric cars, has claimed that his company will have Level 5 vehicles ready as early as 2020. A successful Level 5 car must be able to react to novel driving situations as well or better than a human can.The top benefit touted by autonomous vehicle proponents is safety. A U.S.\\u00a0Department of Transportation\\u00a0(DOT) and NHTSA statistical projection of traffic fatalities for 2017 estimated that 37,150 people died in motor vehicle traffic accidents that year. NHTSA estimated that 94% of serious crashes are due to human error or poor choices, such as drunk or distracted driving. Autonomous cars remove those risk factors from the equation -- though self-driving cars are still vulnerable to other factors, such as mechanical issues, that cause crashes.If autonomous cars can significantly reduce the number of crashes, the economic benefits could be enormous. Injuries impact economic activity, including $57.6 billion in lost workplace productivity and $594 billion due to loss of life and decreased quality of life due to injuries, according to NHTSA.In theory, if the roads were mostly occupied by autonomous cars, traffic would flow smoothly, and there would be less traffic congestion. In fully automated cars, the occupants could do productive activities while commuting to work. People who aren't able to drive due to physical limitations could find new independence through autonomous vehicles and would have the opportunity to work in fields that require driving.Autonomous trucks have been tested in the U.S. and Europe to enable drivers to use autopilot over long distances, freeing the driver to rest or complete tasks and improving driver safety and fuel efficiency. This initiative, called truck platooning, is powered by ACC, collision avoidance systems and\\u00a0vehicle-to-vehicle communications\\u00a0for cooperative ACC (CACC).The downsides of self-driving technology could be that riding in a vehicle without a driver behind the steering wheel may be unnerving -- at least at first. But, as self-driving capabilities become commonplace, human drivers may become overly reliant on the autopilot technology and leave their safety in the hands of automation, even when they should act as backup drivers in case of software failures or mechanical issues.In one example from March 2018,\\u00a0Tesla's\\u00a0Model X sport utility vehicle (SUV) was on autopilot when it crashed into a highway lane divider. The driver's hands were not on the wheel, despite visual warnings and an audible warning to put his hands back on the steering wheel, according to the company. Another crash occurred when a Tesla's AI mistook the side of a truck's shiny reflection for the sky.Autonomous cars must learn to identify countless objects in the vehicle's path, from branches and litter to animals and people. Other challenges on the road are tunnels that interfere with the Global Positioning System (GPS), construction projects that cause lane changes or complex decisions, like where to stop to allow emergency vehicles to pass.The systems need to make instantaneous decisions on when to slow down, swerve or continue acceleration normally. This is a continuing challenge for developers, and there are reports of self-driving cars hesitating and swerving unnecessarily when objects are detected in or near the roadways.This problem was evident in a fatal accident in March 2018, which involved an autonomous car operated by Uber. The company reported that the vehicle's software identified a pedestrian but deemed it a false positive and failed to swerve to avoid hitting her. This crash caused Toyota to temporarily cease its testing of self-driving cars on public roads, but its testing will continue elsewhere. The Toyota Research Institute is constructing a test facility on a 60-acre site in Michigan to further develop automated vehicle technology.With crashes also comes the question of liability, and lawmakers have yet to define who is liable when an autonomous car is involved in an accident. There are also serious concerns that the software used to operate autonomous vehicles can be hacked, and automotive companies are working to address\\u00a0cybersecurity\\u00a0risks.Carmakers are subject to Federal Motor Vehicle Safety Standards (FMVSS), and NHTSA reported that more work must be done for vehicles to meet those standards.In China, carmakers and regulators are adopting a different strategy to meet standards and make self-driving cars an everyday reality. The Chinese government is beginning to redesign urban landscapes, policy and infrastructure to make the environment more self-driving car-friendly. This includes writing rules about how humans move around and recruiting mobile network operators to take on a portion of the processing required to give self-driving vehicles the data they need to navigate. \\\"National Test Roads\\\" would be implemented. The autocratic nature of the Chinese government makes this possible, which bypasses the litigious democracy that tests are funneled through in America.The path toward self-driving cars began with incremental automation features for safety and convenience before the year 2000, with cruise control and antilock brakes. After the turn of the millennium, advanced safety features, including electronic stability control, blind-spot detection, and collision and lane shift warnings, became available in vehicles. Between 2010 and 2016, advanced driver assistance capabilities, such as rearview video cameras, automatic emergency brakes and lane-centering assistance, emerged, according to NHTSA.Since 2016, self-driving cars have moved toward partial autonomy, with features that help drivers stay in their lane, along with ACC technology and the ability to self-park.Fully automated vehicles are not publicly available yet and may not be for many years. In the U.S., NHTSA provides federal guidance for introducing ADSes onto public roads and, as autonomous car technologies advance, so will the department's guidance.Self-driving cars are not yet legal on most roads. In June 2011, Nevada became the first jurisdiction in the world to allow driverless cars to be tested on public roadways; California, Florida, Ohio and Washington, D.C., have followed in the years since.The history of driverless cars goes back much further than that. Leonardo da Vinci designed the first\\u00a0prototype\\u00a0around 1478.\\u00a0Da Vinci's car\\u00a0was designed as a self-propelled robot powered by springs, with programmable steering and the ability to run preset courses.Increased investment in analytics and proliferation of data science capabilities are among the most significant ongoing trends in...Tableau 2021.3 doesn't include fancy new AI or machine learning features, instead focusing on capabilities that enable ...As relational databases struggle with scale, one graph database vendor says a paradigm shift is underway and aims to make graph ...A new law in South Korea enables developers to use payment systems outside those offered by app store platform providers. One ...With new data privacy regulations like China's personal data protection law coming down the pike, CIOs need to make privacy and ...In this week's antitrust roundup, South Korean officials focus in on Apple and Google app store practices, while U.S. officials ...A data practitioner has two jobs: tell the right data story and in the right way to win over project stakeholders, data expert ...Investors are super confident in the growth potential for cloud data management and analytics as the impact of the Snowflake IPO ...This quiz will test your knowledge of Hadoops basics including framework, capabilities and related technologies.TechTarget editors discuss efforts to remove bias from AI and why algorithm auditing could be a fix -- provided challenges ...The ERP sales and marketing messaging can obscure issues around cloud maturity and other important information. Use this expert ...In this Q&A, Pritam Dutta of ArcLight Consulting explains why some ERP cloud migrations run into trouble, and how integrating HCM...All Rights Reserved, \\nCopyright 2018 - 2021, TechTarget\\n\\n\\nPrivacy Policy\\n\\n\\n\\nCookie Preferences \\n\\n\\n\\nDo Not Sell My Personal Info\", \"Category\": \"tech\", \"Complete_Filename\": \"FileName_2\"}, {\"File_Name\": \"FileName_3\", \"Content\": \"A self-driving car (sometimes called an autonomous car or driverless car) is a vehicle that uses a combination of sensors, cameras, radar and artificial intelligence (AI) to travel between destinations without a human operator. To qualify as fully autonomous, a vehicle must be able to navigate without human intervention to a predetermined destination over roads that have not been adapted for its use.Companies developing and/or testing autonomous cars include Audi, BMW, Ford, Google, General Motors, Tesla, Volkswagen and Volvo. Google's test involved a fleet of self-driving cars -- including Toyota Prii and an Audi TT -- navigating over 140,000 miles of California streets and highways.AI technologies power self-driving car systems. Developers of self-driving cars use vast amounts of data from\\u00a0image recognition\\u00a0systems, along with\\u00a0machine learning\\u00a0and\\u00a0neural networks, to build systems that can drive autonomously.The neural networks identify patterns in the data, which is fed to the machine learning algorithms. That data includes images from cameras on self-driving cars from which the neural network learns to identify traffic lights, trees, curbs, pedestrians, street signs and other parts of any given driving environment.For example, Google's self-driving car project, called Waymo, uses a mix of sensors,\\u00a0Lidar\\u00a0(light detection and ranging -- a technology similar to\\u00a0RADAR) and cameras and combines all of the data those systems generate to identify everything around the vehicle and predict what those objects might do next. This happens in fractions of a second. Maturity is important for these systems. The more the system drives, the more data it can incorporate into its deep learning algorithms, enabling it to make more nuanced driving choices.The following outlines how Google Waymo vehicles work:Google's Waymo project is an example of a self-driving car that is almost entirely autonomous. It still requires a human driver to be present but only to override the system when necessary. It is not self-driving in the purest sense, but it can drive itself in ideal conditions. It has a high level of autonomy. Many of the cars available to consumers today have a lower level of autonomy but still have some self-driving features. The self-driving features that are available in many production cars as of 2019 include the following:The U.S. National Highway Traffic Safety Administration (NHTSA) lays out six levels of automation, beginning with Level 0, where humans do the driving, through\\u00a0driver assistance\\u00a0technologies up to fully autonomous cars. Here are the five levels that follow Level 0 automation:As of 2019, carmakers have reached Level 4. Manufacturers must clear a variety of technological milestones, and several important issues must be addressed before fully autonomous vehicles can be purchased and used on public roads in the United States. Even though cars with Level 4 autonomy aren't available for public consumption, they are in used in other ways.For example, Google's Waymo partnered with Lyft to offer a fully autonomous commercial ride-sharing service called Waymo One. Riders can hail a self-driving car to bring them to their destination and provide feedback to Waymo. The cars still include a safety driver in case the ADS needs to be overridden. The service is only available in the Metro Phoenix area as of late 2019 but is looking to expand to cities in Florida and California.Autonomous street-sweeping vehicles are also being produced in China's Hunan province, meeting the Level 4 requirements for independently navigating a familiar environment with limited novel situations.Projections from manufacturers vary on when Level 4 and 5 vehicles will be widely available. Ford and Volvo both project a 2021 release of a Level 4 vehicle for public consumption. Tesla CEO Elon Musk, being a pioneer of both self-driving and electric cars, has claimed that his company will have Level 5 vehicles ready as early as 2020. A successful Level 5 car must be able to react to novel driving situations as well or better than a human can.The top benefit touted by autonomous vehicle proponents is safety. A U.S.\\u00a0Department of Transportation\\u00a0(DOT) and NHTSA statistical projection of traffic fatalities for 2017 estimated that 37,150 people died in motor vehicle traffic accidents that year. NHTSA estimated that 94% of serious crashes are due to human error or poor choices, such as drunk or distracted driving. Autonomous cars remove those risk factors from the equation -- though self-driving cars are still vulnerable to other factors, such as mechanical issues, that cause crashes.If autonomous cars can significantly reduce the number of crashes, the economic benefits could be enormous. Injuries impact economic activity, including $57.6 billion in lost workplace productivity and $594 billion due to loss of life and decreased quality of life due to injuries, according to NHTSA.In theory, if the roads were mostly occupied by autonomous cars, traffic would flow smoothly, and there would be less traffic congestion. In fully automated cars, the occupants could do productive activities while commuting to work. People who aren't able to drive due to physical limitations could find new independence through autonomous vehicles and would have the opportunity to work in fields that require driving.Autonomous trucks have been tested in the U.S. and Europe to enable drivers to use autopilot over long distances, freeing the driver to rest or complete tasks and improving driver safety and fuel efficiency. This initiative, called truck platooning, is powered by ACC, collision avoidance systems and\\u00a0vehicle-to-vehicle communications\\u00a0for cooperative ACC (CACC).The downsides of self-driving technology could be that riding in a vehicle without a driver behind the steering wheel may be unnerving -- at least at first. But, as self-driving capabilities become commonplace, human drivers may become overly reliant on the autopilot technology and leave their safety in the hands of automation, even when they should act as backup drivers in case of software failures or mechanical issues.In one example from March 2018,\\u00a0Tesla's\\u00a0Model X sport utility vehicle (SUV) was on autopilot when it crashed into a highway lane divider. The driver's hands were not on the wheel, despite visual warnings and an audible warning to put his hands back on the steering wheel, according to the company. Another crash occurred when a Tesla's AI mistook the side of a truck's shiny reflection for the sky.Autonomous cars must learn to identify countless objects in the vehicle's path, from branches and litter to animals and people. Other challenges on the road are tunnels that interfere with the Global Positioning System (GPS), construction projects that cause lane changes or complex decisions, like where to stop to allow emergency vehicles to pass.The systems need to make instantaneous decisions on when to slow down, swerve or continue acceleration normally. This is a continuing challenge for developers, and there are reports of self-driving cars hesitating and swerving unnecessarily when objects are detected in or near the roadways.This problem was evident in a fatal accident in March 2018, which involved an autonomous car operated by Uber. The company reported that the vehicle's software identified a pedestrian but deemed it a false positive and failed to swerve to avoid hitting her. This crash caused Toyota to temporarily cease its testing of self-driving cars on public roads, but its testing will continue elsewhere. The Toyota Research Institute is constructing a test facility on a 60-acre site in Michigan to further develop automated vehicle technology.With crashes also comes the question of liability, and lawmakers have yet to define who is liable when an autonomous car is involved in an accident. There are also serious concerns that the software used to operate autonomous vehicles can be hacked, and automotive companies are working to address\\u00a0cybersecurity\\u00a0risks.Carmakers are subject to Federal Motor Vehicle Safety Standards (FMVSS), and NHTSA reported that more work must be done for vehicles to meet those standards.In China, carmakers and regulators are adopting a different strategy to meet standards and make self-driving cars an everyday reality. The Chinese government is beginning to redesign urban landscapes, policy and infrastructure to make the environment more self-driving car-friendly. This includes writing rules about how humans move around and recruiting mobile network operators to take on a portion of the processing required to give self-driving vehicles the data they need to navigate. \\\"National Test Roads\\\" would be implemented. The autocratic nature of the Chinese government makes this possible, which bypasses the litigious democracy that tests are funneled through in America.The path toward self-driving cars began with incremental automation features for safety and convenience before the year 2000, with cruise control and antilock brakes. After the turn of the millennium, advanced safety features, including electronic stability control, blind-spot detection, and collision and lane shift warnings, became available in vehicles. Between 2010 and 2016, advanced driver assistance capabilities, such as rearview video cameras, automatic emergency brakes and lane-centering assistance, emerged, according to NHTSA.Since 2016, self-driving cars have moved toward partial autonomy, with features that help drivers stay in their lane, along with ACC technology and the ability to self-park.Fully automated vehicles are not publicly available yet and may not be for many years. In the U.S., NHTSA provides federal guidance for introducing ADSes onto public roads and, as autonomous car technologies advance, so will the department's guidance.Self-driving cars are not yet legal on most roads. In June 2011, Nevada became the first jurisdiction in the world to allow driverless cars to be tested on public roadways; California, Florida, Ohio and Washington, D.C., have followed in the years since.The history of driverless cars goes back much further than that. Leonardo da Vinci designed the first\\u00a0prototype\\u00a0around 1478.\\u00a0Da Vinci's car\\u00a0was designed as a self-propelled robot powered by springs, with programmable steering and the ability to run preset courses.Increased investment in analytics and proliferation of data science capabilities are among the most significant ongoing trends in...Tableau 2021.3 doesn't include fancy new AI or machine learning features, instead focusing on capabilities that enable ...As relational databases struggle with scale, one graph database vendor says a paradigm shift is underway and aims to make graph ...A new law in South Korea enables developers to use payment systems outside those offered by app store platform providers. One ...With new data privacy regulations like China's personal data protection law coming down the pike, CIOs need to make privacy and ...In this week's antitrust roundup, South Korean officials focus in on Apple and Google app store practices, while U.S. officials ...A data practitioner has two jobs: tell the right data story and in the right way to win over project stakeholders, data expert ...Investors are super confident in the growth potential for cloud data management and analytics as the impact of the Snowflake IPO ...This quiz will test your knowledge of Hadoops basics including framework, capabilities and related technologies.TechTarget editors discuss efforts to remove bias from AI and why algorithm auditing could be a fix -- provided challenges ...The ERP sales and marketing messaging can obscure issues around cloud maturity and other important information. Use this expert ...In this Q&A, Pritam Dutta of ArcLight Consulting explains why some ERP cloud migrations run into trouble, and how integrating HCM...All Rights Reserved, \\nCopyright 2018 - 2021, TechTarget\\n\\n\\nPrivacy Policy\\n\\n\\n\\nCookie Preferences \\n\\n\\n\\nDo Not Sell My Personal Info\", \"Category\": \"tech\", \"Complete_Filename\": \"FileName_3\"}, {\"File_Name\": \"FileName_4\", \"Content\": \"An autonomous car is a vehicle capable of sensing its environment and operating without human involvement. A human passenger is not required to take control of the vehicle at any time, nor is a human passenger required to be present in the vehicle at all. An autonomous car can go anywhere a traditional car goes and do everything that an experienced human driver does.The Society of Automotive Engineers (SAE) currently defines 6 levels of driving automation ranging from Level 0 (fully manual) to Level 5 (fully autonomous). These levels have been adopted by the U.S. Department of Transportation.\\u00a0The SAE uses the term automated instead of autonomous. One reason is that the word autonomy has implications beyond the electromechanical. A fully autonomous car would be self-aware and capable of making its own choices. For example, you say \\u201cdrive me to work\\u201d but the car decides to take you to the beach instead. A fully automated car, however, would follow orders and then drive itself.The term self-driving is often used interchangeably with autonomous. However, it\\u2019s a slightly different thing. A self-driving car can drive itself in some or even all situations, but a human passenger must always be present and ready to take control. Self-driving cars would fall under Level 3 (conditional driving automation) or Level 4 (high driving automation). They are subject to geofencing, unlike a fully autonomous Level 5 car that could go anywhere.Autonomous cars rely on sensors, actuators, complex algorithms, machine learning systems, and powerful processors to execute software.Autonomous cars create and maintain a map of their surroundings based on a variety of sensors situated in different parts of the vehicle. Radar sensors monitor the position of nearby vehicles. Video cameras detect traffic lights, read road signs, track other vehicles, and look for pedestrians. Lidar (light detection and ranging) sensors bounce pulses of light off the car\\u2019s surroundings to measure distances, detect road edges, and identify lane markings. Ultrasonic sensors in the wheels detect curbs and other vehicles when parking.Sophisticated software then processes all this sensory input, plots a path, and sends instructions to the car\\u2019s actuators, which control acceleration, braking, and steering. Hard-coded rules, obstacle avoidance algorithms, predictive modeling, and object recognition help the software follow traffic rules and navigate obstacles.Fully autonomous (Level 5) cars are undergoing testing in several pockets of the world, but none are yet available to the general public.\\u00a0We\\u2019re still years away from that. The challenges range from the technological and legislative to the environmental and philosophical. Here are just some of the unknowns.Lidar and RadarLidar is expensive and is still trying to strike the right balance between range and resolution. If multiple autonomous cars were to drive on the same road, would their lidar signals interfere with one another? And if multiple radio frequencies are available, will the frequency range be enough to support mass production of autonomous cars?Weather ConditionsWhat happens when an autonomous car drives in heavy precipitation? If there\\u2019s a layer of snow on the road, lane dividers disappear. How will the cameras and sensors track lane markings if the markings are obscured by water, oil, ice, or debris?Traffic Conditions and LawsWill autonomous cars have trouble in tunnels or on bridges? How will they do in bumper-to-bumper traffic? Will autonomous cars be relegated to a specific lane? Will they be granted carpool lane access? And what about the fleet of legacy cars still sharing the roadways for the next 20 or 30 years?State vs. Federal RegulationThe regulatory process in the U.S. has recently shifted from federal guidance to state-by-state mandates for autonomous cars. Some states have even proposed a per-mile tax on autonomous vehicles to prevent the rise of \\u201czombie cars\\u201d driving around without passengers. Lawmakers have also written bills proposing that all autonomous cars must be zero-emission vehicles and have a panic button installed. But are the laws going to be different from state to state? Will you be able to cross state lines with an autonomous car?Accident LiabilityWho is liable for accidents caused by an autonomous car? The manufacturer? The human passenger? The latest blueprints suggest that a fully autonomous Level 5 car will not have a dashboard or a steering wheel, so a human passenger would not even have the option to take control of the vehicle in an emergency.Artificial vs. Emotional IntelligenceHuman drivers rely on subtle cues and non-verbal communication\\u2014like making eye contact with pedestrians or reading the facial expressions and body language of other drivers\\u2014to make split-second judgment calls and predict behaviors. Will autonomous cars be able to replicate this connection? Will they have the same life-saving instincts as human drivers?The scenarios for convenience and quality-of-life improvements are limitless. The elderly and the physically disabled would have independence. If your kids were at summer camp and forgot their bathing suits and toothbrushes, the car could bring them the missing items. You could even send your dog to a veterinary appointment.But the real promise of autonomous cars is the potential for dramatically lowering CO2 emissions. In a recent study, experts identified three trends that, if adopted concurrently, would unleash the full potential of autonomous cars: vehicle automation, vehicle electrification, and ridesharing. By 2050, these \\u201cthree revolutions in urban transportation\\u201d could:Today\\u2019s cars have 100 million lines of code. Tomorrow\\u2019s autonomous cars will have more than 300 million lines of code, so cybersecurity is a growing concern. Synopsys is the leader in application security testing and software composition analysis, helping automotive customers build security into their software throughout the development lifecycle and across the supply chain.Synopsys also offers a broad portfolio of auto-grade IP, certified for ISO 26262 and ASIL B & D readiness, to help customers build the best chips for applications like ADAS, infotainment, and mainstream MCUs. Synopsys embedded vision processor solutions help customers integrate capabilities like object and facial recognition, night vision, and adaptive cruise control.Application Security for AutomotiveIP for Automotive ApplicationsPrototyping in Automotive\\rThe 6 Levels of Vehicle Autonomy ExplainedSecuring the Modern Vehicle: A Study of Automotive Industry Cybersecurity PracticesSynopsys and Porsche Consulting Introduce a Framework for Accelerating Automotive Development for the Digital Future\\rSamsung Foundry and Synopsys Deliver Comprehensive Automotive Solutions for Autonomous Driving and ADAS\\rSynopsys Introduces Native Automotive Solutions Optimized for Efficient Design of Autonomous Driving and ADAS SoCs\\rWhat is ADAS?What is ASIL?What is ISO 26262?What is MISRA?Drive Innovation from the Inside Out\", \"Category\": \"tech\", \"Complete_Filename\": \"FileName_4\"}, {\"File_Name\": \"FileName_5\", \"Content\": \"We use cookies to allow us and selected partners to improve your experience and our advertising. By continuing to browse you consent to our use of cookies. You can understand more and change your cookies preferences here.In this articleThe pursuit of creating fully \\u2018driverless\\u2019 cars has made way for some of the biggest technological advances ever seen in the automotive industry.\\u00a0While total autonomy still remains a thing of the future, companies are now predicting that a self-driving vehicle could become a reality as early as 2021.Accelerated sensor, camera and data technology has meant that companies such as Google, Tesla and Volkswagen have been able to test or at least develop vehicles that have increased levels of autonomy.But, as it stands, there is still not one completely driverless car on the market. \\u00a0With rafts of legal implications and safety issues circling this new automotive technology, we take a look at what driverless actually means in today\\u2019s world and what we can expect for the future.Can\\u2019t wait for the first driverless car to go on the market? If you\\u2019re in the market for a new model today, take a look at our best cars buying guide.To qualify as fully autonomous (also known as 'driverless' or 'self-driving'), the car must be able to get from one destination to another using just a computer, navigating and manoeuvring through roads that have not been adapted for its use and in a variety of different conditions.\\u00a0If any form of human control or intervention is needed, the car will not be classed as fully autonomous.There will be several complex features that have to work in unison to create a successful self-driving car.It will include a variety of sensors and cameras that will monitor other vehicles on the road and detect objects, traffic lights, road signs, curbs and lane markings. For example, Lidar sensors use laser beams to create a 360-degree image of the car's surroundings.An effective GPS system will be vital in ensuring the car knows how to get to a pre-determined destination, while an intricate on-board computer will then use all of the data collected from the surrounding features to instantaneously manipulate the car in the correct way.Every manufacturer will have different types of technology, especially in the early testing stages \\u2013 there isn\\u2019t one system that fits all.Cars today are becoming increasingly advanced \\u2013 even the most basic cars now come with a lengthy list of options to consider. But what do you actually need to spend your money on? Our guide to car options navigates you through the extras worth considering.There have been a number of accidents involving autonomous cars, including one that resulted in a fatality. Some of these were caused by issues with the capability of the car.For instance, autonomous cars must learn to identify objects in their path, whether it's a piece of litter or a pedestrian. It must also know when there is a lane closure, a difference in the width of the road or even where to position itself if an emergency vehicle needs to pass.\\u00a0The car then has to decide instantly whether to swerve, brake or continue.In some cases, semi-autonomous cars have not been able to make the correct decision and it has resulted in accidents. This is an ongoing problem that manufacturers will have to find a solution for before a car can become fully driverless.The driver can also cause safety implications too. We have yet to see a fully autonomous car, so the driver of the vehicle is still responsible for its actions \\u2013 regardless of whether they are in autopilot mode or not.\\u00a0So, reading a book or simply not paying enough attention to the road can pose a risk just like it would for traditional cars.\\u00a0This reinforces the need for drivers to be fully aware of the limitations of the car to ensure the safety of themselves and others.All of the above also reiterates the need for effective and thorough testing of cars before they are available to buy.However, when the technology is advanced enough for a fully driverless experience, this could mean that our roads actually become safer. Using computer software could eliminate human error such as carelessness, tiredness and drink driving, resulting in potentially safer roads.Safety is a crucial factor in choosing a new car. We explain the raft of safety features available in cars today so you can have confidence in your choice.The morality of autonomous cars is one of the biggest issues that computer coders and manufacturers will have to tackle. The cars will have to be hard-coded to choose one action over another in varying scenarios \\u2013 but in the worst circumstances both options might be tragic.For example, if a car had to swerve a motorcyclist that\\u2019s heading in its direction at high speeds, but in doing so could hit a group of teenagers stood at the side of the road. The car would have to make the decision to potentially hurt one over the other \\u2013 and all within a split second. \\u00a0These moral dilemmas will have to be acknowledged and a course of an action for all the varying scenarios will have to be programmed into the future self-driving car.Lawmakers will also need to decide how and who will be held accountable if these types of accidents occur.The move to launch semi-autonomous cars on the roads of the UK is well under way. But aside from creating the suitable technology, testing in the \\u2018real world\\u2019 also has to be completed before these cars can be put into production.The Department of Transport has published a code of practice that provides a clear set of rules for the manufacturers wanting to test cars. If compiled with, this should allow firms to begin \\u2018real-world testing of automated technologies\\u2019 in different locations around the UK.\\u2018Real world\\u2019 means driverless cars can be tested on public roads under certain conditions.Some of the Department of Transport recommendations include:Laws have not yet changed to reflect this growing technology. As it stands, the driver is still required to be in charge in all semi-autonomous vehicles, so the same laws apply for these cars as they do to traditional cars.However, the government began a three-year law review in early 2018 to ensure reasonable regulations are in place before self-driving cars are on UK roads. Here are some key areas the review will focus on:Insurance cover will undoubtedly have to make lots of adjustments to fit the new wave of driverless cars expected to arrive in the next ten years.\\u00a0Here are ways traditional car insurance cover could be affected: \\u00a0Do you need to update your insurance policy? Make sure you get best deal by finding out the companies that are Which? Recommended Providers for car insurance.\\u00a0Here\\u2019s a overview of some of the most up-to-date tech available today.Even though we haven\\u2019t yet seen a car that reaches level 5 autonomy (a car that no longer needs human intervention of any kind), many manufacturers have created models that include impressive semi-autonomous features. \\u00a0Tesla has become a well-known name because of its headway with autonomous technology. However, the Autopilot capabilities are still at level 2 and are synonymous with semi-autonomy: the car can take over one specific function such as steering but the driver still needs to be engaged and ready to take over.\\u00a0Although the Model S, Model X and Model 3 include Autopilot, the technology and its capabilities continue to evolve. This means that each models capabilities will differ depending on when it was built.\\u00a0The most recent hardware is called Enhanced Autopilot. It's essentially a driving-assistance feature. It can auto-steer, keep you in your lane, brake and accelerate the car forward, as long as the driver is still paying full attention with hands on the wheel. The feature can also self-park.Like Tesla\\u2019s Autopilot, Volvo\\u2019s pilot assist is meant to aid the driver rather than provide fully autonomous travel. Again, the driver always needs to pay attention and keep their hands on the steering wheel, while the car can help to steer, keep you in the correct lane and maintain a safe distance from the car in front. \\u00a0Depending on the road, the assistance can switch on and off so the driver should never solely rely on the technology. If your hands come off the wheel the car will sound an alarm.Thinking of buying a Volvo? Go to should I buy a Volvo car?The driving assistance system from BMW also offers steering and lane-control assist, as long as the driver continues to keep both hands on the steering wheel.A further addition to the adaptive cruise control is the Stop & Go feature. This warns the driver of a car sharply breaking ahead with a visual and then an acoustic signal, plus it will automatically depress the brakes if no action is taken.This type of intelligent driving is available on selected BMWs, including the BMW X3.Ford\\u2019s CoPilot 360 has similar capabilities to Volvo.CoPilot Assist sits at level 2 autonomy, which means it can take over one function automatically but the driver still has to be aware of the surroundings and ready to take over at any point. It also includes adaptive cruise control, lane centring assist and active park assist.In the 2017 Ford Fiesta, the automatic version can park itself while the driver just holds down a button.Just like Ford, BMW and Volvo, Nissans ProPilot will adjust the speed to suit the traffic ahead and keep the car centred in the lane. It will bring the car to stop if it deems it necessary and can automatically parallel and bay park once the driver selects a proposed system.This tech is available on the Nissan Leaf and the Qashqai Pilot One editions.The new A8 from Audi is the first production car that can reach level 3 autonomy \\u2013 this type of autonomy means the vehicle is able to cover nearly all aspects of driving, but only in certain conditions. It doesn\\u2019t mean you can sit in the back and take a nap while the car drives you to your destination, but it does allow the driver to remove their hands from the steering wheel for longer periods of time while the car takes over during stop-start traffic.\\u00a0Once the car hits speeds over 37mph, the driver has to take over.This a big step in the industry but the law isn\\u2019t quite there yet. Until legislation changes, the level 3 features aren\\u2019t allowed to be put into use. Testing and alterations to suit each country\\u2019s legal stance will determine if and when its full capabilities can be put into practice.Only cars that are reliable, economical, comfortable, safe and good to drive can become a Which? Best Buy \\u2013 these are the best new and used cars you can buy today.Test scoreTest scoreTest scoreLatest News In19th August 202111th August 20212nd August 202123rd July 202122nd July 202115th July 20217th July 202130th June 202123rd June 202121st June 2021\", \"Category\": \"tech\", \"Complete_Filename\": \"FileName_5\"}]}}, {\"mode\": \"vega-lite\"});\n",
              "</script>"
            ]
          },
          "metadata": {},
          "execution_count": 124
        }
      ]
    },
    {
      "cell_type": "markdown",
      "metadata": {
        "id": "NXFiEyR9NN69"
      },
      "source": [
        "### % of articles in each category"
      ]
    },
    {
      "cell_type": "code",
      "metadata": {
        "colab": {
          "base_uri": "https://localhost:8080/",
          "height": 394
        },
        "id": "8xR5G1gATXuq",
        "outputId": "4aca1697-2c7a-4c3d-cc89-9ef0aaf5ba77"
      },
      "source": [
        "df['id'] = 1\n",
        "df2 = pd.DataFrame(df.groupby('Category').count()['id']).reset_index()\n",
        "\n",
        "bars = alt.Chart(df2).mark_bar(size=50).encode(\n",
        "    x=alt.X('Category'),\n",
        "    y=alt.Y('PercentOfTotal:Q', axis=alt.Axis(format='.0%', title='% of Articles')),\n",
        "    color='Category'\n",
        ").transform_window(\n",
        "    TotalArticles='sum(id)',\n",
        "    frame=[None, None]\n",
        ").transform_calculate(\n",
        "    PercentOfTotal=\"datum.id / datum.TotalArticles\"\n",
        ")\n",
        "\n",
        "text = bars.mark_text(\n",
        "    align='center',\n",
        "    baseline='bottom',\n",
        "    #dx=5  # Nudges text to right so it doesn't appear on top of the bar\n",
        ").encode(\n",
        "    text=alt.Text('PercentOfTotal:Q', format='.1%')\n",
        ")\n",
        "\n",
        "(bars + text).interactive().properties(\n",
        "    height=300, \n",
        "    width=700,\n",
        "    title = \"% of articles in each category\",\n",
        ")"
      ],
      "execution_count": null,
      "outputs": [
        {
          "output_type": "execute_result",
          "data": {
            "text/plain": [
              "alt.LayerChart(...)"
            ],
            "text/html": [
              "\n",
              "<div id=\"altair-viz-21d1f81d372e4dc09969907370ad56a5\"></div>\n",
              "<script type=\"text/javascript\">\n",
              "  (function(spec, embedOpt){\n",
              "    let outputDiv = document.currentScript.previousElementSibling;\n",
              "    if (outputDiv.id !== \"altair-viz-21d1f81d372e4dc09969907370ad56a5\") {\n",
              "      outputDiv = document.getElementById(\"altair-viz-21d1f81d372e4dc09969907370ad56a5\");\n",
              "    }\n",
              "    const paths = {\n",
              "      \"vega\": \"https://cdn.jsdelivr.net/npm//vega@5?noext\",\n",
              "      \"vega-lib\": \"https://cdn.jsdelivr.net/npm//vega-lib?noext\",\n",
              "      \"vega-lite\": \"https://cdn.jsdelivr.net/npm//vega-lite@4.8.1?noext\",\n",
              "      \"vega-embed\": \"https://cdn.jsdelivr.net/npm//vega-embed@6?noext\",\n",
              "    };\n",
              "\n",
              "    function loadScript(lib) {\n",
              "      return new Promise(function(resolve, reject) {\n",
              "        var s = document.createElement('script');\n",
              "        s.src = paths[lib];\n",
              "        s.async = true;\n",
              "        s.onload = () => resolve(paths[lib]);\n",
              "        s.onerror = () => reject(`Error loading script: ${paths[lib]}`);\n",
              "        document.getElementsByTagName(\"head\")[0].appendChild(s);\n",
              "      });\n",
              "    }\n",
              "\n",
              "    function showError(err) {\n",
              "      outputDiv.innerHTML = `<div class=\"error\" style=\"color:red;\">${err}</div>`;\n",
              "      throw err;\n",
              "    }\n",
              "\n",
              "    function displayChart(vegaEmbed) {\n",
              "      vegaEmbed(outputDiv, spec, embedOpt)\n",
              "        .catch(err => showError(`Javascript Error: ${err.message}<br>This usually means there's a typo in your chart specification. See the javascript console for the full traceback.`));\n",
              "    }\n",
              "\n",
              "    if(typeof define === \"function\" && define.amd) {\n",
              "      requirejs.config({paths});\n",
              "      require([\"vega-embed\"], displayChart, err => showError(`Error loading script: ${err.message}`));\n",
              "    } else if (typeof vegaEmbed === \"function\") {\n",
              "      displayChart(vegaEmbed);\n",
              "    } else {\n",
              "      loadScript(\"vega\")\n",
              "        .then(() => loadScript(\"vega-lite\"))\n",
              "        .then(() => loadScript(\"vega-embed\"))\n",
              "        .catch(showError)\n",
              "        .then(() => displayChart(vegaEmbed));\n",
              "    }\n",
              "  })({\"config\": {\"view\": {\"continuousWidth\": 400, \"continuousHeight\": 300}}, \"layer\": [{\"mark\": {\"type\": \"bar\", \"size\": 50}, \"encoding\": {\"color\": {\"type\": \"nominal\", \"field\": \"Category\"}, \"x\": {\"type\": \"nominal\", \"field\": \"Category\"}, \"y\": {\"type\": \"quantitative\", \"axis\": {\"format\": \".0%\", \"title\": \"% of Articles\"}, \"field\": \"PercentOfTotal\"}}, \"selection\": {\"selector004\": {\"type\": \"interval\", \"bind\": \"scales\", \"encodings\": [\"x\", \"y\"]}}, \"transform\": [{\"window\": [{\"op\": \"sum\", \"field\": \"id\", \"as\": \"TotalArticles\"}], \"frame\": [null, null]}, {\"calculate\": \"datum.id / datum.TotalArticles\", \"as\": \"PercentOfTotal\"}]}, {\"mark\": {\"type\": \"text\", \"align\": \"center\", \"baseline\": \"bottom\"}, \"encoding\": {\"color\": {\"type\": \"nominal\", \"field\": \"Category\"}, \"text\": {\"type\": \"quantitative\", \"field\": \"PercentOfTotal\", \"format\": \".1%\"}, \"x\": {\"type\": \"nominal\", \"field\": \"Category\"}, \"y\": {\"type\": \"quantitative\", \"axis\": {\"format\": \".0%\", \"title\": \"% of Articles\"}, \"field\": \"PercentOfTotal\"}}, \"transform\": [{\"window\": [{\"op\": \"sum\", \"field\": \"id\", \"as\": \"TotalArticles\"}], \"frame\": [null, null]}, {\"calculate\": \"datum.id / datum.TotalArticles\", \"as\": \"PercentOfTotal\"}]}], \"data\": {\"name\": \"data-cd9d2318712859d7e4fe25bafd64ef32\"}, \"height\": 300, \"title\": \"% of articles in each category\", \"width\": 700, \"$schema\": \"https://vega.github.io/schema/vega-lite/v4.8.1.json\", \"datasets\": {\"data-cd9d2318712859d7e4fe25bafd64ef32\": [{\"Category\": \"tech\", \"id\": 6}]}}, {\"mode\": \"vega-lite\"});\n",
              "</script>"
            ]
          },
          "metadata": {},
          "execution_count": 125
        }
      ]
    },
    {
      "cell_type": "markdown",
      "metadata": {
        "id": "txojXfkVNrGq"
      },
      "source": [
        "### News length by category"
      ]
    },
    {
      "cell_type": "code",
      "metadata": {
        "id": "sXbrRybeTgiR"
      },
      "source": [
        "df['News_length'] = df['Content'].str.len()\n"
      ],
      "execution_count": null,
      "outputs": []
    },
    {
      "cell_type": "code",
      "metadata": {
        "colab": {
          "base_uri": "https://localhost:8080/",
          "height": 405
        },
        "id": "5LPH94iPTj3a",
        "outputId": "dd5be2c0-777d-422f-802c-68b50f5a8113"
      },
      "source": [
        "#displot showing the new length of the article\n",
        "plt.figure(figsize=(12.8,6))\n",
        "sns.distplot(df['News_length']).set_title('News length distribution');"
      ],
      "execution_count": null,
      "outputs": [
        {
          "output_type": "display_data",
          "data": {
            "image/png": "[encoded data removed]",
            "text/plain": [
              "<Figure size 921.6x432 with 1 Axes>"
            ]
          },
          "metadata": {}
        }
      ]
    },
    {
      "cell_type": "code",
      "metadata": {
        "colab": {
          "base_uri": "https://localhost:8080/"
        },
        "id": "MSWwvVo_TnYT",
        "outputId": "79f413af-c27f-4fcd-eafb-d98c529ba6d3"
      },
      "source": [
        "#Calculating the statistics of the articles\n",
        "df['News_length'].describe()"
      ],
      "execution_count": null,
      "outputs": [
        {
          "output_type": "execute_result",
          "data": {
            "text/plain": [
              "count         6.000000\n",
              "mean      32779.000000\n",
              "std       37695.630903\n",
              "min        7042.000000\n",
              "25%       11074.000000\n",
              "50%       12019.000000\n",
              "75%       43396.000000\n",
              "max      100980.000000\n",
              "Name: News_length, dtype: float64"
            ]
          },
          "metadata": {},
          "execution_count": 128
        }
      ]
    },
    {
      "cell_type": "code",
      "metadata": {
        "id": "LFzy94urTqxP"
      },
      "source": [
        "#Calculating the quantile range for the dataset\n",
        "quantile_95 = df['News_length'].quantile(0.95)\n",
        "df_95 = df[df['News_length'] < quantile_95]"
      ],
      "execution_count": null,
      "outputs": []
    },
    {
      "cell_type": "code",
      "metadata": {
        "colab": {
          "base_uri": "https://localhost:8080/",
          "height": 405
        },
        "id": "p3TH8gmwTtH7",
        "outputId": "d549a0ad-d99c-4055-854f-2e3ee955d0a2"
      },
      "source": [
        "#Graph plotted density and length of the article\n",
        "plt.figure(figsize=(12.8,6))\n",
        "sns.distplot(df_95['News_length']).set_title('News length distribution');"
      ],
      "execution_count": null,
      "outputs": [
        {
          "output_type": "display_data",
          "data": {
            "image/png": "[encoded data removed]",
            "text/plain": [
              "<Figure size 921.6x432 with 1 Axes>"
            ]
          },
          "metadata": {}
        }
      ]
    },
    {
      "cell_type": "code",
      "metadata": {
        "colab": {
          "base_uri": "https://localhost:8080/"
        },
        "id": "QEjJybIWTumV",
        "outputId": "91a6c357-f303-4f32-862a-5fc74ce4d2e8"
      },
      "source": [
        "df_more10k = df[df['News_length'] > 10000]\n",
        "len(df_more10k)"
      ],
      "execution_count": null,
      "outputs": [
        {
          "output_type": "execute_result",
          "data": {
            "text/plain": [
              "5"
            ]
          },
          "metadata": {},
          "execution_count": 131
        }
      ]
    },
    {
      "cell_type": "code",
      "metadata": {
        "colab": {
          "base_uri": "https://localhost:8080/",
          "height": 188
        },
        "id": "JLO9-v5eTy8H",
        "outputId": "75321e81-f8e6-448b-81b7-c4a60a0b745c"
      },
      "source": [
        "df_more10k['Content'].iloc[0]"
      ],
      "execution_count": null,
      "outputs": [
        {
          "output_type": "execute_result",
          "data": {
            "application/vnd.google.colaboratory.intrinsic+json": {
              "type": "string"
            },
            "text/plain": [
              "'A self-driving car, also known as an autonomous vehicle (AV or auto), driverless car, or robo-car (robotic car),[1][2][3] is a vehicle that is capable of sensing its environment and moving safely with little or no human input.[4][5]Self-driving cars combine a variety of sensors to perceive their surroundings, such as radar, lidar, sonar, GPS, odometry and inertial measurement units.[1][4] Advanced control systems interpret sensory information to identify appropriate navigation paths, as well as obstacles and relevant signage.[4][6][7][8]Possible implementations of the technology include personal self-driving vehicles, shared robotaxis, connected vehicle platoons and long-distance trucking.[4] Several projects to develop a fully self-driving commercial car are in various stages of development. Waymo became the first service provider to offer robotaxi rides to the general public in a part of Phoenix, Arizona in 2020, while Tesla has said it will offer subscription-based \"full self-driving\" to private vehicle owners in 2021,[9][10] and Nuro has been allowed to start autonomous commercial delivery operations in California in 2021.[11]  In China two publicly accessible trials of robo-taxis have been launched, in 2020 in Shenzhen\\'s Pingshan District by Chinese firm AutoX[12] and in 2021 at Shougang Park in Beijing by Baidu, a venue for the 2022 Winter Olympics.[13]Experiments have been conducted on automated driving systems (ADS) since at least the 1920s;[14] trials began in the 1950s. The first semi-automated car was developed in 1977, by Japan\\'s Tsukuba Mechanical Engineering Laboratory, which required specially marked streets that were interpreted by two cameras on the vehicle and an analog computer. The vehicle reached speeds up to 30 kilometres per hour (19\\xa0mph) with the support of an elevated rail.[15][16]A landmark autonomous car appeared in the 1980s, with Carnegie Mellon University\\'s Navlab[17] and ALV[18][19] projects funded by the United States\\' Defense Advanced Research Projects Agency (DARPA) starting in 1984 and Mercedes-Benz and Bundeswehr University Munich\\'s EUREKA Prometheus Project in 1987.[20] By 1985, the ALV had demonstrated self-driving speeds on two-lane roads of 31 kilometres per hour (19\\xa0mph), with obstacle avoidance added in 1986, and off-road driving in day and nighttime conditions by 1987.[21] A major milestone was achieved in 1995, with CMU\\'s NavLab 5 completing the first autonomous coast-to-coast drive of the United States. Of the 2,849\\xa0mi (4,585\\xa0km) between Pittsburgh, Pennsylvania and San Diego, California, 2,797\\xa0mi (4,501\\xa0km) were autonomous (98.2%), completed with an average speed of 63.8\\xa0mph (102.7\\xa0km/h).[22][23][24][25] From the 1960s through the second DARPA Grand Challenge in 2005, automated vehicle research in the United States was primarily funded by DARPA, the US Army, and the US Navy, yielding incremental advances in speeds, driving competence in more complex conditions, controls, and sensor systems.[26] Companies and research organizations have developed prototypes.[20][27][28][29][30][31][32][33][34]The US allocated US$650 million in 1991 for research on the National Automated Highway System, which demonstrated automated driving through a combination of automation embedded in the highway with automated technology in vehicles, and cooperative networking between the vehicles and with the highway infrastructure. The program concluded with a successful demonstration in 1997 but without clear direction or funding to implement the system on a larger scale.[35] Partly funded by the National Automated Highway System and DARPA, the Carnegie Mellon University Navlab drove 4,584 kilometres (2,848\\xa0mi) across America in 1995, 4,501 kilometres (2,797\\xa0mi) or 98% of it autonomously.[36] Navlab\\'s record achievement stood unmatched for two decades until 2015, when Delphi improved it by piloting an Audi, augmented with Delphi technology, over 5,472 kilometres (3,400\\xa0mi) through 15 states while remaining in self-driving mode 99% of the time.[37] In 2015, the US states of Nevada, Florida, California, Virginia, and Michigan, together with Washington, DC, allowed the testing of automated cars on public roads.[38]From 2016 to 2018, the European Commission funded an innovation strategy development for connected and automated driving through the Coordination Actions CARTRE and SCOUT.[39] Moreover, the Strategic Transport Research and Innovation Agenda (STRIA) Roadmap for Connected and Automated Transport was published in 2019.[40]In November 2017, Waymo announced that it had begun testing driverless cars without a safety driver in the driver position;[41] however, there was still an employee in the car.[42]  An October 2017 report by the Brookings Institute found that the $80 billion had been reported as invested in all facets of self driving technology up to that point, but that it was \"reasonable to presume that total global investment in autonomous vehicle technology is significantly more than this.\"[43]In October 2018, Waymo announced that its test vehicles had traveled in automated mode for over 10,000,000 miles (16,000,000\\xa0km), increasing by about 1,000,000 miles (1,600,000 kilometres) per month.[44] In December 2018, Waymo was the first to commercialize a fully autonomous taxi service in the US, in Phoenix, Arizona.[45] In October 2020, Waymo launched a geo-fenced driverless ride hailing service in Phoenix.[46][47] The cars are being monitored in real-time by a team of remote engineers, and there are cases where the remote engineers need to intervene.[48][47]In March 2019, ahead of the autonomous racing series Roborace, Robocar set the Guinness World Record for being the fastest autonomous car in the world. In pushing the limits of self-driving vehicles, Robocar reached 282.42\\xa0km/h (175.49\\xa0mph) – an average confirmed by the UK Timing Association at Elvington in Yorkshire, UK.[49]In 2020, a National Transportation Safety Board chairman stated that no self-driving cars (SAE level 3+) were available for consumers to purchase in the US in 2020:There is not a vehicle currently available to US consumers that is self-driving. Period. Every vehicle sold to US consumers still requires the driver to be actively engaged in the driving task, even when advanced driver assistance systems are activated. If you are selling a car with an advanced driver assistance system, you’re not selling a self-driving car. If you are driving a car with an advanced driver assistance system, you don’t own a self-driving car.[50]On 5 March 2021, Honda began leasing in Japan a limited edition of 100 Legend Hybrid EX sedans equipped with the newly approved Level 3 automated driving equipment which had been granted the safety certification by Japanese government to their autonomous \"Traffic Jam Pilot\" driving technology, and legally allow drivers to take their eyes off the road.[51][52][53][54]There is some inconsistency in the terminology used in the self-driving car industry. Various organizations have proposed to define an accurate and consistent vocabulary.In 2014, such confusion has been documented in SAE J3016 which states that \"some vernacular usages associate autonomous specifically with full driving automation (Level 5), while other usages apply it to all levels of driving automation, and some state legislation has defined it to correspond approximately to any ADS [automated driving system] at or above Level 3 (or to any vehicle equipped with such an ADS).\"Modern vehicles provide features such as keeping the car within its lane, speed controls, or emergency braking. Those features alone are just considered as driver assistance technologies because they still require a human driver control while fully automated vehicles drive themselves without human driver input.According to Fortune, some newer vehicles\\' technology names—such as AutonoDrive, PilotAssist, Full-Self Driving or DrivePilot—might confuse the driver, who may believe no driver input is expected when in fact the driver needs to remain involved in the driving task.[55] According to the BBC, confusion between those concepts leads to deaths.[56]For this reason, some organizations such as the AAA try to provide standardized naming conventions for features such as ALKS which aim to have capacity to manage the driving task, but which are not yet approved to be an automated vehicles in any countries. The Association of British Insurers considers the usage of the word autonomous in marketing for modern cars to be dangerous because car ads make motorists think \\'autonomous\\' and \\'autopilot\\' mean a vehicle can drive itself when they still rely on the driver to ensure safety. Technology alone still is not able to drive the car.Some car makers suggest or claim vehicles are self-driving when they are not able to manage some driving situations. Despite being called Full Self-Driving, Tesla stated that its offering should not be considered as a fully autonomous driving system.[57] This makes drivers risk becoming excessively confident, taking distracted driving behavior, leading to crashes. While in Great-Britain, a fully self-driving car is only a car registered in a specific list.[58] There have also been proposals to adopt the aviation automation safety knowledge into the discussions of safe implementation of autonomous vehicles, due to the experience that has been gained over the decades by the aviation sector on safety topics. [59]Autonomous means self-governing.[60] Many historical projects related to vehicle automation have been automated (made automatic) subject to a heavy reliance on artificial aids in their environment, such as magnetic strips. Autonomous control implies satisfactory performance under significant uncertainties in the environment, and the ability to compensate for system failures without external intervention.[60]One approach is to implement communication networks both in the immediate vicinity (for collision avoidance) and farther away (for congestion management). Such outside influences in the decision process reduce an individual vehicle\\'s autonomy, while still not requiring human intervention.Wood et al. (2012) wrote, \"This Article generally uses the term \\'autonomous,\\' instead of the term \\'automated.\\' \" The term \"autonomous\" was chosen \"because it is the term that is currently in more widespread use (and thus is more familiar to the general public). However, the latter term is arguably more accurate. \\'Automated\\' connotes control or operation by a machine, while \\'autonomous\\' connotes acting alone or independently. Most of the vehicle concepts (that we are currently aware of) have a person in the driver\\'s seat, utilize a communication connection to the Cloud or other vehicles, and do not independently select either destinations or routes for reaching them. Thus, the term \\'automated\\' would more accurately describe these vehicle concepts.\"[61]As of 2017, most commercial projects focused on automated vehicles that did not communicate with other vehicles or with an enveloping management regime.\\nEuroNCAP defines autonomous in \"Autonomous Emergency Braking\" as: \"the system acts independently of the driver to avoid or mitigate the accident.\" which implies the autonomous system is not the driver.[62]In Europe, the words automated and autonomous might also be used together. For instance, Regulation (EU) 2019/2144 of the European Parliament and of the Council of 27 November 2019 on type-approval requirements for motor vehicles (...) defines \"automated vehicle\" and \"fully automated vehicle\" based on their autonomous capacity:[63]In British English, the word automated alone might have several meaning, such in the sentence: \"Thatcham also found that the automated lane keeping systems could only meet two out of the twelve principles required to guarantee safety, going on to say they cannot, therefore, be classed as ‘automated driving’, instead it claims the tech should be classed as ‘assisted driving’.\":[64] The first occurrence of the \"automated\" word refers to an Unece automated system, while the second occurrence refers to the British legal definition of an automated vehicle. The British law interprets the meaning of \"automated vehicle\" based on the interpretation section related to a vehicle \"driving itself\" and an insured vehicle.[65]To enable a car to travel without any driver embedded within the vehicle, some companies use a remote driver.[66]According to SAE J3016, Some driving automation systems may indeed be autonomous if they perform all of their functions independently and self-sufficiently, but if they depend on communication and/or cooperation with outside entities, they should be considered cooperative rather than autonomous.PC Magazine defines a self-driving car as \"a computer-controlled car that drives itself.\"[67] The Union of Concerned Scientists states that self-driving cars are \"cars or trucks in which human drivers are never required to take control to safely operate the vehicle. Also known as autonomous or \\'driverless\\' cars, they combine sensors and software to control, navigate, and drive the vehicle.\"[68]The British Automated and Electric Vehicles Act 2018 law defines considers a vehicle as \"driving itself\" if the vehicle \"is operating in a mode in which it is not being controlled, and does not need to be monitored, by an individual\".[69]A classification system with six levels – ranging from fully manual to fully automated systems – was published in 2014 by automotive standardization body SAE International (formerly the Society of Automotive Engineers) as J3016, Taxonomy and Definitions for Terms Related to On-Road Motor Vehicle Automated Driving Systems.[72][73] This classification is based on the amount of driver intervention and attentiveness required, rather than the vehicle\\'s capabilities, although these are loosely related. In the United States in 2013, the National Highway Traffic Safety Administration (NHTSA) released a formal classification system,[74] but abandoned it in favor of the SAE standard in 2016. Also in 2016, SAE updated its classification, called J3016_201609.[75]In SAE\\'s automation level definitions, \"driving mode\" means \"a type of driving scenario with characteristic dynamic driving task requirements (e.g., expressway merging, high speed cruising, low speed traffic jam, closed-campus operations, etc.)\"[1][76]In the formal SAE definition below, an important transition is from SAE Level 2 to SAE Level 3 in which the human driver is no longer expected to monitor the environment continuously. At SAE 3, the human driver still has responsibility to intervene when asked to do so by the automated system. At SAE 4 the human driver is always relieved of that responsibility and at SAE 5 the automated system will never need to ask for an intervention.The SAE Automation Levels have been criticized for their technological focus. It has been argued that the structure of the levels suggests that automation increases linearly and that more automation is better, which may not always be the case.[81] The SAE Levels also do not account for changes that may be required to infrastructure[82] and road user behavior.[83][84]The characteristics of autonomous vehicles, as digital technology, are distinguishable from other types of technologies and vehicles. These characteristics mean autonomous vehicles are able to be more transformative and agile to possible changes. The characteristics include hybrid navigation, homogenization and decoupling, vehicle communication systems, reprogrammable and smart, digital traces and modularity.There are different systems that help the self-driving car control the car, including the car navigation system, the location system, the electronic map, the map matching, the global path planning, the environment perception, the laser perception, the radar perception, the visual perception, the vehicle control, the perception of vehicle speed and direction, and the vehicle control method.[85]Driverless car designers are challenged with producing control systems capable of analyzing sensory data in order to provide accurate detection of other vehicles and the road ahead.[86] Modern self-driving cars generally use Bayesian simultaneous localization and mapping (SLAM) algorithms,[87] which fuse data from multiple sensors and an off-line map into current location estimates and map updates. Waymo has developed a variant of SLAM with detection and tracking of other moving objects (DATMO), which also handles obstacles such as cars and pedestrians. Simpler systems may use roadside real-time locating system (RTLS) technologies to aid localization. Typical sensors include lidar (Light Detection and Ranging), stereo vision, GPS and IMU.[88][89] Control systems on automated cars may use Sensor Fusion, which is an approach that integrates information from a variety of sensors on the car to produce a more consistent, accurate, and useful view of the environment.[90] Heavy rainfall, hail, or snow could impede the car sensors.[citation needed]Driverless vehicles require some form of machine vision for the purpose of visual object recognition. Automated cars are being developed with deep neural networks,[88] a type of deep learning architecture with many computational stages, or levels, in which neurons are simulated from the environment that activate the network.[91] The neural network depends on an extensive amount of data extracted from real-life driving scenarios,[88] enabling the neural network to \"learn\" how to execute the best course of action.[91]In May 2018, researchers from the Massachusetts Institute of Technology announced that they had built an automated car that can navigate unmapped roads.[92] Researchers at their Computer Science and Artificial Intelligence Laboratory (CSAIL) have developed a new system, called MapLite, which allows self-driving cars to drive on roads that they have never been on before, without using 3D maps. The system combines the GPS position of the vehicle, a \"sparse topological map\" such as OpenStreetMap, (i.e. having 2D features of the roads only), and a series of sensors that observe the road conditions.[93]Homogenization indicates the fact that all digital information assumes the same form. During the ongoing evolution of the digital era, certain industry standards have been developed on how to store digital information and in what type of format. This concept of homogenization also applies to autonomous vehicles. In order for autonomous vehicles to perceive their surroundings, they have to use different techniques each with their own accompanying digital information (e.g. radar, GPS, motion sensors and computer vision). Homogenization requires that the digital information from these different sources is transmitted and stored in the same form. This means their differences are decoupled, and digital information can be transmitted, stored, and computed in a way that the vehicles and their operating system can better understand and act upon it. Homogenization also helps to take advantage of the exponential increase of the computing power of hardware and software (Moore\\'s law) which also supports the autonomous vehicles to understand and act upon the digital information in a more cost-effective way, therefore lowering the marginal costs.[citation needed]Individual vehicles can benefit from information obtained from other vehicles in the vicinity, especially information relating to traffic congestion and safety hazards. Vehicular communication systems use vehicles and roadside units as the communicating nodes in a peer-to-peer network, providing each other with information. As a cooperative approach, vehicular communication systems can allow all cooperating vehicles to be more effective. According to a 2010 study by the US National Highway Traffic Safety Administration, vehicular communication systems could help avoid up to 79% of all traffic accidents.[94]There have so far been no complete implementation of peer-to-peer networking on the scale required for traffic.[citation needed]In 2012, computer scientists at the University of Texas in Austin began developing smart intersections designed for automated cars. The intersections will have no traffic lights and no stop signs, instead using computer programs that will communicate directly with each car on the road.[95] In the case of autonomous vehicles, it is essential for them to connect with other \\'devices\\' in order to function most effectively. Autonomous vehicles are equipped with communication systems which allow them to communicate with other autonomous vehicles and roadside units to provide them, amongst other things, with information about road work or traffic congestion. In addition, scientists believe that the future will have computer programs that connect and manage each individual autonomous vehicle as it navigates through an intersection. This type of connectivity must replace traffic lights and stop signs.[95] These types of characteristics drive and further develop the ability of autonomous vehicles to understand and cooperate with other products and services (such as intersection computer systems) in the autonomous vehicles market. This could lead to a network of autonomous vehicles all using the same network and information available on that network. Eventually, this can lead to more autonomous vehicles using the network because the information has been validated through the usage of other autonomous vehicles. Such movements will strengthen the value of the network and is called network externalities.Among connected cars, an unconnected one is the weakest and will be increasingly banned from busy high-speed roads, as predicted by the Helsinki think tank, Nordic Communications Corporation, in January 2016.[96]In 2017, Researchers from Arizona State University developed a 1/10 scale intersection and proposed an intersection management technique called Crossroads. It was shown that Crossroads is very resilient to network delay of both V2I communication and Worst-case Execution time of the intersection manager.[97] In 2018, a robust approach was introduced which is resilient to both model mismatch and external disturbances such as wind and bumps.[98]Vehicle networking may be desirable due to difficulty with computer vision being able to recognize brake lights, turn signals, buses, and similar things. However, the usefulness of such systems would be diminished by the fact current cars are not equipped with them; they may also pose privacy concerns.[99]Another characteristic of autonomous vehicles is that the core product will have a greater emphasis on the software and its possibilities, instead of the chassis and its engine. This is because autonomous vehicles have software systems that drive the vehicle, meaning that updates through reprogramming or editing the software can enhance the benefits of the owner (e.g. update in better distinguishing blind person vs. non-blind person so that the vehicle will take extra caution when approaching a blind person). A characteristic of this reprogrammable part of autonomous vehicles is that the updates need not only to come from the supplier, because through machine learning, smart autonomous vehicles can generate certain updates and install them accordingly (e.g. new navigation maps or new intersection computer systems). These reprogrammable characteristics of the digital technology and the possibility of smart machine learning give manufacturers of autonomous vehicles the opportunity to differentiate themselves on software. This also implies that autonomous vehicles are never finished because the product can continuously be improved.[citation needed]Autonomous vehicles are equipped with different sorts of sensors and radars. As said, this allows them to connect and interoperate with computers from other autonomous vehicles and/or roadside units. This implies that autonomous vehicles leave digital traces when they connect or interoperate. The data that comes from these digital traces can be used to develop new (to be determined) products or updates to enhance autonomous vehicles\\' driving ability or safety.[citation needed]Traditional vehicles and their accompanying technologies are manufactured as a product that will be complete, and unlike autonomous vehicles, they can only be improved if they are redesigned or reproduced. As said, autonomous vehicles are produced but due to their digital characteristics never finished. This is because autonomous vehicles are more modular since they are made up out of several modules which will be explained hereafter through a Layered Modular Architecture. The Layered Modular Architecture extends the architecture of purely physical vehicles by incorporating four loosely coupled layers of devices, networks, services and contents into Autonomous Vehicles. These loosely coupled layers can interact through certain standardized interfaces.The consequence of layered modular architecture of autonomous vehicles (and other digital technologies) is that it enables the emergence and development of platforms and ecosystems around a product and/or certain modules of that product. Traditionally, automotive vehicles were developed, manufactured and maintained by traditional manufacturers. Nowadays app developers and content creators can help to develop more comprehensive product experience for the consumers which creates a platform around the product of autonomous vehicles.The potential benefits from increased vehicle automation described may be limited by foreseeable challenges such as disputes over liability,[100][101] the time needed to turn over the existing stock of vehicles from non-automated to automated,[102] and thus a long period of humans and autonomous vehicles sharing the roads, resistance by individuals to forfeiting control of their cars,[103] concerns about safety,[104] and the implementation of a legal framework and consistent global government regulations for self-driving cars.[105]Other obstacles could include de-skilling and lower levels of driver experience for dealing with potentially dangerous situations and anomalies,[106] ethical problems where an automated vehicle\\'s software is forced during an unavoidable crash to choose between multiple harmful courses of action (\\'the trolley problem\\'),[107][108] concerns about making large numbers of people currently employed as drivers unemployed, the potential for more intrusive mass surveillance of location, association and travel as a result of police and intelligence agency access to large data sets generated by sensors and pattern-recognition AI, and possibly insufficient understanding of verbal sounds, gestures and non-verbal cues by police, other drivers or pedestrians.[109]Possible technological obstacles for automated cars are:Social challenges include:Self-driving cars are already exploring the difficulties of determining the intentions of pedestrians, bicyclists, and animals, and models of behavior must be programmed into driving algorithms.[8] Human road users also have the challenge of determining the intentions of autonomous vehicles, where there is no driver with which to make eye contact or exchange hand signals. Drive.ai is testing a solution to this problem that involves LED signs mounted on the outside of the vehicle, announcing status such as \"going now, don\\'t cross\" vs. \"waiting for you to cross\".[127]Two human-factor challenges are important for safety. One is the handoff from automated driving to manual driving, which may become necessary due to unfavorable or unusual road conditions, or if the vehicle has limited capabilities. A sudden handoff could leave a human driver dangerously unprepared in the moment. In the long term, humans who have less practice at driving might have a lower skill level and thus be more dangerous in manual mode. The second challenge is known as risk compensation: as a system is perceived to be safer, instead of benefiting entirely from all of the increased safety, people engage in riskier behavior and enjoy other benefits. Semi-automated cars have been shown to suffer from this problem, for example with users of Tesla Autopilot ignoring the road and using electronic devices or other activities against the advice of the company that the car is not capable of being completely autonomous. In the near future, pedestrians and bicyclists may travel in the street in a riskier fashion if they believe self-driving cars are capable of avoiding them.In order for people to buy self-driving cars and vote for the government to allow them on roads, the technology must be trusted as safe.[128][129] Self-driving elevators were invented in 1900, but the high number of people refusing to use them slowed adoption for several decades until operator strikes increased demand and trust was built with advertising and features like the emergency stop button.[130][131] There are three types of trust between human and automation.[132] There is dispositional trust, the trust between the driver and the company\\'s product.[132] Situational trust, or the trust from different scenarios.[132] Finally there is learned trust where the trust is built between similar events.[132]With the emergence of automated automobiles, various ethical issues arise. While the introduction of automated vehicles to the mass market is said to be inevitable due to a presumed but untestable potential for reduction of crashes by \"up to\" 90%[133] and their potential greater accessibility to disabled, elderly, and young passengers, a range of ethical issues have been posed. Those include, but are not limited to:There are different opinions on who should be held liable in case of a crash, especially with people being hurt. Many experts see the car manufacturers themselves being responsible for those crashes that occur due to a technical malfunction or misconstruction.[134] Besides the fact that the car manufacturer would be the source of the problem in a situation where a car crashes due to a technical issue, there is another important reason why car manufacturers could be held responsible: it would encourage them to innovate and heavily invest into fixing those issues, not only due to protection of the brand image, but also due to financial and criminal consequences. However, there are also voices[who?] that argue those using or owning the vehicle should be held responsible since they know the risks involved in using such a vehicle. One study suggests requesting the owners of self-driving cars to sign end-user license agreements (EULAs), assigning to them accountability for any accidents.[135] Other studies suggest introducing a tax or insurances that would protect owners and users of automated vehicles of claims made by victims of an accident.[134] Other possible parties that can be held responsible in case of a technical failure include software engineers that programmed the code for the automated operation of the vehicles, and suppliers of components of the AV.[136]Taking aside the question of legal liability and moral responsibility, the question arises how automated vehicles should be programmed to behave in an emergency situation where either passengers or other traffic participants like pedestrians, bicyclists and other drivers are endangered. A moral dilemma that a software engineer or car manufacturer might face in programming the operating software is described in an ethical thought experiment, the trolley problem: a conductor of a trolley has the choice of staying on the planned track and running over five people, or turn the trolley onto a track where it would kill only one person, assuming there is no traffic on it.[137] When a self-driving car is in following scenario: it\\'s driving with passengers and suddenly a person appears in its way. The car has to decide between the two options, either to run the person over or to avoid hitting the person by swerving into a wall, killing the passengers.[138] There are two main considerations that need to be addressed. First, what moral basis would be used by an automated vehicle to make decisions? Second, how could those be translated into software code? Researchers have suggested, in particular, two ethical theories to be applicable to the behavior of automated vehicles in cases of emergency: deontology and utilitarianism.[8][139] Asimov\\'s Three Laws of Robotics are a typical example of deontological ethics. The theory suggests that an automated car needs to follow strict written-out rules that it needs to follow in any situation. Utilitarianism suggests the idea that any decision must be made based on the goal to maximize utility. This needs a definition of utility which could be maximizing the number of people surviving in a crash. Critics suggest that automated vehicles should adapt a mix of multiple theories to be able to respond morally right in the instance of a crash.[8][139] Recently, some specific ethical frameworks i.e., utilitarianism, deontology, relativism, absolutism (monism), and pluralism, are investigated empirically with respect to the acceptance of self-driving cars in unavoidable accidents.[140]Many \\'trolley\\' discussions skip over the practical problems of how a probabilistic machine learning vehicle AI could be sophisticated enough to understand that a deep problem of moral philosophy is presenting itself from instant to instant while using a dynamic projection into the near future, what sort of moral problem it actually would be if any, what the relevant weightings in human value terms should be given to all the other humans involved who will be probably unreliably identified, and how reliably it can assess the probable outcomes. These practical difficulties, and those around testing and assessment of solutions to them, may present as much of a challenge as the theoretical abstractions.[141]While most trolley conundrums involve hyperbolic and unlikely fact patterns, it is inevitable mundane ethical decisions and risk calculations such as the precise millisecond a car should yield to a yellow light or how closely to drive to a bike lane will need to be programmed into the software of autonomous vehicles.[8][142] Mundane ethical situations may even be more relevant than rare fatal circumstances because of the specificity implicated and their large scope.[142] Mundane situations involving drivers and pedestrians are so prevalent that, in the aggregate, produce large amounts of injuries and deaths.[142] Hence, even incremental permutations of moral algorithms can have a notable effect when considered in their entirety.[142]Privacy-related issues arise mainly from the interconnectivity of automated cars, making it just another mobile device that can gather any information about an individual (see data mining). This information gathering ranges from tracking of the routes taken, voice recording, video recording, preferences in media that is consumed in the car, behavioral patterns, to many more streams of information.[99][143][144] The data and communications infrastructure needed to support these vehicles may also be capable of surveillance, especially if coupled to other data sets and advanced analytics.[99]The implementation of automated vehicles to the mass market might cost up to 5 million jobs in the US alone, making up almost 3% of the workforce.[145] Those jobs include drivers of taxis, buses, vans, trucks, and e-hailing vehicles. Many industries, such as the auto insurance industry are indirectly affected. This industry alone generates an annual revenue of about US$220 billion, supporting 277,000 jobs.[146] To put this into perspective–this is about the number of mechanical engineering jobs.[147] The potential loss of a majority of those jobs will have a tremendous impact on those individuals involved.[148]The Massachusetts Institute of Technology (MIT) has animated the trolley problem in the context of autonomous cars in a website called The Moral Machine.[149] The Moral Machine generates random scenarios in which autonomous cars malfunction and forces the user to choose between two harmful courses of action.[149] MIT\\'s Moral Machine experiment has collected data involving over 40 million decisions from people in 233 countries to ascertain peoples\\' moral preferences.  The MIT study illuminates that ethical preferences vary among cultures and demographics and likely correlate with modern institutions and geographic traits.[149]Global trends of the MIT study highlight that, overall, people prefer to save the lives of humans over other animals, prioritize the lives of many rather than few, and spare the lives of young rather than old.[149] Men are slightly more likely to spare the lives of women, and religious affiliates are slightly more likely to prioritize human life.  The lives of criminals were prioritized more than cats, but the lives of dogs were prioritized more than the lives of criminals.[150] The lives of homeless were spared more than the elderly, but the lives of homeless were spared less often than the obese.[150]People overwhelmingly express a preference for autonomous vehicles to be programmed with utilitarian ideas, that is, in a manner that generates the least harm and minimizes driving casualties.[151] While people want others to purchase utilitarian promoting vehicles, they themselves prefer to ride in vehicles that prioritize the lives of people inside the vehicle at all costs.[151] This presents a paradox in which people prefer that others drive utilitarian vehicles designed to maximize the lives preserved in a fatal situation but want to ride in cars that prioritize the safety of passengers at all costs.[151] People disapprove of regulations that promote utilitarian views and would be less willing to purchase a self-driving car that may opt to promote the greatest good at the expense of its passengers.[151]Bonnefon et al. conclude that the regulation of autonomous vehicle ethical prescriptions may be counterproductive to societal safety.[151] This is because, if the government mandates utilitarian ethics and people prefer to ride in self-protective cars, it could prevent the large scale implementation of self-driving cars.[151] Delaying the adoption of autonomous cars vitiates the safety of society as a whole because this technology is projected to save so many lives.[151] This is a paradigmatic example of the tragedy of the commons, in which rational actors cater to their self-interested preferences at the expense of societal utility.[152]To make a car 95% as safe as an experienced driver, 275 million failure-free autonomous miles (400 M km) are needed while several billions miles (or kilometers) are needed to make them 10% or 20% safer than humans.[153]The testing of vehicles with varying degrees of automation can be carried out either physically, in a closed environment[154] or, where permitted, on public roads (typically requiring a license or permit,[155] or adhering to a specific set of operating principles),[156] or in a virtual environment, i.e. using computer simulations.[157][158]\\nWhen driven on public roads, automated vehicles require a person to monitor their proper operation and \"take over\" when needed. For example, New York state has strict requirements for the test driver, such that the vehicle can be corrected at all times by a licensed operator; highlighted by Cardian Cube Company\\'s application and discussions with New York State officials and the NYS DMV.[159]Apple is testing self-driving cars, and has increased its fleet of test vehicles from three in April 2017, to 27 in January 2018, and 45 by March 2018.[160][161]Russian internet-company Yandex started to develop self-driving cars in early 2017. The first driverless prototype was launched in May 2017. In November 2017, Yandex released a video of its AV winter tests.[162] The car drove successfully along snowy roads of Moscow. In June 2018, Yandex self-driving vehicle completed a 485-mile (780\\xa0km) trip on a federal highway from Moscow to Kazan in autonomous mode.[163][164] In August 2018, Yandex launched a Europe\\'s first robotaxi service with no human driver behind the wheel in the Russian town of Innopolis.[165] At the beginning of 2020 it was reported that over 5,000 autonomous passenger rides were made in the city.[166] At the end of 2018, Yandex obtained a license\\xa0to operate autonomous vehicles on public roads in the U.S. state of Nevada. In 2019 and 2020, Yandex cars carried out demo rides for Consumer Electronic Show visitors in Las Vegas. Yandex cars were circulating the streets of the city without any human control.[167][168] In 2019 Yandex started testing its self-driving cars on the public roads of Israel.[169] In October 2019, Yandex became one of the companies selected by Michigan Department of Transportation (MDOT) to provide autonomous passenger rides to the visitors of Detroit Autoshow 2020.[170] At the end of 2019, Yandex made an announcement its self-driving cars passed 1 million miles in fully autonomous mode in Russia, Israel, and the United States.[171] In February 2020, Yandex doubled its mileage with 2 million miles passed.[172] In 2020, Yandex started to test its self-driving cars in Michigan.[173]The progress of automated vehicles can be assessed by computing the average distance driven between \"disengagements\", when the automated system is switched off, typically by the intervention of a human driver. In 2017, Waymo reported 63 disengagements over 352,545\\xa0mi (567,366\\xa0km) of testing, an average distance of 5,596\\xa0mi (9,006\\xa0km) between disengagements, the highest among companies reporting such figures. Waymo also traveled a greater total distance than any of the other companies. Their 2017 rate of 0.18 disengagements per 1,000\\xa0mi (1,600\\xa0km) was an improvement over the 0.2 disengagements per 1,000\\xa0mi (1,600\\xa0km) in 2016, and 0.8 in 2015. In March 2017, Uber reported an average of just 0.67\\xa0mi (1.08\\xa0km) per disengagement. In the final three months of 2017, Cruise (now owned by GM) averaged 5,224\\xa0mi (8,407\\xa0km) per disengagement over a total distance of 62,689\\xa0mi (100,888\\xa0km).[174] In July 2018, the first electric driverless racing car, \"Robocar\", completed a 1.8-kilometer track, using its navigation system and artificial intelligence.[175]Companies such as Otto and Starsky Robotics have focused on autonomous trucks. Automation of trucks is important, not only due to the improved safety aspects of these very heavy vehicles, but also due to the ability of fuel savings through platooning. Autonomous vans are being used by online grocers such as Ocado.[citation needed]Research has also indicated that goods distribution on the macro (urban distribution) and micro level (last mile delivery) could be made more efficient with the use of autonomous vehicles [178] thanks to the possibility of smaller vehicle sizes.China trialed the first automated public bus in Henan province in 2015, on a highway linking Zhengzhou and Kaifeng.[179][180] Baidu and King Long produce automated minibus, a vehicle with 14 seats, but without driving seat. With 100 vehicles produced, 2018 will be the first year with commercial automated service in China.[181][182]In Europe, cities in Belgium, France, Italy and the UK are planning to operate transport systems for automated cars,[183][184][185] and Germany, the Netherlands, and Spain have allowed public testing in traffic. In 2015, the UK launched public trials of the LUTZ Pathfinder automated pod in Milton Keynes.[186] Beginning in summer 2015, the French government allowed PSA Peugeot-Citroen to make trials in real conditions in the Paris area. The experiments were planned to be extended to other cities such as Bordeaux and Strasbourg by 2016.[187] The alliance between French companies THALES and Valeo (provider of the first self-parking car system that equips Audi and Mercedes premi) is testing its own system.[188] New Zealand is planning to use automated vehicles for public transport in Tauranga and Christchurch.[189][190][191][192]The traditional automobile industry is subject to changes driven by technology and market demands. These changes include breakthrough technological advances and when the market demands and adopts new technology quickly. In the rapid advance of both factors, the end of the era of incremental change was recognized. When the transition is made to new technology, new entrants to the automotive industry present themselves, which can be distinguished as mobility providers such as Uber and Lyft, as well as tech giants such as Google and Nvidia.[193]  As new entrants to the industry arise, market uncertainty naturally occurs due to the changing dynamics. For example, the entrance of tech giants, as well as the alliances between them and traditional car manufacturers causes a variation in the innovation and production process of autonomous vehicles. Additionally, the entrance of mobility providers has caused ambiguous user preferences. As a result of the rise of mobility providers, the number of vehicles per capita has flatlined. In addition, the rise of the sharing economy also contributes to market uncertainty and causes forecasters to question whether personal ownership of vehicles is still relevant as new transportation technology and mobility providers are becoming preferred among consumers.To help reduce the possibility of safety issues, some companies have begun to open-source parts of their driverless systems. Udacity for instance is developing an open-source software stack,[194] and some companies are having similar approaches.[195][196]According to a 2020 Annual Review of Public Health review of the literature, self-driving cars \"could increase some health risks (such as air pollution, noise, and sedentarism); however, if properly regulated, AVs will likely reduce morbidity and mortality from motor vehicle crashes and may help reshape cities to promote healthy urban environments.\"[197] Driving safety experts predict that once driverless technology has been fully developed, traffic collisions (and resulting deaths and injuries and costs) caused by human error, such as delayed reaction time, tailgating, rubbernecking, and other forms of distracted or aggressive driving should be substantially reduced.[1][198][199][200][201] With the increasing reliance of autonomous vehicles on interconnectivity and the availability of big data which is made usable in the form of real-time maps, driving decisions can be made much faster in order to prevent collisions.[8]Numbers made available by the US government state that 94% of vehicle accidents are due to human failures.[202] As a result, major implications for the healthcare industry become apparent. Numbers from the National Safety Council on killed and injured people on US roads multiplied by the average costs of a single incident reveal that an estimated US$500 billion loss may be imminent for the US healthcare industry when autonomous vehicles are dominating the roads. It is likely the anticipated decrease in traffic accidents will positively contribute to the widespread acceptance of autonomous vehicles, as well as the possibility to better allocate healthcare resources. If 90% of cars in the US became self-driving, for example, an estimated 25,000 lives would be saved annually. Lives saved by averting automobile crashes in the US has been valued at more than $200 billion annually.[197]Self-driving car would have the potential to save 10 million lives worldwide, per decade.[203][197]According to motorist website \"TheDrive.com\" operated by Time magazine, none of the driving safety experts they were able to contact was able to rank driving under an autopilot system at the time (2017) as having achieved a greater level of safety than traditional fully hands-on driving, so the degree to which these benefits asserted by proponents will manifest in practice cannot be assessed.[204] Confounding factors that could reduce the net effect on safety may include unexpected interactions between humans and partly or fully automated vehicles, or between different types of a vehicle system; complications at the boundaries of functionality at each automation level (such as handover when the vehicle reaches the limit of its capacity); the effect of the bugs and flaws that inevitably occur in complex interdependent software systems; sensor or data shortcomings; and successful compromise by malicious interveners. Security problems include what an autonomous car might do if summoned to pick up the owner but another person attempts entry, what happens if someone tries to break into the car, and what happens if someone attacks the occupants, for example by exchanging gunfire.[205]Some[who?] believe that once automation in vehicles reaches higher levels and becomes reliable, drivers will pay less attention to the road.[206] Research shows that drivers in automated cars react later when they have to intervene in a critical situation, compared to if they were driving manually.[207] Depending on the capabilities of automated vehicles and the frequency with which human intervention is needed, this may counteract any increase in safety, as compared to all-human driving, that may be delivered by other factors.An unexpected disadvantage of the widespread acceptance of autonomous vehicles would be a reduction in the supply of organs for donation.[208]  In the US, for example, 13% of the organ donation supply comes from car crash victims.[197]According to a 2020 study, self-driving cars will increase productivity, and housing affordability, as well as reclaim land used for parking.[209] However, self-driving cars will cause greater energy use, traffic congestion and sprawl.[209] Automated cars could reduce labor costs;[210][211] relieve travelers from driving and navigation chores, thereby replacing behind-the-wheel commuting hours with more time for leisure or work;[198][201] and also would lift constraints on occupant ability to drive, distracted and texting while driving, intoxicated, prone to seizures, or otherwise impaired.[212][213][214]For the young, the elderly, people with disabilities, and low-income citizens, automated cars could provide enhanced mobility.[215][216] The removal of the steering wheel—along with the remaining driver interface and the requirement for any occupant to assume a forward-facing position—would give the interior of the cabin greater ergonomic flexibility. Large vehicles, such as motorhomes, would attain appreciably enhanced ease of use.[217]The elderly and persons with disabilities (such as persons who are hearing-impaired, vision-impaired, mobility-impaired, or cognitively-impaired) are potential beneficiaries of adoption of autonomous vehicles; however, the extent to which such populations gain greater mobility from the adoption of AV technology depends on the specific designs and regulations adopted.[218][219]Children and teens, who are not able to drive a vehicle themselves in case of student transport, would also benefit of the introduction of autonomous cars.[220] Daycares and schools are able to come up with automated pick-up and drop-off systems by car in addition to walking, cycling and busing, causing a decrease of reliance on parents and childcare workers.The extent to which human actions are necessary for driving will vanish. Since current vehicles require human actions to some extent, the driving school industry will not be disrupted until the majority of autonomous transportation is switched to the emerged dominant design. It is plausible that in the distant future driving a vehicle will be considered as a luxury, which implies that the structure of the industry is based on new entrants and a new market.[221] Self-driving cars would also exasperate existing mobility inequalities driven by the interests of car companies and technology companies while taking investment away from more equitable and sustainable mobility initiatives such as public transportation.[222]According to a Wonkblog reporter, if fully automated cars become commercially available, they have the potential to be a disruptive innovation with major implications for society. The likelihood of widespread adoption is still unclear, but if they are used on a wide scale, policymakers face a number of unresolved questions about their effects.[118]One fundamental question is about their effect on travel behavior. Some people believe that they will increase car ownership and car use because it will become easier to use them and they will ultimately be more useful.[118] This may, in turn, encourage urban sprawl and ultimately total private vehicle use. Others argue that it will be easier to share cars and that this will thus discourage outright ownership and decrease total usage, and make cars more efficient forms of transportation in relation to the present situation.[99][223]Policy-makers will have to take a new look at how infrastructure is to be built and how money will be allotted to build for automated vehicles. The need for traffic signals could potentially be reduced with the adoption of smart highways.[224] Due to smart highways and with the assistance of smart technological advances implemented by policy change, the dependence on oil imports may be reduced because of less time being spent on the road by individual cars which could have an effect on policy regarding energy.[225] On the other hand, automated vehicles could increase the overall number of cars on the road which could lead to a greater dependence on oil imports if smart systems are not enough to curtail the impact of more vehicles.[226] However, due to the uncertainty of the future of automated vehicles, policymakers may want to plan effectively by implementing infrastructure improvements that can be beneficial to both human drivers and automated vehicles.[227] Caution needs to be taken in acknowledgment to public transportation and that the use may be greatly reduced if automated vehicles are catered to through policy reform of infrastructure with this resulting in job loss and increased unemployment.[228]Other disruptive effects will come from the use of automated vehicles to carry goods. Self-driving vans have the potential to make home deliveries significantly cheaper, transforming retail commerce and possibly making hypermarkets and supermarkets redundant. As of 2019[update] the US Department of Transportation defines automation into six levels, starting at level zero which means the human driver does everything and ending with level five, the automated system performs all the driving tasks. Also under the current law, manufacturers bear all the responsibility to self-certify vehicles for use on public roads. This means that currently as long as the vehicle is compliant within the regulatory framework, there are no specific federal legal barriers in the US to a highly automated vehicle being offered for sale. Iyad Rahwan, an associate professor in the MIT Media Lab said, \"Most people want to live in a world where cars will minimize casualties, but everyone wants their own car to protect them at all costs.\" Furthermore, industry standards and best practice are still needed in systems before they can be considered reasonably safe under real-world conditions.[229]Additional advantages could include higher speed limits;[230] smoother rides;[231] and increased roadway capacity; and minimized traffic congestion, due to decreased need for safety gaps and higher speeds.[232][233] Currently, maximum controlled-access highway throughput or capacity according to the US Highway Capacity Manual is about 2,200 passenger vehicles per hour per lane, with about 5% of the available road space is taken up by cars. One study estimated that automated cars could increase capacity by 273% (≈8,200 cars per hour per lane). The study also estimated that with 100% connected vehicles using vehicle-to-vehicle communication, capacity could reach 12,000 passenger vehicles per hour (up 545% from 2,200\\xa0pc/h per lane) traveling safely at 120\\xa0km/h (75\\xa0mph) with a following gap of about 6\\xa0m (20\\xa0ft) of each other. Human drivers at highway speeds keep between 40 to 50\\xa0m (130 to 160\\xa0ft) away from the vehicle in front. These increases in highway capacity could have a significant impact in traffic congestion, particularly in urban areas, and even effectively end highway congestion in some places.[234] The ability for authorities to manage traffic flow would increase, given the extra data and driving behavior predictability[235] combined with less need for traffic police and even road signage.Safer driving is expected to reduce the costs of vehicle insurance.[210][236][failed verification] The automobile insurance industry might suffer as the technology makes certain aspects of these occupations obsolete.[216] As fewer collisions implicate less money spent on repair costs, the role of the insurance industry is likely to be altered as well. It can be expected that the increased safety of transport due to autonomous vehicles will lead to a decrease in payouts for the insurers, which is positive for the industry, but fewer payouts may imply a demand drop for insurances in general. In order to accommodate such changes, the Automated and Electric Vehicles Act 2018 was introduced. While Part 2 deals with Electric Vehicles, Part 1 covers insurance provisions for automated vehicles.A direct impact of widespread adoption of automated vehicles is the loss of driving-related jobs in the road transport industry.[1][210][211][237] There could be resistance from professional drivers and unions who are threatened by job losses.[238] In addition, there could be job losses in public transit services and crash repair shops. A frequently cited paper by Michael Osborne and Carl Benedikt Frey found that automated cars would make many jobs redundant.[239] The industry has, however created thousands of jobs in low-income countries for workers who train autonomous systems.[240]A review found that private autonomous vehicles may increase total travel, whereas autonomous buses may lead to reduced car use.[241]Vehicle automation can improve fuel economy of the car by optimizing the drive cycle, as well as increasing congested traffic speeds by an estimated 8%-13%.[242][243] Reduced traffic congestion and the improvements in traffic flow due to widespread use of automated cars will translate into higher fuel efficiency, ranging from a 23%-39% increase, with the potential to further increase.[242][244]  Additionally, self-driving cars will be able to accelerate and brake more efficiently, meaning higher fuel economy from reducing wasted energy typically associated with inefficient changes to speed. However, the improvement in vehicle energy efficiency does not necessarily translate to net reduction in energy consumption and positive environmental outcomes. Alongside the induced demand, there may also be a reduction in the use of more sustainable modes, such as public or active transport. It is expected that convenience of the automated vehicles encourages the consumers to travel more, and this induced demand may partially or fully offset the fuel efficiency improvement brought by automation.[243] Alongside the induced demand, there may also be a reduction in the use of more sustainable modes, such as public or active transport.[245] Overall, the consequences of vehicle automation on global energy demand and emissions are highly uncertain, and heavily depends on the combined effect of changes in consumer behavior, policy intervention, technological progress and vehicle technology.[243]By reducing the labor and other costs of mobility as a service, automated cars could reduce the number of cars that are individually owned, replaced by taxi/pooling and other car-sharing services.[246][247] This would also dramatically reduce the size of the automotive production industry, with corresponding environmental and economic effects.The lack of stressful driving, more productive time during the trip, and the potential savings in travel time and cost could become an incentive to live far away from cities, where housing is cheaper, and work in the city\\'s core, thus increasing travel distances and inducing more urban sprawl, raising energy consumption and enlarging the carbon footprint of urban travel.[243][248][249] There is also the risk that traffic congestion might increase, rather than decrease.[243][216] Appropriate public policies and regulations, such as zoning, pricing, and urban design are required to avoid the negative impacts of increased suburbanization and longer distance travel.[216][249]Since many autonomous vehicles are going to rely on electricity to operate, the demand for lithium batteries increases. Similarly, radar, sensors, lidar, and high-speed internet connectivity require higher auxiliary power from vehicles, which manifests as greater power draw from batteries.[243] The larger battery requirement causes a necessary increase in the supply of these type of batteries for the chemical industry. On the other hand, with the expected increase of battery-powered (autonomous) vehicles, the petroleum industry is expected to undergo a decline in demand. As this implication depends on the adoption rate of autonomous vehicles, it is unsure to what extent this implication will disrupt this particular industry. This transition phase of oil to electricity allows companies to explore whether there are business opportunities for them in the new energy ecosystem. In 2020, Mohan, Sripad, Vaishnav & Viswanathan at Carnegie Mellon University[250] found that the electricity consumption of all the automation technology, including sensors, computation, internet access as well as the increased drag from sensors causes up to a 15% impact on the range of an automated electric vehicle, therefore, implying that the larger battery requirement might not be as large as previously assumed.A study conducted by AAA Foundation for Traffic Safety found that drivers did not trust self-parking technology, even though the systems outperformed drivers with a backup camera. The study tested self-parking systems in a variety of vehicles (Lincoln MKC, Mercedes-Benz ML400 4Matic, Cadillac CTS-V Sport, BMW i3 and Jeep Cherokee Limited) and found that self-parking cars hit the curb 81% fewer times, used 47% fewer manoeuvres and parked 10% faster than drivers. Yet, only 25% of those surveyed said they would trust this technology.[251]Manually driven vehicles are reported to be used only 4–5% of the time, and being parked and unused for the remaining 95–96% of the time.[252][253] Autonomous taxis could, on the other hand, be used continuously after they have reached their destination. This could dramatically reduce the need for parking space. For example, in Los Angeles a 2015 study found 14% of the land is used for parking alone, equivalent to some 1,702 hectares (4,210 acres).[254][255] This combined with the potential reduced need for road space due to improved traffic flow, could free up large amounts of land in urban areas, which could then be used for parks, recreational areas, buildings, among other uses; making cities more livable. Besides this, privately owned self-driving cars, also capable of self-parking would provide another advantage: the ability to drop off and pick up passengers even in places where parking is prohibited. This would benefit park and ride facilities.[256]The vehicles\\' increased awareness could aid the police by reporting on illegal passenger behaviour, while possibly enabling other crimes, such as deliberately crashing into another vehicle or a pedestrian.[257] However, this may also lead to much-expanded mass surveillance if there is wide access granted to third parties to the large data sets generated.Privacy could be an issue when having the vehicle\\'s location and position integrated into an interface that other people have access to.[1][258]  Moreover, they require a sensor-based infrastructure that would constitute an all-encompassing surveillance apparatus.[259] This gives the car manufacturers and other companies the data needed to understand the user\\'s lifestyle and personal preferences.[260]There is the risk of terrorist attacks by automotive hacking through the sharing of information through V2V (Vehicle to Vehicle) and V2I (Vehicle to Infrastructure) protocols.[261][262][263] Self-driving cars could potentially be loaded with explosives and used as bombs.[264] According to legislation of US lawmakers, autonomous and self-driving vehicles should be equipped with defences against hacking.[265]With the aforementioned ambiguous user preference regarding the personal ownership of autonomous vehicles, it is possible that the current mobility provider trend will continue as it rises in popularity. Established providers such as Uber and Lyft are already significantly present within the industry, and it is likely that new entrants will enter when business opportunities arise.[266]As collisions are less likely to occur, and the risk for human errors is reduced significantly, the repair industry will face an enormous reduction of work that has to be done on the reparation of car frames. Meanwhile, as the generated data of the autonomous vehicle is likely to predict when certain replaceable parts are in need of maintenance, car owners and the repair industry will be able to proactively replace a part that will fail soon. This \"Asset Efficiency Service\" would implicate a productivity gain for the automotive repair industry.The technique used in autonomous driving also ensures life savings in other industries. The implementation of autonomous vehicles with rescue, emergency response, and military applications has already led to a decrease in deaths.[citation needed] Military personnel use autonomous vehicles to reach dangerous and remote places on earth to deliver fuel, food and general supplies and even rescue people. In addition, a future implication of adopting autonomous vehicles could lead to a reduction in deployed personnel, which will lead to a decrease in injuries, since the technological development allows autonomous vehicles to become more and more autonomous. Another future implication is the reduction of emergency drivers when autonomous vehicles are deployed as fire trucks or ambulances. An advantage could be the use of real-time traffic information and other generated data to determine and execute routes more efficiently than human drivers. The time savings can be invaluable in these situations.[267]With the driver decreasingly focused on operating a vehicle, the interior design and media-entertainment industry will have to reconsider what passengers of autonomous vehicles are doing when they are on the road. Vehicles need to be redesigned, and possibly even be prepared for multipurpose usage. In practice, it will show that travellers have more time for business and/or leisure. In both cases, this gives increasing opportunities for the media-entertainment industry to demand attention. Moreover, the advertisement business is able to provide location-based ads without risking driver safety.[268]All cars can benefit from information and connections, but autonomous cars \"Will be fully capable of operating without C-V2X.\"[269] In addition, the earlier mentioned entertainment industry is also highly dependent on this network to be active in this market segment. This implies higher revenues for the telecommunication industry.Driver interactions with the vehicle will be less common within the near future, and in the more distant future, the responsibility will lie entirely with the vehicle. As indicated above, this will have implications for the entertainment- and interior design industry. For roadside restaurants, the implication will be that the need for customers to stop driving and enter the restaurant will vanish, and the autonomous vehicle will have a double function. Moreover, accompanied by the rise of disruptive platforms such as Airbnb that have shaken up the hotel industry, the fast increase of developments within the autonomous vehicle industry might cause another implication for their customer bases. In the more distant future, the implication for motels might be that a decrease in guests will occur, since autonomous vehicles could be redesigned as fully equipped bedrooms. The improvements regarding the interior of the vehicles might additionally have implications for the airline industry. In the case of relatively short-haul flights, waiting times at customs or the gate imply lost time and hassle for customers. With the improved convenience in future car travel, it is possible that customers might go for this option, causing a loss in customer bases for the airline industry.[270]In mid‑October 2015, Tesla Motors rolled out version 7 of their software in the US that included Tesla Autopilot capability.[271] On 9 January 2016, Tesla rolled out version 7.1 as an over-the-air update, adding a new \"summon\" feature that allows cars to retrieve or self-park at parking locations without the driver in the car.[272] As of November\\xa02020[update], Tesla\\'s automated driving features is currently classified as a Level 2 driver assistance system according to the Society of Automotive Engineers\\' (SAE) five levels of vehicle automation.[55] At this level the car can be automated but requires the full attention of the driver, who must be prepared to take control at a moment\\'s notice;[273][274][275][276] Autopilot will sometimes fail to detect lane markings and disengage itself while alerting the driver.[277]On 20 January 2016, the first of five known fatal crashes of a Tesla with Autopilot occurred in China\\'s Hubei province.[278] According to China\\'s 163.com news channel, this marked \"China\\'s first accidental death due to Tesla\\'s automatic driving (system)\". Initially, Tesla pointed out that the vehicle was so badly damaged from the impact that their recorder was not able to conclusively prove that the car had been on Autopilot at the time; however, 163.com pointed out that other factors, such as the car\\'s absolute failure to take any evasive actions prior to the high speed crash, and the driver\\'s otherwise good driving record, seemed to indicate a strong likelihood that the car was on Autopilot at the time. A similar fatal crash occurred four months later in Florida.[279][280] In 2018, in a subsequent civil suit between the father of the driver killed and Tesla, Tesla did not deny that the car had been on Autopilot at the time of the accident, and sent evidence to the victim\\'s father documenting that fact.[281]The second known fatal accident involving a vehicle being driven by itself took place in Williston, Florida on 7 May 2016 while a Tesla Model S electric car was engaged in Autopilot mode. The occupant was killed in a crash with an 18-wheel tractor-trailer. On 28 June 2016 the US National Highway Traffic Safety Administration (NHTSA) opened a formal investigation into the accident working with the Florida Highway Patrol. According to NHTSA, preliminary reports indicate the crash occurred when the tractor-trailer made a left turn in front of the Tesla at an intersection on a non-controlled access highway, and the car failed to apply the brakes. The car continued to travel after passing under the truck\\'s trailer.[282][283] NHTSA\\'s preliminary evaluation was opened to examine the design and performance of any automated driving systems in use at the time of the crash, which involved a population of an estimated 25,000 Model S cars.[284] On 8 July 2016, NHTSA requested Tesla Motors provide the agency detailed information about the design, operation and testing of its Autopilot technology. The agency also requested details of all design changes and updates to Autopilot since its introduction, and Tesla\\'s planned updates schedule for the next four months.[285]According to Tesla, \"neither autopilot nor the driver noticed the white side of the tractor-trailer against a brightly lit sky, so the brake was not applied.\" The car attempted to drive full speed under the trailer, \"with the bottom of the trailer impacting the windshield of the Model S\". Tesla also claimed that this was Tesla\\'s first known autopilot death in over 130\\xa0million miles (210\\xa0million kilometers) driven by its customers with Autopilot engaged, however by this statement, Tesla was apparently refusing to acknowledge claims that the January 2016 fatality in Hubei China had also been the result of an autopilot system error. According to Tesla there is a fatality every 94\\xa0million miles (151\\xa0million kilometers) among all type of vehicles in the US[282][283][286] However, this number also includes fatalities of the crashes, for instance, of motorcycle drivers with pedestrians.[287][288]In July 2016, the US National Transportation Safety Board (NTSB) opened a formal investigation into the fatal accident while the Autopilot was engaged. The NTSB is an investigative body that has the power to make only policy recommendations. An agency spokesman said \"It\\'s worth taking a look and seeing what we can learn from that event, so that as that automation is more widely introduced we can do it in the safest way possible.\"[289] In January 2017, the NTSB released the report that concluded Tesla was not at fault; the investigation revealed that for Tesla cars, the crash rate dropped by 40 percent after Autopilot was installed.[290]Waymo originated as a self-driving car project within Google. In August 2012, Google announced that their vehicles had completed over 300,000 automated-driving miles (500,000\\xa0km) accident-free, typically involving about a dozen cars on the road at any given time, and that they were starting to test with single drivers instead of in pairs.[291] In late-May 2014, Google revealed a new prototype that had no steering wheel, gas pedal, or brake pedal, and was fully automated .[292] As of March\\xa02016[update], Google had test-driven their fleet in automated mode a total of 1,500,000\\xa0mi (2,400,000\\xa0km).[293] In December 2016, Google Corporation announced that its technology would be spun off to a new company called Waymo, with both Google and Waymo becoming subsidiaries of a new parent company called Alphabet.[294][295]According to Google\\'s accident reports as of early 2016, their test cars had been involved in 14 collisions, of which other drivers were at fault 13 times, although in 2016 the car\\'s software caused a crash.[296]In June 2015, Brin confirmed that 12 vehicles had suffered collisions as of that date. Eight involved rear-end collisions at a stop sign or traffic light, two in which the vehicle was side-swiped by another driver, one in which another driver rolled through a stop sign, and one where a Google employee was controlling the car manually.[297] In July 2015, three Google employees suffered minor injuries when their vehicle was rear-ended by a car whose driver failed to brake at a traffic light. This was the first time that a collision resulted in injuries.[298] On 14 February 2016 a Google vehicle attempted to avoid sandbags blocking its path. During the maneuver it struck a bus. Google stated, \"In this case, we clearly bear some responsibility, because if our car hadn\\'t moved, there wouldn\\'t have been a collision.\"[299][300] Google characterized the crash as a misunderstanding and a learning experience. No injuries were reported in the crash.[296]In March 2017, an Uber test vehicle was involved in a crash in Tempe, Arizona when another car failed to yield, flipping the Uber vehicle. There were no injuries in the accident.[301]By 22 December 2017, Uber had completed 2\\xa0million miles (3.2\\xa0million kilometers) in automated mode.[302]On 18 March 2018, Elaine Herzberg became the first pedestrian to be killed by a self-driving car in the United States after being hit by an Uber vehicle, also in Tempe. Herzberg was crossing outside of a crosswalk, approximately 400 feet from an intersection.[303] This marks the first time an individual is known to have been killed by an autonomous vehicle.The first death of an essentially uninvolved third party is likely to raise new questions and concerns about the safety of automated cars in general.[304] Some experts say a human driver could have avoided the fatal crash.[305] Arizona Governor Doug Ducey later suspended the company\\'s ability to test and operate its automated cars on public roadways citing an \"unquestionable failure\" of the expectation that Uber make public safety its top priority.[306] Uber has pulled out of all self-driving-car testing in California as a result of the accident.[307] On 24 May 2018 the US National Transport Safety Board issued a preliminary report.[308]On 16 September 2020, according to the BBC, the backup driver has been charged of negligent homicide, because she did not look to the road for several seconds while her television was streaming The Voice broadcast by Hulu.\\nUber does not face any criminal charge because in the USA there is no basis for criminal liability for the corporation.\\nThe driver is assumed to be responsible of the accident, because she was in the driver seat in capacity to avoid an accident (like in a Level 3). Trial is planned for February 2021.[309]On 9 November 2017, a Navya automated self-driving bus with passengers was involved in a crash with a truck. The truck was found to be at fault of the crash, reversing into the stationary automated bus. The automated bus did not take evasive actions or apply defensive driving techniques such as flashing its headlights, or sounding the horn. As one passenger commented, \"The shuttle didn\\'t have the ability to move back. The shuttle just stayed still.\"[310]In a 2011 online survey of 2,006 US and UK consumers by Accenture, 49% said they would be comfortable using a \"driverless car\".[311]A 2012 survey of 17,400 vehicle owners by J.D. Power and Associates found 37% initially said they would be interested in purchasing a \"fully autonomous car\". However, that figure dropped to 20% if told the technology would cost US$3,000 more.[312]In a 2012 survey of about 1,000 German drivers by automotive researcher Puls, 22% of the respondents had a positive attitude towards these cars, 10% were undecided, 44% were skeptical and 24% were hostile.[313]A 2013 survey of 1,500 consumers across 10 countries by Cisco Systems found 57% \"stated they would be likely to ride in a car controlled entirely by technology that does not require a human driver\", with Brazil, India and China the most willing to trust automated technology.[314]In a 2014 US telephone survey by Insurance.com, over three-quarters of licensed drivers said they would at least consider buying a self-driving car, rising to 86% if car insurance were cheaper. 31.7% said they would not continue to drive once an automated car was available instead.[315]In a February 2015 survey of top auto journalists, 46% predict that either Tesla or Daimler will be the first to the market with a fully autonomous vehicle, while (at 38%) Daimler is predicted to be the most functional, safe, and in-demand autonomous vehicle.[316]In 2015 a questionnaire survey by Delft University of Technology explored the opinion of 5,000 people from 109 countries on automated driving. Results showed that respondents, on average, found manual driving the most enjoyable mode of driving. 22% of the respondents did not want to spend any money for a fully automated driving system. Respondents were found to be most concerned about software hacking/misuse, and were also concerned about legal issues and safety. Finally, respondents from more developed countries (in terms of lower accident statistics, higher education, and higher income) were less comfortable with their vehicle transmitting data.[317] The survey also gave results on potential consumer opinion on interest of purchasing an automated car, stating that 37% of surveyed current owners were either \"definitely\" or \"probably\" interested in purchasing an automated car.[317]In 2016, a survey in Germany examined the opinion of 1,603 people, who were representative in terms of age, gender, and education for the German population, towards partially, highly, and fully automated cars. Results showed that men and women differ in their willingness to use them. Men felt less anxiety and more joy towards automated cars, whereas women showed the exact opposite. The gender difference towards anxiety was especially pronounced between young men and women but decreased with participants\\' age.[318]In 2016, a PwC survey, in the United States, showing the opinion of 1,584 people, highlights that \"66 percent of respondents said they think autonomous cars are probably smarter than the average human driver\". People are still worried about safety and mostly the fact of having the car hacked. Nevertheless, only 13% of the interviewees see no advantages in this new kind of cars.[319]In 2017, Pew Research Center surveyed 4,135 US adults from 1–15 May and found that many Americans anticipate significant impacts from various automation technologies in the course of their lifetimes—from the widespread adoption of automated vehicles to the replacement of entire job categories with robot workers.[320]In 2019, results from two opinion surveys of 54 and 187 US adults respectively were published. A new standardised questionnaire, the autonomous vehicle acceptance model (AVAM) was developed, including additional description to help respondents better understand the implications of different automation levels. Results showed that users were less accepting of high autonomy levels and displayed significantly lower intention to use highly autonomous vehicles. Additionally, partial autonomy (regardless of level) was perceived as requiring uniformly higher driver engagement (usage of hands, feet and eyes) than full autonomy.[321]The Geneva Convention on Road Traffic subscribed to by over 101 countries worldwide, requires the driver to be 18 years old.The 1968 Vienna Convention on Road Traffic, subscribed to by over 70 countries worldwide, establishes principles to govern traffic laws. One of the fundamental principles of the convention has been the concept that a driver is always fully in control and responsible for the behavior of a vehicle in traffic.[322] In 2016, a reform of the convention has open possibilities for automated features. The progress of technology that assists and takes over the functions of the driver is undermining this principle, implying that much of the groundwork must be rewritten.[citation needed]This means that in those countries cars might be automated or autonomous or self-driving but not driver-less.In 2019, Japan amended two laws, \"Road Traffic Act\" and \"Road Transport Vehicle Act\",[323] and they came into effect in April 2020. In the former act, Level 3 self driving cars became allowed on public roads.[324]\\nIn the latter act, process to designate types for safety certification on Level 3 self driving function of \\nAutonomous Driving System (ADS) and the certification process for the asserted type were legally defined.[325]\\nThrough the amendment process, the achievements from the national project \"SIP-adus\" led by Cabinet Office since 2014 were fully considered and accepted.[326]In 2020, the next stage national level roadmap plan was officially issued which had considered social deployment and acceptability of Level 4.[327][328]In 2021, National Police Agency published its committee report of FY 2020 on summary of issues in research to realize Level 4 mobility services, including required legal amendment issues.[329][330]In the United States, a non-signatory country to the Vienna Convention, state vehicle codes generally do not envisage—but do not necessarily prohibit—highly automated vehicles as of 2012[update].[331][332] To clarify the legal status of and otherwise regulate such vehicles, several states have enacted or are considering specific laws.[333] By 2016, seven states (Nevada, California, Florida, Michigan, Hawaii, Washington, and Tennessee), along with the District of Columbia, have enacted laws for automated vehicles. Incidents such as the first fatal accident by Tesla\\'s Autopilot system have led to discussion about revising laws and standards for automated cars.In September 2016, the US National Economic Council and US Department of Transportation (USDOT) released the Federal Automated Vehicles Policy,[334] which are standards that describe how automated vehicles should react if their technology fails, how to protect passenger privacy, and how riders should be protected in the event of an accident. The new federal guidelines are meant to avoid a patchwork of state laws, while avoiding being so overbearing as to stifle innovation.[335] Since then, USDOT has released multiple updates:The National Highway Traffic Safety Administration released for public comment the Occupant Protection for Automated Driving System on 30 March 2020,[339] followed by the Framework for Automated Driving System Safety on 3 December 2020.[340] Occupant Protection is intended to modernize the Federal Motor Vehicle Safety Standards considering the removal of manual controls with automated driving systems,[341] while the Framework document is intended to provide an objective way to define and assess automated driving system competence to ensure motor vehicle safety while also remaining flexible to accommodate the development of features to improve safety.[342]In June 2011, the Nevada Legislature passed a law to authorize the use of automated cars. Nevada thus became the first jurisdiction in the world where automated vehicles might be legally operated on public roads. According to the law, the Nevada Department of Motor Vehicles is responsible for setting safety and performance standards and the agency is responsible for designating areas where automated cars may be tested.[343][344][345] This legislation was supported by Google in an effort to legally conduct further testing of its Google driverless car.[346] The Nevada law defines an automated vehicle to be \"a motor vehicle that uses artificial intelligence, sensors and global positioning system coordinates to drive itself without the active intervention of a human operator\". The law also acknowledges that the operator will not need to pay attention while the car is operating itself. Google had further lobbied for an exemption from a ban on distracted driving to permit occupants to send text messages while sitting behind the wheel, but this did not become law.[346][347][348] Furthermore, Nevada\\'s regulations require a person behind the wheel and one in the passenger\\'s seat during tests.[349]In April 2012, Florida became the second state to allow the testing of automated cars on public roads.[350]California became the third state to allow automated car testing when Governor Jerry Brown signed SB 1298 into law in September 2012 at Google Headquarters in Mountain View.[351]On 19 February 2016, California Assembly Bill 2866 was introduced in California that would allow automated vehicles to operate on public roads, including those without a driver, steering wheel, accelerator pedal, or brake pedal. The bill states that the California Department of Motor Vehicles would need to comply with these regulations by 1 July 2018 for these rules to take effect. As of November\\xa02016[update], this bill has yet to pass the house of origin.[352] California published discussions on the proposed federal automated vehicles policy in October 2016.[353]In December 2016, the California Department of Motor Vehicles ordered Uber to remove its self-driving vehicles from the road in response to two red-light violations. Uber immediately blamed the violations on human-error, and has suspended the drivers.[354]In Washington, DC\\'s district code: \"Autonomous vehicle\" means a vehicle capable of navigating District roadways and interpreting traffic-control devices without a driver actively operating any of the vehicle\\'s control systems. The term \"autonomous vehicle\" excludes a motor vehicle enabled with active safety systems or driver- assistance systems, including systems to provide electronic blind-spot assistance, crash avoidance, emergency braking, parking assistance, adaptive cruise control, lane-keep assistance, lane-departure warning, or traffic-jam and queuing assistance, unless the system alone or in combination with other systems enables the vehicle on which the technology is installed to drive without active control or monitoring by a human operator.In the same district code, it is considered that:An autonomous vehicle may operate on a public roadway; provided, that the vehicle:In December 2013, Michigan became the fourth state to allow testing of driverless cars on public roads.[355] In July 2014, the city of Coeur d\\'Alene, Idaho adopted a robotics ordinance that includes provisions to allow for self-driving cars.[356]In 2013, the government of the United Kingdom permitted the testing of automated cars on public roads.[357] Before this, all testing of robotic vehicles in the UK had been conducted on private property.[357]In 2014, the Government of France announced that testing of automated cars on public roads would be allowed in 2015. 2000\\xa0km of road would be opened through the national territory, especially in Bordeaux, in Isère, Île-de-France and Strasbourg. At the 2015 ITS World Congress, a conference dedicated to intelligent transport systems, the very first demonstration of automated vehicles on open road in France was carried out in Bordeaux in early October 2015.[358]In 2015, a preemptive lawsuit against various automobile companies such as GM, Ford, and Toyota accused them of \"Hawking vehicles that are vulnerable to hackers who could hypothetically wrest control of essential functions such as brakes and steering.\"[359]In spring of 2015, the Federal Department of Environment, Transport, Energy and Communications in Switzerland (UVEK) allowed Swisscom to test a driverless Volkswagen Passat on the streets of Zurich.[360]As of April 2017, it is possible to conduct public road tests for development vehicles in Hungary, furthermore the construction of a closed test track, the ZalaZone test track,[361] suitable for testing highly automated functions is also under way near the city of Zalaegerszeg.[362]Since 2017 German law requires \"data processing in the case of vehicles with a highly or fully automated driving function\",[363] in order to clarify responsibilities. \\nIt stores position and time provided by satellite navigation system when control of the vehicle changes from the driver to the highly or fully automated system, or when the driver is prompted by the system to retake control of the vehicle or when the system experiences a technical default.Regulation (EU) 2019/2144 of the European Parliament and of the Council of 27 November 2019 on type-approval requirements for motor vehicles defines specific requirements relating to automated vehicles and fully automated vehicles. This law is applicable from 2022 and is based on uniform procedures and technical specifications for the systems and other items.[364]In 2021, the UK is working on a new law proposal to allow self-driving automated lane keeping systems (ALKS) up to 37mph (or 60 km/h[365]) after a mixed reaction of experts during the consultation launched in summer 2020.[366] This system would be allowed to give back control to the driver when \"unplanned events\" such as road construction or inclement weather occurs.[367]In 2016, the Singapore Land Transit Authority in partnership with UK automotive supplier Delphi Automotive, began launch preparations for a test run of a fleet of automated taxis for an on-demand automated cab service to take effect in 2017.[368]In 2017, the South Korean government stated that the lack of universal standards is preventing its own legislation from pushing new domestic rules. However, once the international standards are settled, South Korea\\'s legislation will resemble the international standards.[369]In 2018, China introduced regulations to regulate autonomous cars, for conditional automation, high-level automation and full automation (L3, L4 and L5 SAE levels).[370]The rules lay out requirements that vehicles must first be tested in non-public zones, that road tests can only be on designated streets and that a qualified person must always sit in the driver’s position, ready to take over control.Chinese regulation gives Ministry of Industry and Information Technology (MIIT), the Ministry of Public Security (MPS) and Ministry of Transport (MOT) regulatory competence.[370]Chinese regulation mandates remote monitoring capability and capacity to record, analyze and remake the incident of the test vehicles.[370]the National Rules further require that the testing applicant should have the financial capability for personal injury and property damage during the testing.Requirements for a test driver are at least a 3-years unblemished driving experience.[370]Automated vehicles are required capacity to automatically record and store information during the 90 seconds before accident or malfunction. Those data should be stored at least 3 years.[370]In 2021, China plans to add highways to the list of roads were provincial and city-level authorities can authorize automated cars.[372]In 2021, NIO manufactures cars with autonomous driving system with level similar to Tesla:[373]\\nNIO is working on a Level 2 and a Level 4 vehicle.[374]NIO has built up the NAD full stack autonomous driving capability including perception algorithms, localization, control strategy and platform software. NIO Aquila Super Sensing features 33 high-performance sensing units, including 11 8MP high-resolution cameras, 1 ultralong-range high-resolution LiDAR, 5 millimeter wave radars, 12 ultrasonic sensors, 2 high-precision positioning units, V2X and ADMS. Aquila can generate 8GB data per second. NIO Adam features 4 Nvidia Orin SoCs with a total computing power of 1,016 TOPS.[375]NIO is taking a Tesla-like approach when it comes to the autonomous driving capabilities.It will deliver safety features enabled by their autonomous driving technology as standard features, but it will charge for autonomous driving features, which are going to be offered as a subscription.Deliveries are expected to start in Q1 2022.Australia also has some ongoing trials.[377]Vehicles with higher levels of automation are not yet commercially available in Australia, although trials of these vehicles are currently underway both here and overseas.Noting this uncertainty, Australia’s transport ministers have agreed to a phased reform program to enable Level 3 ‘conditionally automated’ vehicles to operate safely and legally on our roads by 2020.Self-driving car liability is a developing area of law and policy that will determine who is liable when an automated car causes physical damage to persons, or breaks road rules.[1][379] When automated cars shift the control of driving from humans to automated car technology the driver will need to consent to share operational responsibility[380] which will require a legal framework. There may be a need for existing liability laws to evolve in order to fairly identify the parties responsible for damage and injury, and to address the potential for conflicts of interest between human occupants, system operator, insurers, and the public purse.[216] Increases in the use of automated car technologies (e.g. advanced driver-assistance systems) may prompt incremental shifts in this responsibility for driving. It is claimed by proponents to have potential to affect the frequency of road accidents, although it is difficult to assess this claim in the absence of data from substantial actual use.[381] If there was a dramatic improvement in safety, the operators may seek to project their liability for the remaining accidents onto others as part of their reward for the improvement.  However, there is no obvious reason why they should escape liability if any such effects were found to be modest or nonexistent, since part of the purpose of such liability is to give an incentive to the party controlling something to do whatever is necessary to avoid it causing harm. Potential users may be reluctant to trust an operator if it seeks to pass its normal liability on to others.In any case, a well-advised person who is not controlling a car at all (Level 5) would be understandably reluctant to accept liability for something out of their control. And when there is some degree of sharing control possible (Level 3 or 4), a well-advised person would be concerned that the vehicle might try to pass back control at the last seconds before an accident, to pass responsibility and liability back too, but in circumstances where the potential driver has no better prospects of avoiding the crash than the vehicle, since they have not necessarily been paying close attention, and if it is too hard for the very smart car it might be too hard for a human. Since operators, especially those familiar with trying to ignore existing legal obligations (under a motto like \\'seek forgiveness, not permission\\'), such as Waymo or Uber, could be normally expected to try to avoid responsibility to the maximum degree possible, there is potential for attempt to let the operators evade being held liable for accidents while they are in control.As higher levels of automation are commercially introduced (Level 3 and 4), the insurance industry may see a greater proportion of commercial and product liability lines while personal automobile insurance shrinks.[382]When it comes to the direction of fully autonomous car liability, torts cannot be ignored. In any car accident the issue of negligence usually arises. In the situation of autonomous cars, negligence would most likely fall on the manufacturer because it would be hard to pin a breach of duty of care on the user who isn\\'t in control of the vehicle. The only time negligence was brought up in an autonomous car lawsuit, there was a settlement between the person struck by the autonomous vehicle and the manufacturer (General Motors). Next, product liability would most likely cause liability to fall on the manufacturer. For an accident to fall under product liability, there needs to be either a defect, failure to provide adequate warnings, or foreseeability by the manufacturer.[383] Third, is strict liability which in this case is similar to product liability based on the design defect. Based on a Nevada Supreme Court ruling (Ford vs. Trejo) the plaintiff needs to prove failure of the manufacturer to pass the consumer expectation test.[384] That is potentially how the three major torts could function when it comes to autonomous car liability. Between manually driven vehicles (SAE Level 0) and fully autonomous vehicles (SAE Level 5), there are a variety of vehicle types that can be described to have some degree of automation. These are collectively known as semi-automated vehicles. As it could be a while before the technology and infrastructure are developed for full automation, it is likely that vehicles will have increasing levels of automation. These semi-automated vehicles could potentially harness many of the advantages of fully automated vehicles, while still keeping the driver in charge of the vehicle.[385]Drive.ai is doing a trial run in Frisco, Texas and Arlington, Texas.[citation needed]In 2020, Daimler launched the Mercedes-Benz S-Class (W223) with software ready to be downloaded over the air as soon as law permits Level 3 ALKS in 2021.[citation needed]\\nIn March 2021, Daimler\\'s Mercedes-Benz have said they are ready to deploy Level 3 systems for highway driving.[386]In December 2020, BMW was expected to trial 7 Series as an automated car in public urban motorways of the United States, Germany and Israel before commercializing them later.[387]Although Audi had unveiled an A8 sedan with Level 3 technology in 2017, regulatory hurdles have prevented it from being widely introduced.[388][386]Japanese manufacturers were hoping to complete vehicles with Level 4 capabilities by the 2020 Summer Olympics. German manufacturers also expected to have a Level 4 vehicle ready by 2020 (both delayed due to COVID-19 pandemic).[78]Tesla claims all its new cars are equiped with hardware that will allow full self driving in the future. In October 2020 Tesla released a \"beta\" version of its \"Full Self-Driving\" software to a small group of testers in the United States;[389] however, this \"Full Self-Driving\" corresponds to level 2 autonomy.[390]The automated and occasionally sentient self-driving car story has earned its place in both literary science fiction and pop sci-fi.[391]Intelligent or self-driving cars are a common theme in science fiction literature. Examples include:'"
            ]
          },
          "metadata": {},
          "execution_count": 132
        }
      ]
    },
    {
      "cell_type": "code",
      "metadata": {
        "colab": {
          "base_uri": "https://localhost:8080/",
          "height": 388
        },
        "id": "opMMjGAHT1Uy",
        "outputId": "7e78e3b4-6f19-486c-f93e-fe2f7bbc9c6a"
      },
      "source": [
        "plt.figure(figsize=(12.8,6))\n",
        "sns.boxplot(data=df, x='Category', y='News_length', width=.5);"
      ],
      "execution_count": null,
      "outputs": [
        {
          "output_type": "display_data",
          "data": {
            "image/png": "[encoded data removed]",
            "text/plain": [
              "<Figure size 921.6x432 with 1 Axes>"
            ]
          },
          "metadata": {}
        }
      ]
    },
    {
      "cell_type": "code",
      "metadata": {
        "colab": {
          "base_uri": "https://localhost:8080/",
          "height": 388
        },
        "id": "9ULrM1NIT6Q8",
        "outputId": "b79a21cc-04ba-4c66-b206-3374bacadab4"
      },
      "source": [
        "plt.figure(figsize=(12.8,6))\n",
        "sns.boxplot(data=df_95, x='Category', y='News_length');\n"
      ],
      "execution_count": null,
      "outputs": [
        {
          "output_type": "display_data",
          "data": {
            "image/png": "[encoded data removed]",
            "text/plain": [
              "<Figure size 921.6x432 with 1 Axes>"
            ]
          },
          "metadata": {}
        }
      ]
    },
    {
      "cell_type": "code",
      "metadata": {
        "id": "66Tn5NVNT9PK"
      },
      "source": [
        "with open('News_dataset.pickle', 'wb') as output:\n",
        "    pickle.dump(df, output)"
      ],
      "execution_count": null,
      "outputs": []
    },
    {
      "cell_type": "code",
      "metadata": {
        "id": "VBN0ZOQBbbP7"
      },
      "source": [
        "\n",
        "with open('News_dataset.pickle', 'rb') as data:\n",
        "    df = pickle.load(data)"
      ],
      "execution_count": null,
      "outputs": []
    },
    {
      "cell_type": "code",
      "metadata": {
        "colab": {
          "base_uri": "https://localhost:8080/",
          "height": 204
        },
        "id": "co21Ls5LbejT",
        "outputId": "f451bcd1-110a-4f91-8ee1-cf649b57d421"
      },
      "source": [
        "df.head()"
      ],
      "execution_count": null,
      "outputs": [
        {
          "output_type": "execute_result",
          "data": {
            "text/html": [
              "<div>\n",
              "<style scoped>\n",
              "    .dataframe tbody tr th:only-of-type {\n",
              "        vertical-align: middle;\n",
              "    }\n",
              "\n",
              "    .dataframe tbody tr th {\n",
              "        vertical-align: top;\n",
              "    }\n",
              "\n",
              "    .dataframe thead th {\n",
              "        text-align: right;\n",
              "    }\n",
              "</style>\n",
              "<table border=\"1\" class=\"dataframe\">\n",
              "  <thead>\n",
              "    <tr style=\"text-align: right;\">\n",
              "      <th></th>\n",
              "      <th>File_Name</th>\n",
              "      <th>Content</th>\n",
              "      <th>Category</th>\n",
              "      <th>Complete_Filename</th>\n",
              "      <th>id</th>\n",
              "      <th>News_length</th>\n",
              "    </tr>\n",
              "  </thead>\n",
              "  <tbody>\n",
              "    <tr>\n",
              "      <th>0</th>\n",
              "      <td>FileName_0</td>\n",
              "      <td>A self-driving car, also known as an autonomou...</td>\n",
              "      <td>tech</td>\n",
              "      <td>FileName_0</td>\n",
              "      <td>1</td>\n",
              "      <td>100980</td>\n",
              "    </tr>\n",
              "    <tr>\n",
              "      <th>1</th>\n",
              "      <td>FileName_1</td>\n",
              "      <td>Advanced Search See allHide authors and affili...</td>\n",
              "      <td>tech</td>\n",
              "      <td>FileName_1</td>\n",
              "      <td>1</td>\n",
              "      <td>53855</td>\n",
              "    </tr>\n",
              "    <tr>\n",
              "      <th>2</th>\n",
              "      <td>FileName_2</td>\n",
              "      <td>A self-driving car (sometimes called an autono...</td>\n",
              "      <td>tech</td>\n",
              "      <td>FileName_2</td>\n",
              "      <td>1</td>\n",
              "      <td>12019</td>\n",
              "    </tr>\n",
              "    <tr>\n",
              "      <th>3</th>\n",
              "      <td>FileName_3</td>\n",
              "      <td>A self-driving car (sometimes called an autono...</td>\n",
              "      <td>tech</td>\n",
              "      <td>FileName_3</td>\n",
              "      <td>1</td>\n",
              "      <td>12019</td>\n",
              "    </tr>\n",
              "    <tr>\n",
              "      <th>4</th>\n",
              "      <td>FileName_4</td>\n",
              "      <td>An autonomous car is a vehicle capable of sens...</td>\n",
              "      <td>tech</td>\n",
              "      <td>FileName_4</td>\n",
              "      <td>1</td>\n",
              "      <td>7042</td>\n",
              "    </tr>\n",
              "  </tbody>\n",
              "</table>\n",
              "</div>"
            ],
            "text/plain": [
              "    File_Name  ... News_length\n",
              "0  FileName_0  ...      100980\n",
              "1  FileName_1  ...       53855\n",
              "2  FileName_2  ...       12019\n",
              "3  FileName_3  ...       12019\n",
              "4  FileName_4  ...        7042\n",
              "\n",
              "[5 rows x 6 columns]"
            ]
          },
          "metadata": {},
          "execution_count": 137
        }
      ]
    },
    {
      "cell_type": "markdown",
      "metadata": {
        "id": "ZdfKDVJu_sv5"
      },
      "source": [
        "# Feature Engineering\n"
      ]
    },
    {
      "cell_type": "code",
      "metadata": {
        "id": "r6dOsMGxbfzb"
      },
      "source": [
        "#\n",
        "import pickle\n",
        "import pandas as pd\n",
        "import re\n",
        "import nltk\n",
        "from nltk.corpus import stopwords\n",
        "from nltk.stem import WordNetLemmatizer\n",
        "from sklearn.feature_extraction.text import TfidfVectorizer\n",
        "from sklearn.model_selection import train_test_split\n",
        "from sklearn.feature_selection import chi2\n",
        "import numpy as np\n",
        "#Loading the dataset\n",
        "with open('News_dataset.pickle', 'rb') as data:\n",
        "    df = pickle.load(data)"
      ],
      "execution_count": null,
      "outputs": []
    },
    {
      "cell_type": "code",
      "metadata": {
        "colab": {
          "base_uri": "https://localhost:8080/",
          "height": 204
        },
        "id": "IMcTiEKOBHH9",
        "outputId": "fd3670b6-0f17-44dc-d751-efef72eaf1a7"
      },
      "source": [
        "df.head()"
      ],
      "execution_count": null,
      "outputs": [
        {
          "output_type": "execute_result",
          "data": {
            "text/html": [
              "<div>\n",
              "<style scoped>\n",
              "    .dataframe tbody tr th:only-of-type {\n",
              "        vertical-align: middle;\n",
              "    }\n",
              "\n",
              "    .dataframe tbody tr th {\n",
              "        vertical-align: top;\n",
              "    }\n",
              "\n",
              "    .dataframe thead th {\n",
              "        text-align: right;\n",
              "    }\n",
              "</style>\n",
              "<table border=\"1\" class=\"dataframe\">\n",
              "  <thead>\n",
              "    <tr style=\"text-align: right;\">\n",
              "      <th></th>\n",
              "      <th>File_Name</th>\n",
              "      <th>Content</th>\n",
              "      <th>Category</th>\n",
              "      <th>Complete_Filename</th>\n",
              "      <th>id</th>\n",
              "      <th>News_length</th>\n",
              "    </tr>\n",
              "  </thead>\n",
              "  <tbody>\n",
              "    <tr>\n",
              "      <th>0</th>\n",
              "      <td>FileName_0</td>\n",
              "      <td>A self-driving car, also known as an autonomou...</td>\n",
              "      <td>tech</td>\n",
              "      <td>FileName_0</td>\n",
              "      <td>1</td>\n",
              "      <td>100980</td>\n",
              "    </tr>\n",
              "    <tr>\n",
              "      <th>1</th>\n",
              "      <td>FileName_1</td>\n",
              "      <td>Advanced Search See allHide authors and affili...</td>\n",
              "      <td>tech</td>\n",
              "      <td>FileName_1</td>\n",
              "      <td>1</td>\n",
              "      <td>53855</td>\n",
              "    </tr>\n",
              "    <tr>\n",
              "      <th>2</th>\n",
              "      <td>FileName_2</td>\n",
              "      <td>A self-driving car (sometimes called an autono...</td>\n",
              "      <td>tech</td>\n",
              "      <td>FileName_2</td>\n",
              "      <td>1</td>\n",
              "      <td>12019</td>\n",
              "    </tr>\n",
              "    <tr>\n",
              "      <th>3</th>\n",
              "      <td>FileName_3</td>\n",
              "      <td>A self-driving car (sometimes called an autono...</td>\n",
              "      <td>tech</td>\n",
              "      <td>FileName_3</td>\n",
              "      <td>1</td>\n",
              "      <td>12019</td>\n",
              "    </tr>\n",
              "    <tr>\n",
              "      <th>4</th>\n",
              "      <td>FileName_4</td>\n",
              "      <td>An autonomous car is a vehicle capable of sens...</td>\n",
              "      <td>tech</td>\n",
              "      <td>FileName_4</td>\n",
              "      <td>1</td>\n",
              "      <td>7042</td>\n",
              "    </tr>\n",
              "  </tbody>\n",
              "</table>\n",
              "</div>"
            ],
            "text/plain": [
              "    File_Name  ... News_length\n",
              "0  FileName_0  ...      100980\n",
              "1  FileName_1  ...       53855\n",
              "2  FileName_2  ...       12019\n",
              "3  FileName_3  ...       12019\n",
              "4  FileName_4  ...        7042\n",
              "\n",
              "[5 rows x 6 columns]"
            ]
          },
          "metadata": {},
          "execution_count": 139
        }
      ]
    },
    {
      "cell_type": "code",
      "metadata": {
        "colab": {
          "base_uri": "https://localhost:8080/",
          "height": 188
        },
        "id": "rOeRhw8iBKeM",
        "outputId": "c6094ac2-dedc-452b-cb07-dd7c52b156df"
      },
      "source": [
        "#visualizing news sample content\n",
        "df.loc[1]['Content']"
      ],
      "execution_count": null,
      "outputs": [
        {
          "output_type": "execute_result",
          "data": {
            "application/vnd.google.colaboratory.intrinsic+json": {
              "type": "string"
            },
            "text/plain": [
              "'Advanced Search See allHide authors and affiliationsEdited by Baruch Fischhoff, Carnegie Mellon University, Pittsburgh, PA, and approved November 1, 2018 (received for review April 3, 2018)Automated vehicles (AVs) already navigate US highways and those of many other nations around the world. Current questions about AVs do not now revolve around whether such technologies should or should not be implemented; they are already with us. Rather, such questions are more and more focused on how such technologies will impact evolving transportation systems, our social world, and the individuals who live within it and whether such systems ought to be fully automated or remain under some form of direct human control. More importantly, how will mobility itself change as these independent operational vehicles first share and then dominate our roadways? How will the public be kept apprised of their evolving capacities, and what will be the impact of science and the communication of scientific advances across the varying forms of social media on these developments? We look here to address these issues and to provide some suggestions for the problems that are currently emerging.Automated vehicles (AVs) are coming to our roadways. They are beginning to pose problems and issues that many of the public have not yet encountered or even witnessed. The present work addresses how the capacities and impacts of growing degrees of ground automation can be communicated to and understood by the general public. To accomplish this, we have sought to integrate our individual perspectives on the issue of AVs which feature, first, a science communication viewpoint that focuses specifically on how the traveling public can anticipate, understand, and appreciate the effects of such innovation. Our second narrative strand features a human-centered approach to the on-coming penetration of AVs, looking to understand precisely how these diverse forms of full and semiautomation will be experienced by human drivers. Finally, we conclude with an analysis of the technical challenges guiding the possible features of this wave of automation and prospective autonomy in future transportation. All three levels—public communication, human–machine interaction, and technical feasibility—coact to sculpt the coming forms of transportation. The resulting system promises to be strikingly different from its traditional and contemporary form, which has come to be accepted as the status quo for almost a century. Shared discourse, including public communications pertaining to this disruptive evolution, is critical to our collective understanding of the future we may be able to create.As of March 2018, 52 companies possessed permits to test autonomous vehicles on the roads of the State of California alone (1, 2). Self-driving vehicles represent a fast-paced field of modern technology, as companies compete for dominance in this important field of emerging transportation capacity. Nevertheless, relatively few members of the traveling public have yet experienced trips in an autonomous vehicle. This personal inexperience can make it difficult for the general populace to judge the potential utility, for good or bad, of such vehicles. The advent of the driverless car is usually portrayed as both labor saving and accident reducing. However, the societal impact of these mobile robots will certainly be more extensive than a simple change in the journey between the immediate origin and the destination. For example, in coming years it may not be necessary for individuals to own a car, especially when they can summon one from a circulating fleet using a simple portal such as a smartphone application and being fully confident that it will arrive within minutes or even seconds. This sea change in vehicle usage will have many knock-on effects. Some studies have suggested that up to 30% or more of traffic circling downtown streets is actually searching for parking (3). The search could become unnecessary when the vehicle is driving itself to pick up its next user, as some projections concerning Uber usage seem to suggest. Such functionality could free up curb space, which is becoming increasingly more important for safe pick-ups and drop-offs in already congested locations (4). These technological changes may then foreshadow a repurposing of parking structures or parking spaces within buildings to accommodate new housing, offices, or retail uses. Of course, parking concerns are not by any means the only dimension of change.The radical changes promised by AVs will have profound and extended effects on the general public. Some of these are changes we can readily anticipate; others are much less predictable. On what basis will individual members of the public judge the value of such technical innovations (5)? One prominent issue in such a discussion is what people understand an AV to be. It may well be that the general public views such vehicles as not requiring any driver input whatsoever. However, this perception fails to capture many of the major differences between proposed AVs and the present, semiautomated on-road vehicles. The latter provide various forms of driver assistance to help the driver who remains in ultimate control. Fully autonomous vehicles are designed to drive themselves. These differing forms of advancing vehicles have been categorized in a hierarchy which compares driver control versus vehicle control. The hierarchy is described in the Society of Automotive Engineers (SAE) levels of control (6, 7). Although we do not specifically discuss each of these levels here, it is vital to note that many public assumptions about advanced vehicle capabilities may be misplaced. Thus, individuals may well assume that such AVs possess much more intelligence and operational capacity than is actually the case. Such assumptions may prove critical, if not fatal.Some of the most evident proximal impacts will be on jobs and associated commuting patterns. The driverless car has the potential to make its human controller as redundant as the horse became for the horseless carriage. Truck and taxi drivers may well have to find new forms of employment, some perhaps supervising these individual vehicles from remote control call centers. However, jobs in the new transportation sector may well diminish, as they have in other sectors radically changed by automation and now emerging machine autonomy (8). It is true that some jobs will be created, e.g., in maintaining such fleets of autonomous vehicles, and access to employment for those in economically depressed regions could be improved with AV transport services. Studies (9⇓–11) show that, in general, societal changes resulting from the introduction of these innovations are likely to be extensive. Of course, it is likely that many human-driven vehicles will remain on the roadways for some decades to come. For those who still choose to own their own vehicle, that vehicle need not be parked and taking up space for 22 hours a day. It could be out earning money by giving rides to others. City transit agencies need to consider the arrival of the driverless car now, when plans for future transit projects are in the pipeline. Does a costly subway extension still make sense in light of these emerging transport options? Driverless cars can provide mobility to those who cannot physically drive, such as children, the disabled, or the frail elderly. However, for such populations the problems of ingress into and egress from the vehicle remain, emphasizing that mobility is more than just the car journey alone. Fuller, augmented mobility is a social amenity that can prevent the loneliness, depression, and failing quality of life that attend isolation and immobility. Perhaps such AVs will lure passengers off buses, deleteriously impacting the economics of bus operations in urban areas. These represent only a limited set of the foreseeable changes; more widespread and radical change is promised.Such enormous changes, when coupled with a still relatively limited public awareness resulting from the somewhat constrained distribution of the details of the precise nature of the technology’s development, means that it is important for all involved professionals to disseminate their work and clearly articulate the limits of their own research. Of course, with such complex issues considerable uncertainty remains about the manner in which such innovations will make both short- and long-term impacts (12). There are also further limits on science, and technology communication is itself changing rapidly, especially with the rise of the various forms of social media. Efforts to provide greater opportunities for public scrutiny of science now include avenues for scientists to publish in more popular and accessible outlets (13, 14). It may be that the days of the formal scientific journal are in relative decline. As the progressive forces of speed and utilitarianism affect the processes of research, the need to frame results in terms that the public can comprehend grows accordingly. For example, Google search terms for autonomous vehicles spike when bad news is published, such as following Uber’s fatal collision between a test vehicle and a pedestrian in March 2018 (15). The public hears details regarding accidents, but these details are not balanced by more in-depth communications regarding the underlying technical causes or the systems-level advantages of self-driving technology in particular cases and overall. These advantageous aspects include such dimensions as energy savings, overall traffic flow efficiency, mobility for the disabled, and improvements in social cohesion, to name only a few. Indeed, a recent report has observed that the general reaction to autonomous vehicle crashes is likely to be over-emphasized compared with the reaction to collisions in human-operated vehicles and that recent survey data indicate that confidence in AVs is actually slipping (16).The recent fatal Uber crash came at a critical time for the nascent self-driving vehicle sector. Less-than-perfect cars are being sent onto the roads by companies that have spent billions on research and development and are betting on their success. Uber, Waymo, and others are conducting tests in Arizona, where regulators have taken a hands-off approach to autonomous vehicles; the public there and in other states is being subjected to mass testing without possessing sufficient background contextual knowledge to understand the risks and benefits of such a public experiment. The consent of the public is largely indirect and implicit, since legislative deliberations on these technologies rarely access a public referendum. One of the few ways in which the general public presently encounters such vehicles is through the lens of legal proceedings associated with point failures (17). However, this emphasis may create inappropriate public perceptions regarding the safety dimension of these vehicles (13).An informed society is important if the public is going to make rational choices regarding cars with no human oversight. Such choices must be informed by scientific understanding of the concerns at issue and must be clearly communicated to a concerned public (18). For example, exactly how safe will such technologies have to be? In 2016 37,461 people died in motor vehicle crashes on the roads of the United States (19). Should AVs be twice as safe, which would mean they kill only 18,000 people per year, or should they be 10 times as safe? Does it matter who specifically is killed, or is this simply a matter of absolute numbers? Who should be regarded as responsible in conditions between AVs and human-controlled vehicles?The engineers developing driverless cars must consider weighty moral questions. Typically, these are considered as variations on the ethical thought experiment known as the “trolley problem.” Should a driverless car swerve and injure one pedestrian if the alternative is to continue straight ahead and injure greater numbers? Should a driverless car protect the occupant above all else or sacrifice the human on board for the greater good in such circumstances? Most specifically, exactly how do we codify these respective ethical and moral principles into a software assembly often created by multiple designers and code developers? We believe that such problems are much more complex than the simple dichotomy expressed in the trolley problem. It is virtually certain that the resolution of such issues must go well beyond the structure of the programming itself to achieve full public acceptance (20). A study that posed such questions to several hundred workers via Amazon’s Mechanical Turk service showed that the public remains conflicted about such issues (21). People are in favor of cars that sacrifice the passenger to save other people but would not want to be passengers in a car programmed in that way. These choices are the types of scenario that engineers consider when designing their artificially intelligent machines, but a determinative public discourse and communication surrounding these issues remains lacking. Of course, at this moment most people still lack direct experience of AVs. Risk research suggests that experience and information will lead to people starting to accept AVs, but this propensity does not always hold in all contexts (20, 22). Such acceptance is contingent upon the swirl of public opinion, and such views are founded on how people experience their own interactions with essentially all forms of current technology.As perhaps the primary conduit of the physical expression of human freedom and certainly freedom of movement, transportation in its various forms plays a critical role in virtually all human societies. Mobility is arguably a human right, and when access to such a facility is diminished or denied, the associated quality of life can suffer significantly (23). Especially in the larger and later-developing nations of the world, the availability of ready transport has shaped the fabric, infrastructure, and, to some degree, even the culture of whole countries. Now the very nature of such transportation is changing (24). Since the time of the camel, the donkey, and the horse, humans have occupied the seat of control (25). Humans both have decided on the strategic mission (i.e., the desired destination) and have exercised tactical command (i.e., the momentary control of the animal or vehicle). Of course, this has not been ubiquitously the case. We have always had systems of transport in which a single driver, pilot, or captain exercises control while many others, sometimes numbering in the thousands, are passengers who simply have a passive role rather than any form of active control. There have been rudimentary forms of automation in many transport realms almost from the very beginnings of each technology. Such degrees of automation have increased in sophistication across the decades. Many segments of the transportation system have evolved in this manner with automation becoming an appreciable portion of their technical delivery. Now, however, we are creating and implementing forms of technology that intend to relieve humans of all momentary tactical control and even threaten to supersede all strategic control as well (26). As such, the present expansion is more a disruptive system change than a gradual and controlled evolution. Because disruptions effect broad change, a myriad of issues concerning the future of transport are embedded in many more broadly based questions about the role and impact of automated and autonomous systems in human life more generally (6, 27).Today’s vehicles are already technology-heavy semiautonomous systems built, in turn, by other high-tech systems engineering and production processes. In some circumstances, the coming AVs might well appear to be robots built by robots, although this is not proving ubiquitously to be the case, since many manufacturers now appear to be rediscovering the advantages of human workers. As capital costs of fabrication replace labor costs in the long arc of technical productivity enhancement, we are witnessing not simply a transfer of momentary vehicle control but also a logistical tail effect in which the production and design of those vehicles also shows shifts in decision-making authority. This latter shift of power nominally pits increasingly capable computer-mediated technologies (28, 29) against humans who are largely restricted by the limitations of their inherent capacities to assimilate ever greater tranches of information as technological, robotic progress continues apparently unabated (30). However, the form of progress that constantly features facets of growing machine superiority is not without its own subtleties and caveats. For example, some vehicle manufacturers have found that the vision of fully automated production proves less efficient and sustainable than one in which humans and machines work alongside each other. Like the operations of the innovative vehicles themselves, this could well imply that the human role is not purely vestigial but rather is one that coevolves along with the nature of the technological innovations involved. Such a proposition argues that the development of automation, rather than being a separation of human and technology, might actually represent an on-going symbiosis between humans and the technology they create (Fig. 1).A contrast between the rates of progress in capability of humans and machines over the recent industrialized epoch. Arguments that technical systems augment human abilities notwithstanding, the generalized curves are revealing. Those arguing for augmentation treat the human–machine system as the unit of analysis. However, it is clear that human and machine still remain fairly differentiated entities, despite efforts to combine them symbiotically. The equivalent start capacities and the exact nature and timing of the crossing point remain highly controversial issues, as does the future path in the combinatorial vector of progress shown in the shaded area of the figure (56, 78). AVs may represent one technology that sees a continuing physical and functional separation between humans and machines.Previous contrasts of human performance and machine performance have largely been set within the competitive rather than the cooperative perspective. Perhaps the seminal example of such a contrasting comparison derives from the now classic Fitts list (31, 32). In the Fitts report, the authors juxtaposed a series of capabilities in which either the machine or the human excelled and which by implication was performed better by one or the other. This list and those that have subsequently followed it (33) have been characterized as “MABA–MABA” (Machines Are Better At–Men Are Better At) types of analyses (Fig. 2) (34). As indicated, the essence of such comparison is one of contrast, not cooperation. Some have suggested that the very way in which these comparisons are framed is incorrect (35). Technologies can and often do augment inherent human abilities (36); thus rather than an explicit replacement of human knowledge and ability by more efficient machine functions, a partnership between them is sought. Notwithstanding these arguments, two simple curves exhibit the contrasting rates of change in human and machine capability over time (Fig. 1). From this perspective, the relative rates of change mean that machines threaten to supersede increasingly greater swathes of human capacity on an ever-accelerating curve. This eventuality is argued notably by technology optimists who reference increasing computer and robot capability and an associated decrease in the price of their operations (37). However, it must be acknowledged that precisely where we currently stand on these generalized curves has always been a matter of debate (38).The comparative lists generated by Fitts and his colleagues (31) in a 1951 report on the future of aviation. Although considered peripheral to the central focus of that report, the lists themselves and the associated graphic have been the subject of much discussion in the more than 60 y of their existence. Most especially, much attention has been paid to whether using direct comparisons provides the most useful strategy for the development of future human–machine collaboration. Such an approach exerts an important impact even today in proposals such as the SAE multiple levels of AV capacity and associated driver interaction. Reprinted from ref. 31, with permission of the Ohio State University Research Foundation.Despite the apparently contrasting trends illustrated in Fig. 1, all is not dissonance between humans and technology, of which AVs are one of the more prominent recent incarnations. For instance, it is clear that only with technology can our limited planetary resources support a world population that soon promises to exceed eight billion persons (39). Generally, the growth of automation does not result in any simple one-for-one replacement of each individual human worker, even within the purview of any particular domain of specific production. Rather the relationship is more complex, with a variegated interplay of augmentation and replacement contingent upon the innovative technology and the fiscal and socio-technical drivers that found such developments (40). In general, automation changes the fundamental nature of the remaining human work. Automation may do this in time increments that cause both benefit and hardship. These effects will be felt for decades and then across generations as economies adapt to the new added capacities (41). Today, these dynamics and influences are reaching most evidently into the multi-trillion dollar social domain of transportation.One of the proximal problems we now face concerns a quickly approaching and ever greater mix of multiple forms of vehicle control on mutually shared road systems (12, 42). For the foreseeable future many vehicles will be solely and exclusively controlled by human drivers. Indeed, with the enthusiasts’ concern for vintage vehicles, such manually controlled machines may continue to be present even in highly automated contexts. However, ever more frequently interspersed with these manually driven vehicles will be systems with some degree of shared human–machine control. Indeed, we are witnessing these systems enter into full-production vehicles at the present. In these vehicles, humans may temporarily drive while the vehicle assumes control on putatively more predictable multilane freeways or on major road arteries, e.g., where traffic contraflow is separated by barriers. The latter driving situation, which overwhelmingly demands precise control over lateral and longitudinal positioning, is especially well suited to current automation capacities (43). However, among this mix of manual and semiautomated control, fully autonomous vehicles will also emerge. This gradual turn to semiautomated and fully automated entities brings particular issues into focus (44). Fully automated systems will be under permanent computer control, never seeking human input and thus never formally possessing what we now view as an immediate driver. However, all these vehicular technologies will operate together as a community on common roadways, at least for a number of decades. This has been referred to as the “mixed equipage” or “mixed inventory” transportation state. Such mixtures of entities create their own specific problems and conflicts (45). One particularly relevant concern is the psychological concept of attribution error (46).Attribution is the individual’s ability to realize and recognize the motivations of others (47). Human attributions usually work rather successfully. However, when the attributed motivations are incorrect, they lead to cases of attribution error (48). Traditionally, this error occurs when an individual attributes to human causation what is actually the result of the situation or the environment. For example, a person may have thought that someone else’s behavior was influenced by a particular motive when, in fact, environmental factors, rather than human factors were the proximate cause of the behavior. We have considerable research concerning when and where people make attribution errors in relation to the motives of others and other motive forces (49). The open question we still face is the precise form and frequency of attribution error when humans act in conjunction with AVs on all segments of the roadway system (50). The roadway is a mutual social resource, so all actors bear shared responsibility for common citizenship (51). In present transportation conditions, such social harmony is preserved and legally mandated by the rules of the road. These rules include formal traffic-control devices and traffic laws and further involve the designed regularities of the roadway by the civil engineers responsible for their construction. Most critically, these rules are also augmented by common assumptions about how other drivers will behave in various driving contexts. While the design features of AVs will obviously evolve during the coming years, the degree to which such features conform to intrinsic human attributions concerning social behavior on the road is unlikely to be uniform (52). For AVs, such concerns fall in the interstices between design innovation and regulation, as indeed they do for virtually all forms of emerging technology. How to reconcile the speed of legislation and the speed of technological innovation has yet to be resolved.As a general proposition, human beings are effective in distilling the attributions of others. Indeed, the cohesion of society depends upon rational attribution and common ground assumptions (53). Humans driving on the roads together engage in an implicitly choreographed “dance” in which, even though some prove less than completely sensitive, the general collective functions remarkably well. However, the foundational, implicit rules are not always evident. For example, people in different countries and people who come from different cultures drive by different implicit and sometimes explicit rules; one evident example is the side of the road on which they drive. Such cultural, contextual attributions can be highly problematic for strangers to that region (54). Driverless vehicles are the ultimate strangers in our midst. They currently lack the required etiquette to operate as human beings do (55). Unlike the tourist, who at least can depend upon certain common human assumptions, AVs have highly limited access to the implicit rules of the road and access only the explicit rules with which they have been programed. They have even less access to social conventions at the human–human interaction level. Although these latter behaviors might conceivably be programed into AVs, there seem to be few efforts to do so in current production models. At the same time, driverless vehicles may be overly constrained by the formal rules of required behavior that are encoded within their logic. Thus, they may be “bullied” by some aggressive human drivers. In formal human–automation interaction terms, the affordance structures (56⇓–58) of humans and autonomous vehicles are presently incommensurate with one another. The term “affordance,” i.e., the relationship between an individual and the action that individual can take in the world, comes from the realm of ecological psychology. Here, we use affordance to mean what actions the driver may take given the immediate driving environment he or she is faced with (59). For example, two-lane roadways afford overtaking in certain conditions but not when an on-coming truck occupies the other lane.The dissonance between what the human knows of the driving world and what the machine is programed to do will mean that during the approaching transition period conflicts between human drivers and AVs are virtually inevitable (11, 60). While human drivers (and pedestrians) base their affordances overwhelmingly on vision, this is not necessarily true for AVs, which are informed by light detection and ranging (LIDAR), radio detection and ranging (RADAR), and vision as well as other forms of sensors. These various sensors detect other forms and frequencies of emission and so create a perceptual “world” that can be rather different from that which humans perceive. Of course these AV sensor systems must be fused and integrated with each other such that the automated car “perceives” (i.e., assembles its sources of information in pattern-recognition assemblages) the road in a very different way than humans do. This difference is probably not advisable. This divergence of these respective human and machine affordances, and the associated dissonance of attribution, means that human drivers and automated cars are far from achieving the full degree of integration that is currently advertised on many media outlets. Of course, this issue pertains to all developing systems in which humans and automated systems process highly divergent sources of perceptual input information (61).This issue of attribution failure/error is almost certainly context specific. For example, when passing on multilane highways, there is evidence that human drivers are unable to distinguish other vehicles as being under either human or automated control. Initially, this might seem to indicate successful AV integration: Since people are unable to distinguish between the two, the AV essentially passes at least the surface level of the Turing test in this particular context. However, in such cases indistinguishability can lead to dangerous attribution errors; e.g., humans could wrongly assume that an overtaken car has machine-level perception when, in fact, it is driven by a human who has blind spots (62). These dissonant attributions and their associated errors are liable to be a problematic source of conflict as we proceed down the road to autopia. Thus, such attributions will be highly contingent on the general public’s perceptions of AVs, and such perceptions are highly susceptible to the inconsistent coverage provided by contemporary media outlets (63). Of course, attribution errors are not the only issue that beset full human–automation integration.As is always important regarding a culture-changing technical innovation, historical context can help temper both cynical and overly optimistic reactions to our near future. Research on self-driving cars is not as new as it may seem. Autonomous driving research was well underway in the early 1980s, and by 1996 multiple platforms were demonstrating significant autonomous capabilities, as evidenced by Carnegie Mellon University’s “No Hands Across America” project, which demonstrated 96% autonomous driving from Pennsylvania to California along the nation’s highways and interstates. The reason these early successes fully two decades ago did not lead to a sea change in driving was not simply technical. As is the case today, the financial model for exactly how autonomous driving would function was uncertain. From sales and lease models to liability and tort, it was unclear how autonomous decision making in machines could be integrated into a legal and jurisprudence system designed entirely for human action and human consequence (64).A further, more nuanced concern has affected the optimism of technology adopters in this area for the past two decades. The autonomous car can demonstrate statistical success, traveling thousands of miles with reasonable accident rates in the real world. Ironically, the Achilles heel of autonomous machines is the same as their relative advantage: the lack of tactical human decision making. When facing a highly unlikely situation that is nonetheless critical, the machine can face a choice point it has never before addressed: what if a stroller runs into the street after the mother trips and falls; what if two nefarious individuals hijack the car; what if a hacker destroys the braking system; what if glare from a solar reflection blinds the sensors just as a truck passes? Furthermore, we, as human designers and users, may have absolutely no idea how that machine might respond to such novel scenarios. Humans have an empathetic understanding of how other humans behave when facing boundary circumstances. We can imagine ourselves in each scenario, and we can imagine bounds on just how we ourselves might react, but autonomous cars currently express no significant forethought. At present, such vehicles cannot provide hand gestures, they have no bodies with which to jump out of the car and coax the kitten across the street, and there are few prospects for such “individuation” in current and envisaged production vehicles (65). AVs are, at present, sufficiently foreign that the human exercise of empathy toward them fails us: We cannot predict how they will respond to the unpredictable, and therein lies a social science challenge. How do we consider the social ramifications of objects that will pervade society when we cannot even imagine how these interactive, autonomous objects will respond to the boundary conditions that will unquestionably emerge time after time? Rare events are by definition rare, but a one-in-a-million likelihood event will happen millions of times per year if our streets are filled with self-driving machines. This rarity by frequency principle is true in many domains of engineering as well as in human behavior in general; if there are enough propositions, eventually there must be a disposition (66); if we succeed, the unlikely will happen frequently. Engineers have not yet found and may not be able to specify ways to characterize how our autonomous machines respond to the unlikely and the pathological.A second fundamental concern stems not from any form of direct public antipathy but from another fundamental aspect of statistics and robotics. Robotic devices integrated into the real world depend critically on their sensors and actuators; these are the devices that give them a tangible embeddedness in our world. However, robot sensors and actuators are not human in their resilience to contextual change. Rather tritely, face-recognition software succeeds well, except when it fails. If there are issues of glare, backlighting, sunglasses, blur, or even busy backgrounds, then face recognition often proves unreliable. Fundamental to autonomy is the need to preserve operational success even as context changes and the assimilated information degrades in quality and utility; however, the range of environmental changes that a self-driving car can encounter are extreme. Such real-world challenges are often set in juxtaposition to the laboratory settings in today’s research parks and university laboratories where so many autonomy sensors, computational algorithms, and actuators are born. Autonomous cars have indeed driven millions of miles on California and Nevada highways. What, however, does this really tell us about the suitability of driverless algorithms and hardware for national deployment? Road systems vary dramatically across the United States, as well as in other counties around the world. Furthermore, weather conditions in the rest of the United States are significantly worse for the sensors that depend especially on visual understanding of the environment. Heavy rain or snow and poor road markings cause major damage to the vision algorithms in numerous cars today.Even worse we humans, as designers, engineers, and consumers, can fall short in “engineering empathy” or “technological attribution” in understanding just how and when weather, lighting, topology, and urban clutter threaten autonomy. As long as autonomy is imperfect, the challenge to the human–systems integration remains. Human occupants in driverless cars under this imperative will retain a role similar to that of the ultimate pilot-in-command because their intervention will eventually be required at some juncture as automation fails. It may be that human intervention need not necessarily be from inside the vehicle; instead, as in emerging drone technology, the physical location of the human controller can be remote from the actual vehicle itself (67). Regardless of the specific spatial relations between controller and vehicle, the human operator will require levels of effective situation awareness calibrated to ambient environmental demands at all times because the point at which any such human intervention will be required remains unpredictable as yet. Again, this raises the specter of prolonged vigilance and its well-known decrement and response failure (68, 69). This human-as-backup architecture, which removes the person from momentary control and instead places him or her in a supervisory context, in many ways defeats the very idea of automation in the first place. While this might be seen as a necessary transition phase (6), it will be important to move to full automation quickly, so that the public’s expectation of hands-free and responsibility-free personal transportation is fulfilled. Retaining the human in a state of momentary readiness to extract the failing automation from its shortfalls is liable to be not merely unpopular but a major reason for rejecting some forms of shared control in the evolution of AVs.Of course, it may be possible to engage differing forms of “smart” infrastructure to share these control burdens, but this raises the difficult issue of what parts of the transport system are publicly owned and supported versus the private vehicles that benefit from such social investments. Such discussions are themselves framed within the wider context of an emerging, integrated origin-to-destination–oriented transport system (70). Suffice it to note that many sources of brittleness in the technical system require attention as momentary control passes beyond human hands, if indeed that is the final design goal of these advancing systems.Autopilot control systems in both private and commercial aircraft provide an informative comparison with ground AVs, but there are some significant differences between the contexts. First, in general, airplanes in the sky face circumstances that present somewhat fewer moment-to-moment dynamic changes and a less diverse range of such challenges than those faced by cars on terra firma. Second, commercial aircraft still have not one but two humans ready to respond with what is anticipated to be high levels of situation awareness. It is clearly now feasible to make a fully autonomous commercial aircraft, an airliner drone. However, the cost of doing so and demonstrating its absolute safety may well be prohibitive in our current risk-averse climate. As systems become increasingly more complex, our ability to test their responses to all possible states diminishes accordingly, and we quickly reach a point at which it becomes literally impossible to exhaustively test the system as a whole. We then are left with an alternative: to conduct a restricted set of sample-based testing, trying to derive general conclusions from partial evaluation coverage and create resilience by keeping at least one or more humans in the loop (71). The current belief that a human or a team of humans would be capable of innovative, on-the-job problem solving remains persuasive. Humans are not so obviously constrained by the rules written into formal software or by the purely mechanistic limitations of the sensors and effectors of contemporary hardware. Thus it is more than probable that during any extended transition period our semiautomated ground vehicles can and will behave very much like contemporary airborne systems. Whether we will need graded licenses to operate these varying forms of automated has yet to be determined. Precedent argues against such a course.Of course, this shared control and shared responsibility type of activity is only one of many forms of operation that will be present at any one time. Presently, Uber states that it will field a team of remote human drivers, while Waymo claims to have no need of such support services. Whether shared responsibility is an obligatory phase of development or whether a significant portion of ground transportation can jump to full automation is contingent upon many forces beyond the technical alone (e.g., financial/marketing constraints). The degree to which technological evolution will proceed via gradual change or jump to a new stable state (punctate equilibrium) (72) is still uncertain. Of course, one form of technology may exhibit gradualism while another allied technology vaults forward. That being so, perhaps we should expect a chequered pattern of development of AVs and their on-road operations. It is unlikely that the failure of one sort of AV would prejudice public opinion against all other forms of AV. In comparable terms, the failure of one company’s personal digital assistant does not spread immediately to all versions of smart phones or similar, allied technologies.Examples of boundary conditions can often remind us of the unique value of human innovativeness. Ironically, it is human ingenuity that can give us the examples that require a human common-sense response. A relevant and recent example comes from the computer vision research team that demonstrated the “45 mph stop sign.” They created small graffiti modifications of a standard octagonal red stop sign and showed that a remarkably small number of black stickers placed in precise positions on a stop sign accomplish two outcomes simultaneously: to humans, the stickers look like simple graffiti and in no way diminish the ability to discern the stop sign, but to the computer’s vision system (as determined by researchers’ tests derived from self-driving car software) the very same modified stop sign appears reliably to be a 45-mile-per-hour speed-limit sign. This example is crucial because we are surprised by the computer’s mistake and because, as humans, we expect errors to be small deviations from our own norm, not large reversals of interpretation. Collectively we may be surprised if we assume that machine errors follow human patterns of error. They definitively do not. Rather, we must see autonomous machines as true social aliens. They are responsive agents in our universe, but they are nonhuman. They will succeed in ways that are not human, and they also will fail in ways that have nothing to do with how we fail. This prevents us, as nonexperts, from intuitively placing boundaries on the ways in which we expect autonomy to fail gracefully.Therein lies the grand social challenge of our time vis-a-vis autonomy. AVs may statistically perform more safely than humanity, but are we as humans prepared to live in a world in which failure and degradation appear, from our human perspective, to be random and extreme compared with our comparative expectations of human fallibilities? That is a challenge for systems engineering, for engineering design, and especially for the science of human–machine integration. Progress, especially in this last-mentioned area of inquiry, is not keeping pace with that in the field of computer science or with computational capacity in general. The fundamental problem here is the complexity of understanding human cognition itself. Hence, our desire to innovate responsibly will demand a renewed focus on understanding the societal ramifications of innovation—innovation that is fast but whose integration into society requires us to resolve issues that are not solely engineering challenges but are transdisciplinary social concerns that can be nuanced, complex, and comparatively slow in developing.In the prior sections, we discussed some of the current and forthcoming challenges that face the integration of driverless vehicles into modern transportation. Having identified such problems, it is incumbent upon us to offer some avenues for research and public engagement that can help us identify and implement more robust deployments. Two vital elements here concern calibrated operator trust and communicated transparency. For the former, design processes should seek to design explicitly for appropriate levels of trust by human occupants in light of the known reliability of the automation (73, 74). This goal is difficult, but achieving it is critical. It is difficult because we are still finding our way in understanding the contextual reliability of differing forms of automation and semiautomation offered by various manufacturers. It is critical, because if there is insufficient human trust in autonomous and semiautonomous systems, there will be both little usage and chronic misuse (75). The company that establishes the most effective calibration of trust, as a result of the highest perceived and actual reliability of their product, will be best placed in this emerging market, that is, assuming the market does not collapse if there is a catastrophic loss of public trust. Transparency is a property of the machine by which it clearly signals both its near- and long-term intent (76). To a degree, vehicles already possess such capacities in various rudimentary forms. For example, displays inside the vehicle already show the driver various states of engine function, gas tank status, and the like. Externally, there are existing but limited techniques for informing other agents of vehicle intent via displays such as turn signals (77). All of these express intent, albeit currently on a rather low level. Such communications, via increasingly information-rich interactions, will greatly enhance vehicle-to-vehicle and vehicle-to-infrastructure conversation capacities.Trust is already a central theme in the public debate about driverless transportation. Acceptance of any technology requires trust. Quite often new technologies fail to deliver on their promises, either because of the hyperbolic nature of those promises or because their software systems were insufficiently tested and debugged for rich, real-world interaction (78). However, the vehicle is an order of magnitude different from most electronic orthotics. The failure of a telephone or a computer can be annoying and frustrating, and sometimes such failures do even put lives at risk, but on our roadways human lives are always at risk. So, as the risks associated with a momentary failure of interaction increase in proportion to the incipient threat in the environment, the importance of trust grows in lock step. Given that even present-day production vehicles are partial robots, how people come to employ, evaluate, and appropriately trust their robot vehicles will remain a major factor in their greater public acceptance (79). This is centrally a challenge of design, test, and evaluation in conjunction with increasingly widespread public usage.The trial of trust is further magnified by the fact that these vehicular robots will become more complex as they attempt to function safely in more challenging future contexts, such as dense urban driving. This complexity, in turn, easily outpaces the knowledge level of many of the stakeholders throughout the transportation community. The speed with which new technological innovations increase the gap between stakeholders’ intuition regarding vehicles and the reality of what is fielded in our laboratory cities exacerbates an already critical problem. We cannot expect the appropriate form of regulation and policy-setting leadership that is sorely needed until those in a decision-making role possess the appropriate technological fluency and the time to apply it (80). By “fluency” we mean a combination of common semantic grounds for discourse, an awareness of the state of the art, and the critical inquiry skills required to make sense of this new technology. Even then, autonomous systems are still liable to manifest unforeseen positive and negative societal consequences, especially as these transportation advances are linked with other interactive complex systems in society (e.g., the service industry). Fluency itself is a two-way street in which designers, fabricators, manufacturers, and vendors of these emerging systems need to explicate their products in a way that can be understood by legislators and the public alike. Although vital, trust is by no means the only factor involved in such complex decision-making processes; there have been numerous important studies of these constellations of differing influences on decision making (18, 20). We need a new way in which to integrate expertise with decision-making discourse and to nurture trust (16, 81⇓–83). Expertise must itself be trustworthy—not a technical advisor serving at the pleasure of a corporation but rather outreach providing the technology fluency that enables elected officials, civil servants, and the public to engage in meaningful discourse regarding our shared human–technology future (82). In light of the foregoing arguments, we advocate that such an independent scientific body, allied to current transportation regulatory bodies, be created to address the specific concerns of emerging ground-transportation technologies and most especially the issues associated with AVs. Such a group would still face issues in determining how to communicate technical information for general public scrutiny and why such effective information brokerage is so difficult to fully achieve (84).The advent of AVs on the busy roadways of the world’s nations represents a sea change in the way human transportation is conceived and enacted. We are now witnessing an epoch of significant transition in which active control of the vehicle is being taken from the human driver and placed within the charge of the on-board computer systems themselves (85). This transition is reflected in the disparate strategies of current vehicle production companies. Some of the newer manufacturers view the car as a computer that just happens to have wheels, and they have gotten into the business because they are computer companies. Other, more traditional manufacturers persist with driver-centered conceptions. For these traditional names in the motor industry the human, although augmented by numerous assistive systems, remains at the center of the design architecture. Powerful social forces will determine the outcome of these conflicting visions. Of course, there is no reason that the differing forms of vehicle control cannot exist side-by-side on the road and still function effectively. Such a mixture of vestigial artifacts alongside innovative creations often epitomizes much of technology’s progress. As greater concern is focused on end-to-end (i.e., starting point to end destination) functionality, the precise incarnation of each part of the journey is liable to be sublimated to the overall purpose. So the car-to-airport, elevator-to-gate, and flight-to-destination routes each requires purposefully directed movement, but now the journey itself is the thing, not the car, elevator, or aircraft per se. In such an integrated world, the AV will take its place alongside these many other modes of transport (e.g., elevators, escalators, bicycles, and ships, among others) that contribute to the ultimate purpose of movement. In this way, we are witnessing the emergence of an integrated transportation infrastructure, and the questions regarding the automation of any one part of the journey represent only a single facet of this much greater concern.Much ink and much ire has been expended in championing automation as a flawless answer to the continuing carnage of road traffic injuries and deaths. Although it is a laudable goal within itself, it is doubtful whether such a grandiose claim is actually testable or realizable (11, 86). Similar objections can be raised for the claims of greater efficiency, since the pertinent question here is at what level should this efficiency be measured—at the systemic level, or is the claim advanced for each vehicle and person on the roadway? It may well be that all AVs will adhere to the speed limit, but then how does the anxious husband get his pregnant wife to the emergency room? Questions regarding exceptional social conditions go well beyond algorithmic oversight of lateral and longitudinal control. They illustrate one very stark fact: When we change the face of transportation in the manner that is being proposed, we will change the nature of society itself (7). Whether we are prepared for such a radical evolutionary step remains to be seen.We thank the three anonymous reviewers whose detailed and extensive comments have served to improve significantly the revised work and Dr. Jessica Cruit, Dr. Kristy Snyder, Dr. Frances Martinez, and Dr. Gabriella Hancock for helpful observations on various early versions of this paper.Author contributions: P.A.H., I.N., and J.S. wrote the paper.The authors declare no conflict of interest.This paper results from the Arthur M. Sackler Colloquium of the National Academy of Sciences, “The Science of Science Communication III” held November 16–17, 2017, at the National Academy of Sciences in Washington, DC. The complete program and audio files of most presentations are available on the NAS Web site at www.nasonline.org/Science_Communication_III.This article is a PNAS Direct Submission.Published under the PNAS license.Thank you for your interest in spreading the word on PNAS.NOTE: We only request your email address so that the person you are recommending the page to knows that you wanted them to see it, and that it is not junk mail. We do not capture any email address.SubmitFeedback\\xa0\\xa0\\xa0\\xa0Privacy/LegalCopyright © 2021 National Academy of Sciences. Online ISSN 1091-6490. PNAS is a partner of CHORUS, COPE, CrossRef, ORCID, and Research4Life.'"
            ]
          },
          "metadata": {},
          "execution_count": 140
        }
      ]
    },
    {
      "cell_type": "code",
      "metadata": {
        "id": "_oeCSKIDBNvv"
      },
      "source": [
        "#Text and Character Cleaning\n",
        "# \\r and \\n\n",
        "df['Content_Parsed_1'] = df['Content'].str.replace(\"\\r\", \" \")\n",
        "df['Content_Parsed_1'] = df['Content_Parsed_1'].str.replace(\"\\n\", \" \")\n",
        "df['Content_Parsed_1'] = df['Content_Parsed_1'].str.replace(\"    \", \" \")"
      ],
      "execution_count": null,
      "outputs": []
    },
    {
      "cell_type": "code",
      "metadata": {
        "id": "IwbP2N1pBSZD"
      },
      "source": [
        "#\" when quoting the text\"\n",
        "df['Content_Parsed_1'] = df['Content_Parsed_1'].str.replace('\"', '')"
      ],
      "execution_count": null,
      "outputs": []
    },
    {
      "cell_type": "code",
      "metadata": {
        "id": "aPMi9e8UBUdt"
      },
      "source": [
        "\n",
        "# Lowercasing the text\n",
        "df['Content_Parsed_2'] = df['Content_Parsed_1'].str.lower()"
      ],
      "execution_count": null,
      "outputs": []
    },
    {
      "cell_type": "code",
      "metadata": {
        "id": "pUE6RellBWl7"
      },
      "source": [
        "#getting rid of punctuation\n",
        "punctuation_signs = list(\"?:!.,;\")\n",
        "df['Content_Parsed_3'] = df['Content_Parsed_2']\n",
        "\n",
        "for punct_sign in punctuation_signs:\n",
        "    df['Content_Parsed_3'] = df['Content_Parsed_3'].str.replace(punct_sign, '')"
      ],
      "execution_count": null,
      "outputs": []
    },
    {
      "cell_type": "code",
      "metadata": {
        "id": "K2OCh26IBYq3"
      },
      "source": [
        "df['Content_Parsed_4'] = df['Content_Parsed_3'].str.replace(\"'s\", \"\")"
      ],
      "execution_count": null,
      "outputs": []
    },
    {
      "cell_type": "code",
      "metadata": {
        "colab": {
          "base_uri": "https://localhost:8080/"
        },
        "id": "LbIF-aJRBarr",
        "outputId": "e284d958-62ee-4789-ca2b-10e27c97a4a9"
      },
      "source": [
        "#Stemming and Lemmatization and \n",
        "# Downloading punkt and wordnet from NLTK\n",
        "nltk.download('punkt')\n",
        "print(\"------------------------------------------------------------\")\n",
        "nltk.download('wordnet')"
      ],
      "execution_count": null,
      "outputs": [
        {
          "output_type": "stream",
          "name": "stdout",
          "text": [
            "[nltk_data] Downloading package punkt to /root/nltk_data...\n",
            "[nltk_data]   Package punkt is already up-to-date!\n",
            "------------------------------------------------------------\n",
            "[nltk_data] Downloading package wordnet to /root/nltk_data...\n",
            "[nltk_data]   Package wordnet is already up-to-date!\n"
          ]
        },
        {
          "output_type": "execute_result",
          "data": {
            "text/plain": [
              "True"
            ]
          },
          "metadata": {},
          "execution_count": 146
        }
      ]
    },
    {
      "cell_type": "code",
      "metadata": {
        "id": "TJ1z7sngBdnW"
      },
      "source": [
        "# Saving the lemmatizer into an object\n",
        "wordnet_lemmatizer = WordNetLemmatizer()"
      ],
      "execution_count": null,
      "outputs": []
    },
    {
      "cell_type": "code",
      "metadata": {
        "id": "8z61_-QsBhBx"
      },
      "source": [
        "nrows = len(df)\n",
        "lemmatized_text_list = []\n",
        "\n",
        "for row in range(0, nrows):\n",
        "    \n",
        "    # Create an empty list containing lemmatized words\n",
        "    lemmatized_list = []\n",
        "    \n",
        "    # Save the text and its words into an object\n",
        "    text = df.loc[row]['Content_Parsed_4']\n",
        "    text_words = text.split(\" \")\n",
        "\n",
        "    # Iterate through every word to lemmatize\n",
        "    for word in text_words:\n",
        "        lemmatized_list.append(wordnet_lemmatizer.lemmatize(word, pos=\"v\"))\n",
        "        \n",
        "    # Join the list\n",
        "    lemmatized_text = \" \".join(lemmatized_list)\n",
        "    \n",
        "    # Append to the list containing the texts\n",
        "    lemmatized_text_list.append(lemmatized_text)"
      ],
      "execution_count": null,
      "outputs": []
    },
    {
      "cell_type": "code",
      "metadata": {
        "id": "GGAvAVRlBtgc"
      },
      "source": [
        "df['Content_Parsed_5'] = lemmatized_text_list"
      ],
      "execution_count": null,
      "outputs": []
    },
    {
      "cell_type": "code",
      "metadata": {
        "colab": {
          "base_uri": "https://localhost:8080/"
        },
        "id": "4d7ov4DIBwj4",
        "outputId": "aa2ee4ea-0822-409f-8c9f-b6227ec8054a"
      },
      "source": [
        "\n",
        "# Downloading the stop words list\n",
        "nltk.download('stopwords')"
      ],
      "execution_count": null,
      "outputs": [
        {
          "output_type": "stream",
          "name": "stdout",
          "text": [
            "[nltk_data] Downloading package stopwords to /root/nltk_data...\n",
            "[nltk_data]   Package stopwords is already up-to-date!\n"
          ]
        },
        {
          "output_type": "execute_result",
          "data": {
            "text/plain": [
              "True"
            ]
          },
          "metadata": {},
          "execution_count": 150
        }
      ]
    },
    {
      "cell_type": "code",
      "metadata": {
        "id": "XkOkHIRmBzBu"
      },
      "source": [
        "\n",
        "# Loading the stop words in english\n",
        "stop_words = list(stopwords.words('english'))"
      ],
      "execution_count": null,
      "outputs": []
    },
    {
      "cell_type": "code",
      "metadata": {
        "colab": {
          "base_uri": "https://localhost:8080/"
        },
        "id": "AncN0tErB2M-",
        "outputId": "054c8bd2-37b3-4d92-9a71-ca5b4996bb54"
      },
      "source": [
        "stop_words[0:10]"
      ],
      "execution_count": null,
      "outputs": [
        {
          "output_type": "execute_result",
          "data": {
            "text/plain": [
              "['i', 'me', 'my', 'myself', 'we', 'our', 'ours', 'ourselves', 'you', \"you're\"]"
            ]
          },
          "metadata": {},
          "execution_count": 152
        }
      ]
    },
    {
      "cell_type": "code",
      "metadata": {
        "id": "ymg_cF9tB60Q"
      },
      "source": [
        "df['Content_Parsed_6'] = df['Content_Parsed_5']\n",
        "\n",
        "for stop_word in stop_words:\n",
        "\n",
        "    regex_stopword = r\"\\b\" + stop_word + r\"\\b\"\n",
        "    df['Content_Parsed_6'] = df['Content_Parsed_6'].str.replace(regex_stopword, '')"
      ],
      "execution_count": null,
      "outputs": []
    },
    {
      "cell_type": "code",
      "metadata": {
        "id": "ySyjX6AMXxiM"
      },
      "source": [
        "#We have some dobule/triple spaces between words because of the replacements. However, it's not a problem because we'll tokenize by the spaces later.\n",
        "\n",
        "#As an example, we'll show an original news article and its modifications throughout the process:"
      ],
      "execution_count": null,
      "outputs": []
    },
    {
      "cell_type": "code",
      "metadata": {
        "colab": {
          "base_uri": "https://localhost:8080/",
          "height": 188
        },
        "id": "53inVXQmB8-m",
        "outputId": "016ae8e6-3a11-452a-a329-f4685b5830f4"
      },
      "source": [
        "\n",
        "df.loc[2]['Content']"
      ],
      "execution_count": null,
      "outputs": [
        {
          "output_type": "execute_result",
          "data": {
            "application/vnd.google.colaboratory.intrinsic+json": {
              "type": "string"
            },
            "text/plain": [
              "'A self-driving car (sometimes called an autonomous car or driverless car) is a vehicle that uses a combination of sensors, cameras, radar and artificial intelligence (AI) to travel between destinations without a human operator. To qualify as fully autonomous, a vehicle must be able to navigate without human intervention to a predetermined destination over roads that have not been adapted for its use.Companies developing and/or testing autonomous cars include Audi, BMW, Ford, Google, General Motors, Tesla, Volkswagen and Volvo. Google\\'s test involved a fleet of self-driving cars -- including Toyota Prii and an Audi TT -- navigating over 140,000 miles of California streets and highways.AI technologies power self-driving car systems. Developers of self-driving cars use vast amounts of data from\\xa0image recognition\\xa0systems, along with\\xa0machine learning\\xa0and\\xa0neural networks, to build systems that can drive autonomously.The neural networks identify patterns in the data, which is fed to the machine learning algorithms. That data includes images from cameras on self-driving cars from which the neural network learns to identify traffic lights, trees, curbs, pedestrians, street signs and other parts of any given driving environment.For example, Google\\'s self-driving car project, called Waymo, uses a mix of sensors,\\xa0Lidar\\xa0(light detection and ranging -- a technology similar to\\xa0RADAR) and cameras and combines all of the data those systems generate to identify everything around the vehicle and predict what those objects might do next. This happens in fractions of a second. Maturity is important for these systems. The more the system drives, the more data it can incorporate into its deep learning algorithms, enabling it to make more nuanced driving choices.The following outlines how Google Waymo vehicles work:Google\\'s Waymo project is an example of a self-driving car that is almost entirely autonomous. It still requires a human driver to be present but only to override the system when necessary. It is not self-driving in the purest sense, but it can drive itself in ideal conditions. It has a high level of autonomy. Many of the cars available to consumers today have a lower level of autonomy but still have some self-driving features. The self-driving features that are available in many production cars as of 2019 include the following:The U.S. National Highway Traffic Safety Administration (NHTSA) lays out six levels of automation, beginning with Level 0, where humans do the driving, through\\xa0driver assistance\\xa0technologies up to fully autonomous cars. Here are the five levels that follow Level 0 automation:As of 2019, carmakers have reached Level 4. Manufacturers must clear a variety of technological milestones, and several important issues must be addressed before fully autonomous vehicles can be purchased and used on public roads in the United States. Even though cars with Level 4 autonomy aren\\'t available for public consumption, they are in used in other ways.For example, Google\\'s Waymo partnered with Lyft to offer a fully autonomous commercial ride-sharing service called Waymo One. Riders can hail a self-driving car to bring them to their destination and provide feedback to Waymo. The cars still include a safety driver in case the ADS needs to be overridden. The service is only available in the Metro Phoenix area as of late 2019 but is looking to expand to cities in Florida and California.Autonomous street-sweeping vehicles are also being produced in China\\'s Hunan province, meeting the Level 4 requirements for independently navigating a familiar environment with limited novel situations.Projections from manufacturers vary on when Level 4 and 5 vehicles will be widely available. Ford and Volvo both project a 2021 release of a Level 4 vehicle for public consumption. Tesla CEO Elon Musk, being a pioneer of both self-driving and electric cars, has claimed that his company will have Level 5 vehicles ready as early as 2020. A successful Level 5 car must be able to react to novel driving situations as well or better than a human can.The top benefit touted by autonomous vehicle proponents is safety. A U.S.\\xa0Department of Transportation\\xa0(DOT) and NHTSA statistical projection of traffic fatalities for 2017 estimated that 37,150 people died in motor vehicle traffic accidents that year. NHTSA estimated that 94% of serious crashes are due to human error or poor choices, such as drunk or distracted driving. Autonomous cars remove those risk factors from the equation -- though self-driving cars are still vulnerable to other factors, such as mechanical issues, that cause crashes.If autonomous cars can significantly reduce the number of crashes, the economic benefits could be enormous. Injuries impact economic activity, including $57.6 billion in lost workplace productivity and $594 billion due to loss of life and decreased quality of life due to injuries, according to NHTSA.In theory, if the roads were mostly occupied by autonomous cars, traffic would flow smoothly, and there would be less traffic congestion. In fully automated cars, the occupants could do productive activities while commuting to work. People who aren\\'t able to drive due to physical limitations could find new independence through autonomous vehicles and would have the opportunity to work in fields that require driving.Autonomous trucks have been tested in the U.S. and Europe to enable drivers to use autopilot over long distances, freeing the driver to rest or complete tasks and improving driver safety and fuel efficiency. This initiative, called truck platooning, is powered by ACC, collision avoidance systems and\\xa0vehicle-to-vehicle communications\\xa0for cooperative ACC (CACC).The downsides of self-driving technology could be that riding in a vehicle without a driver behind the steering wheel may be unnerving -- at least at first. But, as self-driving capabilities become commonplace, human drivers may become overly reliant on the autopilot technology and leave their safety in the hands of automation, even when they should act as backup drivers in case of software failures or mechanical issues.In one example from March 2018,\\xa0Tesla\\'s\\xa0Model X sport utility vehicle (SUV) was on autopilot when it crashed into a highway lane divider. The driver\\'s hands were not on the wheel, despite visual warnings and an audible warning to put his hands back on the steering wheel, according to the company. Another crash occurred when a Tesla\\'s AI mistook the side of a truck\\'s shiny reflection for the sky.Autonomous cars must learn to identify countless objects in the vehicle\\'s path, from branches and litter to animals and people. Other challenges on the road are tunnels that interfere with the Global Positioning System (GPS), construction projects that cause lane changes or complex decisions, like where to stop to allow emergency vehicles to pass.The systems need to make instantaneous decisions on when to slow down, swerve or continue acceleration normally. This is a continuing challenge for developers, and there are reports of self-driving cars hesitating and swerving unnecessarily when objects are detected in or near the roadways.This problem was evident in a fatal accident in March 2018, which involved an autonomous car operated by Uber. The company reported that the vehicle\\'s software identified a pedestrian but deemed it a false positive and failed to swerve to avoid hitting her. This crash caused Toyota to temporarily cease its testing of self-driving cars on public roads, but its testing will continue elsewhere. The Toyota Research Institute is constructing a test facility on a 60-acre site in Michigan to further develop automated vehicle technology.With crashes also comes the question of liability, and lawmakers have yet to define who is liable when an autonomous car is involved in an accident. There are also serious concerns that the software used to operate autonomous vehicles can be hacked, and automotive companies are working to address\\xa0cybersecurity\\xa0risks.Carmakers are subject to Federal Motor Vehicle Safety Standards (FMVSS), and NHTSA reported that more work must be done for vehicles to meet those standards.In China, carmakers and regulators are adopting a different strategy to meet standards and make self-driving cars an everyday reality. The Chinese government is beginning to redesign urban landscapes, policy and infrastructure to make the environment more self-driving car-friendly. This includes writing rules about how humans move around and recruiting mobile network operators to take on a portion of the processing required to give self-driving vehicles the data they need to navigate. \"National Test Roads\" would be implemented. The autocratic nature of the Chinese government makes this possible, which bypasses the litigious democracy that tests are funneled through in America.The path toward self-driving cars began with incremental automation features for safety and convenience before the year 2000, with cruise control and antilock brakes. After the turn of the millennium, advanced safety features, including electronic stability control, blind-spot detection, and collision and lane shift warnings, became available in vehicles. Between 2010 and 2016, advanced driver assistance capabilities, such as rearview video cameras, automatic emergency brakes and lane-centering assistance, emerged, according to NHTSA.Since 2016, self-driving cars have moved toward partial autonomy, with features that help drivers stay in their lane, along with ACC technology and the ability to self-park.Fully automated vehicles are not publicly available yet and may not be for many years. In the U.S., NHTSA provides federal guidance for introducing ADSes onto public roads and, as autonomous car technologies advance, so will the department\\'s guidance.Self-driving cars are not yet legal on most roads. In June 2011, Nevada became the first jurisdiction in the world to allow driverless cars to be tested on public roadways; California, Florida, Ohio and Washington, D.C., have followed in the years since.The history of driverless cars goes back much further than that. Leonardo da Vinci designed the first\\xa0prototype\\xa0around 1478.\\xa0Da Vinci\\'s car\\xa0was designed as a self-propelled robot powered by springs, with programmable steering and the ability to run preset courses.Increased investment in analytics and proliferation of data science capabilities are among the most significant ongoing trends in...Tableau 2021.3 doesn\\'t include fancy new AI or machine learning features, instead focusing on capabilities that enable ...As relational databases struggle with scale, one graph database vendor says a paradigm shift is underway and aims to make graph ...A new law in South Korea enables developers to use payment systems outside those offered by app store platform providers. One ...With new data privacy regulations like China\\'s personal data protection law coming down the pike, CIOs need to make privacy and ...In this week\\'s antitrust roundup, South Korean officials focus in on Apple and Google app store practices, while U.S. officials ...A data practitioner has two jobs: tell the right data story and in the right way to win over project stakeholders, data expert ...Investors are super confident in the growth potential for cloud data management and analytics as the impact of the Snowflake IPO ...This quiz will test your knowledge of Hadoops basics including framework, capabilities and related technologies.TechTarget editors discuss efforts to remove bias from AI and why algorithm auditing could be a fix -- provided challenges ...The ERP sales and marketing messaging can obscure issues around cloud maturity and other important information. Use this expert ...In this Q&A, Pritam Dutta of ArcLight Consulting explains why some ERP cloud migrations run into trouble, and how integrating HCM...All Rights Reserved, \\nCopyright 2018 - 2021, TechTarget\\n\\n\\nPrivacy Policy\\n\\n\\n\\nCookie Preferences \\n\\n\\n\\nDo Not Sell My Personal Info'"
            ]
          },
          "metadata": {},
          "execution_count": 154
        }
      ]
    },
    {
      "cell_type": "code",
      "metadata": {
        "colab": {
          "base_uri": "https://localhost:8080/",
          "height": 188
        },
        "id": "TmkFTPA9CC8Z",
        "outputId": "e68ed1ff-78a9-4e6c-f228-8441dd2bd8bb"
      },
      "source": [
        "df.loc[2]['Content_Parsed_1']"
      ],
      "execution_count": null,
      "outputs": [
        {
          "output_type": "execute_result",
          "data": {
            "application/vnd.google.colaboratory.intrinsic+json": {
              "type": "string"
            },
            "text/plain": [
              "\"A self-driving car (sometimes called an autonomous car or driverless car) is a vehicle that uses a combination of sensors, cameras, radar and artificial intelligence (AI) to travel between destinations without a human operator. To qualify as fully autonomous, a vehicle must be able to navigate without human intervention to a predetermined destination over roads that have not been adapted for its use.Companies developing and/or testing autonomous cars include Audi, BMW, Ford, Google, General Motors, Tesla, Volkswagen and Volvo. Google's test involved a fleet of self-driving cars -- including Toyota Prii and an Audi TT -- navigating over 140,000 miles of California streets and highways.AI technologies power self-driving car systems. Developers of self-driving cars use vast amounts of data from\\xa0image recognition\\xa0systems, along with\\xa0machine learning\\xa0and\\xa0neural networks, to build systems that can drive autonomously.The neural networks identify patterns in the data, which is fed to the machine learning algorithms. That data includes images from cameras on self-driving cars from which the neural network learns to identify traffic lights, trees, curbs, pedestrians, street signs and other parts of any given driving environment.For example, Google's self-driving car project, called Waymo, uses a mix of sensors,\\xa0Lidar\\xa0(light detection and ranging -- a technology similar to\\xa0RADAR) and cameras and combines all of the data those systems generate to identify everything around the vehicle and predict what those objects might do next. This happens in fractions of a second. Maturity is important for these systems. The more the system drives, the more data it can incorporate into its deep learning algorithms, enabling it to make more nuanced driving choices.The following outlines how Google Waymo vehicles work:Google's Waymo project is an example of a self-driving car that is almost entirely autonomous. It still requires a human driver to be present but only to override the system when necessary. It is not self-driving in the purest sense, but it can drive itself in ideal conditions. It has a high level of autonomy. Many of the cars available to consumers today have a lower level of autonomy but still have some self-driving features. The self-driving features that are available in many production cars as of 2019 include the following:The U.S. National Highway Traffic Safety Administration (NHTSA) lays out six levels of automation, beginning with Level 0, where humans do the driving, through\\xa0driver assistance\\xa0technologies up to fully autonomous cars. Here are the five levels that follow Level 0 automation:As of 2019, carmakers have reached Level 4. Manufacturers must clear a variety of technological milestones, and several important issues must be addressed before fully autonomous vehicles can be purchased and used on public roads in the United States. Even though cars with Level 4 autonomy aren't available for public consumption, they are in used in other ways.For example, Google's Waymo partnered with Lyft to offer a fully autonomous commercial ride-sharing service called Waymo One. Riders can hail a self-driving car to bring them to their destination and provide feedback to Waymo. The cars still include a safety driver in case the ADS needs to be overridden. The service is only available in the Metro Phoenix area as of late 2019 but is looking to expand to cities in Florida and California.Autonomous street-sweeping vehicles are also being produced in China's Hunan province, meeting the Level 4 requirements for independently navigating a familiar environment with limited novel situations.Projections from manufacturers vary on when Level 4 and 5 vehicles will be widely available. Ford and Volvo both project a 2021 release of a Level 4 vehicle for public consumption. Tesla CEO Elon Musk, being a pioneer of both self-driving and electric cars, has claimed that his company will have Level 5 vehicles ready as early as 2020. A successful Level 5 car must be able to react to novel driving situations as well or better than a human can.The top benefit touted by autonomous vehicle proponents is safety. A U.S.\\xa0Department of Transportation\\xa0(DOT) and NHTSA statistical projection of traffic fatalities for 2017 estimated that 37,150 people died in motor vehicle traffic accidents that year. NHTSA estimated that 94% of serious crashes are due to human error or poor choices, such as drunk or distracted driving. Autonomous cars remove those risk factors from the equation -- though self-driving cars are still vulnerable to other factors, such as mechanical issues, that cause crashes.If autonomous cars can significantly reduce the number of crashes, the economic benefits could be enormous. Injuries impact economic activity, including $57.6 billion in lost workplace productivity and $594 billion due to loss of life and decreased quality of life due to injuries, according to NHTSA.In theory, if the roads were mostly occupied by autonomous cars, traffic would flow smoothly, and there would be less traffic congestion. In fully automated cars, the occupants could do productive activities while commuting to work. People who aren't able to drive due to physical limitations could find new independence through autonomous vehicles and would have the opportunity to work in fields that require driving.Autonomous trucks have been tested in the U.S. and Europe to enable drivers to use autopilot over long distances, freeing the driver to rest or complete tasks and improving driver safety and fuel efficiency. This initiative, called truck platooning, is powered by ACC, collision avoidance systems and\\xa0vehicle-to-vehicle communications\\xa0for cooperative ACC (CACC).The downsides of self-driving technology could be that riding in a vehicle without a driver behind the steering wheel may be unnerving -- at least at first. But, as self-driving capabilities become commonplace, human drivers may become overly reliant on the autopilot technology and leave their safety in the hands of automation, even when they should act as backup drivers in case of software failures or mechanical issues.In one example from March 2018,\\xa0Tesla's\\xa0Model X sport utility vehicle (SUV) was on autopilot when it crashed into a highway lane divider. The driver's hands were not on the wheel, despite visual warnings and an audible warning to put his hands back on the steering wheel, according to the company. Another crash occurred when a Tesla's AI mistook the side of a truck's shiny reflection for the sky.Autonomous cars must learn to identify countless objects in the vehicle's path, from branches and litter to animals and people. Other challenges on the road are tunnels that interfere with the Global Positioning System (GPS), construction projects that cause lane changes or complex decisions, like where to stop to allow emergency vehicles to pass.The systems need to make instantaneous decisions on when to slow down, swerve or continue acceleration normally. This is a continuing challenge for developers, and there are reports of self-driving cars hesitating and swerving unnecessarily when objects are detected in or near the roadways.This problem was evident in a fatal accident in March 2018, which involved an autonomous car operated by Uber. The company reported that the vehicle's software identified a pedestrian but deemed it a false positive and failed to swerve to avoid hitting her. This crash caused Toyota to temporarily cease its testing of self-driving cars on public roads, but its testing will continue elsewhere. The Toyota Research Institute is constructing a test facility on a 60-acre site in Michigan to further develop automated vehicle technology.With crashes also comes the question of liability, and lawmakers have yet to define who is liable when an autonomous car is involved in an accident. There are also serious concerns that the software used to operate autonomous vehicles can be hacked, and automotive companies are working to address\\xa0cybersecurity\\xa0risks.Carmakers are subject to Federal Motor Vehicle Safety Standards (FMVSS), and NHTSA reported that more work must be done for vehicles to meet those standards.In China, carmakers and regulators are adopting a different strategy to meet standards and make self-driving cars an everyday reality. The Chinese government is beginning to redesign urban landscapes, policy and infrastructure to make the environment more self-driving car-friendly. This includes writing rules about how humans move around and recruiting mobile network operators to take on a portion of the processing required to give self-driving vehicles the data they need to navigate. National Test Roads would be implemented. The autocratic nature of the Chinese government makes this possible, which bypasses the litigious democracy that tests are funneled through in America.The path toward self-driving cars began with incremental automation features for safety and convenience before the year 2000, with cruise control and antilock brakes. After the turn of the millennium, advanced safety features, including electronic stability control, blind-spot detection, and collision and lane shift warnings, became available in vehicles. Between 2010 and 2016, advanced driver assistance capabilities, such as rearview video cameras, automatic emergency brakes and lane-centering assistance, emerged, according to NHTSA.Since 2016, self-driving cars have moved toward partial autonomy, with features that help drivers stay in their lane, along with ACC technology and the ability to self-park.Fully automated vehicles are not publicly available yet and may not be for many years. In the U.S., NHTSA provides federal guidance for introducing ADSes onto public roads and, as autonomous car technologies advance, so will the department's guidance.Self-driving cars are not yet legal on most roads. In June 2011, Nevada became the first jurisdiction in the world to allow driverless cars to be tested on public roadways; California, Florida, Ohio and Washington, D.C., have followed in the years since.The history of driverless cars goes back much further than that. Leonardo da Vinci designed the first\\xa0prototype\\xa0around 1478.\\xa0Da Vinci's car\\xa0was designed as a self-propelled robot powered by springs, with programmable steering and the ability to run preset courses.Increased investment in analytics and proliferation of data science capabilities are among the most significant ongoing trends in...Tableau 2021.3 doesn't include fancy new AI or machine learning features, instead focusing on capabilities that enable ...As relational databases struggle with scale, one graph database vendor says a paradigm shift is underway and aims to make graph ...A new law in South Korea enables developers to use payment systems outside those offered by app store platform providers. One ...With new data privacy regulations like China's personal data protection law coming down the pike, CIOs need to make privacy and ...In this week's antitrust roundup, South Korean officials focus in on Apple and Google app store practices, while U.S. officials ...A data practitioner has two jobs: tell the right data story and in the right way to win over project stakeholders, data expert ...Investors are super confident in the growth potential for cloud data management and analytics as the impact of the Snowflake IPO ...This quiz will test your knowledge of Hadoops basics including framework, capabilities and related technologies.TechTarget editors discuss efforts to remove bias from AI and why algorithm auditing could be a fix -- provided challenges ...The ERP sales and marketing messaging can obscure issues around cloud maturity and other important information. Use this expert ...In this Q&A, Pritam Dutta of ArcLight Consulting explains why some ERP cloud migrations run into trouble, and how integrating HCM...All Rights Reserved,  Copyright 2018 - 2021, TechTarget   Privacy Policy Cookie Preferences  Do Not Sell My Personal Info\""
            ]
          },
          "metadata": {},
          "execution_count": 155
        }
      ]
    },
    {
      "cell_type": "code",
      "metadata": {
        "colab": {
          "base_uri": "https://localhost:8080/",
          "height": 188
        },
        "id": "rrAIpMMxCRnH",
        "outputId": "16d4aa2f-f491-4457-880f-2fa841a88782"
      },
      "source": [
        "df.loc[2]['Content_Parsed_2']"
      ],
      "execution_count": null,
      "outputs": [
        {
          "output_type": "execute_result",
          "data": {
            "application/vnd.google.colaboratory.intrinsic+json": {
              "type": "string"
            },
            "text/plain": [
              "\"a self-driving car (sometimes called an autonomous car or driverless car) is a vehicle that uses a combination of sensors, cameras, radar and artificial intelligence (ai) to travel between destinations without a human operator. to qualify as fully autonomous, a vehicle must be able to navigate without human intervention to a predetermined destination over roads that have not been adapted for its use.companies developing and/or testing autonomous cars include audi, bmw, ford, google, general motors, tesla, volkswagen and volvo. google's test involved a fleet of self-driving cars -- including toyota prii and an audi tt -- navigating over 140,000 miles of california streets and highways.ai technologies power self-driving car systems. developers of self-driving cars use vast amounts of data from\\xa0image recognition\\xa0systems, along with\\xa0machine learning\\xa0and\\xa0neural networks, to build systems that can drive autonomously.the neural networks identify patterns in the data, which is fed to the machine learning algorithms. that data includes images from cameras on self-driving cars from which the neural network learns to identify traffic lights, trees, curbs, pedestrians, street signs and other parts of any given driving environment.for example, google's self-driving car project, called waymo, uses a mix of sensors,\\xa0lidar\\xa0(light detection and ranging -- a technology similar to\\xa0radar) and cameras and combines all of the data those systems generate to identify everything around the vehicle and predict what those objects might do next. this happens in fractions of a second. maturity is important for these systems. the more the system drives, the more data it can incorporate into its deep learning algorithms, enabling it to make more nuanced driving choices.the following outlines how google waymo vehicles work:google's waymo project is an example of a self-driving car that is almost entirely autonomous. it still requires a human driver to be present but only to override the system when necessary. it is not self-driving in the purest sense, but it can drive itself in ideal conditions. it has a high level of autonomy. many of the cars available to consumers today have a lower level of autonomy but still have some self-driving features. the self-driving features that are available in many production cars as of 2019 include the following:the u.s. national highway traffic safety administration (nhtsa) lays out six levels of automation, beginning with level 0, where humans do the driving, through\\xa0driver assistance\\xa0technologies up to fully autonomous cars. here are the five levels that follow level 0 automation:as of 2019, carmakers have reached level 4. manufacturers must clear a variety of technological milestones, and several important issues must be addressed before fully autonomous vehicles can be purchased and used on public roads in the united states. even though cars with level 4 autonomy aren't available for public consumption, they are in used in other ways.for example, google's waymo partnered with lyft to offer a fully autonomous commercial ride-sharing service called waymo one. riders can hail a self-driving car to bring them to their destination and provide feedback to waymo. the cars still include a safety driver in case the ads needs to be overridden. the service is only available in the metro phoenix area as of late 2019 but is looking to expand to cities in florida and california.autonomous street-sweeping vehicles are also being produced in china's hunan province, meeting the level 4 requirements for independently navigating a familiar environment with limited novel situations.projections from manufacturers vary on when level 4 and 5 vehicles will be widely available. ford and volvo both project a 2021 release of a level 4 vehicle for public consumption. tesla ceo elon musk, being a pioneer of both self-driving and electric cars, has claimed that his company will have level 5 vehicles ready as early as 2020. a successful level 5 car must be able to react to novel driving situations as well or better than a human can.the top benefit touted by autonomous vehicle proponents is safety. a u.s.\\xa0department of transportation\\xa0(dot) and nhtsa statistical projection of traffic fatalities for 2017 estimated that 37,150 people died in motor vehicle traffic accidents that year. nhtsa estimated that 94% of serious crashes are due to human error or poor choices, such as drunk or distracted driving. autonomous cars remove those risk factors from the equation -- though self-driving cars are still vulnerable to other factors, such as mechanical issues, that cause crashes.if autonomous cars can significantly reduce the number of crashes, the economic benefits could be enormous. injuries impact economic activity, including $57.6 billion in lost workplace productivity and $594 billion due to loss of life and decreased quality of life due to injuries, according to nhtsa.in theory, if the roads were mostly occupied by autonomous cars, traffic would flow smoothly, and there would be less traffic congestion. in fully automated cars, the occupants could do productive activities while commuting to work. people who aren't able to drive due to physical limitations could find new independence through autonomous vehicles and would have the opportunity to work in fields that require driving.autonomous trucks have been tested in the u.s. and europe to enable drivers to use autopilot over long distances, freeing the driver to rest or complete tasks and improving driver safety and fuel efficiency. this initiative, called truck platooning, is powered by acc, collision avoidance systems and\\xa0vehicle-to-vehicle communications\\xa0for cooperative acc (cacc).the downsides of self-driving technology could be that riding in a vehicle without a driver behind the steering wheel may be unnerving -- at least at first. but, as self-driving capabilities become commonplace, human drivers may become overly reliant on the autopilot technology and leave their safety in the hands of automation, even when they should act as backup drivers in case of software failures or mechanical issues.in one example from march 2018,\\xa0tesla's\\xa0model x sport utility vehicle (suv) was on autopilot when it crashed into a highway lane divider. the driver's hands were not on the wheel, despite visual warnings and an audible warning to put his hands back on the steering wheel, according to the company. another crash occurred when a tesla's ai mistook the side of a truck's shiny reflection for the sky.autonomous cars must learn to identify countless objects in the vehicle's path, from branches and litter to animals and people. other challenges on the road are tunnels that interfere with the global positioning system (gps), construction projects that cause lane changes or complex decisions, like where to stop to allow emergency vehicles to pass.the systems need to make instantaneous decisions on when to slow down, swerve or continue acceleration normally. this is a continuing challenge for developers, and there are reports of self-driving cars hesitating and swerving unnecessarily when objects are detected in or near the roadways.this problem was evident in a fatal accident in march 2018, which involved an autonomous car operated by uber. the company reported that the vehicle's software identified a pedestrian but deemed it a false positive and failed to swerve to avoid hitting her. this crash caused toyota to temporarily cease its testing of self-driving cars on public roads, but its testing will continue elsewhere. the toyota research institute is constructing a test facility on a 60-acre site in michigan to further develop automated vehicle technology.with crashes also comes the question of liability, and lawmakers have yet to define who is liable when an autonomous car is involved in an accident. there are also serious concerns that the software used to operate autonomous vehicles can be hacked, and automotive companies are working to address\\xa0cybersecurity\\xa0risks.carmakers are subject to federal motor vehicle safety standards (fmvss), and nhtsa reported that more work must be done for vehicles to meet those standards.in china, carmakers and regulators are adopting a different strategy to meet standards and make self-driving cars an everyday reality. the chinese government is beginning to redesign urban landscapes, policy and infrastructure to make the environment more self-driving car-friendly. this includes writing rules about how humans move around and recruiting mobile network operators to take on a portion of the processing required to give self-driving vehicles the data they need to navigate. national test roads would be implemented. the autocratic nature of the chinese government makes this possible, which bypasses the litigious democracy that tests are funneled through in america.the path toward self-driving cars began with incremental automation features for safety and convenience before the year 2000, with cruise control and antilock brakes. after the turn of the millennium, advanced safety features, including electronic stability control, blind-spot detection, and collision and lane shift warnings, became available in vehicles. between 2010 and 2016, advanced driver assistance capabilities, such as rearview video cameras, automatic emergency brakes and lane-centering assistance, emerged, according to nhtsa.since 2016, self-driving cars have moved toward partial autonomy, with features that help drivers stay in their lane, along with acc technology and the ability to self-park.fully automated vehicles are not publicly available yet and may not be for many years. in the u.s., nhtsa provides federal guidance for introducing adses onto public roads and, as autonomous car technologies advance, so will the department's guidance.self-driving cars are not yet legal on most roads. in june 2011, nevada became the first jurisdiction in the world to allow driverless cars to be tested on public roadways; california, florida, ohio and washington, d.c., have followed in the years since.the history of driverless cars goes back much further than that. leonardo da vinci designed the first\\xa0prototype\\xa0around 1478.\\xa0da vinci's car\\xa0was designed as a self-propelled robot powered by springs, with programmable steering and the ability to run preset courses.increased investment in analytics and proliferation of data science capabilities are among the most significant ongoing trends in...tableau 2021.3 doesn't include fancy new ai or machine learning features, instead focusing on capabilities that enable ...as relational databases struggle with scale, one graph database vendor says a paradigm shift is underway and aims to make graph ...a new law in south korea enables developers to use payment systems outside those offered by app store platform providers. one ...with new data privacy regulations like china's personal data protection law coming down the pike, cios need to make privacy and ...in this week's antitrust roundup, south korean officials focus in on apple and google app store practices, while u.s. officials ...a data practitioner has two jobs: tell the right data story and in the right way to win over project stakeholders, data expert ...investors are super confident in the growth potential for cloud data management and analytics as the impact of the snowflake ipo ...this quiz will test your knowledge of hadoops basics including framework, capabilities and related technologies.techtarget editors discuss efforts to remove bias from ai and why algorithm auditing could be a fix -- provided challenges ...the erp sales and marketing messaging can obscure issues around cloud maturity and other important information. use this expert ...in this q&a, pritam dutta of arclight consulting explains why some erp cloud migrations run into trouble, and how integrating hcm...all rights reserved,  copyright 2018 - 2021, techtarget   privacy policy cookie preferences  do not sell my personal info\""
            ]
          },
          "metadata": {},
          "execution_count": 156
        }
      ]
    },
    {
      "cell_type": "code",
      "metadata": {
        "colab": {
          "base_uri": "https://localhost:8080/",
          "height": 188
        },
        "id": "_QWhWZGMCTN5",
        "outputId": "99ed1c01-de57-4de4-b9b6-ceee57ded38b"
      },
      "source": [
        "df.loc[2]['Content_Parsed_3']"
      ],
      "execution_count": null,
      "outputs": [
        {
          "output_type": "execute_result",
          "data": {
            "application/vnd.google.colaboratory.intrinsic+json": {
              "type": "string"
            },
            "text/plain": [
              "\"a self-driving car (sometimes called an autonomous car or driverless car) is a vehicle that uses a combination of sensors cameras radar and artificial intelligence (ai) to travel between destinations without a human operator to qualify as fully autonomous a vehicle must be able to navigate without human intervention to a predetermined destination over roads that have not been adapted for its usecompanies developing and/or testing autonomous cars include audi bmw ford google general motors tesla volkswagen and volvo google's test involved a fleet of self-driving cars -- including toyota prii and an audi tt -- navigating over 140000 miles of california streets and highwaysai technologies power self-driving car systems developers of self-driving cars use vast amounts of data from\\xa0image recognition\\xa0systems along with\\xa0machine learning\\xa0and\\xa0neural networks to build systems that can drive autonomouslythe neural networks identify patterns in the data which is fed to the machine learning algorithms that data includes images from cameras on self-driving cars from which the neural network learns to identify traffic lights trees curbs pedestrians street signs and other parts of any given driving environmentfor example google's self-driving car project called waymo uses a mix of sensors\\xa0lidar\\xa0(light detection and ranging -- a technology similar to\\xa0radar) and cameras and combines all of the data those systems generate to identify everything around the vehicle and predict what those objects might do next this happens in fractions of a second maturity is important for these systems the more the system drives the more data it can incorporate into its deep learning algorithms enabling it to make more nuanced driving choicesthe following outlines how google waymo vehicles workgoogle's waymo project is an example of a self-driving car that is almost entirely autonomous it still requires a human driver to be present but only to override the system when necessary it is not self-driving in the purest sense but it can drive itself in ideal conditions it has a high level of autonomy many of the cars available to consumers today have a lower level of autonomy but still have some self-driving features the self-driving features that are available in many production cars as of 2019 include the followingthe us national highway traffic safety administration (nhtsa) lays out six levels of automation beginning with level 0 where humans do the driving through\\xa0driver assistance\\xa0technologies up to fully autonomous cars here are the five levels that follow level 0 automationas of 2019 carmakers have reached level 4 manufacturers must clear a variety of technological milestones and several important issues must be addressed before fully autonomous vehicles can be purchased and used on public roads in the united states even though cars with level 4 autonomy aren't available for public consumption they are in used in other waysfor example google's waymo partnered with lyft to offer a fully autonomous commercial ride-sharing service called waymo one riders can hail a self-driving car to bring them to their destination and provide feedback to waymo the cars still include a safety driver in case the ads needs to be overridden the service is only available in the metro phoenix area as of late 2019 but is looking to expand to cities in florida and californiaautonomous street-sweeping vehicles are also being produced in china's hunan province meeting the level 4 requirements for independently navigating a familiar environment with limited novel situationsprojections from manufacturers vary on when level 4 and 5 vehicles will be widely available ford and volvo both project a 2021 release of a level 4 vehicle for public consumption tesla ceo elon musk being a pioneer of both self-driving and electric cars has claimed that his company will have level 5 vehicles ready as early as 2020 a successful level 5 car must be able to react to novel driving situations as well or better than a human canthe top benefit touted by autonomous vehicle proponents is safety a us\\xa0department of transportation\\xa0(dot) and nhtsa statistical projection of traffic fatalities for 2017 estimated that 37150 people died in motor vehicle traffic accidents that year nhtsa estimated that 94% of serious crashes are due to human error or poor choices such as drunk or distracted driving autonomous cars remove those risk factors from the equation -- though self-driving cars are still vulnerable to other factors such as mechanical issues that cause crashesif autonomous cars can significantly reduce the number of crashes the economic benefits could be enormous injuries impact economic activity including $576 billion in lost workplace productivity and $594 billion due to loss of life and decreased quality of life due to injuries according to nhtsain theory if the roads were mostly occupied by autonomous cars traffic would flow smoothly and there would be less traffic congestion in fully automated cars the occupants could do productive activities while commuting to work people who aren't able to drive due to physical limitations could find new independence through autonomous vehicles and would have the opportunity to work in fields that require drivingautonomous trucks have been tested in the us and europe to enable drivers to use autopilot over long distances freeing the driver to rest or complete tasks and improving driver safety and fuel efficiency this initiative called truck platooning is powered by acc collision avoidance systems and\\xa0vehicle-to-vehicle communications\\xa0for cooperative acc (cacc)the downsides of self-driving technology could be that riding in a vehicle without a driver behind the steering wheel may be unnerving -- at least at first but as self-driving capabilities become commonplace human drivers may become overly reliant on the autopilot technology and leave their safety in the hands of automation even when they should act as backup drivers in case of software failures or mechanical issuesin one example from march 2018\\xa0tesla's\\xa0model x sport utility vehicle (suv) was on autopilot when it crashed into a highway lane divider the driver's hands were not on the wheel despite visual warnings and an audible warning to put his hands back on the steering wheel according to the company another crash occurred when a tesla's ai mistook the side of a truck's shiny reflection for the skyautonomous cars must learn to identify countless objects in the vehicle's path from branches and litter to animals and people other challenges on the road are tunnels that interfere with the global positioning system (gps) construction projects that cause lane changes or complex decisions like where to stop to allow emergency vehicles to passthe systems need to make instantaneous decisions on when to slow down swerve or continue acceleration normally this is a continuing challenge for developers and there are reports of self-driving cars hesitating and swerving unnecessarily when objects are detected in or near the roadwaysthis problem was evident in a fatal accident in march 2018 which involved an autonomous car operated by uber the company reported that the vehicle's software identified a pedestrian but deemed it a false positive and failed to swerve to avoid hitting her this crash caused toyota to temporarily cease its testing of self-driving cars on public roads but its testing will continue elsewhere the toyota research institute is constructing a test facility on a 60-acre site in michigan to further develop automated vehicle technologywith crashes also comes the question of liability and lawmakers have yet to define who is liable when an autonomous car is involved in an accident there are also serious concerns that the software used to operate autonomous vehicles can be hacked and automotive companies are working to address\\xa0cybersecurity\\xa0riskscarmakers are subject to federal motor vehicle safety standards (fmvss) and nhtsa reported that more work must be done for vehicles to meet those standardsin china carmakers and regulators are adopting a different strategy to meet standards and make self-driving cars an everyday reality the chinese government is beginning to redesign urban landscapes policy and infrastructure to make the environment more self-driving car-friendly this includes writing rules about how humans move around and recruiting mobile network operators to take on a portion of the processing required to give self-driving vehicles the data they need to navigate national test roads would be implemented the autocratic nature of the chinese government makes this possible which bypasses the litigious democracy that tests are funneled through in americathe path toward self-driving cars began with incremental automation features for safety and convenience before the year 2000 with cruise control and antilock brakes after the turn of the millennium advanced safety features including electronic stability control blind-spot detection and collision and lane shift warnings became available in vehicles between 2010 and 2016 advanced driver assistance capabilities such as rearview video cameras automatic emergency brakes and lane-centering assistance emerged according to nhtsasince 2016 self-driving cars have moved toward partial autonomy with features that help drivers stay in their lane along with acc technology and the ability to self-parkfully automated vehicles are not publicly available yet and may not be for many years in the us nhtsa provides federal guidance for introducing adses onto public roads and as autonomous car technologies advance so will the department's guidanceself-driving cars are not yet legal on most roads in june 2011 nevada became the first jurisdiction in the world to allow driverless cars to be tested on public roadways california florida ohio and washington dc have followed in the years sincethe history of driverless cars goes back much further than that leonardo da vinci designed the first\\xa0prototype\\xa0around 1478\\xa0da vinci's car\\xa0was designed as a self-propelled robot powered by springs with programmable steering and the ability to run preset coursesincreased investment in analytics and proliferation of data science capabilities are among the most significant ongoing trends intableau 20213 doesn't include fancy new ai or machine learning features instead focusing on capabilities that enable as relational databases struggle with scale one graph database vendor says a paradigm shift is underway and aims to make graph a new law in south korea enables developers to use payment systems outside those offered by app store platform providers one with new data privacy regulations like china's personal data protection law coming down the pike cios need to make privacy and in this week's antitrust roundup south korean officials focus in on apple and google app store practices while us officials a data practitioner has two jobs tell the right data story and in the right way to win over project stakeholders data expert investors are super confident in the growth potential for cloud data management and analytics as the impact of the snowflake ipo this quiz will test your knowledge of hadoops basics including framework capabilities and related technologiestechtarget editors discuss efforts to remove bias from ai and why algorithm auditing could be a fix -- provided challenges the erp sales and marketing messaging can obscure issues around cloud maturity and other important information use this expert in this q&a pritam dutta of arclight consulting explains why some erp cloud migrations run into trouble and how integrating hcmall rights reserved  copyright 2018 - 2021 techtarget   privacy policy cookie preferences  do not sell my personal info\""
            ]
          },
          "metadata": {},
          "execution_count": 157
        }
      ]
    },
    {
      "cell_type": "code",
      "metadata": {
        "colab": {
          "base_uri": "https://localhost:8080/",
          "height": 188
        },
        "id": "Bo59SeRoCV3e",
        "outputId": "821ea71f-28d2-4845-cd20-02f5291b9776"
      },
      "source": [
        "df.loc[2]['Content_Parsed_4']"
      ],
      "execution_count": null,
      "outputs": [
        {
          "output_type": "execute_result",
          "data": {
            "application/vnd.google.colaboratory.intrinsic+json": {
              "type": "string"
            },
            "text/plain": [
              "\"a self-driving car (sometimes called an autonomous car or driverless car) is a vehicle that uses a combination of sensors cameras radar and artificial intelligence (ai) to travel between destinations without a human operator to qualify as fully autonomous a vehicle must be able to navigate without human intervention to a predetermined destination over roads that have not been adapted for its usecompanies developing and/or testing autonomous cars include audi bmw ford google general motors tesla volkswagen and volvo google test involved a fleet of self-driving cars -- including toyota prii and an audi tt -- navigating over 140000 miles of california streets and highwaysai technologies power self-driving car systems developers of self-driving cars use vast amounts of data from\\xa0image recognition\\xa0systems along with\\xa0machine learning\\xa0and\\xa0neural networks to build systems that can drive autonomouslythe neural networks identify patterns in the data which is fed to the machine learning algorithms that data includes images from cameras on self-driving cars from which the neural network learns to identify traffic lights trees curbs pedestrians street signs and other parts of any given driving environmentfor example google self-driving car project called waymo uses a mix of sensors\\xa0lidar\\xa0(light detection and ranging -- a technology similar to\\xa0radar) and cameras and combines all of the data those systems generate to identify everything around the vehicle and predict what those objects might do next this happens in fractions of a second maturity is important for these systems the more the system drives the more data it can incorporate into its deep learning algorithms enabling it to make more nuanced driving choicesthe following outlines how google waymo vehicles workgoogle waymo project is an example of a self-driving car that is almost entirely autonomous it still requires a human driver to be present but only to override the system when necessary it is not self-driving in the purest sense but it can drive itself in ideal conditions it has a high level of autonomy many of the cars available to consumers today have a lower level of autonomy but still have some self-driving features the self-driving features that are available in many production cars as of 2019 include the followingthe us national highway traffic safety administration (nhtsa) lays out six levels of automation beginning with level 0 where humans do the driving through\\xa0driver assistance\\xa0technologies up to fully autonomous cars here are the five levels that follow level 0 automationas of 2019 carmakers have reached level 4 manufacturers must clear a variety of technological milestones and several important issues must be addressed before fully autonomous vehicles can be purchased and used on public roads in the united states even though cars with level 4 autonomy aren't available for public consumption they are in used in other waysfor example google waymo partnered with lyft to offer a fully autonomous commercial ride-sharing service called waymo one riders can hail a self-driving car to bring them to their destination and provide feedback to waymo the cars still include a safety driver in case the ads needs to be overridden the service is only available in the metro phoenix area as of late 2019 but is looking to expand to cities in florida and californiaautonomous street-sweeping vehicles are also being produced in china hunan province meeting the level 4 requirements for independently navigating a familiar environment with limited novel situationsprojections from manufacturers vary on when level 4 and 5 vehicles will be widely available ford and volvo both project a 2021 release of a level 4 vehicle for public consumption tesla ceo elon musk being a pioneer of both self-driving and electric cars has claimed that his company will have level 5 vehicles ready as early as 2020 a successful level 5 car must be able to react to novel driving situations as well or better than a human canthe top benefit touted by autonomous vehicle proponents is safety a us\\xa0department of transportation\\xa0(dot) and nhtsa statistical projection of traffic fatalities for 2017 estimated that 37150 people died in motor vehicle traffic accidents that year nhtsa estimated that 94% of serious crashes are due to human error or poor choices such as drunk or distracted driving autonomous cars remove those risk factors from the equation -- though self-driving cars are still vulnerable to other factors such as mechanical issues that cause crashesif autonomous cars can significantly reduce the number of crashes the economic benefits could be enormous injuries impact economic activity including $576 billion in lost workplace productivity and $594 billion due to loss of life and decreased quality of life due to injuries according to nhtsain theory if the roads were mostly occupied by autonomous cars traffic would flow smoothly and there would be less traffic congestion in fully automated cars the occupants could do productive activities while commuting to work people who aren't able to drive due to physical limitations could find new independence through autonomous vehicles and would have the opportunity to work in fields that require drivingautonomous trucks have been tested in the us and europe to enable drivers to use autopilot over long distances freeing the driver to rest or complete tasks and improving driver safety and fuel efficiency this initiative called truck platooning is powered by acc collision avoidance systems and\\xa0vehicle-to-vehicle communications\\xa0for cooperative acc (cacc)the downsides of self-driving technology could be that riding in a vehicle without a driver behind the steering wheel may be unnerving -- at least at first but as self-driving capabilities become commonplace human drivers may become overly reliant on the autopilot technology and leave their safety in the hands of automation even when they should act as backup drivers in case of software failures or mechanical issuesin one example from march 2018\\xa0tesla\\xa0model x sport utility vehicle (suv) was on autopilot when it crashed into a highway lane divider the driver hands were not on the wheel despite visual warnings and an audible warning to put his hands back on the steering wheel according to the company another crash occurred when a tesla ai mistook the side of a truck shiny reflection for the skyautonomous cars must learn to identify countless objects in the vehicle path from branches and litter to animals and people other challenges on the road are tunnels that interfere with the global positioning system (gps) construction projects that cause lane changes or complex decisions like where to stop to allow emergency vehicles to passthe systems need to make instantaneous decisions on when to slow down swerve or continue acceleration normally this is a continuing challenge for developers and there are reports of self-driving cars hesitating and swerving unnecessarily when objects are detected in or near the roadwaysthis problem was evident in a fatal accident in march 2018 which involved an autonomous car operated by uber the company reported that the vehicle software identified a pedestrian but deemed it a false positive and failed to swerve to avoid hitting her this crash caused toyota to temporarily cease its testing of self-driving cars on public roads but its testing will continue elsewhere the toyota research institute is constructing a test facility on a 60-acre site in michigan to further develop automated vehicle technologywith crashes also comes the question of liability and lawmakers have yet to define who is liable when an autonomous car is involved in an accident there are also serious concerns that the software used to operate autonomous vehicles can be hacked and automotive companies are working to address\\xa0cybersecurity\\xa0riskscarmakers are subject to federal motor vehicle safety standards (fmvss) and nhtsa reported that more work must be done for vehicles to meet those standardsin china carmakers and regulators are adopting a different strategy to meet standards and make self-driving cars an everyday reality the chinese government is beginning to redesign urban landscapes policy and infrastructure to make the environment more self-driving car-friendly this includes writing rules about how humans move around and recruiting mobile network operators to take on a portion of the processing required to give self-driving vehicles the data they need to navigate national test roads would be implemented the autocratic nature of the chinese government makes this possible which bypasses the litigious democracy that tests are funneled through in americathe path toward self-driving cars began with incremental automation features for safety and convenience before the year 2000 with cruise control and antilock brakes after the turn of the millennium advanced safety features including electronic stability control blind-spot detection and collision and lane shift warnings became available in vehicles between 2010 and 2016 advanced driver assistance capabilities such as rearview video cameras automatic emergency brakes and lane-centering assistance emerged according to nhtsasince 2016 self-driving cars have moved toward partial autonomy with features that help drivers stay in their lane along with acc technology and the ability to self-parkfully automated vehicles are not publicly available yet and may not be for many years in the us nhtsa provides federal guidance for introducing adses onto public roads and as autonomous car technologies advance so will the department guidanceself-driving cars are not yet legal on most roads in june 2011 nevada became the first jurisdiction in the world to allow driverless cars to be tested on public roadways california florida ohio and washington dc have followed in the years sincethe history of driverless cars goes back much further than that leonardo da vinci designed the first\\xa0prototype\\xa0around 1478\\xa0da vinci car\\xa0was designed as a self-propelled robot powered by springs with programmable steering and the ability to run preset coursesincreased investment in analytics and proliferation of data science capabilities are among the most significant ongoing trends intableau 20213 doesn't include fancy new ai or machine learning features instead focusing on capabilities that enable as relational databases struggle with scale one graph database vendor says a paradigm shift is underway and aims to make graph a new law in south korea enables developers to use payment systems outside those offered by app store platform providers one with new data privacy regulations like china personal data protection law coming down the pike cios need to make privacy and in this week antitrust roundup south korean officials focus in on apple and google app store practices while us officials a data practitioner has two jobs tell the right data story and in the right way to win over project stakeholders data expert investors are super confident in the growth potential for cloud data management and analytics as the impact of the snowflake ipo this quiz will test your knowledge of hadoops basics including framework capabilities and related technologiestechtarget editors discuss efforts to remove bias from ai and why algorithm auditing could be a fix -- provided challenges the erp sales and marketing messaging can obscure issues around cloud maturity and other important information use this expert in this q&a pritam dutta of arclight consulting explains why some erp cloud migrations run into trouble and how integrating hcmall rights reserved  copyright 2018 - 2021 techtarget   privacy policy cookie preferences  do not sell my personal info\""
            ]
          },
          "metadata": {},
          "execution_count": 158
        }
      ]
    },
    {
      "cell_type": "code",
      "metadata": {
        "colab": {
          "base_uri": "https://localhost:8080/",
          "height": 188
        },
        "id": "YquYcv3ECZBt",
        "outputId": "af2e2498-eb93-48f7-ec8a-8c7c18ac5d89"
      },
      "source": [
        "df.loc[2]['Content_Parsed_5']"
      ],
      "execution_count": null,
      "outputs": [
        {
          "output_type": "execute_result",
          "data": {
            "application/vnd.google.colaboratory.intrinsic+json": {
              "type": "string"
            },
            "text/plain": [
              "\"a self-driving car (sometimes call an autonomous car or driverless car) be a vehicle that use a combination of sensors cameras radar and artificial intelligence (ai) to travel between destinations without a human operator to qualify as fully autonomous a vehicle must be able to navigate without human intervention to a predetermine destination over roads that have not be adapt for its usecompanies develop and/or test autonomous cars include audi bmw ford google general motor tesla volkswagen and volvo google test involve a fleet of self-driving cars -- include toyota prii and an audi tt -- navigate over 140000 miles of california streets and highwaysai technologies power self-driving car systems developers of self-driving cars use vast amount of data from\\xa0image recognition\\xa0systems along with\\xa0machine learning\\xa0and\\xa0neural network to build systems that can drive autonomouslythe neural network identify pattern in the data which be feed to the machine learn algorithms that data include image from cameras on self-driving cars from which the neural network learn to identify traffic light tree curb pedestrians street sign and other part of any give drive environmentfor example google self-driving car project call waymo use a mix of sensors\\xa0lidar\\xa0(light detection and range -- a technology similar to\\xa0radar) and cameras and combine all of the data those systems generate to identify everything around the vehicle and predict what those object might do next this happen in fraction of a second maturity be important for these systems the more the system drive the more data it can incorporate into its deep learn algorithms enable it to make more nuanced drive choicesthe follow outline how google waymo vehicles workgoogle waymo project be an example of a self-driving car that be almost entirely autonomous it still require a human driver to be present but only to override the system when necessary it be not self-driving in the purest sense but it can drive itself in ideal condition it have a high level of autonomy many of the cars available to consumers today have a lower level of autonomy but still have some self-driving feature the self-driving feature that be available in many production cars as of 2019 include the followingthe us national highway traffic safety administration (nhtsa) lay out six level of automation begin with level 0 where humans do the drive through\\xa0driver assistance\\xa0technologies up to fully autonomous cars here be the five level that follow level 0 automationas of 2019 carmakers have reach level 4 manufacturers must clear a variety of technological milestones and several important issue must be address before fully autonomous vehicles can be purchase and use on public roads in the unite state even though cars with level 4 autonomy aren't available for public consumption they be in use in other waysfor example google waymo partner with lyft to offer a fully autonomous commercial ride-sharing service call waymo one riders can hail a self-driving car to bring them to their destination and provide feedback to waymo the cars still include a safety driver in case the ads need to be override the service be only available in the metro phoenix area as of late 2019 but be look to expand to cities in florida and californiaautonomous street-sweeping vehicles be also be produce in china hunan province meet the level 4 requirements for independently navigate a familiar environment with limit novel situationsprojections from manufacturers vary on when level 4 and 5 vehicles will be widely available ford and volvo both project a 2021 release of a level 4 vehicle for public consumption tesla ceo elon musk be a pioneer of both self-driving and electric cars have claim that his company will have level 5 vehicles ready as early as 2020 a successful level 5 car must be able to react to novel drive situations as well or better than a human canthe top benefit tout by autonomous vehicle proponents be safety a us\\xa0department of transportation\\xa0(dot) and nhtsa statistical projection of traffic fatalities for 2017 estimate that 37150 people die in motor vehicle traffic accidents that year nhtsa estimate that 94% of serious crash be due to human error or poor choices such as drink or distract drive autonomous cars remove those risk factor from the equation -- though self-driving cars be still vulnerable to other factor such as mechanical issue that cause crashesif autonomous cars can significantly reduce the number of crash the economic benefit could be enormous injuries impact economic activity include $576 billion in lose workplace productivity and $594 billion due to loss of life and decrease quality of life due to injuries accord to nhtsain theory if the roads be mostly occupy by autonomous cars traffic would flow smoothly and there would be less traffic congestion in fully automate cars the occupants could do productive activities while commute to work people who aren't able to drive due to physical limitations could find new independence through autonomous vehicles and would have the opportunity to work in field that require drivingautonomous truck have be test in the us and europe to enable drivers to use autopilot over long distance free the driver to rest or complete task and improve driver safety and fuel efficiency this initiative call truck platooning be power by acc collision avoidance systems and\\xa0vehicle-to-vehicle communications\\xa0for cooperative acc (cacc)the downsides of self-driving technology could be that rid in a vehicle without a driver behind the steer wheel may be unnerve -- at least at first but as self-driving capabilities become commonplace human drivers may become overly reliant on the autopilot technology and leave their safety in the hand of automation even when they should act as backup drivers in case of software failures or mechanical issuesin one example from march 2018\\xa0tesla\\xa0model x sport utility vehicle (suv) be on autopilot when it crash into a highway lane divider the driver hand be not on the wheel despite visual warn and an audible warn to put his hand back on the steer wheel accord to the company another crash occur when a tesla ai mistake the side of a truck shiny reflection for the skyautonomous cars must learn to identify countless object in the vehicle path from branch and litter to animals and people other challenge on the road be tunnel that interfere with the global position system (gps) construction project that cause lane change or complex decisions like where to stop to allow emergency vehicles to passthe systems need to make instantaneous decisions on when to slow down swerve or continue acceleration normally this be a continue challenge for developers and there be report of self-driving cars hesitate and swerve unnecessarily when object be detect in or near the roadwaysthis problem be evident in a fatal accident in march 2018 which involve an autonomous car operate by uber the company report that the vehicle software identify a pedestrian but deem it a false positive and fail to swerve to avoid hit her this crash cause toyota to temporarily cease its test of self-driving cars on public roads but its test will continue elsewhere the toyota research institute be construct a test facility on a 60-acre site in michigan to further develop automate vehicle technologywith crash also come the question of liability and lawmakers have yet to define who be liable when an autonomous car be involve in an accident there be also serious concern that the software use to operate autonomous vehicles can be hack and automotive company be work to address\\xa0cybersecurity\\xa0riskscarmakers be subject to federal motor vehicle safety standards (fmvss) and nhtsa report that more work must be do for vehicles to meet those standardsin china carmakers and regulators be adopt a different strategy to meet standards and make self-driving cars an everyday reality the chinese government be begin to redesign urban landscape policy and infrastructure to make the environment more self-driving car-friendly this include write rule about how humans move around and recruit mobile network operators to take on a portion of the process require to give self-driving vehicles the data they need to navigate national test roads would be implement the autocratic nature of the chinese government make this possible which bypass the litigious democracy that test be funnel through in americathe path toward self-driving cars begin with incremental automation feature for safety and convenience before the year 2000 with cruise control and antilock brake after the turn of the millennium advance safety feature include electronic stability control blind-spot detection and collision and lane shift warn become available in vehicles between 2010 and 2016 advance driver assistance capabilities such as rearview video cameras automatic emergency brake and lane-centering assistance emerge accord to nhtsasince 2016 self-driving cars have move toward partial autonomy with feature that help drivers stay in their lane along with acc technology and the ability to self-parkfully automate vehicles be not publicly available yet and may not be for many years in the us nhtsa provide federal guidance for introduce adses onto public roads and as autonomous car technologies advance so will the department guidanceself-driving cars be not yet legal on most roads in june 2011 nevada become the first jurisdiction in the world to allow driverless cars to be test on public roadways california florida ohio and washington dc have follow in the years sincethe history of driverless cars go back much further than that leonardo da vinci design the first\\xa0prototype\\xa0around 1478\\xa0da vinci car\\xa0was design as a self-propelled robot power by spring with programmable steer and the ability to run preset coursesincreased investment in analytics and proliferation of data science capabilities be among the most significant ongoing trend intableau 20213 doesn't include fancy new ai or machine learn feature instead focus on capabilities that enable as relational databases struggle with scale one graph database vendor say a paradigm shift be underway and aim to make graph a new law in south korea enable developers to use payment systems outside those offer by app store platform providers one with new data privacy regulations like china personal data protection law come down the pike cios need to make privacy and in this week antitrust roundup south korean officials focus in on apple and google app store practice while us officials a data practitioner have two job tell the right data story and in the right way to win over project stakeholders data expert investors be super confident in the growth potential for cloud data management and analytics as the impact of the snowflake ipo this quiz will test your knowledge of hadoops basics include framework capabilities and relate technologiestechtarget editors discuss efforts to remove bias from ai and why algorithm audit could be a fix -- provide challenge the erp sales and market message can obscure issue around cloud maturity and other important information use this expert in this q&a pritam dutta of arclight consult explain why some erp cloud migrations run into trouble and how integrate hcmall right reserve  copyright 2018 - 2021 techtarget   privacy policy cookie preferences  do not sell my personal info\""
            ]
          },
          "metadata": {},
          "execution_count": 159
        }
      ]
    },
    {
      "cell_type": "code",
      "metadata": {
        "colab": {
          "base_uri": "https://localhost:8080/",
          "height": 188
        },
        "id": "uYE7zx9nCb6z",
        "outputId": "bd5e8ba2-5f8d-4ab6-c218-1482e57e63d5"
      },
      "source": [
        "df.loc[2]['Content_Parsed_6']"
      ],
      "execution_count": null,
      "outputs": [
        {
          "output_type": "execute_result",
          "data": {
            "application/vnd.google.colaboratory.intrinsic+json": {
              "type": "string"
            },
            "text/plain": [
              "\" self-driving car (sometimes call  autonomous car  driverless car)   vehicle  use  combination  sensors cameras radar  artificial intelligence (ai)  travel  destinations without  human operator  qualify  fully autonomous  vehicle must  able  navigate without human intervention   predetermine destination  roads     adapt   usecompanies develop / test autonomous cars include audi bmw ford google general motor tesla volkswagen  volvo google test involve  fleet  self-driving cars -- include toyota prii   audi tt -- navigate  140000 miles  california streets  highwaysai technologies power self-driving car systems developers  self-driving cars use vast amount  data \\xa0image recognition\\xa0systems along \\xa0machine learning\\xa0\\xa0neural network  build systems   drive autonomouslythe neural network identify pattern   data   feed   machine learn algorithms  data include image  cameras  self-driving cars    neural network learn  identify traffic light tree curb pedestrians street sign   part   give drive environmentfor example google self-driving car project call waymo use  mix  sensors\\xa0lidar\\xa0(light detection  range --  technology similar \\xa0radar)  cameras  combine    data  systems generate  identify everything around  vehicle  predict   object might  next  happen  fraction   second maturity  important   systems    system drive   data   incorporate   deep learn algorithms enable   make  nuanced drive choicesthe follow outline  google waymo vehicles workgoogle waymo project   example   self-driving car   almost entirely autonomous  still require  human driver   present    override  system  necessary    self-driving   purest sense    drive   ideal condition    high level  autonomy many   cars available  consumers today   lower level  autonomy  still   self-driving feature  self-driving feature   available  many production cars   2019 include  followingthe us national highway traffic safety administration (nhtsa) lay  six level  automation begin  level 0  humans   drive \\xa0driver assistance\\xa0technologies   fully autonomous cars    five level  follow level 0 automationas  2019 carmakers  reach level 4 manufacturers must clear  variety  technological milestones  several important issue must  address  fully autonomous vehicles   purchase  use  public roads   unite state even though cars  level 4 autonomy ' available  public consumption    use   waysfor example google waymo partner  lyft  offer  fully autonomous commercial ride-sharing service call waymo one riders  hail  self-driving car  bring    destination  provide feedback  waymo  cars still include  safety driver  case  ads need   override  service   available   metro phoenix area   late 2019   look  expand  cities  florida  californiaautonomous street-sweeping vehicles  also  produce  china hunan province meet  level 4 requirements  independently navigate  familiar environment  limit novel situationsprojections  manufacturers vary   level 4  5 vehicles   widely available ford  volvo  project  2021 release   level 4 vehicle  public consumption tesla ceo elon musk   pioneer   self-driving  electric cars  claim   company   level 5 vehicles ready  early  2020  successful level 5 car must  able  react  novel drive situations  well  better   human canthe top benefit tout  autonomous vehicle proponents  safety  us\\xa0department  transportation\\xa0(dot)  nhtsa statistical projection  traffic fatalities  2017 estimate  37150 people die  motor vehicle traffic accidents  year nhtsa estimate  94%  serious crash  due  human error  poor choices   drink  distract drive autonomous cars remove  risk factor   equation -- though self-driving cars  still vulnerable   factor   mechanical issue  cause crashesif autonomous cars  significantly reduce  number  crash  economic benefit could  enormous injuries impact economic activity include $576 billion  lose workplace productivity  $594 billion due  loss  life  decrease quality  life due  injuries accord  nhtsain theory   roads  mostly occupy  autonomous cars traffic would flow smoothly   would  less traffic congestion  fully automate cars  occupants could  productive activities  commute  work people  ' able  drive due  physical limitations could find new independence  autonomous vehicles  would   opportunity  work  field  require drivingautonomous truck   test   us  europe  enable drivers  use autopilot  long distance free  driver  rest  complete task  improve driver safety  fuel efficiency  initiative call truck platooning  power  acc collision avoidance systems \\xa0vehicle--vehicle communications\\xa0 cooperative acc (cacc) downsides  self-driving technology could   rid   vehicle without  driver behind  steer wheel may  unnerve --  least  first   self-driving capabilities become commonplace human drivers may become overly reliant   autopilot technology  leave  safety   hand  automation even    act  backup drivers  case  software failures  mechanical issuesin one example  march 2018\\xa0tesla\\xa0model x sport utility vehicle (suv)   autopilot   crash   highway lane divider  driver hand     wheel despite visual warn   audible warn  put  hand back   steer wheel accord   company another crash occur   tesla ai mistake  side   truck shiny reflection   skyautonomous cars must learn  identify countless object   vehicle path  branch  litter  animals  people  challenge   road  tunnel  interfere   global position system (gps) construction project  cause lane change  complex decisions like   stop  allow emergency vehicles  passthe systems need  make instantaneous decisions    slow  swerve  continue acceleration normally    continue challenge  developers    report  self-driving cars hesitate  swerve unnecessarily  object  detect   near  roadwaysthis problem  evident   fatal accident  march 2018  involve  autonomous car operate  uber  company report   vehicle software identify  pedestrian  deem   false positive  fail  swerve  avoid hit   crash cause toyota  temporarily cease  test  self-driving cars  public roads   test  continue elsewhere  toyota research institute  construct  test facility   60-acre site  michigan   develop automate vehicle technologywith crash also come  question  liability  lawmakers  yet  define   liable   autonomous car  involve   accident   also serious concern   software use  operate autonomous vehicles   hack  automotive company  work  address\\xa0cybersecurity\\xa0riskscarmakers  subject  federal motor vehicle safety standards (fmvss)  nhtsa report   work must    vehicles  meet  standardsin china carmakers  regulators  adopt  different strategy  meet standards  make self-driving cars  everyday reality  chinese government  begin  redesign urban landscape policy  infrastructure  make  environment  self-driving car-friendly  include write rule   humans move around  recruit mobile network operators  take   portion   process require  give self-driving vehicles  data  need  navigate national test roads would  implement  autocratic nature   chinese government make  possible  bypass  litigious democracy  test  funnel   americathe path toward self-driving cars begin  incremental automation feature  safety  convenience   year 2000  cruise control  antilock brake   turn   millennium advance safety feature include electronic stability control blind-spot detection  collision  lane shift warn become available  vehicles  2010  2016 advance driver assistance capabilities   rearview video cameras automatic emergency brake  lane-centering assistance emerge accord  nhtsasince 2016 self-driving cars  move toward partial autonomy  feature  help drivers stay   lane along  acc technology   ability  self-parkfully automate vehicles   publicly available yet  may    many years   us nhtsa provide federal guidance  introduce adses onto public roads   autonomous car technologies advance    department guidanceself-driving cars   yet legal   roads  june 2011 nevada become  first jurisdiction   world  allow driverless cars   test  public roadways california florida ohio  washington dc  follow   years sincethe history  driverless cars go back much    leonardo da vinci design  first\\xa0prototype\\xa0around 1478\\xa0da vinci car\\xa0 design   self-propelled robot power  spring  programmable steer   ability  run preset coursesincreased investment  analytics  proliferation  data science capabilities  among   significant ongoing trend intableau 20213 ' include fancy new ai  machine learn feature instead focus  capabilities  enable  relational databases struggle  scale one graph database vendor say  paradigm shift  underway  aim  make graph  new law  south korea enable developers  use payment systems outside  offer  app store platform providers one  new data privacy regulations like china personal data protection law come   pike cios need  make privacy    week antitrust roundup south korean officials focus   apple  google app store practice  us officials  data practitioner  two job tell  right data story    right way  win  project stakeholders data expert investors  super confident   growth potential  cloud data management  analytics   impact   snowflake ipo  quiz  test  knowledge  hadoops basics include framework capabilities  relate technologiestechtarget editors discuss efforts  remove bias  ai   algorithm audit could   fix -- provide challenge  erp sales  market message  obscure issue around cloud maturity   important information use  expert   q& pritam dutta  arclight consult explain   erp cloud migrations run  trouble   integrate hcmall right reserve  copyright 2018 - 2021 techtarget   privacy policy cookie preferences    sell  personal info\""
            ]
          },
          "metadata": {},
          "execution_count": 160
        }
      ]
    },
    {
      "cell_type": "code",
      "metadata": {
        "colab": {
          "base_uri": "https://localhost:8080/",
          "height": 151
        },
        "id": "5zeVQdQXCefp",
        "outputId": "835bef54-876d-459a-99f8-7e574fea1a21"
      },
      "source": [
        "df.head(1)"
      ],
      "execution_count": null,
      "outputs": [
        {
          "output_type": "execute_result",
          "data": {
            "text/html": [
              "<div>\n",
              "<style scoped>\n",
              "    .dataframe tbody tr th:only-of-type {\n",
              "        vertical-align: middle;\n",
              "    }\n",
              "\n",
              "    .dataframe tbody tr th {\n",
              "        vertical-align: top;\n",
              "    }\n",
              "\n",
              "    .dataframe thead th {\n",
              "        text-align: right;\n",
              "    }\n",
              "</style>\n",
              "<table border=\"1\" class=\"dataframe\">\n",
              "  <thead>\n",
              "    <tr style=\"text-align: right;\">\n",
              "      <th></th>\n",
              "      <th>File_Name</th>\n",
              "      <th>Content</th>\n",
              "      <th>Category</th>\n",
              "      <th>Complete_Filename</th>\n",
              "      <th>id</th>\n",
              "      <th>News_length</th>\n",
              "      <th>Content_Parsed_1</th>\n",
              "      <th>Content_Parsed_2</th>\n",
              "      <th>Content_Parsed_3</th>\n",
              "      <th>Content_Parsed_4</th>\n",
              "      <th>Content_Parsed_5</th>\n",
              "      <th>Content_Parsed_6</th>\n",
              "    </tr>\n",
              "  </thead>\n",
              "  <tbody>\n",
              "    <tr>\n",
              "      <th>0</th>\n",
              "      <td>FileName_0</td>\n",
              "      <td>A self-driving car, also known as an autonomou...</td>\n",
              "      <td>tech</td>\n",
              "      <td>FileName_0</td>\n",
              "      <td>1</td>\n",
              "      <td>100980</td>\n",
              "      <td>A self-driving car, also known as an autonomou...</td>\n",
              "      <td>a self-driving car, also known as an autonomou...</td>\n",
              "      <td>a self-driving car also known as an autonomous...</td>\n",
              "      <td>a self-driving car also known as an autonomous...</td>\n",
              "      <td>a self-driving car also know as an autonomous ...</td>\n",
              "      <td>self-driving car also know   autonomous vehic...</td>\n",
              "    </tr>\n",
              "  </tbody>\n",
              "</table>\n",
              "</div>"
            ],
            "text/plain": [
              "    File_Name  ...                                   Content_Parsed_6\n",
              "0  FileName_0  ...   self-driving car also know   autonomous vehic...\n",
              "\n",
              "[1 rows x 12 columns]"
            ]
          },
          "metadata": {},
          "execution_count": 161
        }
      ]
    },
    {
      "cell_type": "code",
      "metadata": {
        "id": "fRO9XSDICq3C"
      },
      "source": [
        "list_columns = [\"File_Name\", \"Category\", \"Complete_Filename\", \"Content\", \"Content_Parsed_6\"]\n",
        "df = df[list_columns]\n",
        "\n",
        "df = df.rename(columns={'Content_Parsed_6': 'Content_Parsed'})"
      ],
      "execution_count": null,
      "outputs": []
    },
    {
      "cell_type": "code",
      "metadata": {
        "colab": {
          "base_uri": "https://localhost:8080/",
          "height": 289
        },
        "id": "ksS1ECJrCtK_",
        "outputId": "9a1bcab9-6969-4415-a1ff-e4d8eb48dd66"
      },
      "source": [
        "\n",
        "df.head()"
      ],
      "execution_count": null,
      "outputs": [
        {
          "output_type": "execute_result",
          "data": {
            "text/html": [
              "<div>\n",
              "<style scoped>\n",
              "    .dataframe tbody tr th:only-of-type {\n",
              "        vertical-align: middle;\n",
              "    }\n",
              "\n",
              "    .dataframe tbody tr th {\n",
              "        vertical-align: top;\n",
              "    }\n",
              "\n",
              "    .dataframe thead th {\n",
              "        text-align: right;\n",
              "    }\n",
              "</style>\n",
              "<table border=\"1\" class=\"dataframe\">\n",
              "  <thead>\n",
              "    <tr style=\"text-align: right;\">\n",
              "      <th></th>\n",
              "      <th>File_Name</th>\n",
              "      <th>Category</th>\n",
              "      <th>Complete_Filename</th>\n",
              "      <th>Content</th>\n",
              "      <th>Content_Parsed</th>\n",
              "    </tr>\n",
              "  </thead>\n",
              "  <tbody>\n",
              "    <tr>\n",
              "      <th>0</th>\n",
              "      <td>FileName_0</td>\n",
              "      <td>tech</td>\n",
              "      <td>FileName_0</td>\n",
              "      <td>A self-driving car, also known as an autonomou...</td>\n",
              "      <td>self-driving car also know   autonomous vehic...</td>\n",
              "    </tr>\n",
              "    <tr>\n",
              "      <th>1</th>\n",
              "      <td>FileName_1</td>\n",
              "      <td>tech</td>\n",
              "      <td>FileName_1</td>\n",
              "      <td>Advanced Search See allHide authors and affili...</td>\n",
              "      <td>advance search see allhide author  affiliation...</td>\n",
              "    </tr>\n",
              "    <tr>\n",
              "      <th>2</th>\n",
              "      <td>FileName_2</td>\n",
              "      <td>tech</td>\n",
              "      <td>FileName_2</td>\n",
              "      <td>A self-driving car (sometimes called an autono...</td>\n",
              "      <td>self-driving car (sometimes call  autonomous ...</td>\n",
              "    </tr>\n",
              "    <tr>\n",
              "      <th>3</th>\n",
              "      <td>FileName_3</td>\n",
              "      <td>tech</td>\n",
              "      <td>FileName_3</td>\n",
              "      <td>A self-driving car (sometimes called an autono...</td>\n",
              "      <td>self-driving car (sometimes call  autonomous ...</td>\n",
              "    </tr>\n",
              "    <tr>\n",
              "      <th>4</th>\n",
              "      <td>FileName_4</td>\n",
              "      <td>tech</td>\n",
              "      <td>FileName_4</td>\n",
              "      <td>An autonomous car is a vehicle capable of sens...</td>\n",
              "      <td>autonomous car   vehicle capable  sense  envi...</td>\n",
              "    </tr>\n",
              "  </tbody>\n",
              "</table>\n",
              "</div>"
            ],
            "text/plain": [
              "    File_Name  ...                                     Content_Parsed\n",
              "0  FileName_0  ...   self-driving car also know   autonomous vehic...\n",
              "1  FileName_1  ...  advance search see allhide author  affiliation...\n",
              "2  FileName_2  ...   self-driving car (sometimes call  autonomous ...\n",
              "3  FileName_3  ...   self-driving car (sometimes call  autonomous ...\n",
              "4  FileName_4  ...   autonomous car   vehicle capable  sense  envi...\n",
              "\n",
              "[5 rows x 5 columns]"
            ]
          },
          "metadata": {},
          "execution_count": 163
        }
      ]
    },
    {
      "cell_type": "code",
      "metadata": {
        "id": "mtJNbPsjYApl"
      },
      "source": [
        "# Label coding\n",
        "#We'll create a dictionary with the label codification:"
      ],
      "execution_count": null,
      "outputs": []
    },
    {
      "cell_type": "code",
      "metadata": {
        "id": "FvWoYxKeCtcN"
      },
      "source": [
        "category_codes = {\n",
        "    'business': 0,\n",
        "    'entertainment': 1,\n",
        "    'politics': 2,\n",
        "    'sport': 3,\n",
        "    'tech': 4\n",
        "}"
      ],
      "execution_count": null,
      "outputs": []
    },
    {
      "cell_type": "code",
      "metadata": {
        "id": "sspEx1phDeUw"
      },
      "source": [
        "# Category mapping\n",
        "df['Category_Code'] = df['Category']\n",
        "df = df.replace({'Category_Code':category_codes})"
      ],
      "execution_count": null,
      "outputs": []
    },
    {
      "cell_type": "code",
      "metadata": {
        "colab": {
          "base_uri": "https://localhost:8080/",
          "height": 289
        },
        "id": "nTetXHJeDja7",
        "outputId": "9716f4d5-6dc9-4f06-93c5-290bcff48350"
      },
      "source": [
        "df.head()"
      ],
      "execution_count": null,
      "outputs": [
        {
          "output_type": "execute_result",
          "data": {
            "text/html": [
              "<div>\n",
              "<style scoped>\n",
              "    .dataframe tbody tr th:only-of-type {\n",
              "        vertical-align: middle;\n",
              "    }\n",
              "\n",
              "    .dataframe tbody tr th {\n",
              "        vertical-align: top;\n",
              "    }\n",
              "\n",
              "    .dataframe thead th {\n",
              "        text-align: right;\n",
              "    }\n",
              "</style>\n",
              "<table border=\"1\" class=\"dataframe\">\n",
              "  <thead>\n",
              "    <tr style=\"text-align: right;\">\n",
              "      <th></th>\n",
              "      <th>File_Name</th>\n",
              "      <th>Category</th>\n",
              "      <th>Complete_Filename</th>\n",
              "      <th>Content</th>\n",
              "      <th>Content_Parsed</th>\n",
              "      <th>Category_Code</th>\n",
              "    </tr>\n",
              "  </thead>\n",
              "  <tbody>\n",
              "    <tr>\n",
              "      <th>0</th>\n",
              "      <td>FileName_0</td>\n",
              "      <td>tech</td>\n",
              "      <td>FileName_0</td>\n",
              "      <td>A self-driving car, also known as an autonomou...</td>\n",
              "      <td>self-driving car also know   autonomous vehic...</td>\n",
              "      <td>4</td>\n",
              "    </tr>\n",
              "    <tr>\n",
              "      <th>1</th>\n",
              "      <td>FileName_1</td>\n",
              "      <td>tech</td>\n",
              "      <td>FileName_1</td>\n",
              "      <td>Advanced Search See allHide authors and affili...</td>\n",
              "      <td>advance search see allhide author  affiliation...</td>\n",
              "      <td>4</td>\n",
              "    </tr>\n",
              "    <tr>\n",
              "      <th>2</th>\n",
              "      <td>FileName_2</td>\n",
              "      <td>tech</td>\n",
              "      <td>FileName_2</td>\n",
              "      <td>A self-driving car (sometimes called an autono...</td>\n",
              "      <td>self-driving car (sometimes call  autonomous ...</td>\n",
              "      <td>4</td>\n",
              "    </tr>\n",
              "    <tr>\n",
              "      <th>3</th>\n",
              "      <td>FileName_3</td>\n",
              "      <td>tech</td>\n",
              "      <td>FileName_3</td>\n",
              "      <td>A self-driving car (sometimes called an autono...</td>\n",
              "      <td>self-driving car (sometimes call  autonomous ...</td>\n",
              "      <td>4</td>\n",
              "    </tr>\n",
              "    <tr>\n",
              "      <th>4</th>\n",
              "      <td>FileName_4</td>\n",
              "      <td>tech</td>\n",
              "      <td>FileName_4</td>\n",
              "      <td>An autonomous car is a vehicle capable of sens...</td>\n",
              "      <td>autonomous car   vehicle capable  sense  envi...</td>\n",
              "      <td>4</td>\n",
              "    </tr>\n",
              "  </tbody>\n",
              "</table>\n",
              "</div>"
            ],
            "text/plain": [
              "    File_Name  ... Category_Code\n",
              "0  FileName_0  ...             4\n",
              "1  FileName_1  ...             4\n",
              "2  FileName_2  ...             4\n",
              "3  FileName_3  ...             4\n",
              "4  FileName_4  ...             4\n",
              "\n",
              "[5 rows x 6 columns]"
            ]
          },
          "metadata": {},
          "execution_count": 166
        }
      ]
    },
    {
      "cell_type": "code",
      "metadata": {
        "colab": {
          "base_uri": "https://localhost:8080/",
          "height": 289
        },
        "id": "XEUJICE1EmCU",
        "outputId": "315f7950-3125-44d7-c2b6-14d8bb1bb01a"
      },
      "source": [
        "df.head()"
      ],
      "execution_count": null,
      "outputs": [
        {
          "output_type": "execute_result",
          "data": {
            "text/html": [
              "<div>\n",
              "<style scoped>\n",
              "    .dataframe tbody tr th:only-of-type {\n",
              "        vertical-align: middle;\n",
              "    }\n",
              "\n",
              "    .dataframe tbody tr th {\n",
              "        vertical-align: top;\n",
              "    }\n",
              "\n",
              "    .dataframe thead th {\n",
              "        text-align: right;\n",
              "    }\n",
              "</style>\n",
              "<table border=\"1\" class=\"dataframe\">\n",
              "  <thead>\n",
              "    <tr style=\"text-align: right;\">\n",
              "      <th></th>\n",
              "      <th>File_Name</th>\n",
              "      <th>Category</th>\n",
              "      <th>Complete_Filename</th>\n",
              "      <th>Content</th>\n",
              "      <th>Content_Parsed</th>\n",
              "      <th>Category_Code</th>\n",
              "    </tr>\n",
              "  </thead>\n",
              "  <tbody>\n",
              "    <tr>\n",
              "      <th>0</th>\n",
              "      <td>FileName_0</td>\n",
              "      <td>tech</td>\n",
              "      <td>FileName_0</td>\n",
              "      <td>A self-driving car, also known as an autonomou...</td>\n",
              "      <td>self-driving car also know   autonomous vehic...</td>\n",
              "      <td>4</td>\n",
              "    </tr>\n",
              "    <tr>\n",
              "      <th>1</th>\n",
              "      <td>FileName_1</td>\n",
              "      <td>tech</td>\n",
              "      <td>FileName_1</td>\n",
              "      <td>Advanced Search See allHide authors and affili...</td>\n",
              "      <td>advance search see allhide author  affiliation...</td>\n",
              "      <td>4</td>\n",
              "    </tr>\n",
              "    <tr>\n",
              "      <th>2</th>\n",
              "      <td>FileName_2</td>\n",
              "      <td>tech</td>\n",
              "      <td>FileName_2</td>\n",
              "      <td>A self-driving car (sometimes called an autono...</td>\n",
              "      <td>self-driving car (sometimes call  autonomous ...</td>\n",
              "      <td>4</td>\n",
              "    </tr>\n",
              "    <tr>\n",
              "      <th>3</th>\n",
              "      <td>FileName_3</td>\n",
              "      <td>tech</td>\n",
              "      <td>FileName_3</td>\n",
              "      <td>A self-driving car (sometimes called an autono...</td>\n",
              "      <td>self-driving car (sometimes call  autonomous ...</td>\n",
              "      <td>4</td>\n",
              "    </tr>\n",
              "    <tr>\n",
              "      <th>4</th>\n",
              "      <td>FileName_4</td>\n",
              "      <td>tech</td>\n",
              "      <td>FileName_4</td>\n",
              "      <td>An autonomous car is a vehicle capable of sens...</td>\n",
              "      <td>autonomous car   vehicle capable  sense  envi...</td>\n",
              "      <td>4</td>\n",
              "    </tr>\n",
              "  </tbody>\n",
              "</table>\n",
              "</div>"
            ],
            "text/plain": [
              "    File_Name  ... Category_Code\n",
              "0  FileName_0  ...             4\n",
              "1  FileName_1  ...             4\n",
              "2  FileName_2  ...             4\n",
              "3  FileName_3  ...             4\n",
              "4  FileName_4  ...             4\n",
              "\n",
              "[5 rows x 6 columns]"
            ]
          },
          "metadata": {},
          "execution_count": 167
        }
      ]
    },
    {
      "cell_type": "code",
      "metadata": {
        "id": "0Lf93b_GYJRC"
      },
      "source": [
        "#Train - test split"
      ],
      "execution_count": null,
      "outputs": []
    },
    {
      "cell_type": "code",
      "metadata": {
        "id": "0wGXbGVVDqEx"
      },
      "source": [
        "X_train, X_test, y_train, y_test = train_test_split(df['Content_Parsed'], \n",
        "                                                    df['Category_Code'], \n",
        "                                                    test_size=0.15, \n",
        "                                                    random_state=2)"
      ],
      "execution_count": null,
      "outputs": []
    },
    {
      "cell_type": "code",
      "metadata": {
        "colab": {
          "base_uri": "https://localhost:8080/"
        },
        "id": "06X-4K4Mhspw",
        "outputId": "00811979-d2e5-492e-a807-c0e10170f0d6"
      },
      "source": [
        "X_train.shape\n",
        "X_test.shape"
      ],
      "execution_count": null,
      "outputs": [
        {
          "output_type": "execute_result",
          "data": {
            "text/plain": [
              "(1,)"
            ]
          },
          "metadata": {},
          "execution_count": 169
        }
      ]
    },
    {
      "cell_type": "code",
      "metadata": {
        "colab": {
          "base_uri": "https://localhost:8080/"
        },
        "id": "DLC1xWtskXVD",
        "outputId": "1a9a5c14-10b9-4b95-f2a1-2e6e963c42e0"
      },
      "source": [
        "y_test.shape"
      ],
      "execution_count": null,
      "outputs": [
        {
          "output_type": "execute_result",
          "data": {
            "text/plain": [
              "(1,)"
            ]
          },
          "metadata": {},
          "execution_count": 170
        }
      ]
    },
    {
      "cell_type": "code",
      "metadata": {
        "id": "XGrb_KKZD71u"
      },
      "source": [
        "\n",
        "# Parameter election\n",
        "ngram_range = (1,2)\n",
        "max_df = 10\n",
        "min_df = 1.\n",
        "max_features = 300"
      ],
      "execution_count": null,
      "outputs": []
    },
    {
      "cell_type": "code",
      "metadata": {
        "id": "VOeDl73IFehm"
      },
      "source": [
        "'''Text representation\n",
        "We'll use TF-IDF Vectors as features.'''"
      ],
      "execution_count": null,
      "outputs": []
    },
    {
      "cell_type": "code",
      "metadata": {
        "colab": {
          "base_uri": "https://localhost:8080/"
        },
        "id": "q5qYjHEHEB1b",
        "outputId": "68f5f3b4-c9b8-4278-c536-70cc945661db"
      },
      "source": [
        "tfidf = TfidfVectorizer(encoding='utf-8',\n",
        "                        ngram_range=ngram_range,\n",
        "                        stop_words=None,\n",
        "                        lowercase=False,\n",
        "                        max_df=max_df,\n",
        "                        min_df=min_df,\n",
        "                        max_features=max_features,\n",
        "                        norm='l2',\n",
        "                        sublinear_tf=True)\n",
        "                        \n",
        "features_train = tfidf.fit_transform(X_train).toarray()\n",
        "labels_train = y_train\n",
        "print(features_train.shape)\n",
        "\n",
        "features_test = tfidf.transform(X_test).toarray()\n",
        "labels_test = y_test\n",
        "print(features_test.shape)"
      ],
      "execution_count": null,
      "outputs": [
        {
          "output_type": "stream",
          "name": "stdout",
          "text": [
            "(5, 161)\n",
            "(1, 161)\n"
          ]
        }
      ]
    },
    {
      "cell_type": "code",
      "metadata": {
        "colab": {
          "base_uri": "https://localhost:8080/"
        },
        "id": "GaqzBs-6FAN6",
        "outputId": "75c4c30b-9057-43c0-9739-73d43c32ab1f"
      },
      "source": [
        "from sklearn.feature_selection import chi2\n",
        "import numpy as np\n",
        "\n",
        "for Product, category_id in sorted(category_codes.items()):\n",
        "    features_chi2 = chi2(features_train, labels_train == category_id)\n",
        "    indices = np.argsort(features_chi2[0])\n",
        "    feature_names = np.array(tfidf.get_feature_names())[indices]\n",
        "    unigrams = [v for v in feature_names if len(v.split(' ')) == 1]\n",
        "    bigrams = [v for v in feature_names if len(v.split(' ')) == 2]\n",
        "    print(\"# '{}' category:\".format(Product))\n",
        "    print(\"  . Most correlated unigrams:\\n. {}\".format('\\n. '.join(unigrams[-5:])))\n",
        "    print(\"  . Most correlated bigrams:\\n. {}\".format('\\n. '.join(bigrams[-2:])))\n",
        "    print(\"\")"
      ],
      "execution_count": null,
      "outputs": [
        {
          "output_type": "stream",
          "name": "stdout",
          "text": [
            "# 'business' category:\n",
            "  . Most correlated unigrams:\n",
            ". emergency\n",
            ". error\n",
            ". even\n",
            ". lane\n",
            ". yet\n",
            "  . Most correlated bigrams:\n",
            ". driving car\n",
            ". driving cars\n",
            "\n",
            "# 'entertainment' category:\n",
            "  . Most correlated unigrams:\n",
            ". emergency\n",
            ". error\n",
            ". even\n",
            ". lane\n",
            ". yet\n",
            "  . Most correlated bigrams:\n",
            ". driving car\n",
            ". driving cars\n",
            "\n",
            "# 'politics' category:\n",
            "  . Most correlated unigrams:\n",
            ". emergency\n",
            ". error\n",
            ". even\n",
            ". lane\n",
            ". yet\n",
            "  . Most correlated bigrams:\n",
            ". driving car\n",
            ". driving cars\n",
            "\n",
            "# 'sport' category:\n",
            "  . Most correlated unigrams:\n",
            ". emergency\n",
            ". error\n",
            ". even\n",
            ". lane\n",
            ". yet\n",
            "  . Most correlated bigrams:\n",
            ". driving car\n",
            ". driving cars\n",
            "\n",
            "# 'tech' category:\n",
            "  . Most correlated unigrams:\n",
            ". emergency\n",
            ". error\n",
            ". even\n",
            ". lane\n",
            ". yet\n",
            "  . Most correlated bigrams:\n",
            ". driving car\n",
            ". driving cars\n",
            "\n"
          ]
        }
      ]
    },
    {
      "cell_type": "code",
      "metadata": {
        "colab": {
          "base_uri": "https://localhost:8080/"
        },
        "id": "tavviTssFF91",
        "outputId": "f4958b6f-567b-4b72-c1a3-56ebbd60bcf6"
      },
      "source": [
        "bigrams"
      ],
      "execution_count": null,
      "outputs": [
        {
          "output_type": "execute_result",
          "data": {
            "text/plain": [
              "['self driving',\n",
              " 'autonomous car',\n",
              " 'autonomous cars',\n",
              " 'autonomous vehicles',\n",
              " 'fully autonomous',\n",
              " 'human intervention',\n",
              " 'driverless car',\n",
              " 'driverless cars',\n",
              " 'driving car',\n",
              " 'driving cars']"
            ]
          },
          "metadata": {},
          "execution_count": 174
        }
      ]
    },
    {
      "cell_type": "code",
      "metadata": {
        "id": "SXNDOiA5FJls"
      },
      "source": [
        "\n",
        "# X_train\n",
        "with open('X_train.pickle', 'wb') as output:\n",
        "    pickle.dump(X_train, output)\n",
        "    \n",
        "# X_test    \n",
        "with open('X_test.pickle', 'wb') as output:\n",
        "    pickle.dump(X_test, output)\n",
        "    \n",
        "# y_train\n",
        "with open('y_train.pickle', 'wb') as output:\n",
        "    pickle.dump(y_train, output)\n",
        "    \n",
        "# y_test\n",
        "with open('y_test.pickle', 'wb') as output:\n",
        "    pickle.dump(y_test, output)\n",
        "    \n",
        "# df\n",
        "with open('df.pickle', 'wb') as output:\n",
        "    pickle.dump(df, output)\n",
        "    \n",
        "# features_train\n",
        "with open('features_train.pickle', 'wb') as output:\n",
        "    pickle.dump(features_train, output)\n",
        "\n",
        "# labels_train\n",
        "with open('labels_train.pickle', 'wb') as output:\n",
        "    pickle.dump(labels_train, output)\n",
        "\n",
        "# features_test\n",
        "with open('features_test.pickle', 'wb') as output:\n",
        "    pickle.dump(features_test, output)\n",
        "\n",
        "# labels_test\n",
        "with open('labels_test.pickle', 'wb') as output:\n",
        "    pickle.dump(labels_test, output)\n",
        "    \n",
        "# TF-IDF object\n",
        "with open('tfidf.pickle', 'wb') as output:\n",
        "    pickle.dump(tfidf, output)"
      ],
      "execution_count": null,
      "outputs": []
    },
    {
      "cell_type": "code",
      "metadata": {
        "id": "oMf51QmVFgoD"
      },
      "source": [
        ""
      ],
      "execution_count": null,
      "outputs": []
    },
    {
      "cell_type": "markdown",
      "metadata": {
        "id": "fHXlGqsVFjiz"
      },
      "source": [
        "# MODEL training\n",
        "\n"
      ]
    },
    {
      "cell_type": "markdown",
      "metadata": {
        "id": "yp2yQOB7ItaT"
      },
      "source": [
        "## Random Forest "
      ]
    },
    {
      "cell_type": "code",
      "metadata": {
        "id": "I1ykKHAmFo0w"
      },
      "source": [
        "import pickle\n",
        "import numpy as np\n",
        "from sklearn.feature_extraction.text import TfidfVectorizer\n",
        "from sklearn.ensemble import RandomForestClassifier\n",
        "from pprint import pprint\n",
        "from sklearn.model_selection import RandomizedSearchCV\n",
        "from sklearn.model_selection import GridSearchCV\n",
        "from sklearn.metrics import classification_report, confusion_matrix, accuracy_score\n",
        "from sklearn.model_selection import ShuffleSplit\n",
        "import matplotlib.pyplot as plt\n",
        "import seaborn as sns\n",
        "import pandas as pd\n"
      ],
      "execution_count": null,
      "outputs": []
    },
    {
      "cell_type": "code",
      "metadata": {
        "id": "ocdrT5u1GYM1"
      },
      "source": [
        "# Dataframe\n",
        "path_df = \"df.pickle\"\n",
        "with open(path_df, 'rb') as data:\n",
        "    df = pickle.load(data)\n",
        "\n",
        "# features_train\n",
        "path_features_train = \"features_train.pickle\"\n",
        "with open(path_features_train, 'rb') as data:\n",
        "    features_train = pickle.load(data)\n",
        "\n",
        "# labels_train\n",
        "path_labels_train = \"labels_train.pickle\"\n",
        "with open(path_labels_train, 'rb') as data:\n",
        "    labels_train = pickle.load(data)\n",
        "\n",
        "# features_test\n",
        "path_features_test = \"features_test.pickle\"\n",
        "with open(path_features_test, 'rb') as data:\n",
        "    features_test = pickle.load(data)\n",
        "\n",
        "# labels_test\n",
        "path_labels_test = \"labels_test.pickle\"\n",
        "with open(path_labels_test, 'rb') as data:\n",
        "    labels_test = pickle.load(data)"
      ],
      "execution_count": null,
      "outputs": []
    },
    {
      "cell_type": "code",
      "metadata": {
        "colab": {
          "base_uri": "https://localhost:8080/"
        },
        "id": "2OkJlnRqHM0X",
        "outputId": "a8a8e301-3c55-48ed-84da-82c4623f0831"
      },
      "source": [
        "print(features_train.shape)\n",
        "print(features_test.shape)"
      ],
      "execution_count": null,
      "outputs": [
        {
          "output_type": "stream",
          "name": "stdout",
          "text": [
            "(5, 161)\n",
            "(1, 161)\n"
          ]
        }
      ]
    },
    {
      "cell_type": "code",
      "metadata": {
        "id": "9KjmWfFdbJAF"
      },
      "source": [
        "#Cross-Validation for Hyperparameter tuning\n",
        "#First, we can see what hyperparameters the model has:"
      ],
      "execution_count": null,
      "outputs": []
    },
    {
      "cell_type": "code",
      "metadata": {
        "colab": {
          "base_uri": "https://localhost:8080/"
        },
        "id": "j8y6RS64HRIc",
        "outputId": "0923df69-2ecd-441e-8ca9-0d1962bcbdbf"
      },
      "source": [
        "rf_0 = RandomForestClassifier(random_state = 4)\n",
        "\n",
        "print('Parameters currently in use:\\n')\n",
        "pprint(rf_0.get_params())"
      ],
      "execution_count": null,
      "outputs": [
        {
          "output_type": "stream",
          "name": "stdout",
          "text": [
            "Parameters currently in use:\n",
            "\n",
            "{'bootstrap': True,\n",
            " 'ccp_alpha': 0.0,\n",
            " 'class_weight': None,\n",
            " 'criterion': 'gini',\n",
            " 'max_depth': None,\n",
            " 'max_features': 'auto',\n",
            " 'max_leaf_nodes': None,\n",
            " 'max_samples': None,\n",
            " 'min_impurity_decrease': 0.0,\n",
            " 'min_impurity_split': None,\n",
            " 'min_samples_leaf': 1,\n",
            " 'min_samples_split': 2,\n",
            " 'min_weight_fraction_leaf': 0.0,\n",
            " 'n_estimators': 100,\n",
            " 'n_jobs': None,\n",
            " 'oob_score': False,\n",
            " 'random_state': 4,\n",
            " 'verbose': 0,\n",
            " 'warm_start': False}\n"
          ]
        }
      ]
    },
    {
      "cell_type": "markdown",
      "metadata": {
        "id": "heiTo1VNbXv9"
      },
      "source": [
        "### Randomized Search Cross Validation\n",
        "We first need to define the grid:"
      ]
    },
    {
      "cell_type": "code",
      "metadata": {
        "colab": {
          "base_uri": "https://localhost:8080/"
        },
        "id": "W35NmUxwHVVs",
        "outputId": "8bd8f722-116d-4294-a998-c82e16adefda"
      },
      "source": [
        "# n_estimators\n",
        "n_estimators = [int(x) for x in np.linspace(start = 200, stop = 1000, num = 5)]\n",
        "\n",
        "# max_features\n",
        "max_features = ['auto', 'sqrt']\n",
        "\n",
        "# max_depth\n",
        "max_depth = [int(x) for x in np.linspace(20, 100, num = 5)]\n",
        "max_depth.append(None)\n",
        "\n",
        "# min_samples_split\n",
        "min_samples_split = [2, 5, 10]\n",
        "\n",
        "# min_samples_leaf\n",
        "min_samples_leaf = [1, 2, 4]\n",
        "\n",
        "# bootstrap\n",
        "bootstrap = [True, False]\n",
        "\n",
        "# Create the random grid\n",
        "random_grid = {'n_estimators': n_estimators,\n",
        "               'max_features': max_features,\n",
        "               'max_depth': max_depth,\n",
        "               'min_samples_split': min_samples_split,\n",
        "               'min_samples_leaf': min_samples_leaf,\n",
        "               'bootstrap': bootstrap}\n",
        "\n",
        "pprint(random_grid)"
      ],
      "execution_count": null,
      "outputs": [
        {
          "output_type": "stream",
          "name": "stdout",
          "text": [
            "{'bootstrap': [True, False],\n",
            " 'max_depth': [20, 40, 60, 80, 100, None],\n",
            " 'max_features': ['auto', 'sqrt'],\n",
            " 'min_samples_leaf': [1, 2, 4],\n",
            " 'min_samples_split': [2, 5, 10],\n",
            " 'n_estimators': [200, 400, 600, 800, 1000]}\n"
          ]
        }
      ]
    },
    {
      "cell_type": "code",
      "metadata": {
        "colab": {
          "base_uri": "https://localhost:8080/"
        },
        "id": "AId8INHLHZ5k",
        "outputId": "ace0cde3-ebbd-4d30-8122-d45f46445d19"
      },
      "source": [
        "# First create the base model to tune\n",
        "rfc = RandomForestClassifier(random_state=8)\n",
        "\n",
        "# Definition of the random search\n",
        "random_search = RandomizedSearchCV(estimator=rfc,\n",
        "                                   param_distributions=random_grid,\n",
        "                                   n_iter=50,\n",
        "                                   scoring='accuracy',\n",
        "                                   cv=3, \n",
        "                                   verbose=1, \n",
        "                                   random_state=8)\n",
        "\n",
        "# Fit the random search model\n",
        "random_search.fit(features_train, labels_train)"
      ],
      "execution_count": null,
      "outputs": [
        {
          "output_type": "stream",
          "name": "stdout",
          "text": [
            "Fitting 3 folds for each of 50 candidates, totalling 150 fits\n"
          ]
        },
        {
          "output_type": "stream",
          "name": "stderr",
          "text": [
            "[Parallel(n_jobs=1)]: Using backend SequentialBackend with 1 concurrent workers.\n",
            "[Parallel(n_jobs=1)]: Done 150 out of 150 | elapsed:  2.0min finished\n"
          ]
        },
        {
          "output_type": "execute_result",
          "data": {
            "text/plain": [
              "RandomizedSearchCV(cv=3, error_score=nan,\n",
              "                   estimator=RandomForestClassifier(bootstrap=True,\n",
              "                                                    ccp_alpha=0.0,\n",
              "                                                    class_weight=None,\n",
              "                                                    criterion='gini',\n",
              "                                                    max_depth=None,\n",
              "                                                    max_features='auto',\n",
              "                                                    max_leaf_nodes=None,\n",
              "                                                    max_samples=None,\n",
              "                                                    min_impurity_decrease=0.0,\n",
              "                                                    min_impurity_split=None,\n",
              "                                                    min_samples_leaf=1,\n",
              "                                                    min_samples_split=2,\n",
              "                                                    min_weight_fraction_leaf=0.0,\n",
              "                                                    n_estimators=100,\n",
              "                                                    n_jobs...\n",
              "                   iid='deprecated', n_iter=50, n_jobs=None,\n",
              "                   param_distributions={'bootstrap': [True, False],\n",
              "                                        'max_depth': [20, 40, 60, 80, 100,\n",
              "                                                      None],\n",
              "                                        'max_features': ['auto', 'sqrt'],\n",
              "                                        'min_samples_leaf': [1, 2, 4],\n",
              "                                        'min_samples_split': [2, 5, 10],\n",
              "                                        'n_estimators': [200, 400, 600, 800,\n",
              "                                                         1000]},\n",
              "                   pre_dispatch='2*n_jobs', random_state=8, refit=True,\n",
              "                   return_train_score=False, scoring='accuracy', verbose=1)"
            ]
          },
          "metadata": {},
          "execution_count": 181
        }
      ]
    },
    {
      "cell_type": "code",
      "metadata": {
        "colab": {
          "base_uri": "https://localhost:8080/"
        },
        "id": "Dg7aID8AJ277",
        "outputId": "bf20a2da-1cff-4bd1-abfc-3f8d07abfaee"
      },
      "source": [
        "print(\"The best hyperparameters from Random Search are:\")\n",
        "print(random_search.best_params_)\n",
        "print(\"\")\n",
        "print(\"The mean accuracy of a model with these hyperparameters is:\")\n",
        "print(random_search.best_score_)"
      ],
      "execution_count": null,
      "outputs": [
        {
          "output_type": "stream",
          "name": "stdout",
          "text": [
            "The best hyperparameters from Random Search are:\n",
            "{'n_estimators': 400, 'min_samples_split': 5, 'min_samples_leaf': 1, 'max_features': 'sqrt', 'max_depth': 20, 'bootstrap': True}\n",
            "\n",
            "The mean accuracy of a model with these hyperparameters is:\n",
            "1.0\n"
          ]
        }
      ]
    },
    {
      "cell_type": "markdown",
      "metadata": {
        "id": "9EJTya-qbklW"
      },
      "source": [
        "### Grid Search Cross Validation\n"
      ]
    },
    {
      "cell_type": "code",
      "metadata": {
        "colab": {
          "base_uri": "https://localhost:8080/"
        },
        "id": "X-c7iGPCo9Ok",
        "outputId": "ea791584-45ef-408a-af60-2f3e70f14c28"
      },
      "source": [
        "\n",
        "# Create the parameter grid based on the results of random search \n",
        "bootstrap = [False]\n",
        "max_depth = [30, 40, 50]\n",
        "max_features = ['sqrt']\n",
        "min_samples_leaf = [1, 2, 4]\n",
        "min_samples_split = [5, 10, 15]\n",
        "n_estimators = [800]\n",
        "\n",
        "param_grid = {\n",
        "    'bootstrap': bootstrap,\n",
        "    'max_depth': max_depth,\n",
        "    'max_features': max_features,\n",
        "    'min_samples_leaf': min_samples_leaf,\n",
        "    'min_samples_split': min_samples_split,\n",
        "    'n_estimators': n_estimators\n",
        "}\n",
        "\n",
        "# Create a base model\n",
        "rfc = RandomForestClassifier(random_state=8)\n",
        "\n",
        "# Manually create the splits in CV in order to be able to fix a random_state (GridSearchCV doesn't have that argument)\n",
        "cv_sets = ShuffleSplit(n_splits = 3, test_size = .33, random_state = 8)\n",
        "\n",
        "# Instantiate the grid search model\n",
        "grid_search = GridSearchCV(estimator=rfc, \n",
        "                           param_grid=param_grid,\n",
        "                           scoring='accuracy',\n",
        "                           cv=cv_sets,\n",
        "                           verbose=1)\n",
        "\n",
        "# Fit the grid search to the data\n",
        "grid_search.fit(features_train, labels_train)"
      ],
      "execution_count": null,
      "outputs": [
        {
          "output_type": "stream",
          "name": "stdout",
          "text": [
            "Fitting 3 folds for each of 27 candidates, totalling 81 fits\n"
          ]
        },
        {
          "output_type": "stream",
          "name": "stderr",
          "text": [
            "[Parallel(n_jobs=1)]: Using backend SequentialBackend with 1 concurrent workers.\n",
            "[Parallel(n_jobs=1)]: Done  81 out of  81 | elapsed:  1.1min finished\n"
          ]
        },
        {
          "output_type": "execute_result",
          "data": {
            "text/plain": [
              "GridSearchCV(cv=ShuffleSplit(n_splits=3, random_state=8, test_size=0.33, train_size=None),\n",
              "             error_score=nan,\n",
              "             estimator=RandomForestClassifier(bootstrap=True, ccp_alpha=0.0,\n",
              "                                              class_weight=None,\n",
              "                                              criterion='gini', max_depth=None,\n",
              "                                              max_features='auto',\n",
              "                                              max_leaf_nodes=None,\n",
              "                                              max_samples=None,\n",
              "                                              min_impurity_decrease=0.0,\n",
              "                                              min_impurity_split=None,\n",
              "                                              min_samples_leaf=1,\n",
              "                                              min_sampl...\n",
              "                                              n_estimators=100, n_jobs=None,\n",
              "                                              oob_score=False, random_state=8,\n",
              "                                              verbose=0, warm_start=False),\n",
              "             iid='deprecated', n_jobs=None,\n",
              "             param_grid={'bootstrap': [False], 'max_depth': [30, 40, 50],\n",
              "                         'max_features': ['sqrt'],\n",
              "                         'min_samples_leaf': [1, 2, 4],\n",
              "                         'min_samples_split': [5, 10, 15],\n",
              "                         'n_estimators': [800]},\n",
              "             pre_dispatch='2*n_jobs', refit=True, return_train_score=False,\n",
              "             scoring='accuracy', verbose=1)"
            ]
          },
          "metadata": {},
          "execution_count": 183
        }
      ]
    },
    {
      "cell_type": "code",
      "metadata": {
        "id": "uICgTyJGpRiy"
      },
      "source": [
        "best_rfc = grid_search.best_estimator_"
      ],
      "execution_count": null,
      "outputs": []
    },
    {
      "cell_type": "markdown",
      "metadata": {
        "id": "kIltDmSNcXp2"
      },
      "source": [
        "### Model fit and performance\n",
        "Now, we can fit the model to our training data:"
      ]
    },
    {
      "cell_type": "code",
      "metadata": {
        "colab": {
          "base_uri": "https://localhost:8080/"
        },
        "id": "UeomEFsopTek",
        "outputId": "9f79e4c4-a75e-45b0-b8d2-442222a94e66"
      },
      "source": [
        "best_rfc"
      ],
      "execution_count": null,
      "outputs": [
        {
          "output_type": "execute_result",
          "data": {
            "text/plain": [
              "RandomForestClassifier(bootstrap=False, ccp_alpha=0.0, class_weight=None,\n",
              "                       criterion='gini', max_depth=30, max_features='sqrt',\n",
              "                       max_leaf_nodes=None, max_samples=None,\n",
              "                       min_impurity_decrease=0.0, min_impurity_split=None,\n",
              "                       min_samples_leaf=1, min_samples_split=5,\n",
              "                       min_weight_fraction_leaf=0.0, n_estimators=800,\n",
              "                       n_jobs=None, oob_score=False, random_state=8, verbose=0,\n",
              "                       warm_start=False)"
            ]
          },
          "metadata": {},
          "execution_count": 185
        }
      ]
    },
    {
      "cell_type": "code",
      "metadata": {
        "colab": {
          "base_uri": "https://localhost:8080/"
        },
        "id": "PsS5li1ZpXxz",
        "outputId": "e38dc28b-30c2-444d-82b1-bd6af7316166"
      },
      "source": [
        "best_rfc.fit(features_train, labels_train)"
      ],
      "execution_count": null,
      "outputs": [
        {
          "output_type": "execute_result",
          "data": {
            "text/plain": [
              "RandomForestClassifier(bootstrap=False, ccp_alpha=0.0, class_weight=None,\n",
              "                       criterion='gini', max_depth=30, max_features='sqrt',\n",
              "                       max_leaf_nodes=None, max_samples=None,\n",
              "                       min_impurity_decrease=0.0, min_impurity_split=None,\n",
              "                       min_samples_leaf=1, min_samples_split=5,\n",
              "                       min_weight_fraction_leaf=0.0, n_estimators=800,\n",
              "                       n_jobs=None, oob_score=False, random_state=8, verbose=0,\n",
              "                       warm_start=False)"
            ]
          },
          "metadata": {},
          "execution_count": 186
        }
      ]
    },
    {
      "cell_type": "code",
      "metadata": {
        "id": "lRpyhSWSpanN"
      },
      "source": [
        "rfc_pred = best_rfc.predict(features_test)"
      ],
      "execution_count": null,
      "outputs": []
    },
    {
      "cell_type": "code",
      "metadata": {
        "colab": {
          "base_uri": "https://localhost:8080/"
        },
        "id": "OHSkbIjZpc86",
        "outputId": "5638f2af-148e-4525-c069-74391b50457d"
      },
      "source": [
        "# Training accuracy\n",
        "print(\"The training accuracy is: \")\n",
        "print(accuracy_score(labels_train, best_rfc.predict(features_train)))"
      ],
      "execution_count": null,
      "outputs": [
        {
          "output_type": "stream",
          "name": "stdout",
          "text": [
            "The training accuracy is: \n",
            "1.0\n"
          ]
        }
      ]
    },
    {
      "cell_type": "code",
      "metadata": {
        "colab": {
          "base_uri": "https://localhost:8080/"
        },
        "id": "dDUVzPXlpfXo",
        "outputId": "6db172a6-55d0-4871-e0a1-2f78cd7ff8be"
      },
      "source": [
        "# Test accuracy\n",
        "print(\"The test accuracy is: \")\n",
        "print(accuracy_score(labels_test, rfc_pred))"
      ],
      "execution_count": null,
      "outputs": [
        {
          "output_type": "stream",
          "name": "stdout",
          "text": [
            "The test accuracy is: \n",
            "1.0\n"
          ]
        }
      ]
    },
    {
      "cell_type": "code",
      "metadata": {
        "colab": {
          "base_uri": "https://localhost:8080/"
        },
        "id": "1YuMOorZphpr",
        "outputId": "c766749b-6dd9-4f23-c27e-16b3f04ab7a3"
      },
      "source": [
        "# Classification report\n",
        "print(\"Classification report\")\n",
        "print(classification_report(labels_test,rfc_pred))"
      ],
      "execution_count": null,
      "outputs": [
        {
          "output_type": "stream",
          "name": "stdout",
          "text": [
            "Classification report\n",
            "              precision    recall  f1-score   support\n",
            "\n",
            "           4       1.00      1.00      1.00         1\n",
            "\n",
            "    accuracy                           1.00         1\n",
            "   macro avg       1.00      1.00      1.00         1\n",
            "weighted avg       1.00      1.00      1.00         1\n",
            "\n"
          ]
        }
      ]
    },
    {
      "cell_type": "code",
      "metadata": {
        "colab": {
          "base_uri": "https://localhost:8080/",
          "height": 404
        },
        "id": "U5RmVvcwpkaB",
        "outputId": "8ecff58d-9392-4f78-d41c-dd2be2fea7d5"
      },
      "source": [
        "aux_df = df[['Category', 'Category_Code']].drop_duplicates().sort_values('Category_Code')\n",
        "conf_matrix = confusion_matrix(labels_test, rfc_pred)\n",
        "plt.figure(figsize=(12.8,6))\n",
        "sns.heatmap(conf_matrix, \n",
        "            annot=True,\n",
        "            xticklabels=aux_df['Category'].values, \n",
        "            yticklabels=aux_df['Category'].values,\n",
        "            cmap=\"Blues\")\n",
        "plt.ylabel('Predicted')\n",
        "plt.xlabel('Actual')\n",
        "plt.title('Confusion matrix')\n",
        "plt.show()"
      ],
      "execution_count": null,
      "outputs": [
        {
          "output_type": "display_data",
          "data": {
            "image/png": "[encoded data removed]",
            "text/plain": [
              "<Figure size 921.6x432 with 2 Axes>"
            ]
          },
          "metadata": {}
        }
      ]
    },
    {
      "cell_type": "code",
      "metadata": {
        "id": "eCy16fRNpo0m"
      },
      "source": [
        "features_time = features_train\n",
        "elapsed_list = []\n",
        "for i in range(0,10):\n",
        "\n",
        "    start = time.time()\n",
        "    predictions = best_rfc.predict(features_time)\n",
        "    end = time.time()\n",
        "    elapsed = end - start\n",
        "    elapsed_list.append(elapsed)\n",
        "\n",
        "mean_time_elapsed = np.mean(elapsed_list)"
      ],
      "execution_count": null,
      "outputs": []
    },
    {
      "cell_type": "markdown",
      "metadata": {
        "id": "T_iv4DcBc0bt"
      },
      "source": [
        "### hyperparameter tuning process has returned a better model:"
      ]
    },
    {
      "cell_type": "code",
      "metadata": {
        "colab": {
          "base_uri": "https://localhost:8080/"
        },
        "id": "hUFqRd8Kp4s9",
        "outputId": "4f721ad9-0f54-47e5-a315-83a872aec242"
      },
      "source": [
        "base_model = RandomForestClassifier(random_state = 8)\n",
        "base_model.fit(features_train, labels_train)\n",
        "accuracy_score(labels_test, base_model.predict(features_test))"
      ],
      "execution_count": null,
      "outputs": [
        {
          "output_type": "execute_result",
          "data": {
            "text/plain": [
              "1.0"
            ]
          },
          "metadata": {},
          "execution_count": 193
        }
      ]
    },
    {
      "cell_type": "code",
      "metadata": {
        "colab": {
          "base_uri": "https://localhost:8080/"
        },
        "id": "r95H-QGcp72f",
        "outputId": "2d593172-91af-41fa-8847-6f16063b5889"
      },
      "source": [
        "best_rfc.fit(features_train, labels_train)\n",
        "accuracy_score(labels_test, best_rfc.predict(features_test))"
      ],
      "execution_count": null,
      "outputs": [
        {
          "output_type": "execute_result",
          "data": {
            "text/plain": [
              "1.0"
            ]
          },
          "metadata": {},
          "execution_count": 194
        }
      ]
    },
    {
      "cell_type": "code",
      "metadata": {
        "id": "fbF2D9iEp-xe"
      },
      "source": [
        "d = {\n",
        "     'Model': 'Random Forest',\n",
        "     'Training Set Accuracy': accuracy_score(labels_train, best_rfc.predict(features_train)),\n",
        "     'Test Set Accuracy': accuracy_score(labels_test, rfc_pred)\n",
        "}\n",
        "\n",
        "df_models_rfc = pd.DataFrame(d, index=[0])"
      ],
      "execution_count": null,
      "outputs": []
    },
    {
      "cell_type": "code",
      "metadata": {
        "colab": {
          "base_uri": "https://localhost:8080/",
          "height": 80
        },
        "id": "ghUsL8aXqBv2",
        "outputId": "2354d815-52d9-4c44-9cbf-031ab936e526"
      },
      "source": [
        "df_models_rfc"
      ],
      "execution_count": null,
      "outputs": [
        {
          "output_type": "execute_result",
          "data": {
            "text/html": [
              "<div>\n",
              "<style scoped>\n",
              "    .dataframe tbody tr th:only-of-type {\n",
              "        vertical-align: middle;\n",
              "    }\n",
              "\n",
              "    .dataframe tbody tr th {\n",
              "        vertical-align: top;\n",
              "    }\n",
              "\n",
              "    .dataframe thead th {\n",
              "        text-align: right;\n",
              "    }\n",
              "</style>\n",
              "<table border=\"1\" class=\"dataframe\">\n",
              "  <thead>\n",
              "    <tr style=\"text-align: right;\">\n",
              "      <th></th>\n",
              "      <th>Model</th>\n",
              "      <th>Training Set Accuracy</th>\n",
              "      <th>Test Set Accuracy</th>\n",
              "    </tr>\n",
              "  </thead>\n",
              "  <tbody>\n",
              "    <tr>\n",
              "      <th>0</th>\n",
              "      <td>Random Forest</td>\n",
              "      <td>1.0</td>\n",
              "      <td>1.0</td>\n",
              "    </tr>\n",
              "  </tbody>\n",
              "</table>\n",
              "</div>"
            ],
            "text/plain": [
              "           Model  Training Set Accuracy  Test Set Accuracy\n",
              "0  Random Forest                    1.0                1.0"
            ]
          },
          "metadata": {},
          "execution_count": 196
        }
      ]
    },
    {
      "cell_type": "code",
      "metadata": {
        "id": "rK6-A4JRqEQP"
      },
      "source": [
        "with open('best_rfc.pickle', 'wb') as output:\n",
        "    pickle.dump(best_rfc, output)\n",
        "    \n",
        "with open('df_models_rfc.pickle', 'wb') as output:\n",
        "    pickle.dump(df_models_rfc, output)"
      ],
      "execution_count": null,
      "outputs": []
    },
    {
      "cell_type": "markdown",
      "metadata": {
        "id": "Eqr41KX5qS2g"
      },
      "source": [
        "\n",
        "## KNN"
      ]
    },
    {
      "cell_type": "code",
      "metadata": {
        "id": "XEbOm-66qUro"
      },
      "source": [
        "#importing all the packages\n",
        "import pickle\n",
        "import numpy as np\n",
        "from sklearn.feature_extraction.text import TfidfVectorizer\n",
        "from sklearn.neighbors import KNeighborsClassifier\n",
        "from pprint import pprint\n",
        "from sklearn.model_selection import RandomizedSearchCV\n",
        "from sklearn.model_selection import GridSearchCV\n",
        "from sklearn.metrics import classification_report, confusion_matrix, accuracy_score\n",
        "from sklearn.model_selection import ShuffleSplit\n",
        "import matplotlib.pyplot as plt\n",
        "import seaborn as sns\n",
        "import pandas as pd"
      ],
      "execution_count": null,
      "outputs": []
    },
    {
      "cell_type": "markdown",
      "metadata": {
        "id": "uCcCqcQmdJPB"
      },
      "source": [
        "#### Loading the data"
      ]
    },
    {
      "cell_type": "code",
      "metadata": {
        "id": "3g8F0gqkqcao"
      },
      "source": [
        "# Dataframe\n",
        "path_df = \"df.pickle\"\n",
        "with open(path_df, 'rb') as data:\n",
        "    df = pickle.load(data)\n",
        "\n",
        "# features_train\n",
        "path_features_train = \"features_train.pickle\"\n",
        "with open(path_features_train, 'rb') as data:\n",
        "    features_train = pickle.load(data)\n",
        "\n",
        "# labels_train\n",
        "path_labels_train = \"labels_train.pickle\"\n",
        "with open(path_labels_train, 'rb') as data:\n",
        "    labels_train = pickle.load(data)\n",
        "\n",
        "# features_test\n",
        "path_features_test = \"features_test.pickle\"\n",
        "with open(path_features_test, 'rb') as data:\n",
        "    features_test = pickle.load(data)\n",
        "\n",
        "# labels_test\n",
        "path_labels_test = \"labels_test.pickle\"\n",
        "with open(path_labels_test, 'rb') as data:\n",
        "    labels_test = pickle.load(data)\n"
      ],
      "execution_count": null,
      "outputs": []
    },
    {
      "cell_type": "markdown",
      "metadata": {
        "id": "4WbCZ2z0dvdi"
      },
      "source": [
        "### Check the dimension of our feature vectors:"
      ]
    },
    {
      "cell_type": "code",
      "metadata": {
        "colab": {
          "base_uri": "https://localhost:8080/"
        },
        "id": "BU55o69-qlSl",
        "outputId": "b7b441c2-8f7a-49dc-cbe4-de99b5162995"
      },
      "source": [
        "print(features_train.shape)\n",
        "print(features_test.shape)"
      ],
      "execution_count": null,
      "outputs": [
        {
          "output_type": "stream",
          "name": "stdout",
          "text": [
            "(5, 161)\n",
            "(1, 161)\n"
          ]
        }
      ]
    },
    {
      "cell_type": "markdown",
      "metadata": {
        "id": "uyf1M6vod9ie"
      },
      "source": [
        "### Cross-Validation for Hyperparameter tuning"
      ]
    },
    {
      "cell_type": "code",
      "metadata": {
        "colab": {
          "base_uri": "https://localhost:8080/"
        },
        "id": "SA4GFsxqqob7",
        "outputId": "36ba2ff4-1f09-4432-ce4a-92a2be05fb1c"
      },
      "source": [
        "knnc_0 =KNeighborsClassifier()\n",
        "\n",
        "print('Parameters currently in use:\\n')\n",
        "pprint(knnc_0.get_params())\n"
      ],
      "execution_count": null,
      "outputs": [
        {
          "output_type": "stream",
          "name": "stdout",
          "text": [
            "Parameters currently in use:\n",
            "\n",
            "{'algorithm': 'auto',\n",
            " 'leaf_size': 30,\n",
            " 'metric': 'minkowski',\n",
            " 'metric_params': None,\n",
            " 'n_jobs': None,\n",
            " 'n_neighbors': 5,\n",
            " 'p': 2,\n",
            " 'weights': 'uniform'}\n"
          ]
        }
      ]
    },
    {
      "cell_type": "markdown",
      "metadata": {
        "id": "gf9W9FdVeH3S"
      },
      "source": [
        "### Grid Search Cross Validation"
      ]
    },
    {
      "cell_type": "code",
      "metadata": {
        "colab": {
          "base_uri": "https://localhost:8080/"
        },
        "id": "f3xMT5fVqrcX",
        "outputId": "ec24f2f4-837c-4102-e494-d0c9a7fb2c4c"
      },
      "source": [
        "# Create the parameter grid \n",
        "n_neighbors = [int(x) for x in np.linspace(start = 1, stop = 3, num = 3)]\n",
        "print(n_neighbors)\n",
        "param_grid = {'n_neighbors': n_neighbors}\n",
        "\n",
        "# Create a base model\n",
        "knnc = KNeighborsClassifier()\n",
        "\n",
        "# Manually create the splits in CV in order to be able to fix a random_state (GridSearchCV doesn't have that argument)\n",
        "cv_sets = ShuffleSplit(n_splits = 3, test_size = .33, random_state = 8)\n",
        "\n",
        "# Instantiate the grid search model\n",
        "grid_search = GridSearchCV(estimator=knnc, \n",
        "                           param_grid=param_grid,\n",
        "                           scoring='accuracy',\n",
        "                           cv=cv_sets,\n",
        "                           verbose=1)\n",
        "\n",
        "# Fit the grid search to the data\n",
        "grid_search.fit(features_train, labels_train)"
      ],
      "execution_count": null,
      "outputs": [
        {
          "output_type": "stream",
          "name": "stdout",
          "text": [
            "[1, 2, 3]\n",
            "Fitting 3 folds for each of 3 candidates, totalling 9 fits\n"
          ]
        },
        {
          "output_type": "stream",
          "name": "stderr",
          "text": [
            "[Parallel(n_jobs=1)]: Using backend SequentialBackend with 1 concurrent workers.\n",
            "[Parallel(n_jobs=1)]: Done   9 out of   9 | elapsed:    0.0s finished\n"
          ]
        },
        {
          "output_type": "execute_result",
          "data": {
            "text/plain": [
              "GridSearchCV(cv=ShuffleSplit(n_splits=3, random_state=8, test_size=0.33, train_size=None),\n",
              "             error_score=nan,\n",
              "             estimator=KNeighborsClassifier(algorithm='auto', leaf_size=30,\n",
              "                                            metric='minkowski',\n",
              "                                            metric_params=None, n_jobs=None,\n",
              "                                            n_neighbors=5, p=2,\n",
              "                                            weights='uniform'),\n",
              "             iid='deprecated', n_jobs=None,\n",
              "             param_grid={'n_neighbors': [1, 2, 3]}, pre_dispatch='2*n_jobs',\n",
              "             refit=True, return_train_score=False, scoring='accuracy',\n",
              "             verbose=1)"
            ]
          },
          "metadata": {},
          "execution_count": 202
        }
      ]
    },
    {
      "cell_type": "code",
      "metadata": {
        "colab": {
          "base_uri": "https://localhost:8080/"
        },
        "id": "JJlmMNQ2rSFz",
        "outputId": "b284645d-65e0-41f1-e108-e7ec7a86d3d5"
      },
      "source": [
        "print(\"The best hyperparameters from Grid Search are:\")\n",
        "print(grid_search.best_params_)\n",
        "print(\"\")\n",
        "print(\"The mean accuracy of a model with these hyperparameters is:\")\n",
        "print(grid_search.best_score_)"
      ],
      "execution_count": null,
      "outputs": [
        {
          "output_type": "stream",
          "name": "stdout",
          "text": [
            "The best hyperparameters from Grid Search are:\n",
            "{'n_neighbors': 1}\n",
            "\n",
            "The mean accuracy of a model with these hyperparameters is:\n",
            "1.0\n"
          ]
        }
      ]
    },
    {
      "cell_type": "code",
      "metadata": {
        "colab": {
          "base_uri": "https://localhost:8080/"
        },
        "id": "YXBaR4dBrVs2",
        "outputId": "53bcf4df-c1f8-48fe-f59d-f42322440b4e"
      },
      "source": [
        "n_neighbors = [1,2,3]\n",
        "param_grid = {'n_neighbors': n_neighbors}\n",
        "\n",
        "knnc = KNeighborsClassifier()\n",
        "cv_sets = ShuffleSplit(n_splits = 3, test_size = .33, random_state = 8)\n",
        "\n",
        "grid_search = GridSearchCV(estimator=knnc, \n",
        "                           param_grid=param_grid,\n",
        "                           scoring='accuracy',\n",
        "                           cv=cv_sets,\n",
        "                           verbose=1)\n",
        "\n",
        "grid_search.fit(features_train, labels_train)"
      ],
      "execution_count": null,
      "outputs": [
        {
          "output_type": "stream",
          "name": "stdout",
          "text": [
            "Fitting 3 folds for each of 3 candidates, totalling 9 fits\n"
          ]
        },
        {
          "output_type": "stream",
          "name": "stderr",
          "text": [
            "[Parallel(n_jobs=1)]: Using backend SequentialBackend with 1 concurrent workers.\n",
            "[Parallel(n_jobs=1)]: Done   9 out of   9 | elapsed:    0.0s finished\n"
          ]
        },
        {
          "output_type": "execute_result",
          "data": {
            "text/plain": [
              "GridSearchCV(cv=ShuffleSplit(n_splits=3, random_state=8, test_size=0.33, train_size=None),\n",
              "             error_score=nan,\n",
              "             estimator=KNeighborsClassifier(algorithm='auto', leaf_size=30,\n",
              "                                            metric='minkowski',\n",
              "                                            metric_params=None, n_jobs=None,\n",
              "                                            n_neighbors=5, p=2,\n",
              "                                            weights='uniform'),\n",
              "             iid='deprecated', n_jobs=None,\n",
              "             param_grid={'n_neighbors': [1, 2, 3]}, pre_dispatch='2*n_jobs',\n",
              "             refit=True, return_train_score=False, scoring='accuracy',\n",
              "             verbose=1)"
            ]
          },
          "metadata": {},
          "execution_count": 204
        }
      ]
    },
    {
      "cell_type": "code",
      "metadata": {
        "colab": {
          "base_uri": "https://localhost:8080/"
        },
        "id": "d08JyUKUraHg",
        "outputId": "e36a222f-18f3-455f-97c8-0da4db857f93"
      },
      "source": [
        "print(\"The best hyperparameters from Grid Search are:\")\n",
        "print(grid_search.best_params_)\n",
        "print(\"\")\n",
        "print(\"The mean accuracy of a model with these hyperparameters is:\")\n",
        "print(grid_search.best_score_)"
      ],
      "execution_count": null,
      "outputs": [
        {
          "output_type": "stream",
          "name": "stdout",
          "text": [
            "The best hyperparameters from Grid Search are:\n",
            "{'n_neighbors': 1}\n",
            "\n",
            "The mean accuracy of a model with these hyperparameters is:\n",
            "1.0\n"
          ]
        }
      ]
    },
    {
      "cell_type": "code",
      "metadata": {
        "id": "NJOhGok4rdU6"
      },
      "source": [
        "best_knnc = grid_search.best_estimator_"
      ],
      "execution_count": null,
      "outputs": []
    },
    {
      "cell_type": "code",
      "metadata": {
        "colab": {
          "base_uri": "https://localhost:8080/"
        },
        "id": "9mCwqew1rfQo",
        "outputId": "5d6e7cff-cbcd-4410-c40e-0e4d0143ad47"
      },
      "source": [
        "\n",
        "best_knnc"
      ],
      "execution_count": null,
      "outputs": [
        {
          "output_type": "execute_result",
          "data": {
            "text/plain": [
              "KNeighborsClassifier(algorithm='auto', leaf_size=30, metric='minkowski',\n",
              "                     metric_params=None, n_jobs=None, n_neighbors=1, p=2,\n",
              "                     weights='uniform')"
            ]
          },
          "metadata": {},
          "execution_count": 207
        }
      ]
    },
    {
      "cell_type": "markdown",
      "metadata": {
        "id": "jpGjmls7eode"
      },
      "source": [
        "### Model fit and performance\n",
        "we can fit the model to our training data:"
      ]
    },
    {
      "cell_type": "code",
      "metadata": {
        "colab": {
          "base_uri": "https://localhost:8080/"
        },
        "id": "rTId2VjIrhjI",
        "outputId": "4dff403e-6427-418b-9295-f2c2ed74b325"
      },
      "source": [
        "best_knnc.fit(features_train, labels_train)"
      ],
      "execution_count": null,
      "outputs": [
        {
          "output_type": "execute_result",
          "data": {
            "text/plain": [
              "KNeighborsClassifier(algorithm='auto', leaf_size=30, metric='minkowski',\n",
              "                     metric_params=None, n_jobs=None, n_neighbors=1, p=2,\n",
              "                     weights='uniform')"
            ]
          },
          "metadata": {},
          "execution_count": 208
        }
      ]
    },
    {
      "cell_type": "code",
      "metadata": {
        "id": "YrjJapoHrjhb"
      },
      "source": [
        "\n",
        "knnc_pred = best_knnc.predict(features_test)"
      ],
      "execution_count": null,
      "outputs": []
    },
    {
      "cell_type": "markdown",
      "metadata": {
        "id": "OvYAdV7he48G"
      },
      "source": [
        "### Training accuracy"
      ]
    },
    {
      "cell_type": "code",
      "metadata": {
        "colab": {
          "base_uri": "https://localhost:8080/"
        },
        "id": "hF082CKXrmWL",
        "outputId": "9343d020-73fd-47a6-fe37-539280211294"
      },
      "source": [
        "# Training accuracy\n",
        "print(\"The training accuracy is: \")\n",
        "print(accuracy_score(labels_train, best_knnc.predict(features_train)))"
      ],
      "execution_count": null,
      "outputs": [
        {
          "output_type": "stream",
          "name": "stdout",
          "text": [
            "The training accuracy is: \n",
            "1.0\n"
          ]
        }
      ]
    },
    {
      "cell_type": "markdown",
      "metadata": {
        "id": "O3SbiFK6e8lt"
      },
      "source": [
        "### Test accuracy"
      ]
    },
    {
      "cell_type": "code",
      "metadata": {
        "colab": {
          "base_uri": "https://localhost:8080/"
        },
        "id": "0mCz6NXRrpKQ",
        "outputId": "93d32c8a-dac0-4842-a3ba-dfd0725b2520"
      },
      "source": [
        "# Test accuracy\n",
        "print(\"The test accuracy is: \")\n",
        "print(accuracy_score(labels_test, knnc_pred))"
      ],
      "execution_count": null,
      "outputs": [
        {
          "output_type": "stream",
          "name": "stdout",
          "text": [
            "The test accuracy is: \n",
            "1.0\n"
          ]
        }
      ]
    },
    {
      "cell_type": "markdown",
      "metadata": {
        "id": "Sil63bTVfEo2"
      },
      "source": [
        "### Classification report"
      ]
    },
    {
      "cell_type": "code",
      "metadata": {
        "colab": {
          "base_uri": "https://localhost:8080/"
        },
        "id": "w03aem4WrraW",
        "outputId": "510de107-e995-400d-e785-ea7d756e828f"
      },
      "source": [
        "# Classification report\n",
        "print(\"Classification report\")\n",
        "print(classification_report(labels_test,knnc_pred))"
      ],
      "execution_count": null,
      "outputs": [
        {
          "output_type": "stream",
          "name": "stdout",
          "text": [
            "Classification report\n",
            "              precision    recall  f1-score   support\n",
            "\n",
            "           4       1.00      1.00      1.00         1\n",
            "\n",
            "    accuracy                           1.00         1\n",
            "   macro avg       1.00      1.00      1.00         1\n",
            "weighted avg       1.00      1.00      1.00         1\n",
            "\n"
          ]
        }
      ]
    },
    {
      "cell_type": "markdown",
      "metadata": {
        "id": "JLyab2wvfM_T"
      },
      "source": [
        "### Confusion matrix"
      ]
    },
    {
      "cell_type": "code",
      "metadata": {
        "colab": {
          "base_uri": "https://localhost:8080/",
          "height": 404
        },
        "id": "oRA1E_oartq8",
        "outputId": "b38e006e-912e-46e7-eb6d-74124102e825"
      },
      "source": [
        "aux_df = df[['Category', 'Category_Code']].drop_duplicates().sort_values('Category_Code')\n",
        "conf_matrix = confusion_matrix(labels_test, knnc_pred)\n",
        "plt.figure(figsize=(12.8,6))\n",
        "sns.heatmap(conf_matrix, \n",
        "            annot=True,\n",
        "            xticklabels=aux_df['Category'].values, \n",
        "            yticklabels=aux_df['Category'].values,\n",
        "            cmap=\"Blues\")\n",
        "plt.ylabel('Predicted')\n",
        "plt.xlabel('Actual')\n",
        "plt.title('Confusion matrix')\n",
        "plt.show()"
      ],
      "execution_count": null,
      "outputs": [
        {
          "output_type": "display_data",
          "data": {
            "image/png": "[encoded data removed]",
            "text/plain": [
              "<Figure size 921.6x432 with 2 Axes>"
            ]
          },
          "metadata": {}
        }
      ]
    },
    {
      "cell_type": "markdown",
      "metadata": {
        "id": "BtI-zd-0fYQ4"
      },
      "source": [
        "### Seeing if the hyperparameter tuning process has returned a better model"
      ]
    },
    {
      "cell_type": "code",
      "metadata": {
        "colab": {
          "base_uri": "https://localhost:8080/"
        },
        "id": "Srb28h05rxl_",
        "outputId": "d598b41d-0ca1-4dc5-bc17-2686311202cd"
      },
      "source": [
        "base_model = KNeighborsClassifier()\n",
        "base_model.fit(features_train, labels_train)\n",
        "accuracy_score(labels_test, base_model.predict(features_test))"
      ],
      "execution_count": null,
      "outputs": [
        {
          "output_type": "execute_result",
          "data": {
            "text/plain": [
              "1.0"
            ]
          },
          "metadata": {},
          "execution_count": 214
        }
      ]
    },
    {
      "cell_type": "code",
      "metadata": {
        "colab": {
          "base_uri": "https://localhost:8080/"
        },
        "id": "o5SlR-LcrzvL",
        "outputId": "cd0e93d5-7db1-4d2f-fb2a-284654933703"
      },
      "source": [
        "best_knnc.fit(features_train, labels_train)\n",
        "accuracy_score(labels_test, best_knnc.predict(features_test))"
      ],
      "execution_count": null,
      "outputs": [
        {
          "output_type": "execute_result",
          "data": {
            "text/plain": [
              "1.0"
            ]
          },
          "metadata": {},
          "execution_count": 215
        }
      ]
    },
    {
      "cell_type": "code",
      "metadata": {
        "id": "Ux1WA0-7r17D"
      },
      "source": [
        "\n",
        "d = {\n",
        "     'Model': 'KNN',\n",
        "     'Training Set Accuracy': accuracy_score(labels_train, best_knnc.predict(features_train)),\n",
        "     'Test Set Accuracy': accuracy_score(labels_test, knnc_pred)\n",
        "}\n",
        "\n",
        "df_models_knnc = pd.DataFrame(d, index=[0])"
      ],
      "execution_count": null,
      "outputs": []
    },
    {
      "cell_type": "code",
      "metadata": {
        "colab": {
          "base_uri": "https://localhost:8080/",
          "height": 80
        },
        "id": "2Z7EDoC4r4MK",
        "outputId": "b287ef85-dc46-465c-99c9-a70ec3794ce6"
      },
      "source": [
        "df_models_knnc"
      ],
      "execution_count": null,
      "outputs": [
        {
          "output_type": "execute_result",
          "data": {
            "text/html": [
              "<div>\n",
              "<style scoped>\n",
              "    .dataframe tbody tr th:only-of-type {\n",
              "        vertical-align: middle;\n",
              "    }\n",
              "\n",
              "    .dataframe tbody tr th {\n",
              "        vertical-align: top;\n",
              "    }\n",
              "\n",
              "    .dataframe thead th {\n",
              "        text-align: right;\n",
              "    }\n",
              "</style>\n",
              "<table border=\"1\" class=\"dataframe\">\n",
              "  <thead>\n",
              "    <tr style=\"text-align: right;\">\n",
              "      <th></th>\n",
              "      <th>Model</th>\n",
              "      <th>Training Set Accuracy</th>\n",
              "      <th>Test Set Accuracy</th>\n",
              "    </tr>\n",
              "  </thead>\n",
              "  <tbody>\n",
              "    <tr>\n",
              "      <th>0</th>\n",
              "      <td>KNN</td>\n",
              "      <td>1.0</td>\n",
              "      <td>1.0</td>\n",
              "    </tr>\n",
              "  </tbody>\n",
              "</table>\n",
              "</div>"
            ],
            "text/plain": [
              "  Model  Training Set Accuracy  Test Set Accuracy\n",
              "0   KNN                    1.0                1.0"
            ]
          },
          "metadata": {},
          "execution_count": 217
        }
      ]
    },
    {
      "cell_type": "markdown",
      "metadata": {
        "id": "SvuGHQm2fuuG"
      },
      "source": [
        "### save the model and this dataset:"
      ]
    },
    {
      "cell_type": "code",
      "metadata": {
        "id": "-sz828BKr6Vm"
      },
      "source": [
        "\n",
        "with open('best_knnc.pickle', 'wb') as output:\n",
        "    pickle.dump(best_knnc, output)\n",
        "\n",
        "with open('df_models_knnc.pickle', 'wb') as output:\n",
        "    pickle.dump(df_models_knnc, output)"
      ],
      "execution_count": null,
      "outputs": []
    },
    {
      "cell_type": "markdown",
      "metadata": {
        "id": "A_7mJJZEr-Jl"
      },
      "source": [
        "## Multinomial Logistic Regression"
      ]
    },
    {
      "cell_type": "code",
      "metadata": {
        "id": "1B14cb0xRil9"
      },
      "source": [
        "#importing the required packages\n",
        "import pickle\n",
        "import numpy as np\n",
        "from sklearn.feature_extraction.text import TfidfVectorizer\n",
        "from sklearn.linear_model import LogisticRegression\n",
        "from pprint import pprint\n",
        "from sklearn.model_selection import RandomizedSearchCV\n",
        "from sklearn.model_selection import GridSearchCV\n",
        "from sklearn.metrics import classification_report, confusion_matrix, accuracy_score\n",
        "from sklearn.model_selection import ShuffleSplit\n",
        "import matplotlib.pyplot as plt\n",
        "import seaborn as sns\n",
        "import pandas as pd"
      ],
      "execution_count": null,
      "outputs": []
    },
    {
      "cell_type": "markdown",
      "metadata": {
        "id": "Z_s4i-AdgE8r"
      },
      "source": [
        "### Load the data:"
      ]
    },
    {
      "cell_type": "code",
      "metadata": {
        "id": "9B-uGLSJRkuq"
      },
      "source": [
        "# Dataframe\n",
        "path_df = \"df.pickle\"\n",
        "with open(path_df, 'rb') as data:\n",
        "    df = pickle.load(data)\n",
        "\n",
        "# features_train\n",
        "path_features_train = \"features_train.pickle\"\n",
        "with open(path_features_train, 'rb') as data:\n",
        "    features_train = pickle.load(data)\n",
        "\n",
        "# labels_train\n",
        "path_labels_train = \"labels_train.pickle\"\n",
        "with open(path_labels_train, 'rb') as data:\n",
        "    labels_train = pickle.load(data)\n",
        "\n",
        "# features_test\n",
        "path_features_test = \"features_test.pickle\"\n",
        "with open(path_features_test, 'rb') as data:\n",
        "    features_test = pickle.load(data)\n",
        "\n",
        "# labels_test\n",
        "path_labels_test = \"labels_test.pickle\"\n",
        "with open(path_labels_test, 'rb') as data:\n",
        "    labels_test = pickle.load(data)\n"
      ],
      "execution_count": null,
      "outputs": []
    },
    {
      "cell_type": "markdown",
      "metadata": {
        "id": "6bNPLTQKgW53"
      },
      "source": [
        "### Check the dimension of feature vectors"
      ]
    },
    {
      "cell_type": "code",
      "metadata": {
        "colab": {
          "base_uri": "https://localhost:8080/"
        },
        "id": "YSQXKaaiR9UF",
        "outputId": "7f70cbe9-9a49-4e9c-836d-811a6f1bd4a3"
      },
      "source": [
        "print(features_train.shape)\n",
        "print(features_test.shape)\n"
      ],
      "execution_count": null,
      "outputs": [
        {
          "output_type": "stream",
          "name": "stdout",
          "text": [
            "(5, 161)\n",
            "(1, 161)\n"
          ]
        }
      ]
    },
    {
      "cell_type": "markdown",
      "metadata": {
        "id": "TE-eYkzkgrLa"
      },
      "source": [
        "### Cross-Validation for Hyperparameter tuning"
      ]
    },
    {
      "cell_type": "code",
      "metadata": {
        "colab": {
          "base_uri": "https://localhost:8080/"
        },
        "id": "cs0zZ2eaSRo_",
        "outputId": "660b2871-c2d8-4f9d-cb67-20bbe63ff9cc"
      },
      "source": [
        "lr_0 = LogisticRegression(random_state = 8)\n",
        "\n",
        "print('Parameters currently in use:\\n')\n",
        "pprint(lr_0.get_params())\n"
      ],
      "execution_count": null,
      "outputs": [
        {
          "output_type": "stream",
          "name": "stdout",
          "text": [
            "Parameters currently in use:\n",
            "\n",
            "{'C': 1.0,\n",
            " 'class_weight': None,\n",
            " 'dual': False,\n",
            " 'fit_intercept': True,\n",
            " 'intercept_scaling': 1,\n",
            " 'l1_ratio': None,\n",
            " 'max_iter': 100,\n",
            " 'multi_class': 'auto',\n",
            " 'n_jobs': None,\n",
            " 'penalty': 'l2',\n",
            " 'random_state': 8,\n",
            " 'solver': 'lbfgs',\n",
            " 'tol': 0.0001,\n",
            " 'verbose': 0,\n",
            " 'warm_start': False}\n"
          ]
        }
      ]
    },
    {
      "cell_type": "markdown",
      "metadata": {
        "id": "9lW26c8DgxU6"
      },
      "source": [
        "### Randomized Search Cross Validation\n",
        "### We first need to define the grid"
      ]
    },
    {
      "cell_type": "code",
      "metadata": {
        "colab": {
          "base_uri": "https://localhost:8080/"
        },
        "id": "y2RBLrelSVf0",
        "outputId": "465a578d-c7fe-4ce9-fe11-8d77906db04c"
      },
      "source": [
        "# C\n",
        "C = [float(x) for x in np.linspace(start = 0.1, stop = 1, num = 10)]\n",
        "\n",
        "# multi_class\n",
        "multi_class = ['multinomial']\n",
        "\n",
        "# solver\n",
        "solver = ['newton-cg', 'sag', 'saga', 'lbfgs']\n",
        " \n",
        "# class_weight\n",
        "class_weight = ['balanced', None]\n",
        "\n",
        "# penalty\n",
        "penalty = ['l2']\n",
        "\n",
        "# Create the random grid\n",
        "random_grid = {'C': C,\n",
        "               'multi_class': multi_class,\n",
        "               'solver': solver,\n",
        "               'class_weight': class_weight,\n",
        "               'penalty': penalty}\n",
        "\n",
        "pprint(random_grid)"
      ],
      "execution_count": null,
      "outputs": [
        {
          "output_type": "stream",
          "name": "stdout",
          "text": [
            "{'C': [0.1,\n",
            "       0.2,\n",
            "       0.30000000000000004,\n",
            "       0.4,\n",
            "       0.5,\n",
            "       0.6,\n",
            "       0.7000000000000001,\n",
            "       0.8,\n",
            "       0.9,\n",
            "       1.0],\n",
            " 'class_weight': ['balanced', None],\n",
            " 'multi_class': ['multinomial'],\n",
            " 'penalty': ['l2'],\n",
            " 'solver': ['newton-cg', 'sag', 'saga', 'lbfgs']}\n"
          ]
        }
      ]
    },
    {
      "cell_type": "markdown",
      "metadata": {
        "id": "GkTM_lpNg7O9"
      },
      "source": [
        "### Perform the Random Search"
      ]
    },
    {
      "cell_type": "code",
      "metadata": {
        "colab": {
          "base_uri": "https://localhost:8080/",
          "height": 409
        },
        "id": "Xii_-8tbSbfV",
        "outputId": "f74488c8-1a65-4f64-c9c8-60f1b1e30feb"
      },
      "source": [
        "\n",
        "# First create the base model to tune\n",
        "lrc = LogisticRegression(random_state=8)\n",
        "\n",
        "# Definition of the random search\n",
        "random_search = RandomizedSearchCV(estimator=lrc,\n",
        "                                   param_distributions=random_grid,\n",
        "                                   n_iter=50,\n",
        "                                   scoring='accuracy',\n",
        "                                   cv=3, \n",
        "                                   verbose=1, \n",
        "                                   random_state=8)\n",
        "\n",
        "# Fit the random search model\n",
        "random_search.fit(features_train, labels_train)"
      ],
      "execution_count": null,
      "outputs": [
        {
          "output_type": "stream",
          "name": "stdout",
          "text": [
            "Fitting 3 folds for each of 50 candidates, totalling 150 fits\n"
          ]
        },
        {
          "output_type": "stream",
          "name": "stderr",
          "text": [
            "[Parallel(n_jobs=1)]: Using backend SequentialBackend with 1 concurrent workers.\n",
            "[Parallel(n_jobs=1)]: Done 150 out of 150 | elapsed:    0.2s finished\n"
          ]
        },
        {
          "output_type": "error",
          "ename": "ValueError",
          "evalue": "ignored",
          "traceback": [
            "\u001b[0;31m---------------------------------------------------------------------------\u001b[0m",
            "\u001b[0;31mValueError\u001b[0m                                Traceback (most recent call last)",
            "\u001b[0;32m<ipython-input-224-b2e6a275a57f>\u001b[0m in \u001b[0;36m<module>\u001b[0;34m()\u001b[0m\n\u001b[1;32m     13\u001b[0m \u001b[0;34m\u001b[0m\u001b[0m\n\u001b[1;32m     14\u001b[0m \u001b[0;31m# Fit the random search model\u001b[0m\u001b[0;34m\u001b[0m\u001b[0;34m\u001b[0m\u001b[0;34m\u001b[0m\u001b[0m\n\u001b[0;32m---> 15\u001b[0;31m \u001b[0mrandom_search\u001b[0m\u001b[0;34m.\u001b[0m\u001b[0mfit\u001b[0m\u001b[0;34m(\u001b[0m\u001b[0mfeatures_train\u001b[0m\u001b[0;34m,\u001b[0m \u001b[0mlabels_train\u001b[0m\u001b[0;34m)\u001b[0m\u001b[0;34m\u001b[0m\u001b[0;34m\u001b[0m\u001b[0m\n\u001b[0m",
            "\u001b[0;32m/usr/local/lib/python3.7/dist-packages/sklearn/model_selection/_search.py\u001b[0m in \u001b[0;36mfit\u001b[0;34m(self, X, y, groups, **fit_params)\u001b[0m\n\u001b[1;32m    737\u001b[0m             \u001b[0mrefit_start_time\u001b[0m \u001b[0;34m=\u001b[0m \u001b[0mtime\u001b[0m\u001b[0;34m.\u001b[0m\u001b[0mtime\u001b[0m\u001b[0;34m(\u001b[0m\u001b[0;34m)\u001b[0m\u001b[0;34m\u001b[0m\u001b[0;34m\u001b[0m\u001b[0m\n\u001b[1;32m    738\u001b[0m             \u001b[0;32mif\u001b[0m \u001b[0my\u001b[0m \u001b[0;32mis\u001b[0m \u001b[0;32mnot\u001b[0m \u001b[0;32mNone\u001b[0m\u001b[0;34m:\u001b[0m\u001b[0;34m\u001b[0m\u001b[0;34m\u001b[0m\u001b[0m\n\u001b[0;32m--> 739\u001b[0;31m                 \u001b[0mself\u001b[0m\u001b[0;34m.\u001b[0m\u001b[0mbest_estimator_\u001b[0m\u001b[0;34m.\u001b[0m\u001b[0mfit\u001b[0m\u001b[0;34m(\u001b[0m\u001b[0mX\u001b[0m\u001b[0;34m,\u001b[0m \u001b[0my\u001b[0m\u001b[0;34m,\u001b[0m \u001b[0;34m**\u001b[0m\u001b[0mfit_params\u001b[0m\u001b[0;34m)\u001b[0m\u001b[0;34m\u001b[0m\u001b[0;34m\u001b[0m\u001b[0m\n\u001b[0m\u001b[1;32m    740\u001b[0m             \u001b[0;32melse\u001b[0m\u001b[0;34m:\u001b[0m\u001b[0;34m\u001b[0m\u001b[0;34m\u001b[0m\u001b[0m\n\u001b[1;32m    741\u001b[0m                 \u001b[0mself\u001b[0m\u001b[0;34m.\u001b[0m\u001b[0mbest_estimator_\u001b[0m\u001b[0;34m.\u001b[0m\u001b[0mfit\u001b[0m\u001b[0;34m(\u001b[0m\u001b[0mX\u001b[0m\u001b[0;34m,\u001b[0m \u001b[0;34m**\u001b[0m\u001b[0mfit_params\u001b[0m\u001b[0;34m)\u001b[0m\u001b[0;34m\u001b[0m\u001b[0;34m\u001b[0m\u001b[0m\n",
            "\u001b[0;32m/usr/local/lib/python3.7/dist-packages/sklearn/linear_model/_logistic.py\u001b[0m in \u001b[0;36mfit\u001b[0;34m(self, X, y, sample_weight)\u001b[0m\n\u001b[1;32m   1556\u001b[0m             raise ValueError(\"This solver needs samples of at least 2 classes\"\n\u001b[1;32m   1557\u001b[0m                              \u001b[0;34m\" in the data, but the data contains only one\"\u001b[0m\u001b[0;34m\u001b[0m\u001b[0;34m\u001b[0m\u001b[0m\n\u001b[0;32m-> 1558\u001b[0;31m                              \" class: %r\" % classes_[0])\n\u001b[0m\u001b[1;32m   1559\u001b[0m \u001b[0;34m\u001b[0m\u001b[0m\n\u001b[1;32m   1560\u001b[0m         \u001b[0;32mif\u001b[0m \u001b[0mlen\u001b[0m\u001b[0;34m(\u001b[0m\u001b[0mself\u001b[0m\u001b[0;34m.\u001b[0m\u001b[0mclasses_\u001b[0m\u001b[0;34m)\u001b[0m \u001b[0;34m==\u001b[0m \u001b[0;36m2\u001b[0m\u001b[0;34m:\u001b[0m\u001b[0;34m\u001b[0m\u001b[0;34m\u001b[0m\u001b[0m\n",
            "\u001b[0;31mValueError\u001b[0m: This solver needs samples of at least 2 classes in the data, but the data contains only one class: 4"
          ]
        }
      ]
    },
    {
      "cell_type": "markdown",
      "metadata": {
        "id": "_27y4qpHht5-"
      },
      "source": [
        "# We tried to perform SVM and Logisitic Regression but unable to complete the training as it requires more than one class."
      ]
    },
    {
      "cell_type": "code",
      "metadata": {
        "id": "YsGF-gPzh3_m"
      },
      "source": [
        ""
      ],
      "execution_count": null,
      "outputs": []
    }
  ]
}